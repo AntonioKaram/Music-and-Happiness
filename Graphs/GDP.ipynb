{
 "cells": [
  {
   "cell_type": "code",
   "execution_count": 1,
   "metadata": {},
   "outputs": [
    {
     "data": {
      "application/vnd.plotly.v1+json": {
       "config": {
        "plotlyServerURL": "https://plot.ly"
       },
       "data": [
        {
         "customdata": [
          "Argentina"
         ],
         "hovertemplate": "Country = %{customdata}<br>Average Valence = %{y}<br>GDP Per Capita = %{x}<extra></extra>",
         "showlegend": false,
         "type": "scatter",
         "x": [
          5158
         ],
         "xaxis": "x",
         "y": [
          0.6647791443850266
         ],
         "yaxis": "y"
        },
        {
         "customdata": [
          "Australia"
         ],
         "hovertemplate": "Country = %{customdata}<br>Average Valence = %{y}<br>GDP Per Capita = %{x}<extra></extra>",
         "showlegend": false,
         "type": "scatter",
         "x": [
          37710
         ],
         "xaxis": "x",
         "y": [
          0.47480463917525756
         ],
         "yaxis": "y"
        },
        {
         "customdata": [
          "Austria"
         ],
         "hovertemplate": "Country = %{customdata}<br>Average Valence = %{y}<br>GDP Per Capita = %{x}<extra></extra>",
         "showlegend": false,
         "type": "scatter",
         "x": [
          38282
         ],
         "xaxis": "x",
         "y": [
          0.5005388297872337
         ],
         "yaxis": "y"
        },
        {
         "customdata": [
          "Belgium"
         ],
         "hovertemplate": "Country = %{customdata}<br>Average Valence = %{y}<br>GDP Per Capita = %{x}<extra></extra>",
         "showlegend": false,
         "type": "scatter",
         "x": [
          36557
         ],
         "xaxis": "x",
         "y": [
          0.4705150259067353
         ],
         "yaxis": "y"
        },
        {
         "customdata": [
          "Bulgaria"
         ],
         "hovertemplate": "Country = %{customdata}<br>Average Valence = %{y}<br>GDP Per Capita = %{x}<extra></extra>",
         "showlegend": false,
         "type": "scatter",
         "x": [
          39544
         ],
         "xaxis": "x",
         "y": [
          0.4591735751295339
         ],
         "yaxis": "y"
        },
        {
         "customdata": [
          "Bolivia, Plurinational State of"
         ],
         "hovertemplate": "Country = %{customdata}<br>Average Valence = %{y}<br>GDP Per Capita = %{x}<extra></extra>",
         "showlegend": false,
         "type": "scatter",
         "x": [
          0
         ],
         "xaxis": "x",
         "y": [
          0.6049031746031744
         ],
         "yaxis": "y"
        },
        {
         "customdata": [
          "Brazil"
         ],
         "hovertemplate": "Country = %{customdata}<br>Average Valence = %{y}<br>GDP Per Capita = %{x}<extra></extra>",
         "showlegend": false,
         "type": "scatter",
         "x": [
          4790
         ],
         "xaxis": "x",
         "y": [
          0.5827656250000006
         ],
         "yaxis": "y"
        },
        {
         "customdata": [
          "Canada"
         ],
         "hovertemplate": "Country = %{customdata}<br>Average Valence = %{y}<br>GDP Per Capita = %{x}<extra></extra>",
         "showlegend": false,
         "type": "scatter",
         "x": [
          36474
         ],
         "xaxis": "x",
         "y": [
          0.44779015544041445
         ],
         "yaxis": "y"
        },
        {
         "customdata": [
          "Switzerland"
         ],
         "hovertemplate": "Country = %{customdata}<br>Average Valence = %{y}<br>GDP Per Capita = %{x}<extra></extra>",
         "showlegend": false,
         "type": "scatter",
         "x": [
          56933
         ],
         "xaxis": "x",
         "y": [
          0.4756453125
         ],
         "yaxis": "y"
        },
        {
         "customdata": [
          "Chile"
         ],
         "hovertemplate": "Country = %{customdata}<br>Average Valence = %{y}<br>GDP Per Capita = %{x}<extra></extra>",
         "showlegend": false,
         "type": "scatter",
         "x": [
          7599
         ],
         "xaxis": "x",
         "y": [
          0.6325309782608697
         ],
         "yaxis": "y"
        },
        {
         "customdata": [
          "Colombia"
         ],
         "hovertemplate": "Country = %{customdata}<br>Average Valence = %{y}<br>GDP Per Capita = %{x}<extra></extra>",
         "showlegend": false,
         "type": "scatter",
         "x": [
          3414
         ],
         "xaxis": "x",
         "y": [
          0.6014529411764704
         ],
         "yaxis": "y"
        },
        {
         "customdata": [
          "Costa Rica"
         ],
         "hovertemplate": "Country = %{customdata}<br>Average Valence = %{y}<br>GDP Per Capita = %{x}<extra></extra>",
         "showlegend": false,
         "type": "scatter",
         "x": [
          36203
         ],
         "xaxis": "x",
         "y": [
          0.5700453125000003
         ],
         "yaxis": "y"
        },
        {
         "customdata": [
          "Cyprus"
         ],
         "hovertemplate": "Country = %{customdata}<br>Average Valence = %{y}<br>GDP Per Capita = %{x}<extra></extra>",
         "showlegend": false,
         "type": "scatter",
         "x": [
          18869
         ],
         "xaxis": "x",
         "y": [
          0.5065396825396824
         ],
         "yaxis": "y"
        },
        {
         "customdata": [
          "Czechia"
         ],
         "hovertemplate": "Country = %{customdata}<br>Average Valence = %{y}<br>GDP Per Capita = %{x}<extra></extra>",
         "showlegend": false,
         "type": "scatter",
         "x": [
          0
         ],
         "xaxis": "x",
         "y": [
          0.47879896373057
         ],
         "yaxis": "y"
        },
        {
         "customdata": [
          "Germany"
         ],
         "hovertemplate": "Country = %{customdata}<br>Average Valence = %{y}<br>GDP Per Capita = %{x}<extra></extra>",
         "showlegend": false,
         "type": "scatter",
         "x": [
          34873
         ],
         "xaxis": "x",
         "y": [
          0.49592905027932965
         ],
         "yaxis": "y"
        },
        {
         "customdata": [
          "Denmark"
         ],
         "hovertemplate": "Country = %{customdata}<br>Average Valence = %{y}<br>GDP Per Capita = %{x}<extra></extra>",
         "showlegend": false,
         "type": "scatter",
         "x": [
          48779
         ],
         "xaxis": "x",
         "y": [
          0.4656421875000001
         ],
         "yaxis": "y"
        },
        {
         "customdata": [
          "Dominican Republic"
         ],
         "hovertemplate": "Country = %{customdata}<br>Average Valence = %{y}<br>GDP Per Capita = %{x}<extra></extra>",
         "showlegend": false,
         "type": "scatter",
         "x": [
          41291
         ],
         "xaxis": "x",
         "y": [
          0.5710709497206704
         ],
         "yaxis": "y"
        },
        {
         "customdata": [
          "Ecuador"
         ],
         "hovertemplate": "Country = %{customdata}<br>Average Valence = %{y}<br>GDP Per Capita = %{x}<extra></extra>",
         "showlegend": false,
         "type": "scatter",
         "x": [
          67646
         ],
         "xaxis": "x",
         "y": [
          0.600003664921466
         ],
         "yaxis": "y"
        },
        {
         "customdata": [
          "Spain"
         ],
         "hovertemplate": "Country = %{customdata}<br>Average Valence = %{y}<br>GDP Per Capita = %{x}<extra></extra>",
         "showlegend": false,
         "type": "scatter",
         "x": [
          26199
         ],
         "xaxis": "x",
         "y": [
          0.604066492146597
         ],
         "yaxis": "y"
        },
        {
         "customdata": [
          "Estonia"
         ],
         "hovertemplate": "Country = %{customdata}<br>Average Valence = %{y}<br>GDP Per Capita = %{x}<extra></extra>",
         "showlegend": false,
         "type": "scatter",
         "x": [
          19881
         ],
         "xaxis": "x",
         "y": [
          0.4713649484536083
         ],
         "yaxis": "y"
        },
        {
         "customdata": [
          "Finland"
         ],
         "hovertemplate": "Country = %{customdata}<br>Average Valence = %{y}<br>GDP Per Capita = %{x}<extra></extra>",
         "showlegend": false,
         "type": "scatter",
         "x": [
          38944
         ],
         "xaxis": "x",
         "y": [
          0.5260292134831461
         ],
         "yaxis": "y"
        },
        {
         "customdata": [
          "France"
         ],
         "hovertemplate": "Country = %{customdata}<br>Average Valence = %{y}<br>GDP Per Capita = %{x}<extra></extra>",
         "showlegend": false,
         "type": "scatter",
         "x": [
          34807
         ],
         "xaxis": "x",
         "y": [
          0.5066768421052629
         ],
         "yaxis": "y"
        },
        {
         "customdata": [
          "United Kingdom"
         ],
         "hovertemplate": "Country = %{customdata}<br>Average Valence = %{y}<br>GDP Per Capita = %{x}<extra></extra>",
         "showlegend": false,
         "type": "scatter",
         "x": [
          42012
         ],
         "xaxis": "x",
         "y": [
          0.5020839378238342
         ],
         "yaxis": "y"
        },
        {
         "customdata": [
          "Greece"
         ],
         "hovertemplate": "Country = %{customdata}<br>Average Valence = %{y}<br>GDP Per Capita = %{x}<extra></extra>",
         "showlegend": false,
         "type": "scatter",
         "x": [
          22074
         ],
         "xaxis": "x",
         "y": [
          0.4521187165775399
         ],
         "yaxis": "y"
        },
        {
         "customdata": [
          "Guatemala"
         ],
         "hovertemplate": "Country = %{customdata}<br>Average Valence = %{y}<br>GDP Per Capita = %{x}<extra></extra>",
         "showlegend": false,
         "type": "scatter",
         "x": [
          42984
         ],
         "xaxis": "x",
         "y": [
          0.587751052631579
         ],
         "yaxis": "y"
        },
        {
         "customdata": [
          "Hong Kong"
         ],
         "hovertemplate": "Country = %{customdata}<br>Average Valence = %{y}<br>GDP Per Capita = %{x}<extra></extra>",
         "showlegend": false,
         "type": "scatter",
         "x": [
          0
         ],
         "xaxis": "x",
         "y": [
          0.4390885416666667
         ],
         "yaxis": "y"
        },
        {
         "customdata": [
          "Honduras"
         ],
         "hovertemplate": "Country = %{customdata}<br>Average Valence = %{y}<br>GDP Per Capita = %{x}<extra></extra>",
         "showlegend": false,
         "type": "scatter",
         "x": [
          14776
         ],
         "xaxis": "x",
         "y": [
          0.5715380952380953
         ],
         "yaxis": "y"
        },
        {
         "customdata": [
          "Hungary"
         ],
         "hovertemplate": "Country = %{customdata}<br>Average Valence = %{y}<br>GDP Per Capita = %{x}<extra></extra>",
         "showlegend": false,
         "type": "scatter",
         "x": [
          11202
         ],
         "xaxis": "x",
         "y": [
          0.49593621621621636
         ],
         "yaxis": "y"
        },
        {
         "customdata": [
          "Indonesia"
         ],
         "hovertemplate": "Country = %{customdata}<br>Average Valence = %{y}<br>GDP Per Capita = %{x}<extra></extra>",
         "showlegend": false,
         "type": "scatter",
         "x": [
          1345
         ],
         "xaxis": "x",
         "y": [
          0.479866839378238
         ],
         "yaxis": "y"
        },
        {
         "customdata": [
          "Ireland"
         ],
         "hovertemplate": "Country = %{customdata}<br>Average Valence = %{y}<br>GDP Per Capita = %{x}<extra></extra>",
         "showlegend": false,
         "type": "scatter",
         "x": [
          51120
         ],
         "xaxis": "x",
         "y": [
          0.49736753926701566
         ],
         "yaxis": "y"
        },
        {
         "customdata": [
          "Iceland"
         ],
         "hovertemplate": "Country = %{customdata}<br>Average Valence = %{y}<br>GDP Per Capita = %{x}<extra></extra>",
         "showlegend": false,
         "type": "scatter",
         "x": [
          14318
         ],
         "xaxis": "x",
         "y": [
          0.43484093264248685
         ],
         "yaxis": "y"
        },
        {
         "customdata": [
          "Italy"
         ],
         "hovertemplate": "Country = %{customdata}<br>Average Valence = %{y}<br>GDP Per Capita = %{x}<extra></extra>",
         "showlegend": false,
         "type": "scatter",
         "x": [
          31871
         ],
         "xaxis": "x",
         "y": [
          0.49906717948717927
         ],
         "yaxis": "y"
        },
        {
         "customdata": [
          "Japan"
         ],
         "hovertemplate": "Country = %{customdata}<br>Average Valence = %{y}<br>GDP Per Capita = %{x}<extra></extra>",
         "showlegend": false,
         "type": "scatter",
         "x": [
          37057
         ],
         "xaxis": "x",
         "y": [
          0.5261404145077719
         ],
         "yaxis": "y"
        },
        {
         "customdata": [
          "Lithuania"
         ],
         "hovertemplate": "Country = %{customdata}<br>Average Valence = %{y}<br>GDP Per Capita = %{x}<extra></extra>",
         "showlegend": false,
         "type": "scatter",
         "x": [
          32436
         ],
         "xaxis": "x",
         "y": [
          0.46697486910994773
         ],
         "yaxis": "y"
        },
        {
         "customdata": [
          "Luxembourg"
         ],
         "hovertemplate": "Country = %{customdata}<br>Average Valence = %{y}<br>GDP Per Capita = %{x}<extra></extra>",
         "showlegend": false,
         "type": "scatter",
         "x": [
          44415
         ],
         "xaxis": "x",
         "y": [
          0.48137656249999994
         ],
         "yaxis": "y"
        },
        {
         "customdata": [
          "Latvia"
         ],
         "hovertemplate": "Country = %{customdata}<br>Average Valence = %{y}<br>GDP Per Capita = %{x}<extra></extra>",
         "showlegend": false,
         "type": "scatter",
         "x": [
          23372
         ],
         "xaxis": "x",
         "y": [
          0.4574362694300521
         ],
         "yaxis": "y"
        },
        {
         "customdata": [
          "Mexico"
         ],
         "hovertemplate": "Country = %{customdata}<br>Average Valence = %{y}<br>GDP Per Capita = %{x}<extra></extra>",
         "showlegend": false,
         "type": "scatter",
         "x": [
          8278
         ],
         "xaxis": "x",
         "y": [
          0.6026973118279569
         ],
         "yaxis": "y"
        },
        {
         "customdata": [
          "Malaysia"
         ],
         "hovertemplate": "Country = %{customdata}<br>Average Valence = %{y}<br>GDP Per Capita = %{x}<extra></extra>",
         "showlegend": false,
         "type": "scatter",
         "x": [
          5587
         ],
         "xaxis": "x",
         "y": [
          0.4519864583333331
         ],
         "yaxis": "y"
        },
        {
         "customdata": [
          "Nicaragua"
         ],
         "hovertemplate": "Country = %{customdata}<br>Average Valence = %{y}<br>GDP Per Capita = %{x}<extra></extra>",
         "showlegend": false,
         "type": "scatter",
         "x": [
          8555
         ],
         "xaxis": "x",
         "y": [
          0.5612209424083769
         ],
         "yaxis": "y"
        },
        {
         "customdata": [
          "Netherlands"
         ],
         "hovertemplate": "Country = %{customdata}<br>Average Valence = %{y}<br>GDP Per Capita = %{x}<extra></extra>",
         "showlegend": false,
         "type": "scatter",
         "x": [
          41857
         ],
         "xaxis": "x",
         "y": [
          0.5169869109947645
         ],
         "yaxis": "y"
        },
        {
         "customdata": [
          "Norway"
         ],
         "hovertemplate": "Country = %{customdata}<br>Average Valence = %{y}<br>GDP Per Capita = %{x}<extra></extra>",
         "showlegend": false,
         "type": "scatter",
         "x": [
          66680
         ],
         "xaxis": "x",
         "y": [
          0.459723316062176
         ],
         "yaxis": "y"
        },
        {
         "customdata": [
          "New Zealand"
         ],
         "hovertemplate": "Country = %{customdata}<br>Average Valence = %{y}<br>GDP Per Capita = %{x}<extra></extra>",
         "showlegend": false,
         "type": "scatter",
         "x": [
          27741
         ],
         "xaxis": "x",
         "y": [
          0.48856804123711317
         ],
         "yaxis": "y"
        },
        {
         "customdata": [
          "Panama"
         ],
         "hovertemplate": "Country = %{customdata}<br>Average Valence = %{y}<br>GDP Per Capita = %{x}<extra></extra>",
         "showlegend": false,
         "type": "scatter",
         "x": [
          26026
         ],
         "xaxis": "x",
         "y": [
          0.5833155913978496
         ],
         "yaxis": "y"
        },
        {
         "customdata": [
          "Peru"
         ],
         "hovertemplate": "Country = %{customdata}<br>Average Valence = %{y}<br>GDP Per Capita = %{x}<extra></extra>",
         "showlegend": false,
         "type": "scatter",
         "x": [
          2730
         ],
         "xaxis": "x",
         "y": [
          0.6125037634408604
         ],
         "yaxis": "y"
        },
        {
         "customdata": [
          "Philippines"
         ],
         "hovertemplate": "Country = %{customdata}<br>Average Valence = %{y}<br>GDP Per Capita = %{x}<extra></extra>",
         "showlegend": false,
         "type": "scatter",
         "x": [
          1194
         ],
         "xaxis": "x",
         "y": [
          0.4678005181347148
         ],
         "yaxis": "y"
        },
        {
         "customdata": [
          "Poland"
         ],
         "hovertemplate": "Country = %{customdata}<br>Average Valence = %{y}<br>GDP Per Capita = %{x}<extra></extra>",
         "showlegend": false,
         "type": "scatter",
         "x": [
          7979
         ],
         "xaxis": "x",
         "y": [
          0.49103730569948145
         ],
         "yaxis": "y"
        },
        {
         "customdata": [
          "Portugal"
         ],
         "hovertemplate": "Country = %{customdata}<br>Average Valence = %{y}<br>GDP Per Capita = %{x}<extra></extra>",
         "showlegend": false,
         "type": "scatter",
         "x": [
          18763
         ],
         "xaxis": "x",
         "y": [
          0.49254
         ],
         "yaxis": "y"
        },
        {
         "customdata": [
          "Paraguay"
         ],
         "hovertemplate": "Country = %{customdata}<br>Average Valence = %{y}<br>GDP Per Capita = %{x}<extra></extra>",
         "showlegend": false,
         "type": "scatter",
         "x": [
          22846
         ],
         "xaxis": "x",
         "y": [
          0.6255951612903226
         ],
         "yaxis": "y"
        },
        {
         "customdata": [
          "Singapore"
         ],
         "hovertemplate": "Country = %{customdata}<br>Average Valence = %{y}<br>GDP Per Capita = %{x}<extra></extra>",
         "showlegend": false,
         "type": "scatter",
         "x": [
          29962
         ],
         "xaxis": "x",
         "y": [
          0.4553105263157894
         ],
         "yaxis": "y"
        },
        {
         "customdata": [
          "El Salvador"
         ],
         "hovertemplate": "Country = %{customdata}<br>Average Valence = %{y}<br>GDP Per Capita = %{x}<extra></extra>",
         "showlegend": false,
         "type": "scatter",
         "x": [
          19830
         ],
         "xaxis": "x",
         "y": [
          0.5638570680628272
         ],
         "yaxis": "y"
        },
        {
         "customdata": [
          "Slovakia"
         ],
         "hovertemplate": "Country = %{customdata}<br>Average Valence = %{y}<br>GDP Per Capita = %{x}<extra></extra>",
         "showlegend": false,
         "type": "scatter",
         "x": [
          61342
         ],
         "xaxis": "x",
         "y": [
          0.48141554404145087
         ],
         "yaxis": "y"
        },
        {
         "customdata": [
          "Sweden"
         ],
         "hovertemplate": "Country = %{customdata}<br>Average Valence = %{y}<br>GDP Per Capita = %{x}<extra></extra>",
         "showlegend": false,
         "type": "scatter",
         "x": [
          43394
         ],
         "xaxis": "x",
         "y": [
          0.46181875
         ],
         "yaxis": "y"
        },
        {
         "customdata": [
          "Thailand"
         ],
         "hovertemplate": "Country = %{customdata}<br>Average Valence = %{y}<br>GDP Per Capita = %{x}<extra></extra>",
         "showlegend": false,
         "type": "scatter",
         "x": [
          2894
         ],
         "xaxis": "x",
         "y": [
          0.5351619791666665
         ],
         "yaxis": "y"
        },
        {
         "customdata": [
          "Turkey"
         ],
         "hovertemplate": "Country = %{customdata}<br>Average Valence = %{y}<br>GDP Per Capita = %{x}<extra></extra>",
         "showlegend": false,
         "type": "scatter",
         "x": [
          7456
         ],
         "xaxis": "x",
         "y": [
          0.4902404145077721
         ],
         "yaxis": "y"
        },
        {
         "customdata": [
          "Taiwan, Province of China"
         ],
         "hovertemplate": "Country = %{customdata}<br>Average Valence = %{y}<br>GDP Per Capita = %{x}<extra></extra>",
         "showlegend": false,
         "type": "scatter",
         "x": [
          0
         ],
         "xaxis": "x",
         "y": [
          0.45030446927374296
         ],
         "yaxis": "y"
        },
        {
         "customdata": [
          "Uruguay"
         ],
         "hovertemplate": "Country = %{customdata}<br>Average Valence = %{y}<br>GDP Per Capita = %{x}<extra></extra>",
         "showlegend": false,
         "type": "scatter",
         "x": [
          33781
         ],
         "xaxis": "x",
         "y": [
          0.7060679144385025
         ],
         "yaxis": "y"
        },
        {
         "customdata": [
          "United States"
         ],
         "hovertemplate": "Country = %{customdata}<br>Average Valence = %{y}<br>GDP Per Capita = %{x}<extra></extra>",
         "showlegend": false,
         "type": "scatter",
         "x": [
          0
         ],
         "xaxis": "x",
         "y": [
          0.4460577319587628
         ],
         "yaxis": "y"
        },
        {
         "customdata": [
          "United Arab Emirates"
         ],
         "hovertemplate": "Country = %{customdata}<br>Average Valence = %{y}<br>GDP Per Capita = %{x}<extra></extra>",
         "showlegend": false,
         "type": "scatter",
         "x": [
          33893
         ],
         "xaxis": "x2",
         "y": [
          0.4286894472361804
         ],
         "yaxis": "y2"
        },
        {
         "customdata": [
          "Argentina"
         ],
         "hovertemplate": "Country = %{customdata}<br>Average Valence = %{y}<br>GDP Per Capita = %{x}<extra></extra>",
         "showlegend": false,
         "type": "scatter",
         "x": [
          10429
         ],
         "xaxis": "x2",
         "y": [
          0.6215816753926702
         ],
         "yaxis": "y2"
        },
        {
         "customdata": [
          "Australia"
         ],
         "hovertemplate": "Country = %{customdata}<br>Average Valence = %{y}<br>GDP Per Capita = %{x}<extra></extra>",
         "showlegend": false,
         "type": "scatter",
         "x": [
          58654
         ],
         "xaxis": "x2",
         "y": [
          0.4685836734693876
         ],
         "yaxis": "y2"
        },
        {
         "customdata": [
          "Austria"
         ],
         "hovertemplate": "Country = %{customdata}<br>Average Valence = %{y}<br>GDP Per Capita = %{x}<extra></extra>",
         "showlegend": false,
         "type": "scatter",
         "x": [
          46599
         ],
         "xaxis": "x2",
         "y": [
          0.4776951612903227
         ],
         "yaxis": "y2"
        },
        {
         "customdata": [
          "Belgium"
         ],
         "hovertemplate": "Country = %{customdata}<br>Average Valence = %{y}<br>GDP Per Capita = %{x}<extra></extra>",
         "showlegend": false,
         "type": "scatter",
         "x": [
          43968
         ],
         "xaxis": "x2",
         "y": [
          0.4904989743589742
         ],
         "yaxis": "y2"
        },
        {
         "customdata": [
          "Bulgaria"
         ],
         "hovertemplate": "Country = %{customdata}<br>Average Valence = %{y}<br>GDP Per Capita = %{x}<extra></extra>",
         "showlegend": false,
         "type": "scatter",
         "x": [
          46370
         ],
         "xaxis": "x2",
         "y": [
          0.45542131979695427
         ],
         "yaxis": "y2"
        },
        {
         "customdata": [
          "Bolivia, Plurinational State of"
         ],
         "hovertemplate": "Country = %{customdata}<br>Average Valence = %{y}<br>GDP Per Capita = %{x}<extra></extra>",
         "showlegend": false,
         "type": "scatter",
         "x": [
          0
         ],
         "xaxis": "x2",
         "y": [
          0.5871127551020404
         ],
         "yaxis": "y2"
        },
        {
         "customdata": [
          "Brazil"
         ],
         "hovertemplate": "Country = %{customdata}<br>Average Valence = %{y}<br>GDP Per Capita = %{x}<extra></extra>",
         "showlegend": false,
         "type": "scatter",
         "x": [
          11286
         ],
         "xaxis": "x2",
         "y": [
          0.6049734693877552
         ],
         "yaxis": "y2"
        },
        {
         "customdata": [
          "Canada"
         ],
         "hovertemplate": "Country = %{customdata}<br>Average Valence = %{y}<br>GDP Per Capita = %{x}<extra></extra>",
         "showlegend": false,
         "type": "scatter",
         "x": [
          47361
         ],
         "xaxis": "x2",
         "y": [
          0.4478080808080804
         ],
         "yaxis": "y2"
        },
        {
         "customdata": [
          "Switzerland"
         ],
         "hovertemplate": "Country = %{customdata}<br>Average Valence = %{y}<br>GDP Per Capita = %{x}<extra></extra>",
         "showlegend": false,
         "type": "scatter",
         "x": [
          77277
         ],
         "xaxis": "x2",
         "y": [
          0.48479025641025636
         ],
         "yaxis": "y2"
        },
        {
         "customdata": [
          "Chile"
         ],
         "hovertemplate": "Country = %{customdata}<br>Average Valence = %{y}<br>GDP Per Capita = %{x}<extra></extra>",
         "showlegend": false,
         "type": "scatter",
         "x": [
          12808
         ],
         "xaxis": "x2",
         "y": [
          0.6064604278074867
         ],
         "yaxis": "y2"
        },
        {
         "customdata": [
          "Colombia"
         ],
         "hovertemplate": "Country = %{customdata}<br>Average Valence = %{y}<br>GDP Per Capita = %{x}<extra></extra>",
         "showlegend": false,
         "type": "scatter",
         "x": [
          6337
         ],
         "xaxis": "x2",
         "y": [
          0.5940419689119167
         ],
         "yaxis": "y2"
        },
        {
         "customdata": [
          "Costa Rica"
         ],
         "hovertemplate": "Country = %{customdata}<br>Average Valence = %{y}<br>GDP Per Capita = %{x}<extra></extra>",
         "showlegend": false,
         "type": "scatter",
         "x": [
          45676
         ],
         "xaxis": "x2",
         "y": [
          0.569059487179487
         ],
         "yaxis": "y2"
        },
        {
         "customdata": [
          "Cyprus"
         ],
         "hovertemplate": "Country = %{customdata}<br>Average Valence = %{y}<br>GDP Per Capita = %{x}<extra></extra>",
         "showlegend": false,
         "type": "scatter",
         "x": [
          21514
         ],
         "xaxis": "x2",
         "y": [
          0.4717542857142859
         ],
         "yaxis": "y2"
        },
        {
         "customdata": [
          "Czechia"
         ],
         "hovertemplate": "Country = %{customdata}<br>Average Valence = %{y}<br>GDP Per Capita = %{x}<extra></extra>",
         "showlegend": false,
         "type": "scatter",
         "x": [
          0
         ],
         "xaxis": "x2",
         "y": [
          0.46816753926701565
         ],
         "yaxis": "y2"
        },
        {
         "customdata": [
          "Germany"
         ],
         "hovertemplate": "Country = %{customdata}<br>Average Valence = %{y}<br>GDP Per Capita = %{x}<extra></extra>",
         "showlegend": false,
         "type": "scatter",
         "x": [
          42020
         ],
         "xaxis": "x2",
         "y": [
          0.4917167567567565
         ],
         "yaxis": "y2"
        },
        {
         "customdata": [
          "Denmark"
         ],
         "hovertemplate": "Country = %{customdata}<br>Average Valence = %{y}<br>GDP Per Capita = %{x}<extra></extra>",
         "showlegend": false,
         "type": "scatter",
         "x": [
          57967
         ],
         "xaxis": "x2",
         "y": [
          0.49431275510204037
         ],
         "yaxis": "y2"
        },
        {
         "customdata": [
          "Dominican Republic"
         ],
         "hovertemplate": "Country = %{customdata}<br>Average Valence = %{y}<br>GDP Per Capita = %{x}<extra></extra>",
         "showlegend": false,
         "type": "scatter",
         "x": [
          55952
         ],
         "xaxis": "x2",
         "y": [
          0.5460468421052632
         ],
         "yaxis": "y2"
        },
        {
         "customdata": [
          "Ecuador"
         ],
         "hovertemplate": "Country = %{customdata}<br>Average Valence = %{y}<br>GDP Per Capita = %{x}<extra></extra>",
         "showlegend": false,
         "type": "scatter",
         "x": [
          79915
         ],
         "xaxis": "x2",
         "y": [
          0.596648469387755
         ],
         "yaxis": "y2"
        },
        {
         "customdata": [
          "Egypt"
         ],
         "hovertemplate": "Country = %{customdata}<br>Average Valence = %{y}<br>GDP Per Capita = %{x}<extra></extra>",
         "showlegend": false,
         "type": "scatter",
         "x": [
          2593
         ],
         "xaxis": "x2",
         "y": [
          0.4778907216494844
         ],
         "yaxis": "y2"
        },
        {
         "customdata": [
          "Spain"
         ],
         "hovertemplate": "Country = %{customdata}<br>Average Valence = %{y}<br>GDP Per Capita = %{x}<extra></extra>",
         "showlegend": false,
         "type": "scatter",
         "x": [
          30273
         ],
         "xaxis": "x2",
         "y": [
          0.5577596938775506
         ],
         "yaxis": "y2"
        },
        {
         "customdata": [
          "Estonia"
         ],
         "hovertemplate": "Country = %{customdata}<br>Average Valence = %{y}<br>GDP Per Capita = %{x}<extra></extra>",
         "showlegend": false,
         "type": "scatter",
         "x": [
          19569
         ],
         "xaxis": "x2",
         "y": [
          0.4529862944162437
         ],
         "yaxis": "y2"
        },
        {
         "customdata": [
          "Finland"
         ],
         "hovertemplate": "Country = %{customdata}<br>Average Valence = %{y}<br>GDP Per Capita = %{x}<extra></extra>",
         "showlegend": false,
         "type": "scatter",
         "x": [
          46439
         ],
         "xaxis": "x2",
         "y": [
          0.5034549450549449
         ],
         "yaxis": "y2"
        },
        {
         "customdata": [
          "France"
         ],
         "hovertemplate": "Country = %{customdata}<br>Average Valence = %{y}<br>GDP Per Capita = %{x}<extra></extra>",
         "showlegend": false,
         "type": "scatter",
         "x": [
          40685
         ],
         "xaxis": "x2",
         "y": [
          0.5130411167512693
         ],
         "yaxis": "y2"
        },
        {
         "customdata": [
          "United Kingdom"
         ],
         "hovertemplate": "Country = %{customdata}<br>Average Valence = %{y}<br>GDP Per Capita = %{x}<extra></extra>",
         "showlegend": false,
         "type": "scatter",
         "x": [
          39105
         ],
         "xaxis": "x2",
         "y": [
          0.49998442211055216
         ],
         "yaxis": "y2"
        },
        {
         "customdata": [
          "Greece"
         ],
         "hovertemplate": "Country = %{customdata}<br>Average Valence = %{y}<br>GDP Per Capita = %{x}<extra></extra>",
         "showlegend": false,
         "type": "scatter",
         "x": [
          27264
         ],
         "xaxis": "x2",
         "y": [
          0.4661701030927834
         ],
         "yaxis": "y2"
        },
        {
         "customdata": [
          "Guatemala"
         ],
         "hovertemplate": "Country = %{customdata}<br>Average Valence = %{y}<br>GDP Per Capita = %{x}<extra></extra>",
         "showlegend": false,
         "type": "scatter",
         "x": [
          51428
         ],
         "xaxis": "x2",
         "y": [
          0.5633113989637304
         ],
         "yaxis": "y2"
        },
        {
         "customdata": [
          "Hong Kong"
         ],
         "hovertemplate": "Country = %{customdata}<br>Average Valence = %{y}<br>GDP Per Capita = %{x}<extra></extra>",
         "showlegend": false,
         "type": "scatter",
         "x": [
          0
         ],
         "xaxis": "x2",
         "y": [
          0.42539897959183676
         ],
         "yaxis": "y2"
        },
        {
         "customdata": [
          "Honduras"
         ],
         "hovertemplate": "Country = %{customdata}<br>Average Valence = %{y}<br>GDP Per Capita = %{x}<extra></extra>",
         "showlegend": false,
         "type": "scatter",
         "x": [
          17639
         ],
         "xaxis": "x2",
         "y": [
          0.562169841269841
         ],
         "yaxis": "y2"
        },
        {
         "customdata": [
          "Hungary"
         ],
         "hovertemplate": "Country = %{customdata}<br>Average Valence = %{y}<br>GDP Per Capita = %{x}<extra></extra>",
         "showlegend": false,
         "type": "scatter",
         "x": [
          13288
         ],
         "xaxis": "x2",
         "y": [
          0.49518367346938735
         ],
         "yaxis": "y2"
        },
        {
         "customdata": [
          "Indonesia"
         ],
         "hovertemplate": "Country = %{customdata}<br>Average Valence = %{y}<br>GDP Per Capita = %{x}<extra></extra>",
         "showlegend": false,
         "type": "scatter",
         "x": [
          3122
         ],
         "xaxis": "x2",
         "y": [
          0.4472720812182739
         ],
         "yaxis": "y2"
        },
        {
         "customdata": [
          "Ireland"
         ],
         "hovertemplate": "Country = %{customdata}<br>Average Valence = %{y}<br>GDP Per Capita = %{x}<extra></extra>",
         "showlegend": false,
         "type": "scatter",
         "x": [
          48761
         ],
         "xaxis": "x2",
         "y": [
          0.489164141414141
         ],
         "yaxis": "y2"
        },
        {
         "customdata": [
          "Iceland"
         ],
         "hovertemplate": "Country = %{customdata}<br>Average Valence = %{y}<br>GDP Per Capita = %{x}<extra></extra>",
         "showlegend": false,
         "type": "scatter",
         "x": [
          15132
         ],
         "xaxis": "x2",
         "y": [
          0.45144744897959177
         ],
         "yaxis": "y2"
        },
        {
         "customdata": [
          "Israel"
         ],
         "hovertemplate": "Country = %{customdata}<br>Average Valence = %{y}<br>GDP Per Capita = %{x}<extra></extra>",
         "showlegend": false,
         "type": "scatter",
         "x": [
          31852
         ],
         "xaxis": "x2",
         "y": [
          0.5171943298969073
         ],
         "yaxis": "y2"
        },
        {
         "customdata": [
          "Italy"
         ],
         "hovertemplate": "Country = %{customdata}<br>Average Valence = %{y}<br>GDP Per Capita = %{x}<extra></extra>",
         "showlegend": false,
         "type": "scatter",
         "x": [
          35972
         ],
         "xaxis": "x2",
         "y": [
          0.4899823232323231
         ],
         "yaxis": "y2"
        },
        {
         "customdata": [
          "Japan"
         ],
         "hovertemplate": "Country = %{customdata}<br>Average Valence = %{y}<br>GDP Per Capita = %{x}<extra></extra>",
         "showlegend": false,
         "type": "scatter",
         "x": [
          44344
         ],
         "xaxis": "x2",
         "y": [
          0.509057512953368
         ],
         "yaxis": "y2"
        },
        {
         "customdata": [
          "Lithuania"
         ],
         "hovertemplate": "Country = %{customdata}<br>Average Valence = %{y}<br>GDP Per Capita = %{x}<extra></extra>",
         "showlegend": false,
         "type": "scatter",
         "x": [
          34388
         ],
         "xaxis": "x2",
         "y": [
          0.47450964467005063
         ],
         "yaxis": "y2"
        },
        {
         "customdata": [
          "Luxembourg"
         ],
         "hovertemplate": "Country = %{customdata}<br>Average Valence = %{y}<br>GDP Per Capita = %{x}<extra></extra>",
         "showlegend": false,
         "type": "scatter",
         "x": [
          50117
         ],
         "xaxis": "x2",
         "y": [
          0.4745177664974616
         ],
         "yaxis": "y2"
        },
        {
         "customdata": [
          "Latvia"
         ],
         "hovertemplate": "Country = %{customdata}<br>Average Valence = %{y}<br>GDP Per Capita = %{x}<extra></extra>",
         "showlegend": false,
         "type": "scatter",
         "x": [
          22818
         ],
         "xaxis": "x2",
         "y": [
          0.45211573604060906
         ],
         "yaxis": "y2"
        },
        {
         "customdata": [
          "Morocco"
         ],
         "hovertemplate": "Country = %{customdata}<br>Average Valence = %{y}<br>GDP Per Capita = %{x}<extra></extra>",
         "showlegend": false,
         "type": "scatter",
         "x": [
          81274
         ],
         "xaxis": "x2",
         "y": [
          0.4950505050505046
         ],
         "yaxis": "y2"
        },
        {
         "customdata": [
          "Mexico"
         ],
         "hovertemplate": "Country = %{customdata}<br>Average Valence = %{y}<br>GDP Per Capita = %{x}<extra></extra>",
         "showlegend": false,
         "type": "scatter",
         "x": [
          9271
         ],
         "xaxis": "x2",
         "y": [
          0.5818178571428567
         ],
         "yaxis": "y2"
        },
        {
         "customdata": [
          "Malaysia"
         ],
         "hovertemplate": "Country = %{customdata}<br>Average Valence = %{y}<br>GDP Per Capita = %{x}<extra></extra>",
         "showlegend": false,
         "type": "scatter",
         "x": [
          9041
         ],
         "xaxis": "x2",
         "y": [
          0.43308888888888886
         ],
         "yaxis": "y2"
        },
        {
         "customdata": [
          "Nicaragua"
         ],
         "hovertemplate": "Country = %{customdata}<br>Average Valence = %{y}<br>GDP Per Capita = %{x}<extra></extra>",
         "showlegend": false,
         "type": "scatter",
         "x": [
          9779
         ],
         "xaxis": "x2",
         "y": [
          0.5602832460732983
         ],
         "yaxis": "y2"
        },
        {
         "customdata": [
          "Netherlands"
         ],
         "hovertemplate": "Country = %{customdata}<br>Average Valence = %{y}<br>GDP Per Capita = %{x}<extra></extra>",
         "showlegend": false,
         "type": "scatter",
         "x": [
          50744
         ],
         "xaxis": "x2",
         "y": [
          0.5347477272727271
         ],
         "yaxis": "y2"
        },
        {
         "customdata": [
          "Norway"
         ],
         "hovertemplate": "Country = %{customdata}<br>Average Valence = %{y}<br>GDP Per Capita = %{x}<extra></extra>",
         "showlegend": false,
         "type": "scatter",
         "x": [
          87754
         ],
         "xaxis": "x2",
         "y": [
          0.4545273195876285
         ],
         "yaxis": "y2"
        },
        {
         "customdata": [
          "New Zealand"
         ],
         "hovertemplate": "Country = %{customdata}<br>Average Valence = %{y}<br>GDP Per Capita = %{x}<extra></extra>",
         "showlegend": false,
         "type": "scatter",
         "x": [
          33543
         ],
         "xaxis": "x2",
         "y": [
          0.4874112244897958
         ],
         "yaxis": "y2"
        },
        {
         "customdata": [
          "Panama"
         ],
         "hovertemplate": "Country = %{customdata}<br>Average Valence = %{y}<br>GDP Per Capita = %{x}<extra></extra>",
         "showlegend": false,
         "type": "scatter",
         "x": [
          37273
         ],
         "xaxis": "x2",
         "y": [
          0.5654036269430052
         ],
         "yaxis": "y2"
        },
        {
         "customdata": [
          "Peru"
         ],
         "hovertemplate": "Country = %{customdata}<br>Average Valence = %{y}<br>GDP Per Capita = %{x}<extra></extra>",
         "showlegend": false,
         "type": "scatter",
         "x": [
          5082
         ],
         "xaxis": "x2",
         "y": [
          0.6132544041450778
         ],
         "yaxis": "y2"
        },
        {
         "customdata": [
          "Philippines"
         ],
         "hovertemplate": "Country = %{customdata}<br>Average Valence = %{y}<br>GDP Per Capita = %{x}<extra></extra>",
         "showlegend": false,
         "type": "scatter",
         "x": [
          2124
         ],
         "xaxis": "x2",
         "y": [
          0.4463492227979276
         ],
         "yaxis": "y2"
        },
        {
         "customdata": [
          "Poland"
         ],
         "hovertemplate": "Country = %{customdata}<br>Average Valence = %{y}<br>GDP Per Capita = %{x}<extra></extra>",
         "showlegend": false,
         "type": "scatter",
         "x": [
          12519
         ],
         "xaxis": "x2",
         "y": [
          0.48739896907216484
         ],
         "yaxis": "y2"
        },
        {
         "customdata": [
          "Portugal"
         ],
         "hovertemplate": "Country = %{customdata}<br>Average Valence = %{y}<br>GDP Per Capita = %{x}<extra></extra>",
         "showlegend": false,
         "type": "scatter",
         "x": [
          22450
         ],
         "xaxis": "x2",
         "y": [
          0.4813578680203042
         ],
         "yaxis": "y2"
        },
        {
         "customdata": [
          "Paraguay"
         ],
         "hovertemplate": "Country = %{customdata}<br>Average Valence = %{y}<br>GDP Per Capita = %{x}<extra></extra>",
         "showlegend": false,
         "type": "scatter",
         "x": [
          29762
         ],
         "xaxis": "x2",
         "y": [
          0.6032597883597883
         ],
         "yaxis": "y2"
        },
        {
         "customdata": [
          "Romania"
         ],
         "hovertemplate": "Country = %{customdata}<br>Average Valence = %{y}<br>GDP Per Capita = %{x}<extra></extra>",
         "showlegend": false,
         "type": "scatter",
         "x": [
          8120
         ],
         "xaxis": "x2",
         "y": [
          0.45450406091370554
         ],
         "yaxis": "y2"
        },
        {
         "customdata": [
          "Saudi Arabia"
         ],
         "hovertemplate": "Country = %{customdata}<br>Average Valence = %{y}<br>GDP Per Capita = %{x}<extra></extra>",
         "showlegend": false,
         "type": "scatter",
         "x": [
          19263
         ],
         "xaxis": "x2",
         "y": [
          0.43469038461538473
         ],
         "yaxis": "y2"
        },
        {
         "customdata": [
          "Singapore"
         ],
         "hovertemplate": "Country = %{customdata}<br>Average Valence = %{y}<br>GDP Per Capita = %{x}<extra></extra>",
         "showlegend": false,
         "type": "scatter",
         "x": [
          46736
         ],
         "xaxis": "x2",
         "y": [
          0.4378025510204081
         ],
         "yaxis": "y2"
        },
        {
         "customdata": [
          "El Salvador"
         ],
         "hovertemplate": "Country = %{customdata}<br>Average Valence = %{y}<br>GDP Per Capita = %{x}<extra></extra>",
         "showlegend": false,
         "type": "scatter",
         "x": [
          21277
         ],
         "xaxis": "x2",
         "y": [
          0.5661455958549221
         ],
         "yaxis": "y2"
        },
        {
         "customdata": [
          "Slovakia"
         ],
         "hovertemplate": "Country = %{customdata}<br>Average Valence = %{y}<br>GDP Per Capita = %{x}<extra></extra>",
         "showlegend": false,
         "type": "scatter",
         "x": [
          77947
         ],
         "xaxis": "x2",
         "y": [
          0.4782144329896908
         ],
         "yaxis": "y2"
        },
        {
         "customdata": [
          "Sweden"
         ],
         "hovertemplate": "Country = %{customdata}<br>Average Valence = %{y}<br>GDP Per Capita = %{x}<extra></extra>",
         "showlegend": false,
         "type": "scatter",
         "x": [
          52801
         ],
         "xaxis": "x2",
         "y": [
          0.4588974226804123
         ],
         "yaxis": "y2"
        },
        {
         "customdata": [
          "Thailand"
         ],
         "hovertemplate": "Country = %{customdata}<br>Average Valence = %{y}<br>GDP Per Capita = %{x}<extra></extra>",
         "showlegend": false,
         "type": "scatter",
         "x": [
          5076
         ],
         "xaxis": "x2",
         "y": [
          0.4995601036269429
         ],
         "yaxis": "y2"
        },
        {
         "customdata": [
          "Turkey"
         ],
         "hovertemplate": "Country = %{customdata}<br>Average Valence = %{y}<br>GDP Per Capita = %{x}<extra></extra>",
         "showlegend": false,
         "type": "scatter",
         "x": [
          10742
         ],
         "xaxis": "x2",
         "y": [
          0.5179440414507773
         ],
         "yaxis": "y2"
        },
        {
         "customdata": [
          "Taiwan, Province of China"
         ],
         "hovertemplate": "Country = %{customdata}<br>Average Valence = %{y}<br>GDP Per Capita = %{x}<extra></extra>",
         "showlegend": false,
         "type": "scatter",
         "x": [
          0
         ],
         "xaxis": "x2",
         "y": [
          0.4125246153846153
         ],
         "yaxis": "y2"
        },
        {
         "customdata": [
          "Uruguay"
         ],
         "hovertemplate": "Country = %{customdata}<br>Average Valence = %{y}<br>GDP Per Capita = %{x}<extra></extra>",
         "showlegend": false,
         "type": "scatter",
         "x": [
          45125
         ],
         "xaxis": "x2",
         "y": [
          0.642665425531915
         ],
         "yaxis": "y2"
        },
        {
         "customdata": [
          "United States"
         ],
         "hovertemplate": "Country = %{customdata}<br>Average Valence = %{y}<br>GDP Per Capita = %{x}<extra></extra>",
         "showlegend": false,
         "type": "scatter",
         "x": [
          0
         ],
         "xaxis": "x2",
         "y": [
          0.4538336683417082
         ],
         "yaxis": "y2"
        },
        {
         "customdata": [
          "Viet Nam"
         ],
         "hovertemplate": "Country = %{customdata}<br>Average Valence = %{y}<br>GDP Per Capita = %{x}<extra></extra>",
         "showlegend": false,
         "type": "scatter",
         "x": [
          1318
         ],
         "xaxis": "x2",
         "y": [
          0.41696969696969693
         ],
         "yaxis": "y2"
        },
        {
         "customdata": [
          "South Africa"
         ],
         "hovertemplate": "Country = %{customdata}<br>Average Valence = %{y}<br>GDP Per Capita = %{x}<extra></extra>",
         "showlegend": false,
         "type": "scatter",
         "x": [
          7329
         ],
         "xaxis": "x2",
         "y": [
          0.4290116279069768
         ],
         "yaxis": "y2"
        },
        {
         "customdata": [
          "United Arab Emirates"
         ],
         "hovertemplate": "Country = %{customdata}<br>Average Valence = %{y}<br>GDP Per Capita = %{x}<extra></extra>",
         "showlegend": false,
         "type": "scatter",
         "x": [
          38663
         ],
         "xaxis": "x3",
         "y": [
          0.43205199999999977
         ],
         "yaxis": "y3"
        },
        {
         "customdata": [
          "Argentina"
         ],
         "hovertemplate": "Country = %{customdata}<br>Average Valence = %{y}<br>GDP Per Capita = %{x}<extra></extra>",
         "showlegend": false,
         "type": "scatter",
         "x": [
          14971
         ],
         "xaxis": "x3",
         "y": [
          0.6004873096446699
         ],
         "yaxis": "y3"
        },
        {
         "customdata": [
          "Australia"
         ],
         "hovertemplate": "Country = %{customdata}<br>Average Valence = %{y}<br>GDP Per Capita = %{x}<extra></extra>",
         "showlegend": false,
         "type": "scatter",
         "x": [
          52131
         ],
         "xaxis": "x3",
         "y": [
          0.4567979695431473
         ],
         "yaxis": "y3"
        },
        {
         "customdata": [
          "Austria"
         ],
         "hovertemplate": "Country = %{customdata}<br>Average Valence = %{y}<br>GDP Per Capita = %{x}<extra></extra>",
         "showlegend": false,
         "type": "scatter",
         "x": [
          43995
         ],
         "xaxis": "x3",
         "y": [
          0.46434021164021155
         ],
         "yaxis": "y3"
        },
        {
         "customdata": [
          "Belgium"
         ],
         "hovertemplate": "Country = %{customdata}<br>Average Valence = %{y}<br>GDP Per Capita = %{x}<extra></extra>",
         "showlegend": false,
         "type": "scatter",
         "x": [
          40942
         ],
         "xaxis": "x3",
         "y": [
          0.4621673366834173
         ],
         "yaxis": "y3"
        },
        {
         "customdata": [
          "Bulgaria"
         ],
         "hovertemplate": "Country = %{customdata}<br>Average Valence = %{y}<br>GDP Per Capita = %{x}<extra></extra>",
         "showlegend": false,
         "type": "scatter",
         "x": [
          50631
         ],
         "xaxis": "x3",
         "y": [
          0.4649085
         ],
         "yaxis": "y3"
        },
        {
         "customdata": [
          "Bolivia, Plurinational State of"
         ],
         "hovertemplate": "Country = %{customdata}<br>Average Valence = %{y}<br>GDP Per Capita = %{x}<extra></extra>",
         "showlegend": false,
         "type": "scatter",
         "x": [
          0
         ],
         "xaxis": "x3",
         "y": [
          0.6128793969849242
         ],
         "yaxis": "y3"
        },
        {
         "customdata": [
          "Brazil"
         ],
         "hovertemplate": "Country = %{customdata}<br>Average Valence = %{y}<br>GDP Per Capita = %{x}<extra></extra>",
         "showlegend": false,
         "type": "scatter",
         "x": [
          8814
         ],
         "xaxis": "x3",
         "y": [
          0.6108442211055276
         ],
         "yaxis": "y3"
        },
        {
         "customdata": [
          "Canada"
         ],
         "hovertemplate": "Country = %{customdata}<br>Average Valence = %{y}<br>GDP Per Capita = %{x}<extra></extra>",
         "showlegend": false,
         "type": "scatter",
         "x": [
          43194
         ],
         "xaxis": "x3",
         "y": [
          0.43674199999999996
         ],
         "yaxis": "y3"
        },
        {
         "customdata": [
          "Switzerland"
         ],
         "hovertemplate": "Country = %{customdata}<br>Average Valence = %{y}<br>GDP Per Capita = %{x}<extra></extra>",
         "showlegend": false,
         "type": "scatter",
         "x": [
          84629
         ],
         "xaxis": "x3",
         "y": [
          0.4603056701030924
         ],
         "yaxis": "y3"
        },
        {
         "customdata": [
          "Chile"
         ],
         "hovertemplate": "Country = %{customdata}<br>Average Valence = %{y}<br>GDP Per Capita = %{x}<extra></extra>",
         "showlegend": false,
         "type": "scatter",
         "x": [
          13574
         ],
         "xaxis": "x3",
         "y": [
          0.6216984924623117
         ],
         "yaxis": "y3"
        },
        {
         "customdata": [
          "Colombia"
         ],
         "hovertemplate": "Country = %{customdata}<br>Average Valence = %{y}<br>GDP Per Capita = %{x}<extra></extra>",
         "showlegend": false,
         "type": "scatter",
         "x": [
          6176
         ],
         "xaxis": "x3",
         "y": [
          0.62921
         ],
         "yaxis": "y3"
        },
        {
         "customdata": [
          "Costa Rica"
         ],
         "hovertemplate": "Country = %{customdata}<br>Average Valence = %{y}<br>GDP Per Capita = %{x}<extra></extra>",
         "showlegend": false,
         "type": "scatter",
         "x": [
          54776
         ],
         "xaxis": "x3",
         "y": [
          0.5747638190954772
         ],
         "yaxis": "y3"
        },
        {
         "customdata": [
          "Cyprus"
         ],
         "hovertemplate": "Country = %{customdata}<br>Average Valence = %{y}<br>GDP Per Capita = %{x}<extra></extra>",
         "showlegend": false,
         "type": "scatter",
         "x": [
          19771
         ],
         "xaxis": "x3",
         "y": [
          0.4501021505376343
         ],
         "yaxis": "y3"
        },
        {
         "customdata": [
          "Czechia"
         ],
         "hovertemplate": "Country = %{customdata}<br>Average Valence = %{y}<br>GDP Per Capita = %{x}<extra></extra>",
         "showlegend": false,
         "type": "scatter",
         "x": [
          0
         ],
         "xaxis": "x3",
         "y": [
          0.45122049999999964
         ],
         "yaxis": "y3"
        },
        {
         "customdata": [
          "Germany"
         ],
         "hovertemplate": "Country = %{customdata}<br>Average Valence = %{y}<br>GDP Per Capita = %{x}<extra></extra>",
         "showlegend": false,
         "type": "scatter",
         "x": [
          41036
         ],
         "xaxis": "x3",
         "y": [
          0.4755518518518516
         ],
         "yaxis": "y3"
        },
        {
         "customdata": [
          "Denmark"
         ],
         "hovertemplate": "Country = %{customdata}<br>Average Valence = %{y}<br>GDP Per Capita = %{x}<extra></extra>",
         "showlegend": false,
         "type": "scatter",
         "x": [
          53206
         ],
         "xaxis": "x3",
         "y": [
          0.4799444444444441
         ],
         "yaxis": "y3"
        },
        {
         "customdata": [
          "Dominican Republic"
         ],
         "hovertemplate": "Country = %{customdata}<br>Average Valence = %{y}<br>GDP Per Capita = %{x}<extra></extra>",
         "showlegend": false,
         "type": "scatter",
         "x": [
          71155
         ],
         "xaxis": "x3",
         "y": [
          0.580262626262626
         ],
         "yaxis": "y3"
        },
        {
         "customdata": [
          "Ecuador"
         ],
         "hovertemplate": "Country = %{customdata}<br>Average Valence = %{y}<br>GDP Per Capita = %{x}<extra></extra>",
         "showlegend": false,
         "type": "scatter",
         "x": [
          99290
         ],
         "xaxis": "x3",
         "y": [
          0.624445
         ],
         "yaxis": "y3"
        },
        {
         "customdata": [
          "Egypt"
         ],
         "hovertemplate": "Country = %{customdata}<br>Average Valence = %{y}<br>GDP Per Capita = %{x}<extra></extra>",
         "showlegend": false,
         "type": "scatter",
         "x": [
          3437
         ],
         "xaxis": "x3",
         "y": [
          0.47685128205128213
         ],
         "yaxis": "y3"
        },
        {
         "customdata": [
          "Spain"
         ],
         "hovertemplate": "Country = %{customdata}<br>Average Valence = %{y}<br>GDP Per Capita = %{x}<extra></extra>",
         "showlegend": false,
         "type": "scatter",
         "x": [
          25607
         ],
         "xaxis": "x3",
         "y": [
          0.5646935
         ],
         "yaxis": "y3"
        },
        {
         "customdata": [
          "Estonia"
         ],
         "hovertemplate": "Country = %{customdata}<br>Average Valence = %{y}<br>GDP Per Capita = %{x}<extra></extra>",
         "showlegend": false,
         "type": "scatter",
         "x": [
          23049
         ],
         "xaxis": "x3",
         "y": [
          0.4498084999999996
         ],
         "yaxis": "y3"
        },
        {
         "customdata": [
          "Finland"
         ],
         "hovertemplate": "Country = %{customdata}<br>Average Valence = %{y}<br>GDP Per Capita = %{x}<extra></extra>",
         "showlegend": false,
         "type": "scatter",
         "x": [
          42772
         ],
         "xaxis": "x3",
         "y": [
          0.4605821428571424
         ],
         "yaxis": "y3"
        },
        {
         "customdata": [
          "France"
         ],
         "hovertemplate": "Country = %{customdata}<br>Average Valence = %{y}<br>GDP Per Capita = %{x}<extra></extra>",
         "showlegend": false,
         "type": "scatter",
         "x": [
          36612
         ],
         "xaxis": "x3",
         "y": [
          0.5059522842639594
         ],
         "yaxis": "y3"
        },
        {
         "customdata": [
          "United Kingdom"
         ],
         "hovertemplate": "Country = %{customdata}<br>Average Valence = %{y}<br>GDP Per Capita = %{x}<extra></extra>",
         "showlegend": false,
         "type": "scatter",
         "x": [
          44530
         ],
         "xaxis": "x3",
         "y": [
          0.45863015075376873
         ],
         "yaxis": "y3"
        },
        {
         "customdata": [
          "Greece"
         ],
         "hovertemplate": "Country = %{customdata}<br>Average Valence = %{y}<br>GDP Per Capita = %{x}<extra></extra>",
         "showlegend": false,
         "type": "scatter",
         "x": [
          18323
         ],
         "xaxis": "x3",
         "y": [
          0.4451447236180904
         ],
         "yaxis": "y3"
        },
        {
         "customdata": [
          "Guatemala"
         ],
         "hovertemplate": "Country = %{customdata}<br>Average Valence = %{y}<br>GDP Per Capita = %{x}<extra></extra>",
         "showlegend": false,
         "type": "scatter",
         "x": [
          62186
         ],
         "xaxis": "x3",
         "y": [
          0.5898944723618088
         ],
         "yaxis": "y3"
        },
        {
         "customdata": [
          "Hong Kong"
         ],
         "hovertemplate": "Country = %{customdata}<br>Average Valence = %{y}<br>GDP Per Capita = %{x}<extra></extra>",
         "showlegend": false,
         "type": "scatter",
         "x": [
          0
         ],
         "xaxis": "x3",
         "y": [
          0.40792777777777744
         ],
         "yaxis": "y3"
        },
        {
         "customdata": [
          "Honduras"
         ],
         "hovertemplate": "Country = %{customdata}<br>Average Valence = %{y}<br>GDP Per Capita = %{x}<extra></extra>",
         "showlegend": false,
         "type": "scatter",
         "x": [
          20980
         ],
         "xaxis": "x3",
         "y": [
          0.578256281407035
         ],
         "yaxis": "y3"
        },
        {
         "customdata": [
          "Hungary"
         ],
         "hovertemplate": "Country = %{customdata}<br>Average Valence = %{y}<br>GDP Per Capita = %{x}<extra></extra>",
         "showlegend": false,
         "type": "scatter",
         "x": [
          12791
         ],
         "xaxis": "x3",
         "y": [
          0.4746864999999996
         ],
         "yaxis": "y3"
        },
        {
         "customdata": [
          "Indonesia"
         ],
         "hovertemplate": "Country = %{customdata}<br>Average Valence = %{y}<br>GDP Per Capita = %{x}<extra></extra>",
         "showlegend": false,
         "type": "scatter",
         "x": [
          3332
         ],
         "xaxis": "x3",
         "y": [
          0.45639274611398944
         ],
         "yaxis": "y3"
        },
        {
         "customdata": [
          "India"
         ],
         "hovertemplate": "Country = %{customdata}<br>Average Valence = %{y}<br>GDP Per Capita = %{x}<extra></extra>",
         "showlegend": false,
         "type": "scatter",
         "x": [
          1639
         ],
         "xaxis": "x3",
         "y": [
          0.4624548913043477
         ],
         "yaxis": "y3"
        },
        {
         "customdata": [
          "Ireland"
         ],
         "hovertemplate": "Country = %{customdata}<br>Average Valence = %{y}<br>GDP Per Capita = %{x}<extra></extra>",
         "showlegend": false,
         "type": "scatter",
         "x": [
          62660
         ],
         "xaxis": "x3",
         "y": [
          0.4385835
         ],
         "yaxis": "y3"
        },
        {
         "customdata": [
          "Iceland"
         ],
         "hovertemplate": "Country = %{customdata}<br>Average Valence = %{y}<br>GDP Per Capita = %{x}<extra></extra>",
         "showlegend": false,
         "type": "scatter",
         "x": [
          17389
         ],
         "xaxis": "x3",
         "y": [
          0.46134299999999995
         ],
         "yaxis": "y3"
        },
        {
         "customdata": [
          "Israel"
         ],
         "hovertemplate": "Country = %{customdata}<br>Average Valence = %{y}<br>GDP Per Capita = %{x}<extra></extra>",
         "showlegend": false,
         "type": "scatter",
         "x": [
          37578
         ],
         "xaxis": "x3",
         "y": [
          0.4695343434343434
         ],
         "yaxis": "y3"
        },
        {
         "customdata": [
          "Italy"
         ],
         "hovertemplate": "Country = %{customdata}<br>Average Valence = %{y}<br>GDP Per Capita = %{x}<extra></extra>",
         "showlegend": false,
         "type": "scatter",
         "x": [
          30306
         ],
         "xaxis": "x3",
         "y": [
          0.4809005076142131
         ],
         "yaxis": "y3"
        },
        {
         "customdata": [
          "Japan"
         ],
         "hovertemplate": "Country = %{customdata}<br>Average Valence = %{y}<br>GDP Per Capita = %{x}<extra></extra>",
         "showlegend": false,
         "type": "scatter",
         "x": [
          34297
         ],
         "xaxis": "x3",
         "y": [
          0.5119438775510201
         ],
         "yaxis": "y3"
        },
        {
         "customdata": [
          "Lithuania"
         ],
         "hovertemplate": "Country = %{customdata}<br>Average Valence = %{y}<br>GDP Per Capita = %{x}<extra></extra>",
         "showlegend": false,
         "type": "scatter",
         "x": [
          41419
         ],
         "xaxis": "x3",
         "y": [
          0.4436134999999998
         ],
         "yaxis": "y3"
        },
        {
         "customdata": [
          "Luxembourg"
         ],
         "hovertemplate": "Country = %{customdata}<br>Average Valence = %{y}<br>GDP Per Capita = %{x}<extra></extra>",
         "showlegend": false,
         "type": "scatter",
         "x": [
          57744
         ],
         "xaxis": "x3",
         "y": [
          0.4559309644670048
         ],
         "yaxis": "y3"
        },
        {
         "customdata": [
          "Latvia"
         ],
         "hovertemplate": "Country = %{customdata}<br>Average Valence = %{y}<br>GDP Per Capita = %{x}<extra></extra>",
         "showlegend": false,
         "type": "scatter",
         "x": [
          27240
         ],
         "xaxis": "x3",
         "y": [
          0.4461504999999997
         ],
         "yaxis": "y3"
        },
        {
         "customdata": [
          "Morocco"
         ],
         "hovertemplate": "Country = %{customdata}<br>Average Valence = %{y}<br>GDP Per Capita = %{x}<extra></extra>",
         "showlegend": false,
         "type": "scatter",
         "x": [
          2919
         ],
         "xaxis": "x3",
         "y": [
          0.5135263959390861
         ],
         "yaxis": "y3"
        },
        {
         "customdata": [
          "Mexico"
         ],
         "hovertemplate": "Country = %{customdata}<br>Average Valence = %{y}<br>GDP Per Capita = %{x}<extra></extra>",
         "showlegend": false,
         "type": "scatter",
         "x": [
          9606
         ],
         "xaxis": "x3",
         "y": [
          0.608150753768844
         ],
         "yaxis": "y3"
        },
        {
         "customdata": [
          "Malaysia"
         ],
         "hovertemplate": "Country = %{customdata}<br>Average Valence = %{y}<br>GDP Per Capita = %{x}<extra></extra>",
         "showlegend": false,
         "type": "scatter",
         "x": [
          9955
         ],
         "xaxis": "x3",
         "y": [
          0.4277331632653061
         ],
         "yaxis": "y3"
        },
        {
         "customdata": [
          "Nicaragua"
         ],
         "hovertemplate": "Country = %{customdata}<br>Average Valence = %{y}<br>GDP Per Capita = %{x}<extra></extra>",
         "showlegend": false,
         "type": "scatter",
         "x": [
          12757
         ],
         "xaxis": "x3",
         "y": [
          0.5677035175879397
         ],
         "yaxis": "y3"
        },
        {
         "customdata": [
          "Netherlands"
         ],
         "hovertemplate": "Country = %{customdata}<br>Average Valence = %{y}<br>GDP Per Capita = %{x}<extra></extra>",
         "showlegend": false,
         "type": "scatter",
         "x": [
          45179
         ],
         "xaxis": "x3",
         "y": [
          0.5159959595959596
         ],
         "yaxis": "y3"
        },
        {
         "customdata": [
          "Norway"
         ],
         "hovertemplate": "Country = %{customdata}<br>Average Valence = %{y}<br>GDP Per Capita = %{x}<extra></extra>",
         "showlegend": false,
         "type": "scatter",
         "x": [
          74195
         ],
         "xaxis": "x3",
         "y": [
          0.4317464285714285
         ],
         "yaxis": "y3"
        },
        {
         "customdata": [
          "New Zealand"
         ],
         "hovertemplate": "Country = %{customdata}<br>Average Valence = %{y}<br>GDP Per Capita = %{x}<extra></extra>",
         "showlegend": false,
         "type": "scatter",
         "x": [
          38458
         ],
         "xaxis": "x3",
         "y": [
          0.4824221105527638
         ],
         "yaxis": "y3"
        },
        {
         "customdata": [
          "Panama"
         ],
         "hovertemplate": "Country = %{customdata}<br>Average Valence = %{y}<br>GDP Per Capita = %{x}<extra></extra>",
         "showlegend": false,
         "type": "scatter",
         "x": [
          54092
         ],
         "xaxis": "x3",
         "y": [
          0.6077085427135678
         ],
         "yaxis": "y3"
        },
        {
         "customdata": [
          "Peru"
         ],
         "hovertemplate": "Country = %{customdata}<br>Average Valence = %{y}<br>GDP Per Capita = %{x}<extra></extra>",
         "showlegend": false,
         "type": "scatter",
         "x": [
          6229
         ],
         "xaxis": "x3",
         "y": [
          0.6445226130653265
         ],
         "yaxis": "y3"
        },
        {
         "customdata": [
          "Philippines"
         ],
         "hovertemplate": "Country = %{customdata}<br>Average Valence = %{y}<br>GDP Per Capita = %{x}<extra></extra>",
         "showlegend": false,
         "type": "scatter",
         "x": [
          2867
         ],
         "xaxis": "x3",
         "y": [
          0.4152091370558376
         ],
         "yaxis": "y3"
        },
        {
         "customdata": [
          "Poland"
         ],
         "hovertemplate": "Country = %{customdata}<br>Average Valence = %{y}<br>GDP Per Capita = %{x}<extra></extra>",
         "showlegend": false,
         "type": "scatter",
         "x": [
          12563
         ],
         "xaxis": "x3",
         "y": [
          0.46120050251256234
         ],
         "yaxis": "y3"
        },
        {
         "customdata": [
          "Portugal"
         ],
         "hovertemplate": "Country = %{customdata}<br>Average Valence = %{y}<br>GDP Per Capita = %{x}<extra></extra>",
         "showlegend": false,
         "type": "scatter",
         "x": [
          19223
         ],
         "xaxis": "x3",
         "y": [
          0.4546648241206031
         ],
         "yaxis": "y3"
        },
        {
         "customdata": [
          "Paraguay"
         ],
         "hovertemplate": "Country = %{customdata}<br>Average Valence = %{y}<br>GDP Per Capita = %{x}<extra></extra>",
         "showlegend": false,
         "type": "scatter",
         "x": [
          36164
         ],
         "xaxis": "x3",
         "y": [
          0.5936464646464645
         ],
         "yaxis": "y3"
        },
        {
         "customdata": [
          "Romania"
         ],
         "hovertemplate": "Country = %{customdata}<br>Average Valence = %{y}<br>GDP Per Capita = %{x}<extra></extra>",
         "showlegend": false,
         "type": "scatter",
         "x": [
          8928
         ],
         "xaxis": "x3",
         "y": [
          0.445766
         ],
         "yaxis": "y3"
        },
        {
         "customdata": [
          "Saudi Arabia"
         ],
         "hovertemplate": "Country = %{customdata}<br>Average Valence = %{y}<br>GDP Per Capita = %{x}<extra></extra>",
         "showlegend": false,
         "type": "scatter",
         "x": [
          20628
         ],
         "xaxis": "x3",
         "y": [
          0.44934242424242377
         ],
         "yaxis": "y3"
        },
        {
         "customdata": [
          "Singapore"
         ],
         "hovertemplate": "Country = %{customdata}<br>Average Valence = %{y}<br>GDP Per Capita = %{x}<extra></extra>",
         "showlegend": false,
         "type": "scatter",
         "x": [
          55077
         ],
         "xaxis": "x3",
         "y": [
          0.41490204081632637
         ],
         "yaxis": "y3"
        },
        {
         "customdata": [
          "El Salvador"
         ],
         "hovertemplate": "Country = %{customdata}<br>Average Valence = %{y}<br>GDP Per Capita = %{x}<extra></extra>",
         "showlegend": false,
         "type": "scatter",
         "x": [
          23438
         ],
         "xaxis": "x3",
         "y": [
          0.5786432160804017
         ],
         "yaxis": "y3"
        },
        {
         "customdata": [
          "Slovakia"
         ],
         "hovertemplate": "Country = %{customdata}<br>Average Valence = %{y}<br>GDP Per Capita = %{x}<extra></extra>",
         "showlegend": false,
         "type": "scatter",
         "x": [
          88468
         ],
         "xaxis": "x3",
         "y": [
          0.4529558375634518
         ],
         "yaxis": "y3"
        },
        {
         "customdata": [
          "Sweden"
         ],
         "hovertemplate": "Country = %{customdata}<br>Average Valence = %{y}<br>GDP Per Capita = %{x}<extra></extra>",
         "showlegend": false,
         "type": "scatter",
         "x": [
          51726
         ],
         "xaxis": "x3",
         "y": [
          0.43954329896907224
         ],
         "yaxis": "y3"
        },
        {
         "customdata": [
          "Thailand"
         ],
         "hovertemplate": "Country = %{customdata}<br>Average Valence = %{y}<br>GDP Per Capita = %{x}<extra></extra>",
         "showlegend": false,
         "type": "scatter",
         "x": [
          5840
         ],
         "xaxis": "x3",
         "y": [
          0.48556467391304325
         ],
         "yaxis": "y3"
        },
        {
         "customdata": [
          "Turkey"
         ],
         "hovertemplate": "Country = %{customdata}<br>Average Valence = %{y}<br>GDP Per Capita = %{x}<extra></extra>",
         "showlegend": false,
         "type": "scatter",
         "x": [
          11006
         ],
         "xaxis": "x3",
         "y": [
          0.46339844559585475
         ],
         "yaxis": "y3"
        },
        {
         "customdata": [
          "Taiwan, Province of China"
         ],
         "hovertemplate": "Country = %{customdata}<br>Average Valence = %{y}<br>GDP Per Capita = %{x}<extra></extra>",
         "showlegend": false,
         "type": "scatter",
         "x": [
          0
         ],
         "xaxis": "x3",
         "y": [
          0.383148205128205
         ],
         "yaxis": "y3"
        },
        {
         "customdata": [
          "Uruguay"
         ],
         "hovertemplate": "Country = %{customdata}<br>Average Valence = %{y}<br>GDP Per Capita = %{x}<extra></extra>",
         "showlegend": false,
         "type": "scatter",
         "x": [
          53274
         ],
         "xaxis": "x3",
         "y": [
          0.6333877551020409
         ],
         "yaxis": "y3"
        },
        {
         "customdata": [
          "United States"
         ],
         "hovertemplate": "Country = %{customdata}<br>Average Valence = %{y}<br>GDP Per Capita = %{x}<extra></extra>",
         "showlegend": false,
         "type": "scatter",
         "x": [
          0
         ],
         "xaxis": "x3",
         "y": [
          0.42652750000000006
         ],
         "yaxis": "y3"
        },
        {
         "customdata": [
          "Viet Nam"
         ],
         "hovertemplate": "Country = %{customdata}<br>Average Valence = %{y}<br>GDP Per Capita = %{x}<extra></extra>",
         "showlegend": false,
         "type": "scatter",
         "x": [
          2085
         ],
         "xaxis": "x3",
         "y": [
          0.41727684210526317
         ],
         "yaxis": "y3"
        },
        {
         "customdata": [
          "South Africa"
         ],
         "hovertemplate": "Country = %{customdata}<br>Average Valence = %{y}<br>GDP Per Capita = %{x}<extra></extra>",
         "showlegend": false,
         "type": "scatter",
         "x": [
          5731
         ],
         "xaxis": "x3",
         "y": [
          0.45471557788944694
         ],
         "yaxis": "y3"
        },
        {
         "customdata": [
          "United Arab Emirates"
         ],
         "hovertemplate": "Country = %{customdata}<br>Average Valence = %{y}<br>GDP Per Capita = %{x}<extra></extra>",
         "showlegend": false,
         "type": "scatter",
         "x": [
          40645
         ],
         "xaxis": "x4",
         "y": [
          0.4634030612244895
         ],
         "yaxis": "y4"
        },
        {
         "customdata": [
          "Argentina"
         ],
         "hovertemplate": "Country = %{customdata}<br>Average Valence = %{y}<br>GDP Per Capita = %{x}<extra></extra>",
         "showlegend": false,
         "type": "scatter",
         "x": [
          14628
         ],
         "xaxis": "x4",
         "y": [
          0.64664
         ],
         "yaxis": "y4"
        },
        {
         "customdata": [
          "Australia"
         ],
         "hovertemplate": "Country = %{customdata}<br>Average Valence = %{y}<br>GDP Per Capita = %{x}<extra></extra>",
         "showlegend": false,
         "type": "scatter",
         "x": [
          57629
         ],
         "xaxis": "x4",
         "y": [
          0.4890126262626256
         ],
         "yaxis": "y4"
        },
        {
         "customdata": [
          "Austria"
         ],
         "hovertemplate": "Country = %{customdata}<br>Average Valence = %{y}<br>GDP Per Capita = %{x}<extra></extra>",
         "showlegend": false,
         "type": "scatter",
         "x": [
          47306
         ],
         "xaxis": "x4",
         "y": [
          0.5029668367346937
         ],
         "yaxis": "y4"
        },
        {
         "customdata": [
          "Belgium"
         ],
         "hovertemplate": "Country = %{customdata}<br>Average Valence = %{y}<br>GDP Per Capita = %{x}<extra></extra>",
         "showlegend": false,
         "type": "scatter",
         "x": [
          44020
         ],
         "xaxis": "x4",
         "y": [
          0.4891540404040405
         ],
         "yaxis": "y4"
        },
        {
         "customdata": [
          "Bulgaria"
         ],
         "hovertemplate": "Country = %{customdata}<br>Average Valence = %{y}<br>GDP Per Capita = %{x}<extra></extra>",
         "showlegend": false,
         "type": "scatter",
         "x": [
          54404
         ],
         "xaxis": "x4",
         "y": [
          0.4962743718592959
         ],
         "yaxis": "y4"
        },
        {
         "customdata": [
          "Bolivia, Plurinational State of"
         ],
         "hovertemplate": "Country = %{customdata}<br>Average Valence = %{y}<br>GDP Per Capita = %{x}<extra></extra>",
         "showlegend": false,
         "type": "scatter",
         "x": [
          0
         ],
         "xaxis": "x4",
         "y": [
          0.6456639999999997
         ],
         "yaxis": "y4"
        },
        {
         "customdata": [
          "Brazil"
         ],
         "hovertemplate": "Country = %{customdata}<br>Average Valence = %{y}<br>GDP Per Capita = %{x}<extra></extra>",
         "showlegend": false,
         "type": "scatter",
         "x": [
          9925
         ],
         "xaxis": "x4",
         "y": [
          0.6444939698492458
         ],
         "yaxis": "y4"
        },
        {
         "customdata": [
          "Canada"
         ],
         "hovertemplate": "Country = %{customdata}<br>Average Valence = %{y}<br>GDP Per Capita = %{x}<extra></extra>",
         "showlegend": false,
         "type": "scatter",
         "x": [
          44907
         ],
         "xaxis": "x4",
         "y": [
          0.46791161616161603
         ],
         "yaxis": "y4"
        },
        {
         "customdata": [
          "Switzerland"
         ],
         "hovertemplate": "Country = %{customdata}<br>Average Valence = %{y}<br>GDP Per Capita = %{x}<extra></extra>",
         "showlegend": false,
         "type": "scatter",
         "x": [
          83313
         ],
         "xaxis": "x4",
         "y": [
          0.4889085858585859
         ],
         "yaxis": "y4"
        },
        {
         "customdata": [
          "Chile"
         ],
         "hovertemplate": "Country = %{customdata}<br>Average Valence = %{y}<br>GDP Per Capita = %{x}<extra></extra>",
         "showlegend": false,
         "type": "scatter",
         "x": [
          14999
         ],
         "xaxis": "x4",
         "y": [
          0.6255939999999997
         ],
         "yaxis": "y4"
        },
        {
         "customdata": [
          "Colombia"
         ],
         "hovertemplate": "Country = %{customdata}<br>Average Valence = %{y}<br>GDP Per Capita = %{x}<extra></extra>",
         "showlegend": false,
         "type": "scatter",
         "x": [
          6377
         ],
         "xaxis": "x4",
         "y": [
          0.6539336683417084
         ],
         "yaxis": "y4"
        },
        {
         "customdata": [
          "Costa Rica"
         ],
         "hovertemplate": "Country = %{customdata}<br>Average Valence = %{y}<br>GDP Per Capita = %{x}<extra></extra>",
         "showlegend": false,
         "type": "scatter",
         "x": [
          59306
         ],
         "xaxis": "x4",
         "y": [
          0.6158339999999997
         ],
         "yaxis": "y4"
        },
        {
         "customdata": [
          "Cyprus"
         ],
         "hovertemplate": "Country = %{customdata}<br>Average Valence = %{y}<br>GDP Per Capita = %{x}<extra></extra>",
         "showlegend": false,
         "type": "scatter",
         "x": [
          22025
         ],
         "xaxis": "x4",
         "y": [
          0.47155505050505037
         ],
         "yaxis": "y4"
        },
        {
         "customdata": [
          "Czechia"
         ],
         "hovertemplate": "Country = %{customdata}<br>Average Valence = %{y}<br>GDP Per Capita = %{x}<extra></extra>",
         "showlegend": false,
         "type": "scatter",
         "x": [
          0
         ],
         "xaxis": "x4",
         "y": [
          0.4550456852791879
         ],
         "yaxis": "y4"
        },
        {
         "customdata": [
          "Germany"
         ],
         "hovertemplate": "Country = %{customdata}<br>Average Valence = %{y}<br>GDP Per Capita = %{x}<extra></extra>",
         "showlegend": false,
         "type": "scatter",
         "x": [
          44552
         ],
         "xaxis": "x4",
         "y": [
          0.4922701015228428
         ],
         "yaxis": "y4"
        },
        {
         "customdata": [
          "Denmark"
         ],
         "hovertemplate": "Country = %{customdata}<br>Average Valence = %{y}<br>GDP Per Capita = %{x}<extra></extra>",
         "showlegend": false,
         "type": "scatter",
         "x": [
          57939
         ],
         "xaxis": "x4",
         "y": [
          0.47821979695431477
         ],
         "yaxis": "y4"
        },
        {
         "customdata": [
          "Dominican Republic"
         ],
         "hovertemplate": "Country = %{customdata}<br>Average Valence = %{y}<br>GDP Per Capita = %{x}<extra></extra>",
         "showlegend": false,
         "type": "scatter",
         "x": [
          79435
         ],
         "xaxis": "x4",
         "y": [
          0.6172477386934674
         ],
         "yaxis": "y4"
        },
        {
         "customdata": [
          "Ecuador"
         ],
         "hovertemplate": "Country = %{customdata}<br>Average Valence = %{y}<br>GDP Per Capita = %{x}<extra></extra>",
         "showlegend": false,
         "type": "scatter",
         "x": [
          6214
         ],
         "xaxis": "x4",
         "y": [
          0.6470639999999998
         ],
         "yaxis": "y4"
        },
        {
         "customdata": [
          "Egypt"
         ],
         "hovertemplate": "Country = %{customdata}<br>Average Valence = %{y}<br>GDP Per Capita = %{x}<extra></extra>",
         "showlegend": false,
         "type": "scatter",
         "x": [
          2023
         ],
         "xaxis": "x4",
         "y": [
          0.5089211956521739
         ],
         "yaxis": "y4"
        },
        {
         "customdata": [
          "Spain"
         ],
         "hovertemplate": "Country = %{customdata}<br>Average Valence = %{y}<br>GDP Per Capita = %{x}<extra></extra>",
         "showlegend": false,
         "type": "scatter",
         "x": [
          28137
         ],
         "xaxis": "x4",
         "y": [
          0.6228064999999999
         ],
         "yaxis": "y4"
        },
        {
         "customdata": [
          "Estonia"
         ],
         "hovertemplate": "Country = %{customdata}<br>Average Valence = %{y}<br>GDP Per Capita = %{x}<extra></extra>",
         "showlegend": false,
         "type": "scatter",
         "x": [
          25092
         ],
         "xaxis": "x4",
         "y": [
          0.46908080808080793
         ],
         "yaxis": "y4"
        },
        {
         "customdata": [
          "Finland"
         ],
         "hovertemplate": "Country = %{customdata}<br>Average Valence = %{y}<br>GDP Per Capita = %{x}<extra></extra>",
         "showlegend": false,
         "type": "scatter",
         "x": [
          46310
         ],
         "xaxis": "x4",
         "y": [
          0.48384365482233493
         ],
         "yaxis": "y4"
        },
        {
         "customdata": [
          "France"
         ],
         "hovertemplate": "Country = %{customdata}<br>Average Valence = %{y}<br>GDP Per Capita = %{x}<extra></extra>",
         "showlegend": false,
         "type": "scatter",
         "x": [
          38721
         ],
         "xaxis": "x4",
         "y": [
          0.5125808080808082
         ],
         "yaxis": "y4"
        },
        {
         "customdata": [
          "United Kingdom"
         ],
         "hovertemplate": "Country = %{customdata}<br>Average Valence = %{y}<br>GDP Per Capita = %{x}<extra></extra>",
         "showlegend": false,
         "type": "scatter",
         "x": [
          39901
         ],
         "xaxis": "x4",
         "y": [
          0.483554314720812
         ],
         "yaxis": "y4"
        },
        {
         "customdata": [
          "Greece"
         ],
         "hovertemplate": "Country = %{customdata}<br>Average Valence = %{y}<br>GDP Per Capita = %{x}<extra></extra>",
         "showlegend": false,
         "type": "scatter",
         "x": [
          18934
         ],
         "xaxis": "x4",
         "y": [
          0.4679059999999998
         ],
         "yaxis": "y4"
        },
        {
         "customdata": [
          "Guatemala"
         ],
         "hovertemplate": "Country = %{customdata}<br>Average Valence = %{y}<br>GDP Per Capita = %{x}<extra></extra>",
         "showlegend": false,
         "type": "scatter",
         "x": [
          65782
         ],
         "xaxis": "x4",
         "y": [
          0.6258364999999998
         ],
         "yaxis": "y4"
        },
        {
         "customdata": [
          "Hong Kong"
         ],
         "hovertemplate": "Country = %{customdata}<br>Average Valence = %{y}<br>GDP Per Capita = %{x}<extra></extra>",
         "showlegend": false,
         "type": "scatter",
         "x": [
          0
         ],
         "xaxis": "x4",
         "y": [
          0.4274333333333334
         ],
         "yaxis": "y4"
        },
        {
         "customdata": [
          "Honduras"
         ],
         "hovertemplate": "Country = %{customdata}<br>Average Valence = %{y}<br>GDP Per Capita = %{x}<extra></extra>",
         "showlegend": false,
         "type": "scatter",
         "x": [
          22852
         ],
         "xaxis": "x4",
         "y": [
          0.6141989999999997
         ],
         "yaxis": "y4"
        },
        {
         "customdata": [
          "Hungary"
         ],
         "hovertemplate": "Country = %{customdata}<br>Average Valence = %{y}<br>GDP Per Capita = %{x}<extra></extra>",
         "showlegend": false,
         "type": "scatter",
         "x": [
          14693
         ],
         "xaxis": "x4",
         "y": [
          0.48425656565656544
         ],
         "yaxis": "y4"
        },
        {
         "customdata": [
          "Indonesia"
         ],
         "hovertemplate": "Country = %{customdata}<br>Average Valence = %{y}<br>GDP Per Capita = %{x}<extra></extra>",
         "showlegend": false,
         "type": "scatter",
         "x": [
          3838
         ],
         "xaxis": "x4",
         "y": [
          0.4329621212121211
         ],
         "yaxis": "y4"
        },
        {
         "customdata": [
          "India"
         ],
         "hovertemplate": "Country = %{customdata}<br>Average Valence = %{y}<br>GDP Per Capita = %{x}<extra></extra>",
         "showlegend": false,
         "type": "scatter",
         "x": [
          1961
         ],
         "xaxis": "x4",
         "y": [
          0.4974029940119758
         ],
         "yaxis": "y4"
        },
        {
         "customdata": [
          "Ireland"
         ],
         "hovertemplate": "Country = %{customdata}<br>Average Valence = %{y}<br>GDP Per Capita = %{x}<extra></extra>",
         "showlegend": false,
         "type": "scatter",
         "x": [
          71391
         ],
         "xaxis": "x4",
         "y": [
          0.4721817258883247
         ],
         "yaxis": "y4"
        },
        {
         "customdata": [
          "Iceland"
         ],
         "hovertemplate": "Country = %{customdata}<br>Average Valence = %{y}<br>GDP Per Capita = %{x}<extra></extra>",
         "showlegend": false,
         "type": "scatter",
         "x": [
          19384
         ],
         "xaxis": "x4",
         "y": [
          0.4873484536082475
         ],
         "yaxis": "y4"
        },
        {
         "customdata": [
          "Israel"
         ],
         "hovertemplate": "Country = %{customdata}<br>Average Valence = %{y}<br>GDP Per Capita = %{x}<extra></extra>",
         "showlegend": false,
         "type": "scatter",
         "x": [
          42851
         ],
         "xaxis": "x4",
         "y": [
          0.45267135678391973
         ],
         "yaxis": "y4"
        },
        {
         "customdata": [
          "Italy"
         ],
         "hovertemplate": "Country = %{customdata}<br>Average Valence = %{y}<br>GDP Per Capita = %{x}<extra></extra>",
         "showlegend": false,
         "type": "scatter",
         "x": [
          32334
         ],
         "xaxis": "x4",
         "y": [
          0.4898724999999999
         ],
         "yaxis": "y4"
        },
        {
         "customdata": [
          "Japan"
         ],
         "hovertemplate": "Country = %{customdata}<br>Average Valence = %{y}<br>GDP Per Capita = %{x}<extra></extra>",
         "showlegend": false,
         "type": "scatter",
         "x": [
          38171
         ],
         "xaxis": "x4",
         "y": [
          0.5609238341968914
         ],
         "yaxis": "y4"
        },
        {
         "customdata": [
          "Lithuania"
         ],
         "hovertemplate": "Country = %{customdata}<br>Average Valence = %{y}<br>GDP Per Capita = %{x}<extra></extra>",
         "showlegend": false,
         "type": "scatter",
         "x": [
          44281
         ],
         "xaxis": "x4",
         "y": [
          0.45746616161616155
         ],
         "yaxis": "y4"
        },
        {
         "customdata": [
          "Luxembourg"
         ],
         "hovertemplate": "Country = %{customdata}<br>Average Valence = %{y}<br>GDP Per Capita = %{x}<extra></extra>",
         "showlegend": false,
         "type": "scatter",
         "x": [
          61474
         ],
         "xaxis": "x4",
         "y": [
          0.48650757575757547
         ],
         "yaxis": "y4"
        },
        {
         "customdata": [
          "Latvia"
         ],
         "hovertemplate": "Country = %{customdata}<br>Average Valence = %{y}<br>GDP Per Capita = %{x}<extra></extra>",
         "showlegend": false,
         "type": "scatter",
         "x": [
          28793
         ],
         "xaxis": "x4",
         "y": [
          0.45617085427135673
         ],
         "yaxis": "y4"
        },
        {
         "customdata": [
          "Morocco"
         ],
         "hovertemplate": "Country = %{customdata}<br>Average Valence = %{y}<br>GDP Per Capita = %{x}<extra></extra>",
         "showlegend": false,
         "type": "scatter",
         "x": [
          3083
         ],
         "xaxis": "x4",
         "y": [
          0.5180050251256282
         ],
         "yaxis": "y4"
        },
        {
         "customdata": [
          "Mexico"
         ],
         "hovertemplate": "Country = %{customdata}<br>Average Valence = %{y}<br>GDP Per Capita = %{x}<extra></extra>",
         "showlegend": false,
         "type": "scatter",
         "x": [
          9278
         ],
         "xaxis": "x4",
         "y": [
          0.637784
         ],
         "yaxis": "y4"
        },
        {
         "customdata": [
          "Malaysia"
         ],
         "hovertemplate": "Country = %{customdata}<br>Average Valence = %{y}<br>GDP Per Capita = %{x}<extra></extra>",
         "showlegend": false,
         "type": "scatter",
         "x": [
          10259
         ],
         "xaxis": "x4",
         "y": [
          0.4338117346938775
         ],
         "yaxis": "y4"
        },
        {
         "customdata": [
          "Nicaragua"
         ],
         "hovertemplate": "Country = %{customdata}<br>Average Valence = %{y}<br>GDP Per Capita = %{x}<extra></extra>",
         "showlegend": false,
         "type": "scatter",
         "x": [
          13957
         ],
         "xaxis": "x4",
         "y": [
          0.6190665
         ],
         "yaxis": "y4"
        },
        {
         "customdata": [
          "Netherlands"
         ],
         "hovertemplate": "Country = %{customdata}<br>Average Valence = %{y}<br>GDP Per Capita = %{x}<extra></extra>",
         "showlegend": false,
         "type": "scatter",
         "x": [
          48990
         ],
         "xaxis": "x4",
         "y": [
          0.509348730964467
         ],
         "yaxis": "y4"
        },
        {
         "customdata": [
          "Norway"
         ],
         "hovertemplate": "Country = %{customdata}<br>Average Valence = %{y}<br>GDP Per Capita = %{x}<extra></extra>",
         "showlegend": false,
         "type": "scatter",
         "x": [
          75221
         ],
         "xaxis": "x4",
         "y": [
          0.4378282828282829
         ],
         "yaxis": "y4"
        },
        {
         "customdata": [
          "New Zealand"
         ],
         "hovertemplate": "Country = %{customdata}<br>Average Valence = %{y}<br>GDP Per Capita = %{x}<extra></extra>",
         "showlegend": false,
         "type": "scatter",
         "x": [
          43687
         ],
         "xaxis": "x4",
         "y": [
          0.5038964646464642
         ],
         "yaxis": "y4"
        },
        {
         "customdata": [
          "Panama"
         ],
         "hovertemplate": "Country = %{customdata}<br>Average Valence = %{y}<br>GDP Per Capita = %{x}<extra></extra>",
         "showlegend": false,
         "type": "scatter",
         "x": [
          59945
         ],
         "xaxis": "x4",
         "y": [
          0.6338206030150756
         ],
         "yaxis": "y4"
        },
        {
         "customdata": [
          "Peru"
         ],
         "hovertemplate": "Country = %{customdata}<br>Average Valence = %{y}<br>GDP Per Capita = %{x}<extra></extra>",
         "showlegend": false,
         "type": "scatter",
         "x": [
          6711
         ],
         "xaxis": "x4",
         "y": [
          0.6609289999999999
         ],
         "yaxis": "y4"
        },
        {
         "customdata": [
          "Philippines"
         ],
         "hovertemplate": "Country = %{customdata}<br>Average Valence = %{y}<br>GDP Per Capita = %{x}<extra></extra>",
         "showlegend": false,
         "type": "scatter",
         "x": [
          2982
         ],
         "xaxis": "x4",
         "y": [
          0.4315954545454546
         ],
         "yaxis": "y4"
        },
        {
         "customdata": [
          "Poland"
         ],
         "hovertemplate": "Country = %{customdata}<br>Average Valence = %{y}<br>GDP Per Capita = %{x}<extra></extra>",
         "showlegend": false,
         "type": "scatter",
         "x": [
          13872
         ],
         "xaxis": "x4",
         "y": [
          0.5076964824120604
         ],
         "yaxis": "y4"
        },
        {
         "customdata": [
          "Portugal"
         ],
         "hovertemplate": "Country = %{customdata}<br>Average Valence = %{y}<br>GDP Per Capita = %{x}<extra></extra>",
         "showlegend": false,
         "type": "scatter",
         "x": [
          21515
         ],
         "xaxis": "x4",
         "y": [
          0.46616767676767645
         ],
         "yaxis": "y4"
        },
        {
         "customdata": [
          "Paraguay"
         ],
         "hovertemplate": "Country = %{customdata}<br>Average Valence = %{y}<br>GDP Per Capita = %{x}<extra></extra>",
         "showlegend": false,
         "type": "scatter",
         "x": [
          39593
         ],
         "xaxis": "x4",
         "y": [
          0.6508889999999997
         ],
         "yaxis": "y4"
        },
        {
         "customdata": [
          "Romania"
         ],
         "hovertemplate": "Country = %{customdata}<br>Average Valence = %{y}<br>GDP Per Capita = %{x}<extra></extra>",
         "showlegend": false,
         "type": "scatter",
         "x": [
          10771
         ],
         "xaxis": "x4",
         "y": [
          0.47134213197969543
         ],
         "yaxis": "y4"
        },
        {
         "customdata": [
          "Saudi Arabia"
         ],
         "hovertemplate": "Country = %{customdata}<br>Average Valence = %{y}<br>GDP Per Capita = %{x}<extra></extra>",
         "showlegend": false,
         "type": "scatter",
         "x": [
          20802
         ],
         "xaxis": "x4",
         "y": [
          0.5036471794871795
         ],
         "yaxis": "y4"
        },
        {
         "customdata": [
          "Singapore"
         ],
         "hovertemplate": "Country = %{customdata}<br>Average Valence = %{y}<br>GDP Per Capita = %{x}<extra></extra>",
         "showlegend": false,
         "type": "scatter",
         "x": [
          59890
         ],
         "xaxis": "x4",
         "y": [
          0.4193257575757574
         ],
         "yaxis": "y4"
        },
        {
         "customdata": [
          "El Salvador"
         ],
         "hovertemplate": "Country = %{customdata}<br>Average Valence = %{y}<br>GDP Per Capita = %{x}<extra></extra>",
         "showlegend": false,
         "type": "scatter",
         "x": [
          24574
         ],
         "xaxis": "x4",
         "y": [
          0.6198565
         ],
         "yaxis": "y4"
        },
        {
         "customdata": [
          "Slovakia"
         ],
         "hovertemplate": "Country = %{customdata}<br>Average Valence = %{y}<br>GDP Per Capita = %{x}<extra></extra>",
         "showlegend": false,
         "type": "scatter",
         "x": [
          93104
         ],
         "xaxis": "x4",
         "y": [
          0.44083061224489783
         ],
         "yaxis": "y4"
        },
        {
         "customdata": [
          "Sweden"
         ],
         "hovertemplate": "Country = %{customdata}<br>Average Valence = %{y}<br>GDP Per Capita = %{x}<extra></extra>",
         "showlegend": false,
         "type": "scatter",
         "x": [
          54621
         ],
         "xaxis": "x4",
         "y": [
          0.4609084656084656
         ],
         "yaxis": "y4"
        },
        {
         "customdata": [
          "Thailand"
         ],
         "hovertemplate": "Country = %{customdata}<br>Average Valence = %{y}<br>GDP Per Capita = %{x}<extra></extra>",
         "showlegend": false,
         "type": "scatter",
         "x": [
          6578
         ],
         "xaxis": "x4",
         "y": [
          0.5040738461538459
         ],
         "yaxis": "y4"
        },
        {
         "customdata": [
          "Turkey"
         ],
         "hovertemplate": "Country = %{customdata}<br>Average Valence = %{y}<br>GDP Per Capita = %{x}<extra></extra>",
         "showlegend": false,
         "type": "scatter",
         "x": [
          10590
         ],
         "xaxis": "x4",
         "y": [
          0.45586149732620307
         ],
         "yaxis": "y4"
        },
        {
         "customdata": [
          "Taiwan, Province of China"
         ],
         "hovertemplate": "Country = %{customdata}<br>Average Valence = %{y}<br>GDP Per Capita = %{x}<extra></extra>",
         "showlegend": false,
         "type": "scatter",
         "x": [
          0
         ],
         "xaxis": "x4",
         "y": [
          0.4113367875647667
         ],
         "yaxis": "y4"
        },
        {
         "customdata": [
          "Ukraine"
         ],
         "hovertemplate": "Country = %{customdata}<br>Average Valence = %{y}<br>GDP Per Capita = %{x}<extra></extra>",
         "showlegend": false,
         "type": "scatter",
         "x": [
          95553
         ],
         "xaxis": "x4",
         "y": [
          0.45255427135678405
         ],
         "yaxis": "y4"
        },
        {
         "customdata": [
          "Uruguay"
         ],
         "hovertemplate": "Country = %{customdata}<br>Average Valence = %{y}<br>GDP Per Capita = %{x}<extra></extra>",
         "showlegend": false,
         "type": "scatter",
         "x": [
          55578
         ],
         "xaxis": "x4",
         "y": [
          0.6644964102564104
         ],
         "yaxis": "y4"
        },
        {
         "customdata": [
          "United States"
         ],
         "hovertemplate": "Country = %{customdata}<br>Average Valence = %{y}<br>GDP Per Capita = %{x}<extra></extra>",
         "showlegend": false,
         "type": "scatter",
         "x": [
          0
         ],
         "xaxis": "x4",
         "y": [
          0.4513592964824119
         ],
         "yaxis": "y4"
        },
        {
         "customdata": [
          "Viet Nam"
         ],
         "hovertemplate": "Country = %{customdata}<br>Average Valence = %{y}<br>GDP Per Capita = %{x}<extra></extra>",
         "showlegend": false,
         "type": "scatter",
         "x": [
          2366
         ],
         "xaxis": "x4",
         "y": [
          0.4384594871794869
         ],
         "yaxis": "y4"
        },
        {
         "customdata": [
          "South Africa"
         ],
         "hovertemplate": "Country = %{customdata}<br>Average Valence = %{y}<br>GDP Per Capita = %{x}<extra></extra>",
         "showlegend": false,
         "type": "scatter",
         "x": [
          6122
         ],
         "xaxis": "x4",
         "y": [
          0.4755398989898988
         ],
         "yaxis": "y4"
        },
        {
         "customdata": [
          "United Arab Emirates"
         ],
         "hovertemplate": "Country = %{customdata}<br>Average Valence = %{y}<br>GDP Per Capita = %{x}<extra></extra>",
         "showlegend": false,
         "type": "scatter",
         "x": [
          43839
         ],
         "xaxis": "x5",
         "y": [
          0.4967844221105527
         ],
         "yaxis": "y5"
        },
        {
         "customdata": [
          "Argentina"
         ],
         "hovertemplate": "Country = %{customdata}<br>Average Valence = %{y}<br>GDP Per Capita = %{x}<extra></extra>",
         "showlegend": false,
         "type": "scatter",
         "x": [
          11719
         ],
         "xaxis": "x5",
         "y": [
          0.6672142857142859
         ],
         "yaxis": "y5"
        },
        {
         "customdata": [
          "Australia"
         ],
         "hovertemplate": "Country = %{customdata}<br>Average Valence = %{y}<br>GDP Per Capita = %{x}<extra></extra>",
         "showlegend": false,
         "type": "scatter",
         "x": [
          58597
         ],
         "xaxis": "x5",
         "y": [
          0.5271713567839194
         ],
         "yaxis": "y5"
        },
        {
         "customdata": [
          "Austria"
         ],
         "hovertemplate": "Country = %{customdata}<br>Average Valence = %{y}<br>GDP Per Capita = %{x}<extra></extra>",
         "showlegend": false,
         "type": "scatter",
         "x": [
          51184
         ],
         "xaxis": "x5",
         "y": [
          0.501463131313131
         ],
         "yaxis": "y5"
        },
        {
         "customdata": [
          "Belgium"
         ],
         "hovertemplate": "Country = %{customdata}<br>Average Valence = %{y}<br>GDP Per Capita = %{x}<extra></extra>",
         "showlegend": false,
         "type": "scatter",
         "x": [
          47355
         ],
         "xaxis": "x5",
         "y": [
          0.49730449999999976
         ],
         "yaxis": "y5"
        },
        {
         "customdata": [
          "Bulgaria"
         ],
         "hovertemplate": "Country = %{customdata}<br>Average Valence = %{y}<br>GDP Per Capita = %{x}<extra></extra>",
         "showlegend": false,
         "type": "scatter",
         "x": [
          56082
         ],
         "xaxis": "x5",
         "y": [
          0.5191194999999995
         ],
         "yaxis": "y5"
        },
        {
         "customdata": [
          "Bolivia, Plurinational State of"
         ],
         "hovertemplate": "Country = %{customdata}<br>Average Valence = %{y}<br>GDP Per Capita = %{x}<extra></extra>",
         "showlegend": false,
         "type": "scatter",
         "x": [
          0
         ],
         "xaxis": "x5",
         "y": [
          0.6322560606060607
         ],
         "yaxis": "y5"
        },
        {
         "customdata": [
          "Brazil"
         ],
         "hovertemplate": "Country = %{customdata}<br>Average Valence = %{y}<br>GDP Per Capita = %{x}<extra></extra>",
         "showlegend": false,
         "type": "scatter",
         "x": [
          9001
         ],
         "xaxis": "x5",
         "y": [
          0.6881616161616162
         ],
         "yaxis": "y5"
        },
        {
         "customdata": [
          "Canada"
         ],
         "hovertemplate": "Country = %{customdata}<br>Average Valence = %{y}<br>GDP Per Capita = %{x}<extra></extra>",
         "showlegend": false,
         "type": "scatter",
         "x": [
          46444
         ],
         "xaxis": "x5",
         "y": [
          0.48437461928934006
         ],
         "yaxis": "y5"
        },
        {
         "customdata": [
          "Switzerland"
         ],
         "hovertemplate": "Country = %{customdata}<br>Average Valence = %{y}<br>GDP Per Capita = %{x}<extra></extra>",
         "showlegend": false,
         "type": "scatter",
         "x": [
          86315
         ],
         "xaxis": "x5",
         "y": [
          0.49634449999999986
         ],
         "yaxis": "y5"
        },
        {
         "customdata": [
          "Chile"
         ],
         "hovertemplate": "Country = %{customdata}<br>Average Valence = %{y}<br>GDP Per Capita = %{x}<extra></extra>",
         "showlegend": false,
         "type": "scatter",
         "x": [
          15925
         ],
         "xaxis": "x5",
         "y": [
          0.6317717171717171
         ],
         "yaxis": "y5"
        },
        {
         "customdata": [
          "Colombia"
         ],
         "hovertemplate": "Country = %{customdata}<br>Average Valence = %{y}<br>GDP Per Capita = %{x}<extra></extra>",
         "showlegend": false,
         "type": "scatter",
         "x": [
          6717
         ],
         "xaxis": "x5",
         "y": [
          0.6719949494949495
         ],
         "yaxis": "y5"
        },
        {
         "customdata": [
          "Costa Rica"
         ],
         "hovertemplate": "Country = %{customdata}<br>Average Valence = %{y}<br>GDP Per Capita = %{x}<extra></extra>",
         "showlegend": false,
         "type": "scatter",
         "x": [
          60884
         ],
         "xaxis": "x5",
         "y": [
          0.633478787878788
         ],
         "yaxis": "y5"
        },
        {
         "customdata": [
          "Cyprus"
         ],
         "hovertemplate": "Country = %{customdata}<br>Average Valence = %{y}<br>GDP Per Capita = %{x}<extra></extra>",
         "showlegend": false,
         "type": "scatter",
         "x": [
          22919
         ],
         "xaxis": "x5",
         "y": [
          0.4826654999999997
         ],
         "yaxis": "y5"
        },
        {
         "customdata": [
          "Czechia"
         ],
         "hovertemplate": "Country = %{customdata}<br>Average Valence = %{y}<br>GDP Per Capita = %{x}<extra></extra>",
         "showlegend": false,
         "type": "scatter",
         "x": [
          0
         ],
         "xaxis": "x5",
         "y": [
          0.4815261306532665
         ],
         "yaxis": "y5"
        },
        {
         "customdata": [
          "Germany"
         ],
         "hovertemplate": "Country = %{customdata}<br>Average Valence = %{y}<br>GDP Per Capita = %{x}<extra></extra>",
         "showlegend": false,
         "type": "scatter",
         "x": [
          47685
         ],
         "xaxis": "x5",
         "y": [
          0.4971872448979594
         ],
         "yaxis": "y5"
        },
        {
         "customdata": [
          "Denmark"
         ],
         "hovertemplate": "Country = %{customdata}<br>Average Valence = %{y}<br>GDP Per Capita = %{x}<extra></extra>",
         "showlegend": false,
         "type": "scatter",
         "x": [
          62043
         ],
         "xaxis": "x5",
         "y": [
          0.5082919597989951
         ],
         "yaxis": "y5"
        },
        {
         "customdata": [
          "Dominican Republic"
         ],
         "hovertemplate": "Country = %{customdata}<br>Average Valence = %{y}<br>GDP Per Capita = %{x}<extra></extra>",
         "showlegend": false,
         "type": "scatter",
         "x": [
          84982
         ],
         "xaxis": "x5",
         "y": [
          0.6121532663316583
         ],
         "yaxis": "y5"
        },
        {
         "customdata": [
          "Ecuador"
         ],
         "hovertemplate": "Country = %{customdata}<br>Average Valence = %{y}<br>GDP Per Capita = %{x}<extra></extra>",
         "showlegend": false,
         "type": "scatter",
         "x": [
          6296
         ],
         "xaxis": "x5",
         "y": [
          0.6258510101010105
         ],
         "yaxis": "y5"
        },
        {
         "customdata": [
          "Egypt"
         ],
         "hovertemplate": "Country = %{customdata}<br>Average Valence = %{y}<br>GDP Per Capita = %{x}<extra></extra>",
         "showlegend": false,
         "type": "scatter",
         "x": [
          2538
         ],
         "xaxis": "x5",
         "y": [
          0.520162564102564
         ],
         "yaxis": "y5"
        },
        {
         "customdata": [
          "Spain"
         ],
         "hovertemplate": "Country = %{customdata}<br>Average Valence = %{y}<br>GDP Per Capita = %{x}<extra></extra>",
         "showlegend": false,
         "type": "scatter",
         "x": [
          30458
         ],
         "xaxis": "x5",
         "y": [
          0.6109883838383837
         ],
         "yaxis": "y5"
        },
        {
         "customdata": [
          "Estonia"
         ],
         "hovertemplate": "Country = %{customdata}<br>Average Valence = %{y}<br>GDP Per Capita = %{x}<extra></extra>",
         "showlegend": false,
         "type": "scatter",
         "x": [
          26184
         ],
         "xaxis": "x5",
         "y": [
          0.49825349999999985
         ],
         "yaxis": "y5"
        },
        {
         "customdata": [
          "Finland"
         ],
         "hovertemplate": "Country = %{customdata}<br>Average Valence = %{y}<br>GDP Per Capita = %{x}<extra></extra>",
         "showlegend": false,
         "type": "scatter",
         "x": [
          49967
         ],
         "xaxis": "x5",
         "y": [
          0.5016636363636364
         ],
         "yaxis": "y5"
        },
        {
         "customdata": [
          "France"
         ],
         "hovertemplate": "Country = %{customdata}<br>Average Valence = %{y}<br>GDP Per Capita = %{x}<extra></extra>",
         "showlegend": false,
         "type": "scatter",
         "x": [
          41492
         ],
         "xaxis": "x5",
         "y": [
          0.5377295918367351
         ],
         "yaxis": "y5"
        },
        {
         "customdata": [
          "United Kingdom"
         ],
         "hovertemplate": "Country = %{customdata}<br>Average Valence = %{y}<br>GDP Per Capita = %{x}<extra></extra>",
         "showlegend": false,
         "type": "scatter",
         "x": [
          42557
         ],
         "xaxis": "x5",
         "y": [
          0.5132139999999995
         ],
         "yaxis": "y5"
        },
        {
         "customdata": [
          "Greece"
         ],
         "hovertemplate": "Country = %{customdata}<br>Average Valence = %{y}<br>GDP Per Capita = %{x}<extra></extra>",
         "showlegend": false,
         "type": "scatter",
         "x": [
          20172
         ],
         "xaxis": "x5",
         "y": [
          0.48847749999999956
         ],
         "yaxis": "y5"
        },
        {
         "customdata": [
          "Guatemala"
         ],
         "hovertemplate": "Country = %{customdata}<br>Average Valence = %{y}<br>GDP Per Capita = %{x}<extra></extra>",
         "showlegend": false,
         "type": "scatter",
         "x": [
          67897
         ],
         "xaxis": "x5",
         "y": [
          0.646180808080808
         ],
         "yaxis": "y5"
        },
        {
         "customdata": [
          "Hong Kong"
         ],
         "hovertemplate": "Country = %{customdata}<br>Average Valence = %{y}<br>GDP Per Capita = %{x}<extra></extra>",
         "showlegend": false,
         "type": "scatter",
         "x": [
          0
         ],
         "xaxis": "x5",
         "y": [
          0.4394206030150751
         ],
         "yaxis": "y5"
        },
        {
         "customdata": [
          "Honduras"
         ],
         "hovertemplate": "Country = %{customdata}<br>Average Valence = %{y}<br>GDP Per Capita = %{x}<extra></extra>",
         "showlegend": false,
         "type": "scatter",
         "x": [
          23697
         ],
         "xaxis": "x5",
         "y": [
          0.6195782828282828
         ],
         "yaxis": "y5"
        },
        {
         "customdata": [
          "Hungary"
         ],
         "hovertemplate": "Country = %{customdata}<br>Average Valence = %{y}<br>GDP Per Capita = %{x}<extra></extra>",
         "showlegend": false,
         "type": "scatter",
         "x": [
          16525
         ],
         "xaxis": "x5",
         "y": [
          0.5099245
         ],
         "yaxis": "y5"
        },
        {
         "customdata": [
          "Indonesia"
         ],
         "hovertemplate": "Country = %{customdata}<br>Average Valence = %{y}<br>GDP Per Capita = %{x}<extra></extra>",
         "showlegend": false,
         "type": "scatter",
         "x": [
          3894
         ],
         "xaxis": "x5",
         "y": [
          0.42318484848484816
         ],
         "yaxis": "y5"
        },
        {
         "customdata": [
          "India"
         ],
         "hovertemplate": "Country = %{customdata}<br>Average Valence = %{y}<br>GDP Per Capita = %{x}<extra></extra>",
         "showlegend": false,
         "type": "scatter",
         "x": [
          2051
         ],
         "xaxis": "x5",
         "y": [
          0.5298668604651161
         ],
         "yaxis": "y5"
        },
        {
         "customdata": [
          "Ireland"
         ],
         "hovertemplate": "Country = %{customdata}<br>Average Valence = %{y}<br>GDP Per Capita = %{x}<extra></extra>",
         "showlegend": false,
         "type": "scatter",
         "x": [
          80137
         ],
         "xaxis": "x5",
         "y": [
          0.5082705
         ],
         "yaxis": "y5"
        },
        {
         "customdata": [
          "Iceland"
         ],
         "hovertemplate": "Country = %{customdata}<br>Average Valence = %{y}<br>GDP Per Capita = %{x}<extra></extra>",
         "showlegend": false,
         "type": "scatter",
         "x": [
          20124
         ],
         "xaxis": "x5",
         "y": [
          0.4507707070707072
         ],
         "yaxis": "y5"
        },
        {
         "customdata": [
          "Israel"
         ],
         "hovertemplate": "Country = %{customdata}<br>Average Valence = %{y}<br>GDP Per Capita = %{x}<extra></extra>",
         "showlegend": false,
         "type": "scatter",
         "x": [
          44215
         ],
         "xaxis": "x5",
         "y": [
          0.46432295918367356
         ],
         "yaxis": "y5"
        },
        {
         "customdata": [
          "Italy"
         ],
         "hovertemplate": "Country = %{customdata}<br>Average Valence = %{y}<br>GDP Per Capita = %{x}<extra></extra>",
         "showlegend": false,
         "type": "scatter",
         "x": [
          34498
         ],
         "xaxis": "x5",
         "y": [
          0.47781300000000015
         ],
         "yaxis": "y5"
        },
        {
         "customdata": [
          "Japan"
         ],
         "hovertemplate": "Country = %{customdata}<br>Average Valence = %{y}<br>GDP Per Capita = %{x}<extra></extra>",
         "showlegend": false,
         "type": "scatter",
         "x": [
          38952
         ],
         "xaxis": "x5",
         "y": [
          0.5643969999999998
         ],
         "yaxis": "y5"
        },
        {
         "customdata": [
          "Korea, Republic of"
         ],
         "hovertemplate": "Country = %{customdata}<br>Average Valence = %{y}<br>GDP Per Capita = %{x}<extra></extra>",
         "showlegend": false,
         "type": "scatter",
         "x": [
          0
         ],
         "xaxis": "x5",
         "y": [
          0.4998928934010157
         ],
         "yaxis": "y5"
        },
        {
         "customdata": [
          "Lithuania"
         ],
         "hovertemplate": "Country = %{customdata}<br>Average Valence = %{y}<br>GDP Per Capita = %{x}<extra></extra>",
         "showlegend": false,
         "type": "scatter",
         "x": [
          46024
         ],
         "xaxis": "x5",
         "y": [
          0.4984105527638191
         ],
         "yaxis": "y5"
        },
        {
         "customdata": [
          "Luxembourg"
         ],
         "hovertemplate": "Country = %{customdata}<br>Average Valence = %{y}<br>GDP Per Capita = %{x}<extra></extra>",
         "showlegend": false,
         "type": "scatter",
         "x": [
          63386
         ],
         "xaxis": "x5",
         "y": [
          0.4916944999999995
         ],
         "yaxis": "y5"
        },
        {
         "customdata": [
          "Latvia"
         ],
         "hovertemplate": "Country = %{customdata}<br>Average Valence = %{y}<br>GDP Per Capita = %{x}<extra></extra>",
         "showlegend": false,
         "type": "scatter",
         "x": [
          29951
         ],
         "xaxis": "x5",
         "y": [
          0.4693251256281409
         ],
         "yaxis": "y5"
        },
        {
         "customdata": [
          "Morocco"
         ],
         "hovertemplate": "Country = %{customdata}<br>Average Valence = %{y}<br>GDP Per Capita = %{x}<extra></extra>",
         "showlegend": false,
         "type": "scatter",
         "x": [
          3278
         ],
         "xaxis": "x5",
         "y": [
          0.5149225000000001
         ],
         "yaxis": "y5"
        },
        {
         "customdata": [
          "Mexico"
         ],
         "hovertemplate": "Country = %{customdata}<br>Average Valence = %{y}<br>GDP Per Capita = %{x}<extra></extra>",
         "showlegend": false,
         "type": "scatter",
         "x": [
          9673
         ],
         "xaxis": "x5",
         "y": [
          0.655661616161616
         ],
         "yaxis": "y5"
        },
        {
         "customdata": [
          "Malaysia"
         ],
         "hovertemplate": "Country = %{customdata}<br>Average Valence = %{y}<br>GDP Per Capita = %{x}<extra></extra>",
         "showlegend": false,
         "type": "scatter",
         "x": [
          11378
         ],
         "xaxis": "x5",
         "y": [
          0.4420944723618088
         ],
         "yaxis": "y5"
        },
        {
         "customdata": [
          "Nicaragua"
         ],
         "hovertemplate": "Country = %{customdata}<br>Average Valence = %{y}<br>GDP Per Capita = %{x}<extra></extra>",
         "showlegend": false,
         "type": "scatter",
         "x": [
          13405
         ],
         "xaxis": "x5",
         "y": [
          0.6341252525252526
         ],
         "yaxis": "y5"
        },
        {
         "customdata": [
          "Netherlands"
         ],
         "hovertemplate": "Country = %{customdata}<br>Average Valence = %{y}<br>GDP Per Capita = %{x}<extra></extra>",
         "showlegend": false,
         "type": "scatter",
         "x": [
          53580
         ],
         "xaxis": "x5",
         "y": [
          0.5129644999999999
         ],
         "yaxis": "y5"
        },
        {
         "customdata": [
          "Norway"
         ],
         "hovertemplate": "Country = %{customdata}<br>Average Valence = %{y}<br>GDP Per Capita = %{x}<extra></extra>",
         "showlegend": false,
         "type": "scatter",
         "x": [
          81336
         ],
         "xaxis": "x5",
         "y": [
          0.45186717171717167
         ],
         "yaxis": "y5"
        },
        {
         "customdata": [
          "New Zealand"
         ],
         "hovertemplate": "Country = %{customdata}<br>Average Valence = %{y}<br>GDP Per Capita = %{x}<extra></extra>",
         "showlegend": false,
         "type": "scatter",
         "x": [
          43836
         ],
         "xaxis": "x5",
         "y": [
          0.5607242424242426
         ],
         "yaxis": "y5"
        },
        {
         "customdata": [
          "Panama"
         ],
         "hovertemplate": "Country = %{customdata}<br>Average Valence = %{y}<br>GDP Per Capita = %{x}<extra></extra>",
         "showlegend": false,
         "type": "scatter",
         "x": [
          62102
         ],
         "xaxis": "x5",
         "y": [
          0.6059166666666669
         ],
         "yaxis": "y5"
        },
        {
         "customdata": [
          "Peru"
         ],
         "hovertemplate": "Country = %{customdata}<br>Average Valence = %{y}<br>GDP Per Capita = %{x}<extra></extra>",
         "showlegend": false,
         "type": "scatter",
         "x": [
          6941
         ],
         "xaxis": "x5",
         "y": [
          0.646843434343435
         ],
         "yaxis": "y5"
        },
        {
         "customdata": [
          "Philippines"
         ],
         "hovertemplate": "Country = %{customdata}<br>Average Valence = %{y}<br>GDP Per Capita = %{x}<extra></extra>",
         "showlegend": false,
         "type": "scatter",
         "x": [
          3103
         ],
         "xaxis": "x5",
         "y": [
          0.47133768844221113
         ],
         "yaxis": "y5"
        },
        {
         "customdata": [
          "Poland"
         ],
         "hovertemplate": "Country = %{customdata}<br>Average Valence = %{y}<br>GDP Per Capita = %{x}<extra></extra>",
         "showlegend": false,
         "type": "scatter",
         "x": [
          15490
         ],
         "xaxis": "x5",
         "y": [
          0.5176247474747475
         ],
         "yaxis": "y5"
        },
        {
         "customdata": [
          "Portugal"
         ],
         "hovertemplate": "Country = %{customdata}<br>Average Valence = %{y}<br>GDP Per Capita = %{x}<extra></extra>",
         "showlegend": false,
         "type": "scatter",
         "x": [
          23626
         ],
         "xaxis": "x5",
         "y": [
          0.49581616161616116
         ],
         "yaxis": "y5"
        },
        {
         "customdata": [
          "Paraguay"
         ],
         "hovertemplate": "Country = %{customdata}<br>Average Valence = %{y}<br>GDP Per Capita = %{x}<extra></extra>",
         "showlegend": false,
         "type": "scatter",
         "x": [
          40921
         ],
         "xaxis": "x5",
         "y": [
          0.6589646464646465
         ],
         "yaxis": "y5"
        },
        {
         "customdata": [
          "Romania"
         ],
         "hovertemplate": "Country = %{customdata}<br>Average Valence = %{y}<br>GDP Per Capita = %{x}<extra></extra>",
         "showlegend": false,
         "type": "scatter",
         "x": [
          12387
         ],
         "xaxis": "x5",
         "y": [
          0.5127656565656564
         ],
         "yaxis": "y5"
        },
        {
         "customdata": [
          "Saudi Arabia"
         ],
         "hovertemplate": "Country = %{customdata}<br>Average Valence = %{y}<br>GDP Per Capita = %{x}<extra></extra>",
         "showlegend": false,
         "type": "scatter",
         "x": [
          23337
         ],
         "xaxis": "x5",
         "y": [
          0.5516353535353534
         ],
         "yaxis": "y5"
        },
        {
         "customdata": [
          "Singapore"
         ],
         "hovertemplate": "Country = %{customdata}<br>Average Valence = %{y}<br>GDP Per Capita = %{x}<extra></extra>",
         "showlegend": false,
         "type": "scatter",
         "x": [
          64821
         ],
         "xaxis": "x5",
         "y": [
          0.4474286432160803
         ],
         "yaxis": "y5"
        },
        {
         "customdata": [
          "El Salvador"
         ],
         "hovertemplate": "Country = %{customdata}<br>Average Valence = %{y}<br>GDP Per Capita = %{x}<extra></extra>",
         "showlegend": false,
         "type": "scatter",
         "x": [
          25171
         ],
         "xaxis": "x5",
         "y": [
          0.6214122340425532
         ],
         "yaxis": "y5"
        },
        {
         "customdata": [
          "Slovakia"
         ],
         "hovertemplate": "Country = %{customdata}<br>Average Valence = %{y}<br>GDP Per Capita = %{x}<extra></extra>",
         "showlegend": false,
         "type": "scatter",
         "x": [
          96613
         ],
         "xaxis": "x5",
         "y": [
          0.4861311557788944
         ],
         "yaxis": "y5"
        },
        {
         "customdata": [
          "Sweden"
         ],
         "hovertemplate": "Country = %{customdata}<br>Average Valence = %{y}<br>GDP Per Capita = %{x}<extra></extra>",
         "showlegend": false,
         "type": "scatter",
         "x": [
          55704
         ],
         "xaxis": "x5",
         "y": [
          0.4815215384615385
         ],
         "yaxis": "y5"
        },
        {
         "customdata": [
          "Thailand"
         ],
         "hovertemplate": "Country = %{customdata}<br>Average Valence = %{y}<br>GDP Per Capita = %{x}<extra></extra>",
         "showlegend": false,
         "type": "scatter",
         "x": [
          7274
         ],
         "xaxis": "x5",
         "y": [
          0.5056185567010308
         ],
         "yaxis": "y5"
        },
        {
         "customdata": [
          "Turkey"
         ],
         "hovertemplate": "Country = %{customdata}<br>Average Valence = %{y}<br>GDP Per Capita = %{x}<extra></extra>",
         "showlegend": false,
         "type": "scatter",
         "x": [
          9453
         ],
         "xaxis": "x5",
         "y": [
          0.4819351758793971
         ],
         "yaxis": "y5"
        },
        {
         "customdata": [
          "Taiwan, Province of China"
         ],
         "hovertemplate": "Country = %{customdata}<br>Average Valence = %{y}<br>GDP Per Capita = %{x}<extra></extra>",
         "showlegend": false,
         "type": "scatter",
         "x": [
          0
         ],
         "xaxis": "x5",
         "y": [
          0.4184974358974359
         ],
         "yaxis": "y5"
        },
        {
         "customdata": [
          "Ukraine"
         ],
         "hovertemplate": "Country = %{customdata}<br>Average Valence = %{y}<br>GDP Per Capita = %{x}<extra></extra>",
         "showlegend": false,
         "type": "scatter",
         "x": [
          98807
         ],
         "xaxis": "x5",
         "y": [
          0.4772944162436546
         ],
         "yaxis": "y5"
        },
        {
         "customdata": [
          "Uruguay"
         ],
         "hovertemplate": "Country = %{customdata}<br>Average Valence = %{y}<br>GDP Per Capita = %{x}<extra></extra>",
         "showlegend": false,
         "type": "scatter",
         "x": [
          56479
         ],
         "xaxis": "x5",
         "y": [
          0.6687005076142134
         ],
         "yaxis": "y5"
        },
        {
         "customdata": [
          "United States"
         ],
         "hovertemplate": "Country = %{customdata}<br>Average Valence = %{y}<br>GDP Per Capita = %{x}<extra></extra>",
         "showlegend": false,
         "type": "scatter",
         "x": [
          0
         ],
         "xaxis": "x5",
         "y": [
          0.47951414141414106
         ],
         "yaxis": "y5"
        },
        {
         "customdata": [
          "Viet Nam"
         ],
         "hovertemplate": "Country = %{customdata}<br>Average Valence = %{y}<br>GDP Per Capita = %{x}<extra></extra>",
         "showlegend": false,
         "type": "scatter",
         "x": [
          2566
         ],
         "xaxis": "x5",
         "y": [
          0.443285
         ],
         "yaxis": "y5"
        },
        {
         "customdata": [
          "South Africa"
         ],
         "hovertemplate": "Country = %{customdata}<br>Average Valence = %{y}<br>GDP Per Capita = %{x}<extra></extra>",
         "showlegend": false,
         "type": "scatter",
         "x": [
          6369
         ],
         "xaxis": "x5",
         "y": [
          0.4908522613065324
         ],
         "yaxis": "y5"
        }
       ],
       "layout": {
        "annotations": [
         {
          "font": {
           "size": 16
          },
          "showarrow": false,
          "text": "2017 - Valence vs GDP/Cap",
          "x": 0.5,
          "xanchor": "center",
          "xref": "paper",
          "y": 0.9999999999999999,
          "yanchor": "bottom",
          "yref": "paper"
         },
         {
          "font": {
           "size": 16
          },
          "showarrow": false,
          "text": "2018 - Valence vs GDP/Cap",
          "x": 0.5,
          "xanchor": "center",
          "xref": "paper",
          "y": 0.7849999999999999,
          "yanchor": "bottom",
          "yref": "paper"
         },
         {
          "font": {
           "size": 16
          },
          "showarrow": false,
          "text": "2019 - Valence vs GDP/Cap",
          "x": 0.5,
          "xanchor": "center",
          "xref": "paper",
          "y": 0.57,
          "yanchor": "bottom",
          "yref": "paper"
         },
         {
          "font": {
           "size": 16
          },
          "showarrow": false,
          "text": "2020 - Valence vs GDP/Cap",
          "x": 0.5,
          "xanchor": "center",
          "xref": "paper",
          "y": 0.355,
          "yanchor": "bottom",
          "yref": "paper"
         },
         {
          "font": {
           "size": 16
          },
          "showarrow": false,
          "text": "2021 - Valence vs GDP/Cap",
          "x": 0.5,
          "xanchor": "center",
          "xref": "paper",
          "y": 0.13999999999999999,
          "yanchor": "bottom",
          "yref": "paper"
         }
        ],
        "height": 1200,
        "template": {
         "data": {
          "bar": [
           {
            "error_x": {
             "color": "#2a3f5f"
            },
            "error_y": {
             "color": "#2a3f5f"
            },
            "marker": {
             "line": {
              "color": "#E5ECF6",
              "width": 0.5
             },
             "pattern": {
              "fillmode": "overlay",
              "size": 10,
              "solidity": 0.2
             }
            },
            "type": "bar"
           }
          ],
          "barpolar": [
           {
            "marker": {
             "line": {
              "color": "#E5ECF6",
              "width": 0.5
             },
             "pattern": {
              "fillmode": "overlay",
              "size": 10,
              "solidity": 0.2
             }
            },
            "type": "barpolar"
           }
          ],
          "carpet": [
           {
            "aaxis": {
             "endlinecolor": "#2a3f5f",
             "gridcolor": "white",
             "linecolor": "white",
             "minorgridcolor": "white",
             "startlinecolor": "#2a3f5f"
            },
            "baxis": {
             "endlinecolor": "#2a3f5f",
             "gridcolor": "white",
             "linecolor": "white",
             "minorgridcolor": "white",
             "startlinecolor": "#2a3f5f"
            },
            "type": "carpet"
           }
          ],
          "choropleth": [
           {
            "colorbar": {
             "outlinewidth": 0,
             "ticks": ""
            },
            "type": "choropleth"
           }
          ],
          "contour": [
           {
            "colorbar": {
             "outlinewidth": 0,
             "ticks": ""
            },
            "colorscale": [
             [
              0,
              "#0d0887"
             ],
             [
              0.1111111111111111,
              "#46039f"
             ],
             [
              0.2222222222222222,
              "#7201a8"
             ],
             [
              0.3333333333333333,
              "#9c179e"
             ],
             [
              0.4444444444444444,
              "#bd3786"
             ],
             [
              0.5555555555555556,
              "#d8576b"
             ],
             [
              0.6666666666666666,
              "#ed7953"
             ],
             [
              0.7777777777777778,
              "#fb9f3a"
             ],
             [
              0.8888888888888888,
              "#fdca26"
             ],
             [
              1,
              "#f0f921"
             ]
            ],
            "type": "contour"
           }
          ],
          "contourcarpet": [
           {
            "colorbar": {
             "outlinewidth": 0,
             "ticks": ""
            },
            "type": "contourcarpet"
           }
          ],
          "heatmap": [
           {
            "colorbar": {
             "outlinewidth": 0,
             "ticks": ""
            },
            "colorscale": [
             [
              0,
              "#0d0887"
             ],
             [
              0.1111111111111111,
              "#46039f"
             ],
             [
              0.2222222222222222,
              "#7201a8"
             ],
             [
              0.3333333333333333,
              "#9c179e"
             ],
             [
              0.4444444444444444,
              "#bd3786"
             ],
             [
              0.5555555555555556,
              "#d8576b"
             ],
             [
              0.6666666666666666,
              "#ed7953"
             ],
             [
              0.7777777777777778,
              "#fb9f3a"
             ],
             [
              0.8888888888888888,
              "#fdca26"
             ],
             [
              1,
              "#f0f921"
             ]
            ],
            "type": "heatmap"
           }
          ],
          "heatmapgl": [
           {
            "colorbar": {
             "outlinewidth": 0,
             "ticks": ""
            },
            "colorscale": [
             [
              0,
              "#0d0887"
             ],
             [
              0.1111111111111111,
              "#46039f"
             ],
             [
              0.2222222222222222,
              "#7201a8"
             ],
             [
              0.3333333333333333,
              "#9c179e"
             ],
             [
              0.4444444444444444,
              "#bd3786"
             ],
             [
              0.5555555555555556,
              "#d8576b"
             ],
             [
              0.6666666666666666,
              "#ed7953"
             ],
             [
              0.7777777777777778,
              "#fb9f3a"
             ],
             [
              0.8888888888888888,
              "#fdca26"
             ],
             [
              1,
              "#f0f921"
             ]
            ],
            "type": "heatmapgl"
           }
          ],
          "histogram": [
           {
            "marker": {
             "pattern": {
              "fillmode": "overlay",
              "size": 10,
              "solidity": 0.2
             }
            },
            "type": "histogram"
           }
          ],
          "histogram2d": [
           {
            "colorbar": {
             "outlinewidth": 0,
             "ticks": ""
            },
            "colorscale": [
             [
              0,
              "#0d0887"
             ],
             [
              0.1111111111111111,
              "#46039f"
             ],
             [
              0.2222222222222222,
              "#7201a8"
             ],
             [
              0.3333333333333333,
              "#9c179e"
             ],
             [
              0.4444444444444444,
              "#bd3786"
             ],
             [
              0.5555555555555556,
              "#d8576b"
             ],
             [
              0.6666666666666666,
              "#ed7953"
             ],
             [
              0.7777777777777778,
              "#fb9f3a"
             ],
             [
              0.8888888888888888,
              "#fdca26"
             ],
             [
              1,
              "#f0f921"
             ]
            ],
            "type": "histogram2d"
           }
          ],
          "histogram2dcontour": [
           {
            "colorbar": {
             "outlinewidth": 0,
             "ticks": ""
            },
            "colorscale": [
             [
              0,
              "#0d0887"
             ],
             [
              0.1111111111111111,
              "#46039f"
             ],
             [
              0.2222222222222222,
              "#7201a8"
             ],
             [
              0.3333333333333333,
              "#9c179e"
             ],
             [
              0.4444444444444444,
              "#bd3786"
             ],
             [
              0.5555555555555556,
              "#d8576b"
             ],
             [
              0.6666666666666666,
              "#ed7953"
             ],
             [
              0.7777777777777778,
              "#fb9f3a"
             ],
             [
              0.8888888888888888,
              "#fdca26"
             ],
             [
              1,
              "#f0f921"
             ]
            ],
            "type": "histogram2dcontour"
           }
          ],
          "mesh3d": [
           {
            "colorbar": {
             "outlinewidth": 0,
             "ticks": ""
            },
            "type": "mesh3d"
           }
          ],
          "parcoords": [
           {
            "line": {
             "colorbar": {
              "outlinewidth": 0,
              "ticks": ""
             }
            },
            "type": "parcoords"
           }
          ],
          "pie": [
           {
            "automargin": true,
            "type": "pie"
           }
          ],
          "scatter": [
           {
            "fillpattern": {
             "fillmode": "overlay",
             "size": 10,
             "solidity": 0.2
            },
            "type": "scatter"
           }
          ],
          "scatter3d": [
           {
            "line": {
             "colorbar": {
              "outlinewidth": 0,
              "ticks": ""
             }
            },
            "marker": {
             "colorbar": {
              "outlinewidth": 0,
              "ticks": ""
             }
            },
            "type": "scatter3d"
           }
          ],
          "scattercarpet": [
           {
            "marker": {
             "colorbar": {
              "outlinewidth": 0,
              "ticks": ""
             }
            },
            "type": "scattercarpet"
           }
          ],
          "scattergeo": [
           {
            "marker": {
             "colorbar": {
              "outlinewidth": 0,
              "ticks": ""
             }
            },
            "type": "scattergeo"
           }
          ],
          "scattergl": [
           {
            "marker": {
             "colorbar": {
              "outlinewidth": 0,
              "ticks": ""
             }
            },
            "type": "scattergl"
           }
          ],
          "scattermapbox": [
           {
            "marker": {
             "colorbar": {
              "outlinewidth": 0,
              "ticks": ""
             }
            },
            "type": "scattermapbox"
           }
          ],
          "scatterpolar": [
           {
            "marker": {
             "colorbar": {
              "outlinewidth": 0,
              "ticks": ""
             }
            },
            "type": "scatterpolar"
           }
          ],
          "scatterpolargl": [
           {
            "marker": {
             "colorbar": {
              "outlinewidth": 0,
              "ticks": ""
             }
            },
            "type": "scatterpolargl"
           }
          ],
          "scatterternary": [
           {
            "marker": {
             "colorbar": {
              "outlinewidth": 0,
              "ticks": ""
             }
            },
            "type": "scatterternary"
           }
          ],
          "surface": [
           {
            "colorbar": {
             "outlinewidth": 0,
             "ticks": ""
            },
            "colorscale": [
             [
              0,
              "#0d0887"
             ],
             [
              0.1111111111111111,
              "#46039f"
             ],
             [
              0.2222222222222222,
              "#7201a8"
             ],
             [
              0.3333333333333333,
              "#9c179e"
             ],
             [
              0.4444444444444444,
              "#bd3786"
             ],
             [
              0.5555555555555556,
              "#d8576b"
             ],
             [
              0.6666666666666666,
              "#ed7953"
             ],
             [
              0.7777777777777778,
              "#fb9f3a"
             ],
             [
              0.8888888888888888,
              "#fdca26"
             ],
             [
              1,
              "#f0f921"
             ]
            ],
            "type": "surface"
           }
          ],
          "table": [
           {
            "cells": {
             "fill": {
              "color": "#EBF0F8"
             },
             "line": {
              "color": "white"
             }
            },
            "header": {
             "fill": {
              "color": "#C8D4E3"
             },
             "line": {
              "color": "white"
             }
            },
            "type": "table"
           }
          ]
         },
         "layout": {
          "annotationdefaults": {
           "arrowcolor": "#2a3f5f",
           "arrowhead": 0,
           "arrowwidth": 1
          },
          "autotypenumbers": "strict",
          "coloraxis": {
           "colorbar": {
            "outlinewidth": 0,
            "ticks": ""
           }
          },
          "colorscale": {
           "diverging": [
            [
             0,
             "#8e0152"
            ],
            [
             0.1,
             "#c51b7d"
            ],
            [
             0.2,
             "#de77ae"
            ],
            [
             0.3,
             "#f1b6da"
            ],
            [
             0.4,
             "#fde0ef"
            ],
            [
             0.5,
             "#f7f7f7"
            ],
            [
             0.6,
             "#e6f5d0"
            ],
            [
             0.7,
             "#b8e186"
            ],
            [
             0.8,
             "#7fbc41"
            ],
            [
             0.9,
             "#4d9221"
            ],
            [
             1,
             "#276419"
            ]
           ],
           "sequential": [
            [
             0,
             "#0d0887"
            ],
            [
             0.1111111111111111,
             "#46039f"
            ],
            [
             0.2222222222222222,
             "#7201a8"
            ],
            [
             0.3333333333333333,
             "#9c179e"
            ],
            [
             0.4444444444444444,
             "#bd3786"
            ],
            [
             0.5555555555555556,
             "#d8576b"
            ],
            [
             0.6666666666666666,
             "#ed7953"
            ],
            [
             0.7777777777777778,
             "#fb9f3a"
            ],
            [
             0.8888888888888888,
             "#fdca26"
            ],
            [
             1,
             "#f0f921"
            ]
           ],
           "sequentialminus": [
            [
             0,
             "#0d0887"
            ],
            [
             0.1111111111111111,
             "#46039f"
            ],
            [
             0.2222222222222222,
             "#7201a8"
            ],
            [
             0.3333333333333333,
             "#9c179e"
            ],
            [
             0.4444444444444444,
             "#bd3786"
            ],
            [
             0.5555555555555556,
             "#d8576b"
            ],
            [
             0.6666666666666666,
             "#ed7953"
            ],
            [
             0.7777777777777778,
             "#fb9f3a"
            ],
            [
             0.8888888888888888,
             "#fdca26"
            ],
            [
             1,
             "#f0f921"
            ]
           ]
          },
          "colorway": [
           "#636efa",
           "#EF553B",
           "#00cc96",
           "#ab63fa",
           "#FFA15A",
           "#19d3f3",
           "#FF6692",
           "#B6E880",
           "#FF97FF",
           "#FECB52"
          ],
          "font": {
           "color": "#2a3f5f"
          },
          "geo": {
           "bgcolor": "white",
           "lakecolor": "white",
           "landcolor": "#E5ECF6",
           "showlakes": true,
           "showland": true,
           "subunitcolor": "white"
          },
          "hoverlabel": {
           "align": "left"
          },
          "hovermode": "closest",
          "mapbox": {
           "style": "light"
          },
          "paper_bgcolor": "white",
          "plot_bgcolor": "#E5ECF6",
          "polar": {
           "angularaxis": {
            "gridcolor": "white",
            "linecolor": "white",
            "ticks": ""
           },
           "bgcolor": "#E5ECF6",
           "radialaxis": {
            "gridcolor": "white",
            "linecolor": "white",
            "ticks": ""
           }
          },
          "scene": {
           "xaxis": {
            "backgroundcolor": "#E5ECF6",
            "gridcolor": "white",
            "gridwidth": 2,
            "linecolor": "white",
            "showbackground": true,
            "ticks": "",
            "zerolinecolor": "white"
           },
           "yaxis": {
            "backgroundcolor": "#E5ECF6",
            "gridcolor": "white",
            "gridwidth": 2,
            "linecolor": "white",
            "showbackground": true,
            "ticks": "",
            "zerolinecolor": "white"
           },
           "zaxis": {
            "backgroundcolor": "#E5ECF6",
            "gridcolor": "white",
            "gridwidth": 2,
            "linecolor": "white",
            "showbackground": true,
            "ticks": "",
            "zerolinecolor": "white"
           }
          },
          "shapedefaults": {
           "line": {
            "color": "#2a3f5f"
           }
          },
          "ternary": {
           "aaxis": {
            "gridcolor": "white",
            "linecolor": "white",
            "ticks": ""
           },
           "baxis": {
            "gridcolor": "white",
            "linecolor": "white",
            "ticks": ""
           },
           "bgcolor": "#E5ECF6",
           "caxis": {
            "gridcolor": "white",
            "linecolor": "white",
            "ticks": ""
           }
          },
          "title": {
           "x": 0.05
          },
          "xaxis": {
           "automargin": true,
           "gridcolor": "white",
           "linecolor": "white",
           "ticks": "",
           "title": {
            "standoff": 15
           },
           "zerolinecolor": "white",
           "zerolinewidth": 2
          },
          "yaxis": {
           "automargin": true,
           "gridcolor": "white",
           "linecolor": "white",
           "ticks": "",
           "title": {
            "standoff": 15
           },
           "zerolinecolor": "white",
           "zerolinewidth": 2
          }
         }
        },
        "title": {
         "text": "Average Valence vs GDP Per Capita"
        },
        "width": 800,
        "xaxis": {
         "anchor": "y",
         "domain": [
          0,
          1
         ],
         "title": {
          "text": "GDP Per Capita"
         }
        },
        "xaxis2": {
         "anchor": "y2",
         "domain": [
          0,
          1
         ],
         "title": {
          "text": "GDP Per Capita"
         }
        },
        "xaxis3": {
         "anchor": "y3",
         "domain": [
          0,
          1
         ],
         "title": {
          "text": "GDP Per Capita"
         }
        },
        "xaxis4": {
         "anchor": "y4",
         "domain": [
          0,
          1
         ],
         "title": {
          "text": "GDP Per Capita"
         }
        },
        "xaxis5": {
         "anchor": "y5",
         "domain": [
          0,
          1
         ],
         "title": {
          "text": "GDP Per Capita"
         }
        },
        "yaxis": {
         "anchor": "x",
         "domain": [
          0.8599999999999999,
          0.9999999999999999
         ],
         "title": {
          "text": "Average Valence"
         }
        },
        "yaxis2": {
         "anchor": "x2",
         "domain": [
          0.6449999999999999,
          0.7849999999999999
         ],
         "title": {
          "text": "Average Valence"
         }
        },
        "yaxis3": {
         "anchor": "x3",
         "domain": [
          0.42999999999999994,
          0.57
         ],
         "title": {
          "text": "Average Valence"
         }
        },
        "yaxis4": {
         "anchor": "x4",
         "domain": [
          0.21499999999999997,
          0.355
         ],
         "title": {
          "text": "Average Valence"
         }
        },
        "yaxis5": {
         "anchor": "x5",
         "domain": [
          0,
          0.13999999999999999
         ],
         "title": {
          "text": "Average Valence"
         }
        }
       }
      }
     },
     "metadata": {},
     "output_type": "display_data"
    }
   ],
   "source": [
    "import pandas as pd\n",
    "import plotly.express as px\n",
    "import pandas as pd\n",
    "from plotly.subplots import make_subplots\n",
    "import plotly.graph_objects as go\n",
    "import plotly.io as pio\n",
    "import pycountry\n",
    "\n",
    "\n",
    "'''\n",
    "'2017 - Valance vs Crime','2017 - Valance vs GDP/Cap'\n",
    "'2018 - Valance vs Crime','2018 - Valance vs GDP/Cap'\n",
    "'2019 - Valance vs Crime','2019 - Valance vs GDP/Cap' \n",
    "'2020 - Valance vs Crime','2020 - Valance vs GDP/Cap'\n",
    "'2020 - Valance vs Crime','2021 - Valance vs GDP/Cap'\n",
    "'''\n",
    "\n",
    "fig = make_subplots(rows=5, \n",
    "                    cols=1,  \n",
    "                    horizontal_spacing = 0.10, \n",
    "                    vertical_spacing = 0.075, \n",
    "                    subplot_titles=('2017 - Valence vs GDP/Cap',\n",
    "                                    '2018 - Valence vs GDP/Cap',\n",
    "                                    '2019 - Valence vs GDP/Cap',\n",
    "                                    '2020 - Valence vs GDP/Cap',\n",
    "                                    '2021 - Valence vs GDP/Cap'))\n",
    "data = pd.read_pickle('store.pkl')\n",
    "for i in range(2017,2022):\n",
    "    df = data.query(\"year==%s\"%(i))\n",
    "    for country,cat in df.groupby('country'):\n",
    "        c = pycountry.countries.get(alpha_3=country)\n",
    "        c = c.name\n",
    "        fig.add_trace(\n",
    "            go.Scatter(x=cat['gdp per cap'],y=cat['avg valence'],showlegend=False,customdata = [c],\n",
    "                        hovertemplate = \"Country = %{customdata}<br>Average Valence = %{y}<br>GDP Per Capita = %{x}<extra></extra>\"),\n",
    "            row=i-2016, col=1)\n",
    "        \n",
    "fig.update_layout(title_text=\"Average Valence vs GDP Per Capita\", width=800, height=1200)\n",
    "fig['layout']['xaxis']['title']='GDP Per Capita'\n",
    "fig['layout']['xaxis2']['title']='GDP Per Capita'\n",
    "fig['layout']['xaxis3']['title']='GDP Per Capita'\n",
    "fig['layout']['xaxis4']['title']='GDP Per Capita'\n",
    "fig['layout']['xaxis5']['title']='GDP Per Capita'\n",
    "fig['layout']['yaxis']['title']='Average Valence'\n",
    "fig['layout']['yaxis2']['title']='Average Valence'\n",
    "fig['layout']['yaxis3']['title']='Average Valence'\n",
    "fig['layout']['yaxis4']['title']='Average Valence'\n",
    "fig['layout']['yaxis5']['title']='Average Valence'\n",
    "fig.show()\n",
    "\n",
    "fh = open(\"gdp.html\",'w')\n",
    "fh.close()\n",
    "pio.write_html(fig, file = 'gdp.html', auto_open = True, full_html = True) "
   ]
  }
 ],
 "metadata": {
  "interpreter": {
   "hash": "31f2aee4e71d21fbe5cf8b01ff0e069b9275f58929596ceb00d14d90e3e16cd6"
  },
  "kernelspec": {
   "display_name": "Python 3.8.9 64-bit",
   "language": "python",
   "name": "python3"
  },
  "language_info": {
   "codemirror_mode": {
    "name": "ipython",
    "version": 3
   },
   "file_extension": ".py",
   "mimetype": "text/x-python",
   "name": "python",
   "nbconvert_exporter": "python",
   "pygments_lexer": "ipython3",
   "version": "3.7.3"
  },
  "orig_nbformat": 4
 },
 "nbformat": 4,
 "nbformat_minor": 2
}
