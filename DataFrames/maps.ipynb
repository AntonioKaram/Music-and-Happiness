{
 "cells": [
  {
   "cell_type": "code",
   "execution_count": 9,
   "metadata": {},
   "outputs": [
    {
     "data": {
      "application/vnd.plotly.v1+json": {
       "config": {
        "plotlyServerURL": "https://plot.ly"
       },
       "data": [
        {
         "coloraxis": "coloraxis",
         "geo": "geo",
         "legendgroup": "c",
         "locationmode": "ISO-3",
         "locations": [
          "ARG"
         ],
         "name": "ARG",
         "type": "choropleth",
         "z": [
          0.6706080213903742
         ]
        },
        {
         "coloraxis": "coloraxis",
         "geo": "geo",
         "legendgroup": "c",
         "locationmode": "ISO-3",
         "locations": [
          "AUT"
         ],
         "name": "AUT",
         "type": "choropleth",
         "z": [
          0.5296248648648649
         ]
        },
        {
         "coloraxis": "coloraxis2",
         "geo": "geo2",
         "legendgroup": "d",
         "locationmode": "ISO-3",
         "locations": [
          "ARG"
         ],
         "name": "ARG",
         "type": "choropleth",
         "z": [
          6.65
         ]
        },
        {
         "coloraxis": "coloraxis2",
         "geo": "geo2",
         "legendgroup": "d",
         "locationmode": "ISO-3",
         "locations": [
          "AUT"
         ],
         "name": "AUT",
         "type": "choropleth",
         "z": [
          7.119
         ]
        },
        {
         "coloraxis": "coloraxis",
         "geo": "geo3",
         "legendgroup": "c",
         "locationmode": "ISO-3",
         "locations": [
          "ARG"
         ],
         "name": "ARG",
         "type": "choropleth",
         "z": [
          0.6647791443850266
         ]
        },
        {
         "coloraxis": "coloraxis",
         "geo": "geo3",
         "legendgroup": "c",
         "locationmode": "ISO-3",
         "locations": [
          "AUS"
         ],
         "name": "AUS",
         "type": "choropleth",
         "z": [
          0.47480463917525756
         ]
        },
        {
         "coloraxis": "coloraxis",
         "geo": "geo3",
         "legendgroup": "c",
         "locationmode": "ISO-3",
         "locations": [
          "AUT"
         ],
         "name": "AUT",
         "type": "choropleth",
         "z": [
          0.5005388297872337
         ]
        },
        {
         "coloraxis": "coloraxis",
         "geo": "geo3",
         "legendgroup": "c",
         "locationmode": "ISO-3",
         "locations": [
          "BEL"
         ],
         "name": "BEL",
         "type": "choropleth",
         "z": [
          0.4705150259067353
         ]
        },
        {
         "coloraxis": "coloraxis",
         "geo": "geo3",
         "legendgroup": "c",
         "locationmode": "ISO-3",
         "locations": [
          "BGR"
         ],
         "name": "BGR",
         "type": "choropleth",
         "z": [
          0.4591735751295339
         ]
        },
        {
         "coloraxis": "coloraxis",
         "geo": "geo3",
         "legendgroup": "c",
         "locationmode": "ISO-3",
         "locations": [
          "BOL"
         ],
         "name": "BOL",
         "type": "choropleth",
         "z": [
          0.6049031746031744
         ]
        },
        {
         "coloraxis": "coloraxis",
         "geo": "geo3",
         "legendgroup": "c",
         "locationmode": "ISO-3",
         "locations": [
          "BRA"
         ],
         "name": "BRA",
         "type": "choropleth",
         "z": [
          0.5827656250000006
         ]
        },
        {
         "coloraxis": "coloraxis",
         "geo": "geo3",
         "legendgroup": "c",
         "locationmode": "ISO-3",
         "locations": [
          "CAN"
         ],
         "name": "CAN",
         "type": "choropleth",
         "z": [
          0.44779015544041445
         ]
        },
        {
         "coloraxis": "coloraxis",
         "geo": "geo3",
         "legendgroup": "c",
         "locationmode": "ISO-3",
         "locations": [
          "CHE"
         ],
         "name": "CHE",
         "type": "choropleth",
         "z": [
          0.4756453125
         ]
        },
        {
         "coloraxis": "coloraxis",
         "geo": "geo3",
         "legendgroup": "c",
         "locationmode": "ISO-3",
         "locations": [
          "CHL"
         ],
         "name": "CHL",
         "type": "choropleth",
         "z": [
          0.6325309782608697
         ]
        },
        {
         "coloraxis": "coloraxis",
         "geo": "geo3",
         "legendgroup": "c",
         "locationmode": "ISO-3",
         "locations": [
          "COL"
         ],
         "name": "COL",
         "type": "choropleth",
         "z": [
          0.6014529411764704
         ]
        },
        {
         "coloraxis": "coloraxis",
         "geo": "geo3",
         "legendgroup": "c",
         "locationmode": "ISO-3",
         "locations": [
          "CRI"
         ],
         "name": "CRI",
         "type": "choropleth",
         "z": [
          0.5700453125000003
         ]
        },
        {
         "coloraxis": "coloraxis",
         "geo": "geo3",
         "legendgroup": "c",
         "locationmode": "ISO-3",
         "locations": [
          "CYP"
         ],
         "name": "CYP",
         "type": "choropleth",
         "z": [
          0.5065396825396824
         ]
        },
        {
         "coloraxis": "coloraxis",
         "geo": "geo3",
         "legendgroup": "c",
         "locationmode": "ISO-3",
         "locations": [
          "CZE"
         ],
         "name": "CZE",
         "type": "choropleth",
         "z": [
          0.47879896373057
         ]
        },
        {
         "coloraxis": "coloraxis",
         "geo": "geo3",
         "legendgroup": "c",
         "locationmode": "ISO-3",
         "locations": [
          "DEU"
         ],
         "name": "DEU",
         "type": "choropleth",
         "z": [
          0.49592905027932965
         ]
        },
        {
         "coloraxis": "coloraxis",
         "geo": "geo3",
         "legendgroup": "c",
         "locationmode": "ISO-3",
         "locations": [
          "DNK"
         ],
         "name": "DNK",
         "type": "choropleth",
         "z": [
          0.4656421875000001
         ]
        },
        {
         "coloraxis": "coloraxis",
         "geo": "geo3",
         "legendgroup": "c",
         "locationmode": "ISO-3",
         "locations": [
          "DOM"
         ],
         "name": "DOM",
         "type": "choropleth",
         "z": [
          0.5710709497206704
         ]
        },
        {
         "coloraxis": "coloraxis",
         "geo": "geo3",
         "legendgroup": "c",
         "locationmode": "ISO-3",
         "locations": [
          "ECU"
         ],
         "name": "ECU",
         "type": "choropleth",
         "z": [
          0.600003664921466
         ]
        },
        {
         "coloraxis": "coloraxis",
         "geo": "geo3",
         "legendgroup": "c",
         "locationmode": "ISO-3",
         "locations": [
          "ESP"
         ],
         "name": "ESP",
         "type": "choropleth",
         "z": [
          0.604066492146597
         ]
        },
        {
         "coloraxis": "coloraxis",
         "geo": "geo3",
         "legendgroup": "c",
         "locationmode": "ISO-3",
         "locations": [
          "EST"
         ],
         "name": "EST",
         "type": "choropleth",
         "z": [
          0.4713649484536083
         ]
        },
        {
         "coloraxis": "coloraxis",
         "geo": "geo3",
         "legendgroup": "c",
         "locationmode": "ISO-3",
         "locations": [
          "FIN"
         ],
         "name": "FIN",
         "type": "choropleth",
         "z": [
          0.5260292134831461
         ]
        },
        {
         "coloraxis": "coloraxis",
         "geo": "geo3",
         "legendgroup": "c",
         "locationmode": "ISO-3",
         "locations": [
          "FRA"
         ],
         "name": "FRA",
         "type": "choropleth",
         "z": [
          0.5066768421052629
         ]
        },
        {
         "coloraxis": "coloraxis",
         "geo": "geo3",
         "legendgroup": "c",
         "locationmode": "ISO-3",
         "locations": [
          "GBR"
         ],
         "name": "GBR",
         "type": "choropleth",
         "z": [
          0.5020839378238342
         ]
        },
        {
         "coloraxis": "coloraxis",
         "geo": "geo3",
         "legendgroup": "c",
         "locationmode": "ISO-3",
         "locations": [
          "GRC"
         ],
         "name": "GRC",
         "type": "choropleth",
         "z": [
          0.4521187165775399
         ]
        },
        {
         "coloraxis": "coloraxis",
         "geo": "geo3",
         "legendgroup": "c",
         "locationmode": "ISO-3",
         "locations": [
          "GTM"
         ],
         "name": "GTM",
         "type": "choropleth",
         "z": [
          0.587751052631579
         ]
        },
        {
         "coloraxis": "coloraxis",
         "geo": "geo3",
         "legendgroup": "c",
         "locationmode": "ISO-3",
         "locations": [
          "HKG"
         ],
         "name": "HKG",
         "type": "choropleth",
         "z": [
          0.4390885416666667
         ]
        },
        {
         "coloraxis": "coloraxis",
         "geo": "geo3",
         "legendgroup": "c",
         "locationmode": "ISO-3",
         "locations": [
          "HND"
         ],
         "name": "HND",
         "type": "choropleth",
         "z": [
          0.5715380952380953
         ]
        },
        {
         "coloraxis": "coloraxis",
         "geo": "geo3",
         "legendgroup": "c",
         "locationmode": "ISO-3",
         "locations": [
          "HUN"
         ],
         "name": "HUN",
         "type": "choropleth",
         "z": [
          0.49593621621621636
         ]
        },
        {
         "coloraxis": "coloraxis",
         "geo": "geo3",
         "legendgroup": "c",
         "locationmode": "ISO-3",
         "locations": [
          "IDN"
         ],
         "name": "IDN",
         "type": "choropleth",
         "z": [
          0.479866839378238
         ]
        },
        {
         "coloraxis": "coloraxis",
         "geo": "geo3",
         "legendgroup": "c",
         "locationmode": "ISO-3",
         "locations": [
          "IRL"
         ],
         "name": "IRL",
         "type": "choropleth",
         "z": [
          0.49736753926701566
         ]
        },
        {
         "coloraxis": "coloraxis",
         "geo": "geo3",
         "legendgroup": "c",
         "locationmode": "ISO-3",
         "locations": [
          "ISL"
         ],
         "name": "ISL",
         "type": "choropleth",
         "z": [
          0.43484093264248685
         ]
        },
        {
         "coloraxis": "coloraxis",
         "geo": "geo3",
         "legendgroup": "c",
         "locationmode": "ISO-3",
         "locations": [
          "ITA"
         ],
         "name": "ITA",
         "type": "choropleth",
         "z": [
          0.49906717948717927
         ]
        },
        {
         "coloraxis": "coloraxis",
         "geo": "geo3",
         "legendgroup": "c",
         "locationmode": "ISO-3",
         "locations": [
          "JPN"
         ],
         "name": "JPN",
         "type": "choropleth",
         "z": [
          0.5261404145077719
         ]
        },
        {
         "coloraxis": "coloraxis",
         "geo": "geo3",
         "legendgroup": "c",
         "locationmode": "ISO-3",
         "locations": [
          "LTU"
         ],
         "name": "LTU",
         "type": "choropleth",
         "z": [
          0.46697486910994773
         ]
        },
        {
         "coloraxis": "coloraxis",
         "geo": "geo3",
         "legendgroup": "c",
         "locationmode": "ISO-3",
         "locations": [
          "LUX"
         ],
         "name": "LUX",
         "type": "choropleth",
         "z": [
          0.48137656249999994
         ]
        },
        {
         "coloraxis": "coloraxis",
         "geo": "geo3",
         "legendgroup": "c",
         "locationmode": "ISO-3",
         "locations": [
          "LVA"
         ],
         "name": "LVA",
         "type": "choropleth",
         "z": [
          0.4574362694300521
         ]
        },
        {
         "coloraxis": "coloraxis",
         "geo": "geo3",
         "legendgroup": "c",
         "locationmode": "ISO-3",
         "locations": [
          "MEX"
         ],
         "name": "MEX",
         "type": "choropleth",
         "z": [
          0.6026973118279569
         ]
        },
        {
         "coloraxis": "coloraxis",
         "geo": "geo3",
         "legendgroup": "c",
         "locationmode": "ISO-3",
         "locations": [
          "MYS"
         ],
         "name": "MYS",
         "type": "choropleth",
         "z": [
          0.4519864583333331
         ]
        },
        {
         "coloraxis": "coloraxis",
         "geo": "geo3",
         "legendgroup": "c",
         "locationmode": "ISO-3",
         "locations": [
          "NIC"
         ],
         "name": "NIC",
         "type": "choropleth",
         "z": [
          0.5612209424083769
         ]
        },
        {
         "coloraxis": "coloraxis",
         "geo": "geo3",
         "legendgroup": "c",
         "locationmode": "ISO-3",
         "locations": [
          "NLD"
         ],
         "name": "NLD",
         "type": "choropleth",
         "z": [
          0.5169869109947645
         ]
        },
        {
         "coloraxis": "coloraxis",
         "geo": "geo3",
         "legendgroup": "c",
         "locationmode": "ISO-3",
         "locations": [
          "NOR"
         ],
         "name": "NOR",
         "type": "choropleth",
         "z": [
          0.459723316062176
         ]
        },
        {
         "coloraxis": "coloraxis",
         "geo": "geo3",
         "legendgroup": "c",
         "locationmode": "ISO-3",
         "locations": [
          "NZL"
         ],
         "name": "NZL",
         "type": "choropleth",
         "z": [
          0.48856804123711317
         ]
        },
        {
         "coloraxis": "coloraxis",
         "geo": "geo3",
         "legendgroup": "c",
         "locationmode": "ISO-3",
         "locations": [
          "PAN"
         ],
         "name": "PAN",
         "type": "choropleth",
         "z": [
          0.5833155913978496
         ]
        },
        {
         "coloraxis": "coloraxis",
         "geo": "geo3",
         "legendgroup": "c",
         "locationmode": "ISO-3",
         "locations": [
          "PER"
         ],
         "name": "PER",
         "type": "choropleth",
         "z": [
          0.6125037634408604
         ]
        },
        {
         "coloraxis": "coloraxis",
         "geo": "geo3",
         "legendgroup": "c",
         "locationmode": "ISO-3",
         "locations": [
          "PHL"
         ],
         "name": "PHL",
         "type": "choropleth",
         "z": [
          0.4678005181347148
         ]
        },
        {
         "coloraxis": "coloraxis",
         "geo": "geo3",
         "legendgroup": "c",
         "locationmode": "ISO-3",
         "locations": [
          "POL"
         ],
         "name": "POL",
         "type": "choropleth",
         "z": [
          0.49103730569948145
         ]
        },
        {
         "coloraxis": "coloraxis",
         "geo": "geo3",
         "legendgroup": "c",
         "locationmode": "ISO-3",
         "locations": [
          "PRT"
         ],
         "name": "PRT",
         "type": "choropleth",
         "z": [
          0.49254
         ]
        },
        {
         "coloraxis": "coloraxis",
         "geo": "geo3",
         "legendgroup": "c",
         "locationmode": "ISO-3",
         "locations": [
          "PRY"
         ],
         "name": "PRY",
         "type": "choropleth",
         "z": [
          0.6255951612903226
         ]
        },
        {
         "coloraxis": "coloraxis",
         "geo": "geo3",
         "legendgroup": "c",
         "locationmode": "ISO-3",
         "locations": [
          "SGP"
         ],
         "name": "SGP",
         "type": "choropleth",
         "z": [
          0.4553105263157894
         ]
        },
        {
         "coloraxis": "coloraxis",
         "geo": "geo3",
         "legendgroup": "c",
         "locationmode": "ISO-3",
         "locations": [
          "SLV"
         ],
         "name": "SLV",
         "type": "choropleth",
         "z": [
          0.5638570680628272
         ]
        },
        {
         "coloraxis": "coloraxis",
         "geo": "geo3",
         "legendgroup": "c",
         "locationmode": "ISO-3",
         "locations": [
          "SVK"
         ],
         "name": "SVK",
         "type": "choropleth",
         "z": [
          0.48141554404145087
         ]
        },
        {
         "coloraxis": "coloraxis",
         "geo": "geo3",
         "legendgroup": "c",
         "locationmode": "ISO-3",
         "locations": [
          "SWE"
         ],
         "name": "SWE",
         "type": "choropleth",
         "z": [
          0.46181875
         ]
        },
        {
         "coloraxis": "coloraxis",
         "geo": "geo3",
         "legendgroup": "c",
         "locationmode": "ISO-3",
         "locations": [
          "THA"
         ],
         "name": "THA",
         "type": "choropleth",
         "z": [
          0.5351619791666665
         ]
        },
        {
         "coloraxis": "coloraxis",
         "geo": "geo3",
         "legendgroup": "c",
         "locationmode": "ISO-3",
         "locations": [
          "TUR"
         ],
         "name": "TUR",
         "type": "choropleth",
         "z": [
          0.4902404145077721
         ]
        },
        {
         "coloraxis": "coloraxis",
         "geo": "geo3",
         "legendgroup": "c",
         "locationmode": "ISO-3",
         "locations": [
          "TWN"
         ],
         "name": "TWN",
         "type": "choropleth",
         "z": [
          0.45030446927374296
         ]
        },
        {
         "coloraxis": "coloraxis",
         "geo": "geo3",
         "legendgroup": "c",
         "locationmode": "ISO-3",
         "locations": [
          "URY"
         ],
         "name": "URY",
         "type": "choropleth",
         "z": [
          0.7060679144385025
         ]
        },
        {
         "coloraxis": "coloraxis",
         "geo": "geo3",
         "legendgroup": "c",
         "locationmode": "ISO-3",
         "locations": [
          "USA"
         ],
         "name": "USA",
         "type": "choropleth",
         "z": [
          0.4460577319587628
         ]
        },
        {
         "coloraxis": "coloraxis2",
         "geo": "geo4",
         "legendgroup": "d",
         "locationmode": "ISO-3",
         "locations": [
          "ARG"
         ],
         "name": "ARG",
         "type": "choropleth",
         "z": [
          6.599
         ]
        },
        {
         "coloraxis": "coloraxis2",
         "geo": "geo4",
         "legendgroup": "d",
         "locationmode": "ISO-3",
         "locations": [
          "AUS"
         ],
         "name": "AUS",
         "type": "choropleth",
         "z": [
          7.284
         ]
        },
        {
         "coloraxis": "coloraxis2",
         "geo": "geo4",
         "legendgroup": "d",
         "locationmode": "ISO-3",
         "locations": [
          "AUT"
         ],
         "name": "AUT",
         "type": "choropleth",
         "z": [
          7.006
         ]
        },
        {
         "coloraxis": "coloraxis2",
         "geo": "geo4",
         "legendgroup": "d",
         "locationmode": "ISO-3",
         "locations": [
          "BEL"
         ],
         "name": "BEL",
         "type": "choropleth",
         "z": [
          6.891
         ]
        },
        {
         "coloraxis": "coloraxis2",
         "geo": "geo4",
         "legendgroup": "d",
         "locationmode": "ISO-3",
         "locations": [
          "BGR"
         ],
         "name": "BGR",
         "type": "choropleth",
         "z": [
          4.714
         ]
        },
        {
         "coloraxis": "coloraxis2",
         "geo": "geo4",
         "legendgroup": "d",
         "locationmode": "ISO-3",
         "locations": [
          "BOL"
         ],
         "name": "BOL",
         "type": "choropleth",
         "z": [
          0
         ]
        },
        {
         "coloraxis": "coloraxis2",
         "geo": "geo4",
         "legendgroup": "d",
         "locationmode": "ISO-3",
         "locations": [
          "BRA"
         ],
         "name": "BRA",
         "type": "choropleth",
         "z": [
          6.635
         ]
        },
        {
         "coloraxis": "coloraxis2",
         "geo": "geo4",
         "legendgroup": "d",
         "locationmode": "ISO-3",
         "locations": [
          "CAN"
         ],
         "name": "CAN",
         "type": "choropleth",
         "z": [
          7.316
         ]
        },
        {
         "coloraxis": "coloraxis2",
         "geo": "geo4",
         "legendgroup": "d",
         "locationmode": "ISO-3",
         "locations": [
          "CHE"
         ],
         "name": "CHE",
         "type": "choropleth",
         "z": [
          7.494
         ]
        },
        {
         "coloraxis": "coloraxis2",
         "geo": "geo4",
         "legendgroup": "d",
         "locationmode": "ISO-3",
         "locations": [
          "CHL"
         ],
         "name": "CHL",
         "type": "choropleth",
         "z": [
          6.652
         ]
        },
        {
         "coloraxis": "coloraxis2",
         "geo": "geo4",
         "legendgroup": "d",
         "locationmode": "ISO-3",
         "locations": [
          "COL"
         ],
         "name": "COL",
         "type": "choropleth",
         "z": [
          6.357
         ]
        },
        {
         "coloraxis": "coloraxis2",
         "geo": "geo4",
         "legendgroup": "d",
         "locationmode": "ISO-3",
         "locations": [
          "CRI"
         ],
         "name": "CRI",
         "type": "choropleth",
         "z": [
          7.079
         ]
        },
        {
         "coloraxis": "coloraxis2",
         "geo": "geo4",
         "legendgroup": "d",
         "locationmode": "ISO-3",
         "locations": [
          "CYP"
         ],
         "name": "CYP",
         "type": "choropleth",
         "z": [
          5.621
         ]
        },
        {
         "coloraxis": "coloraxis2",
         "geo": "geo4",
         "legendgroup": "d",
         "locationmode": "ISO-3",
         "locations": [
          "CZE"
         ],
         "name": "CZE",
         "type": "choropleth",
         "z": [
          6.609
         ]
        },
        {
         "coloraxis": "coloraxis2",
         "geo": "geo4",
         "legendgroup": "d",
         "locationmode": "ISO-3",
         "locations": [
          "DEU"
         ],
         "name": "DEU",
         "type": "choropleth",
         "z": [
          6.951
         ]
        },
        {
         "coloraxis": "coloraxis2",
         "geo": "geo4",
         "legendgroup": "d",
         "locationmode": "ISO-3",
         "locations": [
          "DNK"
         ],
         "name": "DNK",
         "type": "choropleth",
         "z": [
          7.522
         ]
        },
        {
         "coloraxis": "coloraxis2",
         "geo": "geo4",
         "legendgroup": "d",
         "locationmode": "ISO-3",
         "locations": [
          "DOM"
         ],
         "name": "DOM",
         "type": "choropleth",
         "z": [
          5.23
         ]
        },
        {
         "coloraxis": "coloraxis2",
         "geo": "geo4",
         "legendgroup": "d",
         "locationmode": "ISO-3",
         "locations": [
          "ECU"
         ],
         "name": "ECU",
         "type": "choropleth",
         "z": [
          6.008
         ]
        },
        {
         "coloraxis": "coloraxis2",
         "geo": "geo4",
         "legendgroup": "d",
         "locationmode": "ISO-3",
         "locations": [
          "ESP"
         ],
         "name": "ESP",
         "type": "choropleth",
         "z": [
          6.403
         ]
        },
        {
         "coloraxis": "coloraxis2",
         "geo": "geo4",
         "legendgroup": "d",
         "locationmode": "ISO-3",
         "locations": [
          "EST"
         ],
         "name": "EST",
         "type": "choropleth",
         "z": [
          5.611
         ]
        },
        {
         "coloraxis": "coloraxis2",
         "geo": "geo4",
         "legendgroup": "d",
         "locationmode": "ISO-3",
         "locations": [
          "FIN"
         ],
         "name": "FIN",
         "type": "choropleth",
         "z": [
          7.469
         ]
        },
        {
         "coloraxis": "coloraxis2",
         "geo": "geo4",
         "legendgroup": "d",
         "locationmode": "ISO-3",
         "locations": [
          "FRA"
         ],
         "name": "FRA",
         "type": "choropleth",
         "z": [
          6.442
         ]
        },
        {
         "coloraxis": "coloraxis2",
         "geo": "geo4",
         "legendgroup": "d",
         "locationmode": "ISO-3",
         "locations": [
          "GBR"
         ],
         "name": "GBR",
         "type": "choropleth",
         "z": [
          6.714
         ]
        },
        {
         "coloraxis": "coloraxis2",
         "geo": "geo4",
         "legendgroup": "d",
         "locationmode": "ISO-3",
         "locations": [
          "GRC"
         ],
         "name": "GRC",
         "type": "choropleth",
         "z": [
          5.227
         ]
        },
        {
         "coloraxis": "coloraxis2",
         "geo": "geo4",
         "legendgroup": "d",
         "locationmode": "ISO-3",
         "locations": [
          "GTM"
         ],
         "name": "GTM",
         "type": "choropleth",
         "z": [
          6.454
         ]
        },
        {
         "coloraxis": "coloraxis2",
         "geo": "geo4",
         "legendgroup": "d",
         "locationmode": "ISO-3",
         "locations": [
          "HKG"
         ],
         "name": "HKG",
         "type": "choropleth",
         "z": [
          0
         ]
        },
        {
         "coloraxis": "coloraxis2",
         "geo": "geo4",
         "legendgroup": "d",
         "locationmode": "ISO-3",
         "locations": [
          "HND"
         ],
         "name": "HND",
         "type": "choropleth",
         "z": [
          5.181
         ]
        },
        {
         "coloraxis": "coloraxis2",
         "geo": "geo4",
         "legendgroup": "d",
         "locationmode": "ISO-3",
         "locations": [
          "HUN"
         ],
         "name": "HUN",
         "type": "choropleth",
         "z": [
          5.324
         ]
        },
        {
         "coloraxis": "coloraxis2",
         "geo": "geo4",
         "legendgroup": "d",
         "locationmode": "ISO-3",
         "locations": [
          "IDN"
         ],
         "name": "IDN",
         "type": "choropleth",
         "z": [
          5.262
         ]
        },
        {
         "coloraxis": "coloraxis2",
         "geo": "geo4",
         "legendgroup": "d",
         "locationmode": "ISO-3",
         "locations": [
          "IRL"
         ],
         "name": "IRL",
         "type": "choropleth",
         "z": [
          6.977
         ]
        },
        {
         "coloraxis": "coloraxis2",
         "geo": "geo4",
         "legendgroup": "d",
         "locationmode": "ISO-3",
         "locations": [
          "ISL"
         ],
         "name": "ISL",
         "type": "choropleth",
         "z": [
          7.504
         ]
        },
        {
         "coloraxis": "coloraxis2",
         "geo": "geo4",
         "legendgroup": "d",
         "locationmode": "ISO-3",
         "locations": [
          "ITA"
         ],
         "name": "ITA",
         "type": "choropleth",
         "z": [
          5.964
         ]
        },
        {
         "coloraxis": "coloraxis2",
         "geo": "geo4",
         "legendgroup": "d",
         "locationmode": "ISO-3",
         "locations": [
          "JPN"
         ],
         "name": "JPN",
         "type": "choropleth",
         "z": [
          5.92
         ]
        },
        {
         "coloraxis": "coloraxis2",
         "geo": "geo4",
         "legendgroup": "d",
         "locationmode": "ISO-3",
         "locations": [
          "LTU"
         ],
         "name": "LTU",
         "type": "choropleth",
         "z": [
          5.902
         ]
        },
        {
         "coloraxis": "coloraxis2",
         "geo": "geo4",
         "legendgroup": "d",
         "locationmode": "ISO-3",
         "locations": [
          "LUX"
         ],
         "name": "LUX",
         "type": "choropleth",
         "z": [
          6.863
         ]
        },
        {
         "coloraxis": "coloraxis2",
         "geo": "geo4",
         "legendgroup": "d",
         "locationmode": "ISO-3",
         "locations": [
          "LVA"
         ],
         "name": "LVA",
         "type": "choropleth",
         "z": [
          5.85
         ]
        },
        {
         "coloraxis": "coloraxis2",
         "geo": "geo4",
         "legendgroup": "d",
         "locationmode": "ISO-3",
         "locations": [
          "MEX"
         ],
         "name": "MEX",
         "type": "choropleth",
         "z": [
          6.578
         ]
        },
        {
         "coloraxis": "coloraxis2",
         "geo": "geo4",
         "legendgroup": "d",
         "locationmode": "ISO-3",
         "locations": [
          "MYS"
         ],
         "name": "MYS",
         "type": "choropleth",
         "z": [
          6.084
         ]
        },
        {
         "coloraxis": "coloraxis2",
         "geo": "geo4",
         "legendgroup": "d",
         "locationmode": "ISO-3",
         "locations": [
          "NIC"
         ],
         "name": "NIC",
         "type": "choropleth",
         "z": [
          6.071
         ]
        },
        {
         "coloraxis": "coloraxis2",
         "geo": "geo4",
         "legendgroup": "d",
         "locationmode": "ISO-3",
         "locations": [
          "NLD"
         ],
         "name": "NLD",
         "type": "choropleth",
         "z": [
          7.377
         ]
        },
        {
         "coloraxis": "coloraxis2",
         "geo": "geo4",
         "legendgroup": "d",
         "locationmode": "ISO-3",
         "locations": [
          "NOR"
         ],
         "name": "NOR",
         "type": "choropleth",
         "z": [
          7.537
         ]
        },
        {
         "coloraxis": "coloraxis2",
         "geo": "geo4",
         "legendgroup": "d",
         "locationmode": "ISO-3",
         "locations": [
          "NZL"
         ],
         "name": "NZL",
         "type": "choropleth",
         "z": [
          7.314
         ]
        },
        {
         "coloraxis": "coloraxis2",
         "geo": "geo4",
         "legendgroup": "d",
         "locationmode": "ISO-3",
         "locations": [
          "PAN"
         ],
         "name": "PAN",
         "type": "choropleth",
         "z": [
          6.452
         ]
        },
        {
         "coloraxis": "coloraxis2",
         "geo": "geo4",
         "legendgroup": "d",
         "locationmode": "ISO-3",
         "locations": [
          "PER"
         ],
         "name": "PER",
         "type": "choropleth",
         "z": [
          5.715
         ]
        },
        {
         "coloraxis": "coloraxis2",
         "geo": "geo4",
         "legendgroup": "d",
         "locationmode": "ISO-3",
         "locations": [
          "PHL"
         ],
         "name": "PHL",
         "type": "choropleth",
         "z": [
          5.43
         ]
        },
        {
         "coloraxis": "coloraxis2",
         "geo": "geo4",
         "legendgroup": "d",
         "locationmode": "ISO-3",
         "locations": [
          "POL"
         ],
         "name": "POL",
         "type": "choropleth",
         "z": [
          5.973
         ]
        },
        {
         "coloraxis": "coloraxis2",
         "geo": "geo4",
         "legendgroup": "d",
         "locationmode": "ISO-3",
         "locations": [
          "PRT"
         ],
         "name": "PRT",
         "type": "choropleth",
         "z": [
          5.195
         ]
        },
        {
         "coloraxis": "coloraxis2",
         "geo": "geo4",
         "legendgroup": "d",
         "locationmode": "ISO-3",
         "locations": [
          "PRY"
         ],
         "name": "PRY",
         "type": "choropleth",
         "z": [
          5.493
         ]
        },
        {
         "coloraxis": "coloraxis2",
         "geo": "geo4",
         "legendgroup": "d",
         "locationmode": "ISO-3",
         "locations": [
          "SGP"
         ],
         "name": "SGP",
         "type": "choropleth",
         "z": [
          6.572
         ]
        },
        {
         "coloraxis": "coloraxis2",
         "geo": "geo4",
         "legendgroup": "d",
         "locationmode": "ISO-3",
         "locations": [
          "SLV"
         ],
         "name": "SLV",
         "type": "choropleth",
         "z": [
          6.003
         ]
        },
        {
         "coloraxis": "coloraxis2",
         "geo": "geo4",
         "legendgroup": "d",
         "locationmode": "ISO-3",
         "locations": [
          "SVK"
         ],
         "name": "SVK",
         "type": "choropleth",
         "z": [
          6.098
         ]
        },
        {
         "coloraxis": "coloraxis2",
         "geo": "geo4",
         "legendgroup": "d",
         "locationmode": "ISO-3",
         "locations": [
          "SWE"
         ],
         "name": "SWE",
         "type": "choropleth",
         "z": [
          7.284
         ]
        },
        {
         "coloraxis": "coloraxis2",
         "geo": "geo4",
         "legendgroup": "d",
         "locationmode": "ISO-3",
         "locations": [
          "THA"
         ],
         "name": "THA",
         "type": "choropleth",
         "z": [
          6.424
         ]
        },
        {
         "coloraxis": "coloraxis2",
         "geo": "geo4",
         "legendgroup": "d",
         "locationmode": "ISO-3",
         "locations": [
          "TUR"
         ],
         "name": "TUR",
         "type": "choropleth",
         "z": [
          5.5
         ]
        },
        {
         "coloraxis": "coloraxis2",
         "geo": "geo4",
         "legendgroup": "d",
         "locationmode": "ISO-3",
         "locations": [
          "TWN"
         ],
         "name": "TWN",
         "type": "choropleth",
         "z": [
          0
         ]
        },
        {
         "coloraxis": "coloraxis2",
         "geo": "geo4",
         "legendgroup": "d",
         "locationmode": "ISO-3",
         "locations": [
          "URY"
         ],
         "name": "URY",
         "type": "choropleth",
         "z": [
          6.454
         ]
        },
        {
         "coloraxis": "coloraxis2",
         "geo": "geo4",
         "legendgroup": "d",
         "locationmode": "ISO-3",
         "locations": [
          "USA"
         ],
         "name": "USA",
         "type": "choropleth",
         "z": [
          6.993
         ]
        },
        {
         "coloraxis": "coloraxis",
         "geo": "geo5",
         "legendgroup": "c",
         "locationmode": "ISO-3",
         "locations": [
          "ARE"
         ],
         "name": "ARE",
         "type": "choropleth",
         "z": [
          0.4286894472361804
         ]
        },
        {
         "coloraxis": "coloraxis",
         "geo": "geo5",
         "legendgroup": "c",
         "locationmode": "ISO-3",
         "locations": [
          "ARG"
         ],
         "name": "ARG",
         "type": "choropleth",
         "z": [
          0.6215816753926702
         ]
        },
        {
         "coloraxis": "coloraxis",
         "geo": "geo5",
         "legendgroup": "c",
         "locationmode": "ISO-3",
         "locations": [
          "AUS"
         ],
         "name": "AUS",
         "type": "choropleth",
         "z": [
          0.4685836734693876
         ]
        },
        {
         "coloraxis": "coloraxis",
         "geo": "geo5",
         "legendgroup": "c",
         "locationmode": "ISO-3",
         "locations": [
          "AUT"
         ],
         "name": "AUT",
         "type": "choropleth",
         "z": [
          0.4776951612903227
         ]
        },
        {
         "coloraxis": "coloraxis",
         "geo": "geo5",
         "legendgroup": "c",
         "locationmode": "ISO-3",
         "locations": [
          "BEL"
         ],
         "name": "BEL",
         "type": "choropleth",
         "z": [
          0.4904989743589742
         ]
        },
        {
         "coloraxis": "coloraxis",
         "geo": "geo5",
         "legendgroup": "c",
         "locationmode": "ISO-3",
         "locations": [
          "BGR"
         ],
         "name": "BGR",
         "type": "choropleth",
         "z": [
          0.45542131979695427
         ]
        },
        {
         "coloraxis": "coloraxis",
         "geo": "geo5",
         "legendgroup": "c",
         "locationmode": "ISO-3",
         "locations": [
          "BOL"
         ],
         "name": "BOL",
         "type": "choropleth",
         "z": [
          0.5871127551020404
         ]
        },
        {
         "coloraxis": "coloraxis",
         "geo": "geo5",
         "legendgroup": "c",
         "locationmode": "ISO-3",
         "locations": [
          "BRA"
         ],
         "name": "BRA",
         "type": "choropleth",
         "z": [
          0.6049734693877552
         ]
        },
        {
         "coloraxis": "coloraxis",
         "geo": "geo5",
         "legendgroup": "c",
         "locationmode": "ISO-3",
         "locations": [
          "CAN"
         ],
         "name": "CAN",
         "type": "choropleth",
         "z": [
          0.4478080808080804
         ]
        },
        {
         "coloraxis": "coloraxis",
         "geo": "geo5",
         "legendgroup": "c",
         "locationmode": "ISO-3",
         "locations": [
          "CHE"
         ],
         "name": "CHE",
         "type": "choropleth",
         "z": [
          0.48479025641025636
         ]
        },
        {
         "coloraxis": "coloraxis",
         "geo": "geo5",
         "legendgroup": "c",
         "locationmode": "ISO-3",
         "locations": [
          "CHL"
         ],
         "name": "CHL",
         "type": "choropleth",
         "z": [
          0.6064604278074867
         ]
        },
        {
         "coloraxis": "coloraxis",
         "geo": "geo5",
         "legendgroup": "c",
         "locationmode": "ISO-3",
         "locations": [
          "COL"
         ],
         "name": "COL",
         "type": "choropleth",
         "z": [
          0.5940419689119167
         ]
        },
        {
         "coloraxis": "coloraxis",
         "geo": "geo5",
         "legendgroup": "c",
         "locationmode": "ISO-3",
         "locations": [
          "CRI"
         ],
         "name": "CRI",
         "type": "choropleth",
         "z": [
          0.569059487179487
         ]
        },
        {
         "coloraxis": "coloraxis",
         "geo": "geo5",
         "legendgroup": "c",
         "locationmode": "ISO-3",
         "locations": [
          "CYP"
         ],
         "name": "CYP",
         "type": "choropleth",
         "z": [
          0.4717542857142859
         ]
        },
        {
         "coloraxis": "coloraxis",
         "geo": "geo5",
         "legendgroup": "c",
         "locationmode": "ISO-3",
         "locations": [
          "CZE"
         ],
         "name": "CZE",
         "type": "choropleth",
         "z": [
          0.46816753926701565
         ]
        },
        {
         "coloraxis": "coloraxis",
         "geo": "geo5",
         "legendgroup": "c",
         "locationmode": "ISO-3",
         "locations": [
          "DEU"
         ],
         "name": "DEU",
         "type": "choropleth",
         "z": [
          0.4917167567567565
         ]
        },
        {
         "coloraxis": "coloraxis",
         "geo": "geo5",
         "legendgroup": "c",
         "locationmode": "ISO-3",
         "locations": [
          "DNK"
         ],
         "name": "DNK",
         "type": "choropleth",
         "z": [
          0.49431275510204037
         ]
        },
        {
         "coloraxis": "coloraxis",
         "geo": "geo5",
         "legendgroup": "c",
         "locationmode": "ISO-3",
         "locations": [
          "DOM"
         ],
         "name": "DOM",
         "type": "choropleth",
         "z": [
          0.5460468421052632
         ]
        },
        {
         "coloraxis": "coloraxis",
         "geo": "geo5",
         "legendgroup": "c",
         "locationmode": "ISO-3",
         "locations": [
          "ECU"
         ],
         "name": "ECU",
         "type": "choropleth",
         "z": [
          0.596648469387755
         ]
        },
        {
         "coloraxis": "coloraxis",
         "geo": "geo5",
         "legendgroup": "c",
         "locationmode": "ISO-3",
         "locations": [
          "EGY"
         ],
         "name": "EGY",
         "type": "choropleth",
         "z": [
          0.4778907216494844
         ]
        },
        {
         "coloraxis": "coloraxis",
         "geo": "geo5",
         "legendgroup": "c",
         "locationmode": "ISO-3",
         "locations": [
          "ESP"
         ],
         "name": "ESP",
         "type": "choropleth",
         "z": [
          0.5577596938775506
         ]
        },
        {
         "coloraxis": "coloraxis",
         "geo": "geo5",
         "legendgroup": "c",
         "locationmode": "ISO-3",
         "locations": [
          "EST"
         ],
         "name": "EST",
         "type": "choropleth",
         "z": [
          0.4529862944162437
         ]
        },
        {
         "coloraxis": "coloraxis",
         "geo": "geo5",
         "legendgroup": "c",
         "locationmode": "ISO-3",
         "locations": [
          "FIN"
         ],
         "name": "FIN",
         "type": "choropleth",
         "z": [
          0.5034549450549449
         ]
        },
        {
         "coloraxis": "coloraxis",
         "geo": "geo5",
         "legendgroup": "c",
         "locationmode": "ISO-3",
         "locations": [
          "FRA"
         ],
         "name": "FRA",
         "type": "choropleth",
         "z": [
          0.5130411167512693
         ]
        },
        {
         "coloraxis": "coloraxis",
         "geo": "geo5",
         "legendgroup": "c",
         "locationmode": "ISO-3",
         "locations": [
          "GBR"
         ],
         "name": "GBR",
         "type": "choropleth",
         "z": [
          0.49998442211055216
         ]
        },
        {
         "coloraxis": "coloraxis",
         "geo": "geo5",
         "legendgroup": "c",
         "locationmode": "ISO-3",
         "locations": [
          "GRC"
         ],
         "name": "GRC",
         "type": "choropleth",
         "z": [
          0.4661701030927834
         ]
        },
        {
         "coloraxis": "coloraxis",
         "geo": "geo5",
         "legendgroup": "c",
         "locationmode": "ISO-3",
         "locations": [
          "GTM"
         ],
         "name": "GTM",
         "type": "choropleth",
         "z": [
          0.5633113989637304
         ]
        },
        {
         "coloraxis": "coloraxis",
         "geo": "geo5",
         "legendgroup": "c",
         "locationmode": "ISO-3",
         "locations": [
          "HKG"
         ],
         "name": "HKG",
         "type": "choropleth",
         "z": [
          0.42539897959183676
         ]
        },
        {
         "coloraxis": "coloraxis",
         "geo": "geo5",
         "legendgroup": "c",
         "locationmode": "ISO-3",
         "locations": [
          "HND"
         ],
         "name": "HND",
         "type": "choropleth",
         "z": [
          0.562169841269841
         ]
        },
        {
         "coloraxis": "coloraxis",
         "geo": "geo5",
         "legendgroup": "c",
         "locationmode": "ISO-3",
         "locations": [
          "HUN"
         ],
         "name": "HUN",
         "type": "choropleth",
         "z": [
          0.49518367346938735
         ]
        },
        {
         "coloraxis": "coloraxis",
         "geo": "geo5",
         "legendgroup": "c",
         "locationmode": "ISO-3",
         "locations": [
          "IDN"
         ],
         "name": "IDN",
         "type": "choropleth",
         "z": [
          0.4472720812182739
         ]
        },
        {
         "coloraxis": "coloraxis",
         "geo": "geo5",
         "legendgroup": "c",
         "locationmode": "ISO-3",
         "locations": [
          "IRL"
         ],
         "name": "IRL",
         "type": "choropleth",
         "z": [
          0.489164141414141
         ]
        },
        {
         "coloraxis": "coloraxis",
         "geo": "geo5",
         "legendgroup": "c",
         "locationmode": "ISO-3",
         "locations": [
          "ISL"
         ],
         "name": "ISL",
         "type": "choropleth",
         "z": [
          0.45144744897959177
         ]
        },
        {
         "coloraxis": "coloraxis",
         "geo": "geo5",
         "legendgroup": "c",
         "locationmode": "ISO-3",
         "locations": [
          "ISR"
         ],
         "name": "ISR",
         "type": "choropleth",
         "z": [
          0.5171943298969073
         ]
        },
        {
         "coloraxis": "coloraxis",
         "geo": "geo5",
         "legendgroup": "c",
         "locationmode": "ISO-3",
         "locations": [
          "ITA"
         ],
         "name": "ITA",
         "type": "choropleth",
         "z": [
          0.4899823232323231
         ]
        },
        {
         "coloraxis": "coloraxis",
         "geo": "geo5",
         "legendgroup": "c",
         "locationmode": "ISO-3",
         "locations": [
          "JPN"
         ],
         "name": "JPN",
         "type": "choropleth",
         "z": [
          0.509057512953368
         ]
        },
        {
         "coloraxis": "coloraxis",
         "geo": "geo5",
         "legendgroup": "c",
         "locationmode": "ISO-3",
         "locations": [
          "LTU"
         ],
         "name": "LTU",
         "type": "choropleth",
         "z": [
          0.47450964467005063
         ]
        },
        {
         "coloraxis": "coloraxis",
         "geo": "geo5",
         "legendgroup": "c",
         "locationmode": "ISO-3",
         "locations": [
          "LUX"
         ],
         "name": "LUX",
         "type": "choropleth",
         "z": [
          0.4745177664974616
         ]
        },
        {
         "coloraxis": "coloraxis",
         "geo": "geo5",
         "legendgroup": "c",
         "locationmode": "ISO-3",
         "locations": [
          "LVA"
         ],
         "name": "LVA",
         "type": "choropleth",
         "z": [
          0.45211573604060906
         ]
        },
        {
         "coloraxis": "coloraxis",
         "geo": "geo5",
         "legendgroup": "c",
         "locationmode": "ISO-3",
         "locations": [
          "MAR"
         ],
         "name": "MAR",
         "type": "choropleth",
         "z": [
          0.4950505050505046
         ]
        },
        {
         "coloraxis": "coloraxis",
         "geo": "geo5",
         "legendgroup": "c",
         "locationmode": "ISO-3",
         "locations": [
          "MEX"
         ],
         "name": "MEX",
         "type": "choropleth",
         "z": [
          0.5818178571428567
         ]
        },
        {
         "coloraxis": "coloraxis",
         "geo": "geo5",
         "legendgroup": "c",
         "locationmode": "ISO-3",
         "locations": [
          "MYS"
         ],
         "name": "MYS",
         "type": "choropleth",
         "z": [
          0.43308888888888886
         ]
        },
        {
         "coloraxis": "coloraxis",
         "geo": "geo5",
         "legendgroup": "c",
         "locationmode": "ISO-3",
         "locations": [
          "NIC"
         ],
         "name": "NIC",
         "type": "choropleth",
         "z": [
          0.5602832460732983
         ]
        },
        {
         "coloraxis": "coloraxis",
         "geo": "geo5",
         "legendgroup": "c",
         "locationmode": "ISO-3",
         "locations": [
          "NLD"
         ],
         "name": "NLD",
         "type": "choropleth",
         "z": [
          0.5347477272727271
         ]
        },
        {
         "coloraxis": "coloraxis",
         "geo": "geo5",
         "legendgroup": "c",
         "locationmode": "ISO-3",
         "locations": [
          "NOR"
         ],
         "name": "NOR",
         "type": "choropleth",
         "z": [
          0.4545273195876285
         ]
        },
        {
         "coloraxis": "coloraxis",
         "geo": "geo5",
         "legendgroup": "c",
         "locationmode": "ISO-3",
         "locations": [
          "NZL"
         ],
         "name": "NZL",
         "type": "choropleth",
         "z": [
          0.4874112244897958
         ]
        },
        {
         "coloraxis": "coloraxis",
         "geo": "geo5",
         "legendgroup": "c",
         "locationmode": "ISO-3",
         "locations": [
          "PAN"
         ],
         "name": "PAN",
         "type": "choropleth",
         "z": [
          0.5654036269430052
         ]
        },
        {
         "coloraxis": "coloraxis",
         "geo": "geo5",
         "legendgroup": "c",
         "locationmode": "ISO-3",
         "locations": [
          "PER"
         ],
         "name": "PER",
         "type": "choropleth",
         "z": [
          0.6132544041450778
         ]
        },
        {
         "coloraxis": "coloraxis",
         "geo": "geo5",
         "legendgroup": "c",
         "locationmode": "ISO-3",
         "locations": [
          "PHL"
         ],
         "name": "PHL",
         "type": "choropleth",
         "z": [
          0.4463492227979276
         ]
        },
        {
         "coloraxis": "coloraxis",
         "geo": "geo5",
         "legendgroup": "c",
         "locationmode": "ISO-3",
         "locations": [
          "POL"
         ],
         "name": "POL",
         "type": "choropleth",
         "z": [
          0.48739896907216484
         ]
        },
        {
         "coloraxis": "coloraxis",
         "geo": "geo5",
         "legendgroup": "c",
         "locationmode": "ISO-3",
         "locations": [
          "PRT"
         ],
         "name": "PRT",
         "type": "choropleth",
         "z": [
          0.4813578680203042
         ]
        },
        {
         "coloraxis": "coloraxis",
         "geo": "geo5",
         "legendgroup": "c",
         "locationmode": "ISO-3",
         "locations": [
          "PRY"
         ],
         "name": "PRY",
         "type": "choropleth",
         "z": [
          0.6032597883597883
         ]
        },
        {
         "coloraxis": "coloraxis",
         "geo": "geo5",
         "legendgroup": "c",
         "locationmode": "ISO-3",
         "locations": [
          "ROU"
         ],
         "name": "ROU",
         "type": "choropleth",
         "z": [
          0.45450406091370554
         ]
        },
        {
         "coloraxis": "coloraxis",
         "geo": "geo5",
         "legendgroup": "c",
         "locationmode": "ISO-3",
         "locations": [
          "SAU"
         ],
         "name": "SAU",
         "type": "choropleth",
         "z": [
          0.43469038461538473
         ]
        },
        {
         "coloraxis": "coloraxis",
         "geo": "geo5",
         "legendgroup": "c",
         "locationmode": "ISO-3",
         "locations": [
          "SGP"
         ],
         "name": "SGP",
         "type": "choropleth",
         "z": [
          0.4378025510204081
         ]
        },
        {
         "coloraxis": "coloraxis",
         "geo": "geo5",
         "legendgroup": "c",
         "locationmode": "ISO-3",
         "locations": [
          "SLV"
         ],
         "name": "SLV",
         "type": "choropleth",
         "z": [
          0.5661455958549221
         ]
        },
        {
         "coloraxis": "coloraxis",
         "geo": "geo5",
         "legendgroup": "c",
         "locationmode": "ISO-3",
         "locations": [
          "SVK"
         ],
         "name": "SVK",
         "type": "choropleth",
         "z": [
          0.4782144329896908
         ]
        },
        {
         "coloraxis": "coloraxis",
         "geo": "geo5",
         "legendgroup": "c",
         "locationmode": "ISO-3",
         "locations": [
          "SWE"
         ],
         "name": "SWE",
         "type": "choropleth",
         "z": [
          0.4588974226804123
         ]
        },
        {
         "coloraxis": "coloraxis",
         "geo": "geo5",
         "legendgroup": "c",
         "locationmode": "ISO-3",
         "locations": [
          "THA"
         ],
         "name": "THA",
         "type": "choropleth",
         "z": [
          0.4995601036269429
         ]
        },
        {
         "coloraxis": "coloraxis",
         "geo": "geo5",
         "legendgroup": "c",
         "locationmode": "ISO-3",
         "locations": [
          "TUR"
         ],
         "name": "TUR",
         "type": "choropleth",
         "z": [
          0.5179440414507773
         ]
        },
        {
         "coloraxis": "coloraxis",
         "geo": "geo5",
         "legendgroup": "c",
         "locationmode": "ISO-3",
         "locations": [
          "TWN"
         ],
         "name": "TWN",
         "type": "choropleth",
         "z": [
          0.4125246153846153
         ]
        },
        {
         "coloraxis": "coloraxis",
         "geo": "geo5",
         "legendgroup": "c",
         "locationmode": "ISO-3",
         "locations": [
          "URY"
         ],
         "name": "URY",
         "type": "choropleth",
         "z": [
          0.642665425531915
         ]
        },
        {
         "coloraxis": "coloraxis",
         "geo": "geo5",
         "legendgroup": "c",
         "locationmode": "ISO-3",
         "locations": [
          "USA"
         ],
         "name": "USA",
         "type": "choropleth",
         "z": [
          0.4538336683417082
         ]
        },
        {
         "coloraxis": "coloraxis",
         "geo": "geo5",
         "legendgroup": "c",
         "locationmode": "ISO-3",
         "locations": [
          "VNM"
         ],
         "name": "VNM",
         "type": "choropleth",
         "z": [
          0.41696969696969693
         ]
        },
        {
         "coloraxis": "coloraxis",
         "geo": "geo5",
         "legendgroup": "c",
         "locationmode": "ISO-3",
         "locations": [
          "ZAF"
         ],
         "name": "ZAF",
         "type": "choropleth",
         "z": [
          0.4290116279069768
         ]
        },
        {
         "coloraxis": "coloraxis2",
         "geo": "geo6",
         "legendgroup": "d",
         "locationmode": "ISO-3",
         "locations": [
          "ARE"
         ],
         "name": "ARE",
         "type": "choropleth",
         "z": [
          6.774
         ]
        },
        {
         "coloraxis": "coloraxis2",
         "geo": "geo6",
         "legendgroup": "d",
         "locationmode": "ISO-3",
         "locations": [
          "ARG"
         ],
         "name": "ARG",
         "type": "choropleth",
         "z": [
          6.388
         ]
        },
        {
         "coloraxis": "coloraxis2",
         "geo": "geo6",
         "legendgroup": "d",
         "locationmode": "ISO-3",
         "locations": [
          "AUS"
         ],
         "name": "AUS",
         "type": "choropleth",
         "z": [
          7.272
         ]
        },
        {
         "coloraxis": "coloraxis2",
         "geo": "geo6",
         "legendgroup": "d",
         "locationmode": "ISO-3",
         "locations": [
          "AUT"
         ],
         "name": "AUT",
         "type": "choropleth",
         "z": [
          7.139
         ]
        },
        {
         "coloraxis": "coloraxis2",
         "geo": "geo6",
         "legendgroup": "d",
         "locationmode": "ISO-3",
         "locations": [
          "BEL"
         ],
         "name": "BEL",
         "type": "choropleth",
         "z": [
          6.927
         ]
        },
        {
         "coloraxis": "coloraxis2",
         "geo": "geo6",
         "legendgroup": "d",
         "locationmode": "ISO-3",
         "locations": [
          "BGR"
         ],
         "name": "BGR",
         "type": "choropleth",
         "z": [
          4.933
         ]
        },
        {
         "coloraxis": "coloraxis2",
         "geo": "geo6",
         "legendgroup": "d",
         "locationmode": "ISO-3",
         "locations": [
          "BOL"
         ],
         "name": "BOL",
         "type": "choropleth",
         "z": [
          0
         ]
        },
        {
         "coloraxis": "coloraxis2",
         "geo": "geo6",
         "legendgroup": "d",
         "locationmode": "ISO-3",
         "locations": [
          "BRA"
         ],
         "name": "BRA",
         "type": "choropleth",
         "z": [
          6.419
         ]
        },
        {
         "coloraxis": "coloraxis2",
         "geo": "geo6",
         "legendgroup": "d",
         "locationmode": "ISO-3",
         "locations": [
          "CAN"
         ],
         "name": "CAN",
         "type": "choropleth",
         "z": [
          7.328
         ]
        },
        {
         "coloraxis": "coloraxis2",
         "geo": "geo6",
         "legendgroup": "d",
         "locationmode": "ISO-3",
         "locations": [
          "CHE"
         ],
         "name": "CHE",
         "type": "choropleth",
         "z": [
          7.487
         ]
        },
        {
         "coloraxis": "coloraxis2",
         "geo": "geo6",
         "legendgroup": "d",
         "locationmode": "ISO-3",
         "locations": [
          "CHL"
         ],
         "name": "CHL",
         "type": "choropleth",
         "z": [
          6.476
         ]
        },
        {
         "coloraxis": "coloraxis2",
         "geo": "geo6",
         "legendgroup": "d",
         "locationmode": "ISO-3",
         "locations": [
          "COL"
         ],
         "name": "COL",
         "type": "choropleth",
         "z": [
          6.26
         ]
        },
        {
         "coloraxis": "coloraxis2",
         "geo": "geo6",
         "legendgroup": "d",
         "locationmode": "ISO-3",
         "locations": [
          "CRI"
         ],
         "name": "CRI",
         "type": "choropleth",
         "z": [
          7.072
         ]
        },
        {
         "coloraxis": "coloraxis2",
         "geo": "geo6",
         "legendgroup": "d",
         "locationmode": "ISO-3",
         "locations": [
          "CYP"
         ],
         "name": "CYP",
         "type": "choropleth",
         "z": [
          5.762
         ]
        },
        {
         "coloraxis": "coloraxis2",
         "geo": "geo6",
         "legendgroup": "d",
         "locationmode": "ISO-3",
         "locations": [
          "CZE"
         ],
         "name": "CZE",
         "type": "choropleth",
         "z": [
          6.711
         ]
        },
        {
         "coloraxis": "coloraxis2",
         "geo": "geo6",
         "legendgroup": "d",
         "locationmode": "ISO-3",
         "locations": [
          "DEU"
         ],
         "name": "DEU",
         "type": "choropleth",
         "z": [
          6.965
         ]
        },
        {
         "coloraxis": "coloraxis2",
         "geo": "geo6",
         "legendgroup": "d",
         "locationmode": "ISO-3",
         "locations": [
          "DNK"
         ],
         "name": "DNK",
         "type": "choropleth",
         "z": [
          7.555
         ]
        },
        {
         "coloraxis": "coloraxis2",
         "geo": "geo6",
         "legendgroup": "d",
         "locationmode": "ISO-3",
         "locations": [
          "DOM"
         ],
         "name": "DOM",
         "type": "choropleth",
         "z": [
          5.302
         ]
        },
        {
         "coloraxis": "coloraxis2",
         "geo": "geo6",
         "legendgroup": "d",
         "locationmode": "ISO-3",
         "locations": [
          "ECU"
         ],
         "name": "ECU",
         "type": "choropleth",
         "z": [
          5.973
         ]
        },
        {
         "coloraxis": "coloraxis2",
         "geo": "geo6",
         "legendgroup": "d",
         "locationmode": "ISO-3",
         "locations": [
          "EGY"
         ],
         "name": "EGY",
         "type": "choropleth",
         "z": [
          4.419
         ]
        },
        {
         "coloraxis": "coloraxis2",
         "geo": "geo6",
         "legendgroup": "d",
         "locationmode": "ISO-3",
         "locations": [
          "ESP"
         ],
         "name": "ESP",
         "type": "choropleth",
         "z": [
          6.31
         ]
        },
        {
         "coloraxis": "coloraxis2",
         "geo": "geo6",
         "legendgroup": "d",
         "locationmode": "ISO-3",
         "locations": [
          "EST"
         ],
         "name": "EST",
         "type": "choropleth",
         "z": [
          5.739
         ]
        },
        {
         "coloraxis": "coloraxis2",
         "geo": "geo6",
         "legendgroup": "d",
         "locationmode": "ISO-3",
         "locations": [
          "FIN"
         ],
         "name": "FIN",
         "type": "choropleth",
         "z": [
          7.632
         ]
        },
        {
         "coloraxis": "coloraxis2",
         "geo": "geo6",
         "legendgroup": "d",
         "locationmode": "ISO-3",
         "locations": [
          "FRA"
         ],
         "name": "FRA",
         "type": "choropleth",
         "z": [
          6.489
         ]
        },
        {
         "coloraxis": "coloraxis2",
         "geo": "geo6",
         "legendgroup": "d",
         "locationmode": "ISO-3",
         "locations": [
          "GBR"
         ],
         "name": "GBR",
         "type": "choropleth",
         "z": [
          7.19
         ]
        },
        {
         "coloraxis": "coloraxis2",
         "geo": "geo6",
         "legendgroup": "d",
         "locationmode": "ISO-3",
         "locations": [
          "GRC"
         ],
         "name": "GRC",
         "type": "choropleth",
         "z": [
          5.358
         ]
        },
        {
         "coloraxis": "coloraxis2",
         "geo": "geo6",
         "legendgroup": "d",
         "locationmode": "ISO-3",
         "locations": [
          "GTM"
         ],
         "name": "GTM",
         "type": "choropleth",
         "z": [
          6.382
         ]
        },
        {
         "coloraxis": "coloraxis2",
         "geo": "geo6",
         "legendgroup": "d",
         "locationmode": "ISO-3",
         "locations": [
          "HKG"
         ],
         "name": "HKG",
         "type": "choropleth",
         "z": [
          5.43
         ]
        },
        {
         "coloraxis": "coloraxis2",
         "geo": "geo6",
         "legendgroup": "d",
         "locationmode": "ISO-3",
         "locations": [
          "HND"
         ],
         "name": "HND",
         "type": "choropleth",
         "z": [
          5.504
         ]
        },
        {
         "coloraxis": "coloraxis2",
         "geo": "geo6",
         "legendgroup": "d",
         "locationmode": "ISO-3",
         "locations": [
          "HUN"
         ],
         "name": "HUN",
         "type": "choropleth",
         "z": [
          5.62
         ]
        },
        {
         "coloraxis": "coloraxis2",
         "geo": "geo6",
         "legendgroup": "d",
         "locationmode": "ISO-3",
         "locations": [
          "IDN"
         ],
         "name": "IDN",
         "type": "choropleth",
         "z": [
          5.093
         ]
        },
        {
         "coloraxis": "coloraxis2",
         "geo": "geo6",
         "legendgroup": "d",
         "locationmode": "ISO-3",
         "locations": [
          "IRL"
         ],
         "name": "IRL",
         "type": "choropleth",
         "z": [
          6.977
         ]
        },
        {
         "coloraxis": "coloraxis2",
         "geo": "geo6",
         "legendgroup": "d",
         "locationmode": "ISO-3",
         "locations": [
          "ISL"
         ],
         "name": "ISL",
         "type": "choropleth",
         "z": [
          7.495
         ]
        },
        {
         "coloraxis": "coloraxis2",
         "geo": "geo6",
         "legendgroup": "d",
         "locationmode": "ISO-3",
         "locations": [
          "ISR"
         ],
         "name": "ISR",
         "type": "choropleth",
         "z": [
          6.814
         ]
        },
        {
         "coloraxis": "coloraxis2",
         "geo": "geo6",
         "legendgroup": "d",
         "locationmode": "ISO-3",
         "locations": [
          "ITA"
         ],
         "name": "ITA",
         "type": "choropleth",
         "z": [
          6
         ]
        },
        {
         "coloraxis": "coloraxis2",
         "geo": "geo6",
         "legendgroup": "d",
         "locationmode": "ISO-3",
         "locations": [
          "JPN"
         ],
         "name": "JPN",
         "type": "choropleth",
         "z": [
          5.915
         ]
        },
        {
         "coloraxis": "coloraxis2",
         "geo": "geo6",
         "legendgroup": "d",
         "locationmode": "ISO-3",
         "locations": [
          "LTU"
         ],
         "name": "LTU",
         "type": "choropleth",
         "z": [
          5.952
         ]
        },
        {
         "coloraxis": "coloraxis2",
         "geo": "geo6",
         "legendgroup": "d",
         "locationmode": "ISO-3",
         "locations": [
          "LUX"
         ],
         "name": "LUX",
         "type": "choropleth",
         "z": [
          6.91
         ]
        },
        {
         "coloraxis": "coloraxis2",
         "geo": "geo6",
         "legendgroup": "d",
         "locationmode": "ISO-3",
         "locations": [
          "LVA"
         ],
         "name": "LVA",
         "type": "choropleth",
         "z": [
          5.933
         ]
        },
        {
         "coloraxis": "coloraxis2",
         "geo": "geo6",
         "legendgroup": "d",
         "locationmode": "ISO-3",
         "locations": [
          "MAR"
         ],
         "name": "MAR",
         "type": "choropleth",
         "z": [
          5.254
         ]
        },
        {
         "coloraxis": "coloraxis2",
         "geo": "geo6",
         "legendgroup": "d",
         "locationmode": "ISO-3",
         "locations": [
          "MEX"
         ],
         "name": "MEX",
         "type": "choropleth",
         "z": [
          6.488
         ]
        },
        {
         "coloraxis": "coloraxis2",
         "geo": "geo6",
         "legendgroup": "d",
         "locationmode": "ISO-3",
         "locations": [
          "MYS"
         ],
         "name": "MYS",
         "type": "choropleth",
         "z": [
          6.322
         ]
        },
        {
         "coloraxis": "coloraxis2",
         "geo": "geo6",
         "legendgroup": "d",
         "locationmode": "ISO-3",
         "locations": [
          "NIC"
         ],
         "name": "NIC",
         "type": "choropleth",
         "z": [
          6.141
         ]
        },
        {
         "coloraxis": "coloraxis2",
         "geo": "geo6",
         "legendgroup": "d",
         "locationmode": "ISO-3",
         "locations": [
          "NLD"
         ],
         "name": "NLD",
         "type": "choropleth",
         "z": [
          7.441
         ]
        },
        {
         "coloraxis": "coloraxis2",
         "geo": "geo6",
         "legendgroup": "d",
         "locationmode": "ISO-3",
         "locations": [
          "NOR"
         ],
         "name": "NOR",
         "type": "choropleth",
         "z": [
          7.594
         ]
        },
        {
         "coloraxis": "coloraxis2",
         "geo": "geo6",
         "legendgroup": "d",
         "locationmode": "ISO-3",
         "locations": [
          "NZL"
         ],
         "name": "NZL",
         "type": "choropleth",
         "z": [
          7.324
         ]
        },
        {
         "coloraxis": "coloraxis2",
         "geo": "geo6",
         "legendgroup": "d",
         "locationmode": "ISO-3",
         "locations": [
          "PAN"
         ],
         "name": "PAN",
         "type": "choropleth",
         "z": [
          6.43
         ]
        },
        {
         "coloraxis": "coloraxis2",
         "geo": "geo6",
         "legendgroup": "d",
         "locationmode": "ISO-3",
         "locations": [
          "PER"
         ],
         "name": "PER",
         "type": "choropleth",
         "z": [
          5.663
         ]
        },
        {
         "coloraxis": "coloraxis2",
         "geo": "geo6",
         "legendgroup": "d",
         "locationmode": "ISO-3",
         "locations": [
          "PHL"
         ],
         "name": "PHL",
         "type": "choropleth",
         "z": [
          5.524
         ]
        },
        {
         "coloraxis": "coloraxis2",
         "geo": "geo6",
         "legendgroup": "d",
         "locationmode": "ISO-3",
         "locations": [
          "POL"
         ],
         "name": "POL",
         "type": "choropleth",
         "z": [
          6.123
         ]
        },
        {
         "coloraxis": "coloraxis2",
         "geo": "geo6",
         "legendgroup": "d",
         "locationmode": "ISO-3",
         "locations": [
          "PRT"
         ],
         "name": "PRT",
         "type": "choropleth",
         "z": [
          5.41
         ]
        },
        {
         "coloraxis": "coloraxis2",
         "geo": "geo6",
         "legendgroup": "d",
         "locationmode": "ISO-3",
         "locations": [
          "PRY"
         ],
         "name": "PRY",
         "type": "choropleth",
         "z": [
          5.681
         ]
        },
        {
         "coloraxis": "coloraxis2",
         "geo": "geo6",
         "legendgroup": "d",
         "locationmode": "ISO-3",
         "locations": [
          "ROU"
         ],
         "name": "ROU",
         "type": "choropleth",
         "z": [
          5.945
         ]
        },
        {
         "coloraxis": "coloraxis2",
         "geo": "geo6",
         "legendgroup": "d",
         "locationmode": "ISO-3",
         "locations": [
          "SAU"
         ],
         "name": "SAU",
         "type": "choropleth",
         "z": [
          6.371
         ]
        },
        {
         "coloraxis": "coloraxis2",
         "geo": "geo6",
         "legendgroup": "d",
         "locationmode": "ISO-3",
         "locations": [
          "SGP"
         ],
         "name": "SGP",
         "type": "choropleth",
         "z": [
          6.343
         ]
        },
        {
         "coloraxis": "coloraxis2",
         "geo": "geo6",
         "legendgroup": "d",
         "locationmode": "ISO-3",
         "locations": [
          "SLV"
         ],
         "name": "SLV",
         "type": "choropleth",
         "z": [
          6.167
         ]
        },
        {
         "coloraxis": "coloraxis2",
         "geo": "geo6",
         "legendgroup": "d",
         "locationmode": "ISO-3",
         "locations": [
          "SVK"
         ],
         "name": "SVK",
         "type": "choropleth",
         "z": [
          6.173
         ]
        },
        {
         "coloraxis": "coloraxis2",
         "geo": "geo6",
         "legendgroup": "d",
         "locationmode": "ISO-3",
         "locations": [
          "SWE"
         ],
         "name": "SWE",
         "type": "choropleth",
         "z": [
          7.314
         ]
        },
        {
         "coloraxis": "coloraxis2",
         "geo": "geo6",
         "legendgroup": "d",
         "locationmode": "ISO-3",
         "locations": [
          "THA"
         ],
         "name": "THA",
         "type": "choropleth",
         "z": [
          6.072
         ]
        },
        {
         "coloraxis": "coloraxis2",
         "geo": "geo6",
         "legendgroup": "d",
         "locationmode": "ISO-3",
         "locations": [
          "TUR"
         ],
         "name": "TUR",
         "type": "choropleth",
         "z": [
          5.483
         ]
        },
        {
         "coloraxis": "coloraxis2",
         "geo": "geo6",
         "legendgroup": "d",
         "locationmode": "ISO-3",
         "locations": [
          "TWN"
         ],
         "name": "TWN",
         "type": "choropleth",
         "z": [
          0
         ]
        },
        {
         "coloraxis": "coloraxis2",
         "geo": "geo6",
         "legendgroup": "d",
         "locationmode": "ISO-3",
         "locations": [
          "URY"
         ],
         "name": "URY",
         "type": "choropleth",
         "z": [
          6.379
         ]
        },
        {
         "coloraxis": "coloraxis2",
         "geo": "geo6",
         "legendgroup": "d",
         "locationmode": "ISO-3",
         "locations": [
          "USA"
         ],
         "name": "USA",
         "type": "choropleth",
         "z": [
          6.886
         ]
        },
        {
         "coloraxis": "coloraxis2",
         "geo": "geo6",
         "legendgroup": "d",
         "locationmode": "ISO-3",
         "locations": [
          "VNM"
         ],
         "name": "VNM",
         "type": "choropleth",
         "z": [
          0
         ]
        },
        {
         "coloraxis": "coloraxis2",
         "geo": "geo6",
         "legendgroup": "d",
         "locationmode": "ISO-3",
         "locations": [
          "ZAF"
         ],
         "name": "ZAF",
         "type": "choropleth",
         "z": [
          4.724
         ]
        },
        {
         "coloraxis": "coloraxis",
         "geo": "geo7",
         "legendgroup": "c",
         "locationmode": "ISO-3",
         "locations": [
          "ARE"
         ],
         "name": "ARE",
         "type": "choropleth",
         "z": [
          0.43205199999999977
         ]
        },
        {
         "coloraxis": "coloraxis",
         "geo": "geo7",
         "legendgroup": "c",
         "locationmode": "ISO-3",
         "locations": [
          "ARG"
         ],
         "name": "ARG",
         "type": "choropleth",
         "z": [
          0.6004873096446699
         ]
        },
        {
         "coloraxis": "coloraxis",
         "geo": "geo7",
         "legendgroup": "c",
         "locationmode": "ISO-3",
         "locations": [
          "AUS"
         ],
         "name": "AUS",
         "type": "choropleth",
         "z": [
          0.4567979695431473
         ]
        },
        {
         "coloraxis": "coloraxis",
         "geo": "geo7",
         "legendgroup": "c",
         "locationmode": "ISO-3",
         "locations": [
          "AUT"
         ],
         "name": "AUT",
         "type": "choropleth",
         "z": [
          0.46434021164021155
         ]
        },
        {
         "coloraxis": "coloraxis",
         "geo": "geo7",
         "legendgroup": "c",
         "locationmode": "ISO-3",
         "locations": [
          "BEL"
         ],
         "name": "BEL",
         "type": "choropleth",
         "z": [
          0.4621673366834173
         ]
        },
        {
         "coloraxis": "coloraxis",
         "geo": "geo7",
         "legendgroup": "c",
         "locationmode": "ISO-3",
         "locations": [
          "BGR"
         ],
         "name": "BGR",
         "type": "choropleth",
         "z": [
          0.4649085
         ]
        },
        {
         "coloraxis": "coloraxis",
         "geo": "geo7",
         "legendgroup": "c",
         "locationmode": "ISO-3",
         "locations": [
          "BOL"
         ],
         "name": "BOL",
         "type": "choropleth",
         "z": [
          0.6128793969849242
         ]
        },
        {
         "coloraxis": "coloraxis",
         "geo": "geo7",
         "legendgroup": "c",
         "locationmode": "ISO-3",
         "locations": [
          "BRA"
         ],
         "name": "BRA",
         "type": "choropleth",
         "z": [
          0.6108442211055276
         ]
        },
        {
         "coloraxis": "coloraxis",
         "geo": "geo7",
         "legendgroup": "c",
         "locationmode": "ISO-3",
         "locations": [
          "CAN"
         ],
         "name": "CAN",
         "type": "choropleth",
         "z": [
          0.43674199999999996
         ]
        },
        {
         "coloraxis": "coloraxis",
         "geo": "geo7",
         "legendgroup": "c",
         "locationmode": "ISO-3",
         "locations": [
          "CHE"
         ],
         "name": "CHE",
         "type": "choropleth",
         "z": [
          0.4603056701030924
         ]
        },
        {
         "coloraxis": "coloraxis",
         "geo": "geo7",
         "legendgroup": "c",
         "locationmode": "ISO-3",
         "locations": [
          "CHL"
         ],
         "name": "CHL",
         "type": "choropleth",
         "z": [
          0.6216984924623117
         ]
        },
        {
         "coloraxis": "coloraxis",
         "geo": "geo7",
         "legendgroup": "c",
         "locationmode": "ISO-3",
         "locations": [
          "COL"
         ],
         "name": "COL",
         "type": "choropleth",
         "z": [
          0.62921
         ]
        },
        {
         "coloraxis": "coloraxis",
         "geo": "geo7",
         "legendgroup": "c",
         "locationmode": "ISO-3",
         "locations": [
          "CRI"
         ],
         "name": "CRI",
         "type": "choropleth",
         "z": [
          0.5747638190954772
         ]
        },
        {
         "coloraxis": "coloraxis",
         "geo": "geo7",
         "legendgroup": "c",
         "locationmode": "ISO-3",
         "locations": [
          "CYP"
         ],
         "name": "CYP",
         "type": "choropleth",
         "z": [
          0.4501021505376343
         ]
        },
        {
         "coloraxis": "coloraxis",
         "geo": "geo7",
         "legendgroup": "c",
         "locationmode": "ISO-3",
         "locations": [
          "CZE"
         ],
         "name": "CZE",
         "type": "choropleth",
         "z": [
          0.45122049999999964
         ]
        },
        {
         "coloraxis": "coloraxis",
         "geo": "geo7",
         "legendgroup": "c",
         "locationmode": "ISO-3",
         "locations": [
          "DEU"
         ],
         "name": "DEU",
         "type": "choropleth",
         "z": [
          0.4755518518518516
         ]
        },
        {
         "coloraxis": "coloraxis",
         "geo": "geo7",
         "legendgroup": "c",
         "locationmode": "ISO-3",
         "locations": [
          "DNK"
         ],
         "name": "DNK",
         "type": "choropleth",
         "z": [
          0.4799444444444441
         ]
        },
        {
         "coloraxis": "coloraxis",
         "geo": "geo7",
         "legendgroup": "c",
         "locationmode": "ISO-3",
         "locations": [
          "DOM"
         ],
         "name": "DOM",
         "type": "choropleth",
         "z": [
          0.580262626262626
         ]
        },
        {
         "coloraxis": "coloraxis",
         "geo": "geo7",
         "legendgroup": "c",
         "locationmode": "ISO-3",
         "locations": [
          "ECU"
         ],
         "name": "ECU",
         "type": "choropleth",
         "z": [
          0.624445
         ]
        },
        {
         "coloraxis": "coloraxis",
         "geo": "geo7",
         "legendgroup": "c",
         "locationmode": "ISO-3",
         "locations": [
          "EGY"
         ],
         "name": "EGY",
         "type": "choropleth",
         "z": [
          0.47685128205128213
         ]
        },
        {
         "coloraxis": "coloraxis",
         "geo": "geo7",
         "legendgroup": "c",
         "locationmode": "ISO-3",
         "locations": [
          "ESP"
         ],
         "name": "ESP",
         "type": "choropleth",
         "z": [
          0.5646935
         ]
        },
        {
         "coloraxis": "coloraxis",
         "geo": "geo7",
         "legendgroup": "c",
         "locationmode": "ISO-3",
         "locations": [
          "EST"
         ],
         "name": "EST",
         "type": "choropleth",
         "z": [
          0.4498084999999996
         ]
        },
        {
         "coloraxis": "coloraxis",
         "geo": "geo7",
         "legendgroup": "c",
         "locationmode": "ISO-3",
         "locations": [
          "FIN"
         ],
         "name": "FIN",
         "type": "choropleth",
         "z": [
          0.4605821428571424
         ]
        },
        {
         "coloraxis": "coloraxis",
         "geo": "geo7",
         "legendgroup": "c",
         "locationmode": "ISO-3",
         "locations": [
          "FRA"
         ],
         "name": "FRA",
         "type": "choropleth",
         "z": [
          0.5059522842639594
         ]
        },
        {
         "coloraxis": "coloraxis",
         "geo": "geo7",
         "legendgroup": "c",
         "locationmode": "ISO-3",
         "locations": [
          "GBR"
         ],
         "name": "GBR",
         "type": "choropleth",
         "z": [
          0.45863015075376873
         ]
        },
        {
         "coloraxis": "coloraxis",
         "geo": "geo7",
         "legendgroup": "c",
         "locationmode": "ISO-3",
         "locations": [
          "GRC"
         ],
         "name": "GRC",
         "type": "choropleth",
         "z": [
          0.4451447236180904
         ]
        },
        {
         "coloraxis": "coloraxis",
         "geo": "geo7",
         "legendgroup": "c",
         "locationmode": "ISO-3",
         "locations": [
          "GTM"
         ],
         "name": "GTM",
         "type": "choropleth",
         "z": [
          0.5898944723618088
         ]
        },
        {
         "coloraxis": "coloraxis",
         "geo": "geo7",
         "legendgroup": "c",
         "locationmode": "ISO-3",
         "locations": [
          "HKG"
         ],
         "name": "HKG",
         "type": "choropleth",
         "z": [
          0.40792777777777744
         ]
        },
        {
         "coloraxis": "coloraxis",
         "geo": "geo7",
         "legendgroup": "c",
         "locationmode": "ISO-3",
         "locations": [
          "HND"
         ],
         "name": "HND",
         "type": "choropleth",
         "z": [
          0.578256281407035
         ]
        },
        {
         "coloraxis": "coloraxis",
         "geo": "geo7",
         "legendgroup": "c",
         "locationmode": "ISO-3",
         "locations": [
          "HUN"
         ],
         "name": "HUN",
         "type": "choropleth",
         "z": [
          0.4746864999999996
         ]
        },
        {
         "coloraxis": "coloraxis",
         "geo": "geo7",
         "legendgroup": "c",
         "locationmode": "ISO-3",
         "locations": [
          "IDN"
         ],
         "name": "IDN",
         "type": "choropleth",
         "z": [
          0.45639274611398944
         ]
        },
        {
         "coloraxis": "coloraxis",
         "geo": "geo7",
         "legendgroup": "c",
         "locationmode": "ISO-3",
         "locations": [
          "IND"
         ],
         "name": "IND",
         "type": "choropleth",
         "z": [
          0.4624548913043477
         ]
        },
        {
         "coloraxis": "coloraxis",
         "geo": "geo7",
         "legendgroup": "c",
         "locationmode": "ISO-3",
         "locations": [
          "IRL"
         ],
         "name": "IRL",
         "type": "choropleth",
         "z": [
          0.4385835
         ]
        },
        {
         "coloraxis": "coloraxis",
         "geo": "geo7",
         "legendgroup": "c",
         "locationmode": "ISO-3",
         "locations": [
          "ISL"
         ],
         "name": "ISL",
         "type": "choropleth",
         "z": [
          0.46134299999999995
         ]
        },
        {
         "coloraxis": "coloraxis",
         "geo": "geo7",
         "legendgroup": "c",
         "locationmode": "ISO-3",
         "locations": [
          "ISR"
         ],
         "name": "ISR",
         "type": "choropleth",
         "z": [
          0.4695343434343434
         ]
        },
        {
         "coloraxis": "coloraxis",
         "geo": "geo7",
         "legendgroup": "c",
         "locationmode": "ISO-3",
         "locations": [
          "ITA"
         ],
         "name": "ITA",
         "type": "choropleth",
         "z": [
          0.4809005076142131
         ]
        },
        {
         "coloraxis": "coloraxis",
         "geo": "geo7",
         "legendgroup": "c",
         "locationmode": "ISO-3",
         "locations": [
          "JPN"
         ],
         "name": "JPN",
         "type": "choropleth",
         "z": [
          0.5119438775510201
         ]
        },
        {
         "coloraxis": "coloraxis",
         "geo": "geo7",
         "legendgroup": "c",
         "locationmode": "ISO-3",
         "locations": [
          "LTU"
         ],
         "name": "LTU",
         "type": "choropleth",
         "z": [
          0.4436134999999998
         ]
        },
        {
         "coloraxis": "coloraxis",
         "geo": "geo7",
         "legendgroup": "c",
         "locationmode": "ISO-3",
         "locations": [
          "LUX"
         ],
         "name": "LUX",
         "type": "choropleth",
         "z": [
          0.4559309644670048
         ]
        },
        {
         "coloraxis": "coloraxis",
         "geo": "geo7",
         "legendgroup": "c",
         "locationmode": "ISO-3",
         "locations": [
          "LVA"
         ],
         "name": "LVA",
         "type": "choropleth",
         "z": [
          0.4461504999999997
         ]
        },
        {
         "coloraxis": "coloraxis",
         "geo": "geo7",
         "legendgroup": "c",
         "locationmode": "ISO-3",
         "locations": [
          "MAR"
         ],
         "name": "MAR",
         "type": "choropleth",
         "z": [
          0.5135263959390861
         ]
        },
        {
         "coloraxis": "coloraxis",
         "geo": "geo7",
         "legendgroup": "c",
         "locationmode": "ISO-3",
         "locations": [
          "MEX"
         ],
         "name": "MEX",
         "type": "choropleth",
         "z": [
          0.608150753768844
         ]
        },
        {
         "coloraxis": "coloraxis",
         "geo": "geo7",
         "legendgroup": "c",
         "locationmode": "ISO-3",
         "locations": [
          "MYS"
         ],
         "name": "MYS",
         "type": "choropleth",
         "z": [
          0.4277331632653061
         ]
        },
        {
         "coloraxis": "coloraxis",
         "geo": "geo7",
         "legendgroup": "c",
         "locationmode": "ISO-3",
         "locations": [
          "NIC"
         ],
         "name": "NIC",
         "type": "choropleth",
         "z": [
          0.5677035175879397
         ]
        },
        {
         "coloraxis": "coloraxis",
         "geo": "geo7",
         "legendgroup": "c",
         "locationmode": "ISO-3",
         "locations": [
          "NLD"
         ],
         "name": "NLD",
         "type": "choropleth",
         "z": [
          0.5159959595959596
         ]
        },
        {
         "coloraxis": "coloraxis",
         "geo": "geo7",
         "legendgroup": "c",
         "locationmode": "ISO-3",
         "locations": [
          "NOR"
         ],
         "name": "NOR",
         "type": "choropleth",
         "z": [
          0.4317464285714285
         ]
        },
        {
         "coloraxis": "coloraxis",
         "geo": "geo7",
         "legendgroup": "c",
         "locationmode": "ISO-3",
         "locations": [
          "NZL"
         ],
         "name": "NZL",
         "type": "choropleth",
         "z": [
          0.4824221105527638
         ]
        },
        {
         "coloraxis": "coloraxis",
         "geo": "geo7",
         "legendgroup": "c",
         "locationmode": "ISO-3",
         "locations": [
          "PAN"
         ],
         "name": "PAN",
         "type": "choropleth",
         "z": [
          0.6077085427135678
         ]
        },
        {
         "coloraxis": "coloraxis",
         "geo": "geo7",
         "legendgroup": "c",
         "locationmode": "ISO-3",
         "locations": [
          "PER"
         ],
         "name": "PER",
         "type": "choropleth",
         "z": [
          0.6445226130653265
         ]
        },
        {
         "coloraxis": "coloraxis",
         "geo": "geo7",
         "legendgroup": "c",
         "locationmode": "ISO-3",
         "locations": [
          "PHL"
         ],
         "name": "PHL",
         "type": "choropleth",
         "z": [
          0.4152091370558376
         ]
        },
        {
         "coloraxis": "coloraxis",
         "geo": "geo7",
         "legendgroup": "c",
         "locationmode": "ISO-3",
         "locations": [
          "POL"
         ],
         "name": "POL",
         "type": "choropleth",
         "z": [
          0.46120050251256234
         ]
        },
        {
         "coloraxis": "coloraxis",
         "geo": "geo7",
         "legendgroup": "c",
         "locationmode": "ISO-3",
         "locations": [
          "PRT"
         ],
         "name": "PRT",
         "type": "choropleth",
         "z": [
          0.4546648241206031
         ]
        },
        {
         "coloraxis": "coloraxis",
         "geo": "geo7",
         "legendgroup": "c",
         "locationmode": "ISO-3",
         "locations": [
          "PRY"
         ],
         "name": "PRY",
         "type": "choropleth",
         "z": [
          0.5936464646464645
         ]
        },
        {
         "coloraxis": "coloraxis",
         "geo": "geo7",
         "legendgroup": "c",
         "locationmode": "ISO-3",
         "locations": [
          "ROU"
         ],
         "name": "ROU",
         "type": "choropleth",
         "z": [
          0.445766
         ]
        },
        {
         "coloraxis": "coloraxis",
         "geo": "geo7",
         "legendgroup": "c",
         "locationmode": "ISO-3",
         "locations": [
          "SAU"
         ],
         "name": "SAU",
         "type": "choropleth",
         "z": [
          0.44934242424242377
         ]
        },
        {
         "coloraxis": "coloraxis",
         "geo": "geo7",
         "legendgroup": "c",
         "locationmode": "ISO-3",
         "locations": [
          "SGP"
         ],
         "name": "SGP",
         "type": "choropleth",
         "z": [
          0.41490204081632637
         ]
        },
        {
         "coloraxis": "coloraxis",
         "geo": "geo7",
         "legendgroup": "c",
         "locationmode": "ISO-3",
         "locations": [
          "SLV"
         ],
         "name": "SLV",
         "type": "choropleth",
         "z": [
          0.5786432160804017
         ]
        },
        {
         "coloraxis": "coloraxis",
         "geo": "geo7",
         "legendgroup": "c",
         "locationmode": "ISO-3",
         "locations": [
          "SVK"
         ],
         "name": "SVK",
         "type": "choropleth",
         "z": [
          0.4529558375634518
         ]
        },
        {
         "coloraxis": "coloraxis",
         "geo": "geo7",
         "legendgroup": "c",
         "locationmode": "ISO-3",
         "locations": [
          "SWE"
         ],
         "name": "SWE",
         "type": "choropleth",
         "z": [
          0.43954329896907224
         ]
        },
        {
         "coloraxis": "coloraxis",
         "geo": "geo7",
         "legendgroup": "c",
         "locationmode": "ISO-3",
         "locations": [
          "THA"
         ],
         "name": "THA",
         "type": "choropleth",
         "z": [
          0.48556467391304325
         ]
        },
        {
         "coloraxis": "coloraxis",
         "geo": "geo7",
         "legendgroup": "c",
         "locationmode": "ISO-3",
         "locations": [
          "TUR"
         ],
         "name": "TUR",
         "type": "choropleth",
         "z": [
          0.46339844559585475
         ]
        },
        {
         "coloraxis": "coloraxis",
         "geo": "geo7",
         "legendgroup": "c",
         "locationmode": "ISO-3",
         "locations": [
          "TWN"
         ],
         "name": "TWN",
         "type": "choropleth",
         "z": [
          0.383148205128205
         ]
        },
        {
         "coloraxis": "coloraxis",
         "geo": "geo7",
         "legendgroup": "c",
         "locationmode": "ISO-3",
         "locations": [
          "URY"
         ],
         "name": "URY",
         "type": "choropleth",
         "z": [
          0.6333877551020409
         ]
        },
        {
         "coloraxis": "coloraxis",
         "geo": "geo7",
         "legendgroup": "c",
         "locationmode": "ISO-3",
         "locations": [
          "USA"
         ],
         "name": "USA",
         "type": "choropleth",
         "z": [
          0.42652750000000006
         ]
        },
        {
         "coloraxis": "coloraxis",
         "geo": "geo7",
         "legendgroup": "c",
         "locationmode": "ISO-3",
         "locations": [
          "VNM"
         ],
         "name": "VNM",
         "type": "choropleth",
         "z": [
          0.41727684210526317
         ]
        },
        {
         "coloraxis": "coloraxis",
         "geo": "geo7",
         "legendgroup": "c",
         "locationmode": "ISO-3",
         "locations": [
          "ZAF"
         ],
         "name": "ZAF",
         "type": "choropleth",
         "z": [
          0.45471557788944694
         ]
        },
        {
         "coloraxis": "coloraxis2",
         "geo": "geo8",
         "legendgroup": "d",
         "locationmode": "ISO-3",
         "locations": [
          "ARE"
         ],
         "name": "ARE",
         "type": "choropleth",
         "z": [
          6.825
         ]
        },
        {
         "coloraxis": "coloraxis2",
         "geo": "geo8",
         "legendgroup": "d",
         "locationmode": "ISO-3",
         "locations": [
          "ARG"
         ],
         "name": "ARG",
         "type": "choropleth",
         "z": [
          6.086
         ]
        },
        {
         "coloraxis": "coloraxis2",
         "geo": "geo8",
         "legendgroup": "d",
         "locationmode": "ISO-3",
         "locations": [
          "AUS"
         ],
         "name": "AUS",
         "type": "choropleth",
         "z": [
          7.228
         ]
        },
        {
         "coloraxis": "coloraxis2",
         "geo": "geo8",
         "legendgroup": "d",
         "locationmode": "ISO-3",
         "locations": [
          "AUT"
         ],
         "name": "AUT",
         "type": "choropleth",
         "z": [
          7.246
         ]
        },
        {
         "coloraxis": "coloraxis2",
         "geo": "geo8",
         "legendgroup": "d",
         "locationmode": "ISO-3",
         "locations": [
          "BEL"
         ],
         "name": "BEL",
         "type": "choropleth",
         "z": [
          6.923
         ]
        },
        {
         "coloraxis": "coloraxis2",
         "geo": "geo8",
         "legendgroup": "d",
         "locationmode": "ISO-3",
         "locations": [
          "BGR"
         ],
         "name": "BGR",
         "type": "choropleth",
         "z": [
          5.011
         ]
        },
        {
         "coloraxis": "coloraxis2",
         "geo": "geo8",
         "legendgroup": "d",
         "locationmode": "ISO-3",
         "locations": [
          "BOL"
         ],
         "name": "BOL",
         "type": "choropleth",
         "z": [
          0
         ]
        },
        {
         "coloraxis": "coloraxis2",
         "geo": "geo8",
         "legendgroup": "d",
         "locationmode": "ISO-3",
         "locations": [
          "BRA"
         ],
         "name": "BRA",
         "type": "choropleth",
         "z": [
          6.3
         ]
        },
        {
         "coloraxis": "coloraxis2",
         "geo": "geo8",
         "legendgroup": "d",
         "locationmode": "ISO-3",
         "locations": [
          "CAN"
         ],
         "name": "CAN",
         "type": "choropleth",
         "z": [
          7.278
         ]
        },
        {
         "coloraxis": "coloraxis2",
         "geo": "geo8",
         "legendgroup": "d",
         "locationmode": "ISO-3",
         "locations": [
          "CHE"
         ],
         "name": "CHE",
         "type": "choropleth",
         "z": [
          7.48
         ]
        },
        {
         "coloraxis": "coloraxis2",
         "geo": "geo8",
         "legendgroup": "d",
         "locationmode": "ISO-3",
         "locations": [
          "CHL"
         ],
         "name": "CHL",
         "type": "choropleth",
         "z": [
          6.444
         ]
        },
        {
         "coloraxis": "coloraxis2",
         "geo": "geo8",
         "legendgroup": "d",
         "locationmode": "ISO-3",
         "locations": [
          "COL"
         ],
         "name": "COL",
         "type": "choropleth",
         "z": [
          6.125
         ]
        },
        {
         "coloraxis": "coloraxis2",
         "geo": "geo8",
         "legendgroup": "d",
         "locationmode": "ISO-3",
         "locations": [
          "CRI"
         ],
         "name": "CRI",
         "type": "choropleth",
         "z": [
          7.167
         ]
        },
        {
         "coloraxis": "coloraxis2",
         "geo": "geo8",
         "legendgroup": "d",
         "locationmode": "ISO-3",
         "locations": [
          "CYP"
         ],
         "name": "CYP",
         "type": "choropleth",
         "z": [
          6.046
         ]
        },
        {
         "coloraxis": "coloraxis2",
         "geo": "geo8",
         "legendgroup": "d",
         "locationmode": "ISO-3",
         "locations": [
          "CZE"
         ],
         "name": "CZE",
         "type": "choropleth",
         "z": [
          6.852
         ]
        },
        {
         "coloraxis": "coloraxis2",
         "geo": "geo8",
         "legendgroup": "d",
         "locationmode": "ISO-3",
         "locations": [
          "DEU"
         ],
         "name": "DEU",
         "type": "choropleth",
         "z": [
          6.985
         ]
        },
        {
         "coloraxis": "coloraxis2",
         "geo": "geo8",
         "legendgroup": "d",
         "locationmode": "ISO-3",
         "locations": [
          "DNK"
         ],
         "name": "DNK",
         "type": "choropleth",
         "z": [
          7.6
         ]
        },
        {
         "coloraxis": "coloraxis2",
         "geo": "geo8",
         "legendgroup": "d",
         "locationmode": "ISO-3",
         "locations": [
          "DOM"
         ],
         "name": "DOM",
         "type": "choropleth",
         "z": [
          5.425
         ]
        },
        {
         "coloraxis": "coloraxis2",
         "geo": "geo8",
         "legendgroup": "d",
         "locationmode": "ISO-3",
         "locations": [
          "ECU"
         ],
         "name": "ECU",
         "type": "choropleth",
         "z": [
          6.028
         ]
        },
        {
         "coloraxis": "coloraxis2",
         "geo": "geo8",
         "legendgroup": "d",
         "locationmode": "ISO-3",
         "locations": [
          "EGY"
         ],
         "name": "EGY",
         "type": "choropleth",
         "z": [
          4.166
         ]
        },
        {
         "coloraxis": "coloraxis2",
         "geo": "geo8",
         "legendgroup": "d",
         "locationmode": "ISO-3",
         "locations": [
          "ESP"
         ],
         "name": "ESP",
         "type": "choropleth",
         "z": [
          6.354
         ]
        },
        {
         "coloraxis": "coloraxis2",
         "geo": "geo8",
         "legendgroup": "d",
         "locationmode": "ISO-3",
         "locations": [
          "EST"
         ],
         "name": "EST",
         "type": "choropleth",
         "z": [
          5.893
         ]
        },
        {
         "coloraxis": "coloraxis2",
         "geo": "geo8",
         "legendgroup": "d",
         "locationmode": "ISO-3",
         "locations": [
          "FIN"
         ],
         "name": "FIN",
         "type": "choropleth",
         "z": [
          7.769
         ]
        },
        {
         "coloraxis": "coloraxis2",
         "geo": "geo8",
         "legendgroup": "d",
         "locationmode": "ISO-3",
         "locations": [
          "FRA"
         ],
         "name": "FRA",
         "type": "choropleth",
         "z": [
          6.592
         ]
        },
        {
         "coloraxis": "coloraxis2",
         "geo": "geo8",
         "legendgroup": "d",
         "locationmode": "ISO-3",
         "locations": [
          "GBR"
         ],
         "name": "GBR",
         "type": "choropleth",
         "z": [
          7.054
         ]
        },
        {
         "coloraxis": "coloraxis2",
         "geo": "geo8",
         "legendgroup": "d",
         "locationmode": "ISO-3",
         "locations": [
          "GRC"
         ],
         "name": "GRC",
         "type": "choropleth",
         "z": [
          5.287
         ]
        },
        {
         "coloraxis": "coloraxis2",
         "geo": "geo8",
         "legendgroup": "d",
         "locationmode": "ISO-3",
         "locations": [
          "GTM"
         ],
         "name": "GTM",
         "type": "choropleth",
         "z": [
          6.436
         ]
        },
        {
         "coloraxis": "coloraxis2",
         "geo": "geo8",
         "legendgroup": "d",
         "locationmode": "ISO-3",
         "locations": [
          "HKG"
         ],
         "name": "HKG",
         "type": "choropleth",
         "z": [
          5.43
         ]
        },
        {
         "coloraxis": "coloraxis2",
         "geo": "geo8",
         "legendgroup": "d",
         "locationmode": "ISO-3",
         "locations": [
          "HND"
         ],
         "name": "HND",
         "type": "choropleth",
         "z": [
          5.86
         ]
        },
        {
         "coloraxis": "coloraxis2",
         "geo": "geo8",
         "legendgroup": "d",
         "locationmode": "ISO-3",
         "locations": [
          "HUN"
         ],
         "name": "HUN",
         "type": "choropleth",
         "z": [
          5.758
         ]
        },
        {
         "coloraxis": "coloraxis2",
         "geo": "geo8",
         "legendgroup": "d",
         "locationmode": "ISO-3",
         "locations": [
          "IDN"
         ],
         "name": "IDN",
         "type": "choropleth",
         "z": [
          5.192
         ]
        },
        {
         "coloraxis": "coloraxis2",
         "geo": "geo8",
         "legendgroup": "d",
         "locationmode": "ISO-3",
         "locations": [
          "IND"
         ],
         "name": "IND",
         "type": "choropleth",
         "z": [
          4.015
         ]
        },
        {
         "coloraxis": "coloraxis2",
         "geo": "geo8",
         "legendgroup": "d",
         "locationmode": "ISO-3",
         "locations": [
          "IRL"
         ],
         "name": "IRL",
         "type": "choropleth",
         "z": [
          7.021
         ]
        },
        {
         "coloraxis": "coloraxis2",
         "geo": "geo8",
         "legendgroup": "d",
         "locationmode": "ISO-3",
         "locations": [
          "ISL"
         ],
         "name": "ISL",
         "type": "choropleth",
         "z": [
          7.494
         ]
        },
        {
         "coloraxis": "coloraxis2",
         "geo": "geo8",
         "legendgroup": "d",
         "locationmode": "ISO-3",
         "locations": [
          "ISR"
         ],
         "name": "ISR",
         "type": "choropleth",
         "z": [
          7.139
         ]
        },
        {
         "coloraxis": "coloraxis2",
         "geo": "geo8",
         "legendgroup": "d",
         "locationmode": "ISO-3",
         "locations": [
          "ITA"
         ],
         "name": "ITA",
         "type": "choropleth",
         "z": [
          6.223
         ]
        },
        {
         "coloraxis": "coloraxis2",
         "geo": "geo8",
         "legendgroup": "d",
         "locationmode": "ISO-3",
         "locations": [
          "JPN"
         ],
         "name": "JPN",
         "type": "choropleth",
         "z": [
          5.886
         ]
        },
        {
         "coloraxis": "coloraxis2",
         "geo": "geo8",
         "legendgroup": "d",
         "locationmode": "ISO-3",
         "locations": [
          "LTU"
         ],
         "name": "LTU",
         "type": "choropleth",
         "z": [
          6.149
         ]
        },
        {
         "coloraxis": "coloraxis2",
         "geo": "geo8",
         "legendgroup": "d",
         "locationmode": "ISO-3",
         "locations": [
          "LUX"
         ],
         "name": "LUX",
         "type": "choropleth",
         "z": [
          7.09
         ]
        },
        {
         "coloraxis": "coloraxis2",
         "geo": "geo8",
         "legendgroup": "d",
         "locationmode": "ISO-3",
         "locations": [
          "LVA"
         ],
         "name": "LVA",
         "type": "choropleth",
         "z": [
          5.94
         ]
        },
        {
         "coloraxis": "coloraxis2",
         "geo": "geo8",
         "legendgroup": "d",
         "locationmode": "ISO-3",
         "locations": [
          "MAR"
         ],
         "name": "MAR",
         "type": "choropleth",
         "z": [
          5.208
         ]
        },
        {
         "coloraxis": "coloraxis2",
         "geo": "geo8",
         "legendgroup": "d",
         "locationmode": "ISO-3",
         "locations": [
          "MEX"
         ],
         "name": "MEX",
         "type": "choropleth",
         "z": [
          6.595
         ]
        },
        {
         "coloraxis": "coloraxis2",
         "geo": "geo8",
         "legendgroup": "d",
         "locationmode": "ISO-3",
         "locations": [
          "MYS"
         ],
         "name": "MYS",
         "type": "choropleth",
         "z": [
          5.339
         ]
        },
        {
         "coloraxis": "coloraxis2",
         "geo": "geo8",
         "legendgroup": "d",
         "locationmode": "ISO-3",
         "locations": [
          "NIC"
         ],
         "name": "NIC",
         "type": "choropleth",
         "z": [
          6.105
         ]
        },
        {
         "coloraxis": "coloraxis2",
         "geo": "geo8",
         "legendgroup": "d",
         "locationmode": "ISO-3",
         "locations": [
          "NLD"
         ],
         "name": "NLD",
         "type": "choropleth",
         "z": [
          7.488
         ]
        },
        {
         "coloraxis": "coloraxis2",
         "geo": "geo8",
         "legendgroup": "d",
         "locationmode": "ISO-3",
         "locations": [
          "NOR"
         ],
         "name": "NOR",
         "type": "choropleth",
         "z": [
          7.554
         ]
        },
        {
         "coloraxis": "coloraxis2",
         "geo": "geo8",
         "legendgroup": "d",
         "locationmode": "ISO-3",
         "locations": [
          "NZL"
         ],
         "name": "NZL",
         "type": "choropleth",
         "z": [
          7.307
         ]
        },
        {
         "coloraxis": "coloraxis2",
         "geo": "geo8",
         "legendgroup": "d",
         "locationmode": "ISO-3",
         "locations": [
          "PAN"
         ],
         "name": "PAN",
         "type": "choropleth",
         "z": [
          6.321
         ]
        },
        {
         "coloraxis": "coloraxis2",
         "geo": "geo8",
         "legendgroup": "d",
         "locationmode": "ISO-3",
         "locations": [
          "PER"
         ],
         "name": "PER",
         "type": "choropleth",
         "z": [
          5.697
         ]
        },
        {
         "coloraxis": "coloraxis2",
         "geo": "geo8",
         "legendgroup": "d",
         "locationmode": "ISO-3",
         "locations": [
          "PHL"
         ],
         "name": "PHL",
         "type": "choropleth",
         "z": [
          5.631
         ]
        },
        {
         "coloraxis": "coloraxis2",
         "geo": "geo8",
         "legendgroup": "d",
         "locationmode": "ISO-3",
         "locations": [
          "POL"
         ],
         "name": "POL",
         "type": "choropleth",
         "z": [
          6.182
         ]
        },
        {
         "coloraxis": "coloraxis2",
         "geo": "geo8",
         "legendgroup": "d",
         "locationmode": "ISO-3",
         "locations": [
          "PRT"
         ],
         "name": "PRT",
         "type": "choropleth",
         "z": [
          5.693
         ]
        },
        {
         "coloraxis": "coloraxis2",
         "geo": "geo8",
         "legendgroup": "d",
         "locationmode": "ISO-3",
         "locations": [
          "PRY"
         ],
         "name": "PRY",
         "type": "choropleth",
         "z": [
          5.743
         ]
        },
        {
         "coloraxis": "coloraxis2",
         "geo": "geo8",
         "legendgroup": "d",
         "locationmode": "ISO-3",
         "locations": [
          "ROU"
         ],
         "name": "ROU",
         "type": "choropleth",
         "z": [
          6.07
         ]
        },
        {
         "coloraxis": "coloraxis2",
         "geo": "geo8",
         "legendgroup": "d",
         "locationmode": "ISO-3",
         "locations": [
          "SAU"
         ],
         "name": "SAU",
         "type": "choropleth",
         "z": [
          6.375
         ]
        },
        {
         "coloraxis": "coloraxis2",
         "geo": "geo8",
         "legendgroup": "d",
         "locationmode": "ISO-3",
         "locations": [
          "SGP"
         ],
         "name": "SGP",
         "type": "choropleth",
         "z": [
          6.262
         ]
        },
        {
         "coloraxis": "coloraxis2",
         "geo": "geo8",
         "legendgroup": "d",
         "locationmode": "ISO-3",
         "locations": [
          "SLV"
         ],
         "name": "SLV",
         "type": "choropleth",
         "z": [
          6.253
         ]
        },
        {
         "coloraxis": "coloraxis2",
         "geo": "geo8",
         "legendgroup": "d",
         "locationmode": "ISO-3",
         "locations": [
          "SVK"
         ],
         "name": "SVK",
         "type": "choropleth",
         "z": [
          6.198
         ]
        },
        {
         "coloraxis": "coloraxis2",
         "geo": "geo8",
         "legendgroup": "d",
         "locationmode": "ISO-3",
         "locations": [
          "SWE"
         ],
         "name": "SWE",
         "type": "choropleth",
         "z": [
          7.343
         ]
        },
        {
         "coloraxis": "coloraxis2",
         "geo": "geo8",
         "legendgroup": "d",
         "locationmode": "ISO-3",
         "locations": [
          "THA"
         ],
         "name": "THA",
         "type": "choropleth",
         "z": [
          6.008
         ]
        },
        {
         "coloraxis": "coloraxis2",
         "geo": "geo8",
         "legendgroup": "d",
         "locationmode": "ISO-3",
         "locations": [
          "TUR"
         ],
         "name": "TUR",
         "type": "choropleth",
         "z": [
          5.373
         ]
        },
        {
         "coloraxis": "coloraxis2",
         "geo": "geo8",
         "legendgroup": "d",
         "locationmode": "ISO-3",
         "locations": [
          "TWN"
         ],
         "name": "TWN",
         "type": "choropleth",
         "z": [
          0
         ]
        },
        {
         "coloraxis": "coloraxis2",
         "geo": "geo8",
         "legendgroup": "d",
         "locationmode": "ISO-3",
         "locations": [
          "URY"
         ],
         "name": "URY",
         "type": "choropleth",
         "z": [
          6.293
         ]
        },
        {
         "coloraxis": "coloraxis2",
         "geo": "geo8",
         "legendgroup": "d",
         "locationmode": "ISO-3",
         "locations": [
          "USA"
         ],
         "name": "USA",
         "type": "choropleth",
         "z": [
          6.892
         ]
        },
        {
         "coloraxis": "coloraxis2",
         "geo": "geo8",
         "legendgroup": "d",
         "locationmode": "ISO-3",
         "locations": [
          "VNM"
         ],
         "name": "VNM",
         "type": "choropleth",
         "z": [
          0
         ]
        },
        {
         "coloraxis": "coloraxis2",
         "geo": "geo8",
         "legendgroup": "d",
         "locationmode": "ISO-3",
         "locations": [
          "ZAF"
         ],
         "name": "ZAF",
         "type": "choropleth",
         "z": [
          4.722
         ]
        },
        {
         "coloraxis": "coloraxis",
         "geo": "geo9",
         "legendgroup": "c",
         "locationmode": "ISO-3",
         "locations": [
          "ARE"
         ],
         "name": "ARE",
         "type": "choropleth",
         "z": [
          0.4634030612244895
         ]
        },
        {
         "coloraxis": "coloraxis",
         "geo": "geo9",
         "legendgroup": "c",
         "locationmode": "ISO-3",
         "locations": [
          "ARG"
         ],
         "name": "ARG",
         "type": "choropleth",
         "z": [
          0.64664
         ]
        },
        {
         "coloraxis": "coloraxis",
         "geo": "geo9",
         "legendgroup": "c",
         "locationmode": "ISO-3",
         "locations": [
          "AUS"
         ],
         "name": "AUS",
         "type": "choropleth",
         "z": [
          0.4890126262626256
         ]
        },
        {
         "coloraxis": "coloraxis",
         "geo": "geo9",
         "legendgroup": "c",
         "locationmode": "ISO-3",
         "locations": [
          "AUT"
         ],
         "name": "AUT",
         "type": "choropleth",
         "z": [
          0.5029668367346937
         ]
        },
        {
         "coloraxis": "coloraxis",
         "geo": "geo9",
         "legendgroup": "c",
         "locationmode": "ISO-3",
         "locations": [
          "BEL"
         ],
         "name": "BEL",
         "type": "choropleth",
         "z": [
          0.4891540404040405
         ]
        },
        {
         "coloraxis": "coloraxis",
         "geo": "geo9",
         "legendgroup": "c",
         "locationmode": "ISO-3",
         "locations": [
          "BGR"
         ],
         "name": "BGR",
         "type": "choropleth",
         "z": [
          0.4962743718592959
         ]
        },
        {
         "coloraxis": "coloraxis",
         "geo": "geo9",
         "legendgroup": "c",
         "locationmode": "ISO-3",
         "locations": [
          "BOL"
         ],
         "name": "BOL",
         "type": "choropleth",
         "z": [
          0.6456639999999997
         ]
        },
        {
         "coloraxis": "coloraxis",
         "geo": "geo9",
         "legendgroup": "c",
         "locationmode": "ISO-3",
         "locations": [
          "BRA"
         ],
         "name": "BRA",
         "type": "choropleth",
         "z": [
          0.6444939698492458
         ]
        },
        {
         "coloraxis": "coloraxis",
         "geo": "geo9",
         "legendgroup": "c",
         "locationmode": "ISO-3",
         "locations": [
          "CAN"
         ],
         "name": "CAN",
         "type": "choropleth",
         "z": [
          0.46791161616161603
         ]
        },
        {
         "coloraxis": "coloraxis",
         "geo": "geo9",
         "legendgroup": "c",
         "locationmode": "ISO-3",
         "locations": [
          "CHE"
         ],
         "name": "CHE",
         "type": "choropleth",
         "z": [
          0.4889085858585859
         ]
        },
        {
         "coloraxis": "coloraxis",
         "geo": "geo9",
         "legendgroup": "c",
         "locationmode": "ISO-3",
         "locations": [
          "CHL"
         ],
         "name": "CHL",
         "type": "choropleth",
         "z": [
          0.6255939999999997
         ]
        },
        {
         "coloraxis": "coloraxis",
         "geo": "geo9",
         "legendgroup": "c",
         "locationmode": "ISO-3",
         "locations": [
          "COL"
         ],
         "name": "COL",
         "type": "choropleth",
         "z": [
          0.6539336683417084
         ]
        },
        {
         "coloraxis": "coloraxis",
         "geo": "geo9",
         "legendgroup": "c",
         "locationmode": "ISO-3",
         "locations": [
          "CRI"
         ],
         "name": "CRI",
         "type": "choropleth",
         "z": [
          0.6158339999999997
         ]
        },
        {
         "coloraxis": "coloraxis",
         "geo": "geo9",
         "legendgroup": "c",
         "locationmode": "ISO-3",
         "locations": [
          "CYP"
         ],
         "name": "CYP",
         "type": "choropleth",
         "z": [
          0.47155505050505037
         ]
        },
        {
         "coloraxis": "coloraxis",
         "geo": "geo9",
         "legendgroup": "c",
         "locationmode": "ISO-3",
         "locations": [
          "CZE"
         ],
         "name": "CZE",
         "type": "choropleth",
         "z": [
          0.4550456852791879
         ]
        },
        {
         "coloraxis": "coloraxis",
         "geo": "geo9",
         "legendgroup": "c",
         "locationmode": "ISO-3",
         "locations": [
          "DEU"
         ],
         "name": "DEU",
         "type": "choropleth",
         "z": [
          0.4922701015228428
         ]
        },
        {
         "coloraxis": "coloraxis",
         "geo": "geo9",
         "legendgroup": "c",
         "locationmode": "ISO-3",
         "locations": [
          "DNK"
         ],
         "name": "DNK",
         "type": "choropleth",
         "z": [
          0.47821979695431477
         ]
        },
        {
         "coloraxis": "coloraxis",
         "geo": "geo9",
         "legendgroup": "c",
         "locationmode": "ISO-3",
         "locations": [
          "DOM"
         ],
         "name": "DOM",
         "type": "choropleth",
         "z": [
          0.6172477386934674
         ]
        },
        {
         "coloraxis": "coloraxis",
         "geo": "geo9",
         "legendgroup": "c",
         "locationmode": "ISO-3",
         "locations": [
          "ECU"
         ],
         "name": "ECU",
         "type": "choropleth",
         "z": [
          0.6470639999999998
         ]
        },
        {
         "coloraxis": "coloraxis",
         "geo": "geo9",
         "legendgroup": "c",
         "locationmode": "ISO-3",
         "locations": [
          "EGY"
         ],
         "name": "EGY",
         "type": "choropleth",
         "z": [
          0.5089211956521739
         ]
        },
        {
         "coloraxis": "coloraxis",
         "geo": "geo9",
         "legendgroup": "c",
         "locationmode": "ISO-3",
         "locations": [
          "ESP"
         ],
         "name": "ESP",
         "type": "choropleth",
         "z": [
          0.6228064999999999
         ]
        },
        {
         "coloraxis": "coloraxis",
         "geo": "geo9",
         "legendgroup": "c",
         "locationmode": "ISO-3",
         "locations": [
          "EST"
         ],
         "name": "EST",
         "type": "choropleth",
         "z": [
          0.46908080808080793
         ]
        },
        {
         "coloraxis": "coloraxis",
         "geo": "geo9",
         "legendgroup": "c",
         "locationmode": "ISO-3",
         "locations": [
          "FIN"
         ],
         "name": "FIN",
         "type": "choropleth",
         "z": [
          0.48384365482233493
         ]
        },
        {
         "coloraxis": "coloraxis",
         "geo": "geo9",
         "legendgroup": "c",
         "locationmode": "ISO-3",
         "locations": [
          "FRA"
         ],
         "name": "FRA",
         "type": "choropleth",
         "z": [
          0.5125808080808082
         ]
        },
        {
         "coloraxis": "coloraxis",
         "geo": "geo9",
         "legendgroup": "c",
         "locationmode": "ISO-3",
         "locations": [
          "GBR"
         ],
         "name": "GBR",
         "type": "choropleth",
         "z": [
          0.483554314720812
         ]
        },
        {
         "coloraxis": "coloraxis",
         "geo": "geo9",
         "legendgroup": "c",
         "locationmode": "ISO-3",
         "locations": [
          "GRC"
         ],
         "name": "GRC",
         "type": "choropleth",
         "z": [
          0.4679059999999998
         ]
        },
        {
         "coloraxis": "coloraxis",
         "geo": "geo9",
         "legendgroup": "c",
         "locationmode": "ISO-3",
         "locations": [
          "GTM"
         ],
         "name": "GTM",
         "type": "choropleth",
         "z": [
          0.6258364999999998
         ]
        },
        {
         "coloraxis": "coloraxis",
         "geo": "geo9",
         "legendgroup": "c",
         "locationmode": "ISO-3",
         "locations": [
          "HKG"
         ],
         "name": "HKG",
         "type": "choropleth",
         "z": [
          0.4274333333333334
         ]
        },
        {
         "coloraxis": "coloraxis",
         "geo": "geo9",
         "legendgroup": "c",
         "locationmode": "ISO-3",
         "locations": [
          "HND"
         ],
         "name": "HND",
         "type": "choropleth",
         "z": [
          0.6141989999999997
         ]
        },
        {
         "coloraxis": "coloraxis",
         "geo": "geo9",
         "legendgroup": "c",
         "locationmode": "ISO-3",
         "locations": [
          "HUN"
         ],
         "name": "HUN",
         "type": "choropleth",
         "z": [
          0.48425656565656544
         ]
        },
        {
         "coloraxis": "coloraxis",
         "geo": "geo9",
         "legendgroup": "c",
         "locationmode": "ISO-3",
         "locations": [
          "IDN"
         ],
         "name": "IDN",
         "type": "choropleth",
         "z": [
          0.4329621212121211
         ]
        },
        {
         "coloraxis": "coloraxis",
         "geo": "geo9",
         "legendgroup": "c",
         "locationmode": "ISO-3",
         "locations": [
          "IND"
         ],
         "name": "IND",
         "type": "choropleth",
         "z": [
          0.4974029940119758
         ]
        },
        {
         "coloraxis": "coloraxis",
         "geo": "geo9",
         "legendgroup": "c",
         "locationmode": "ISO-3",
         "locations": [
          "IRL"
         ],
         "name": "IRL",
         "type": "choropleth",
         "z": [
          0.4721817258883247
         ]
        },
        {
         "coloraxis": "coloraxis",
         "geo": "geo9",
         "legendgroup": "c",
         "locationmode": "ISO-3",
         "locations": [
          "ISL"
         ],
         "name": "ISL",
         "type": "choropleth",
         "z": [
          0.4873484536082475
         ]
        },
        {
         "coloraxis": "coloraxis",
         "geo": "geo9",
         "legendgroup": "c",
         "locationmode": "ISO-3",
         "locations": [
          "ISR"
         ],
         "name": "ISR",
         "type": "choropleth",
         "z": [
          0.45267135678391973
         ]
        },
        {
         "coloraxis": "coloraxis",
         "geo": "geo9",
         "legendgroup": "c",
         "locationmode": "ISO-3",
         "locations": [
          "ITA"
         ],
         "name": "ITA",
         "type": "choropleth",
         "z": [
          0.4898724999999999
         ]
        },
        {
         "coloraxis": "coloraxis",
         "geo": "geo9",
         "legendgroup": "c",
         "locationmode": "ISO-3",
         "locations": [
          "JPN"
         ],
         "name": "JPN",
         "type": "choropleth",
         "z": [
          0.5609238341968914
         ]
        },
        {
         "coloraxis": "coloraxis",
         "geo": "geo9",
         "legendgroup": "c",
         "locationmode": "ISO-3",
         "locations": [
          "LTU"
         ],
         "name": "LTU",
         "type": "choropleth",
         "z": [
          0.45746616161616155
         ]
        },
        {
         "coloraxis": "coloraxis",
         "geo": "geo9",
         "legendgroup": "c",
         "locationmode": "ISO-3",
         "locations": [
          "LUX"
         ],
         "name": "LUX",
         "type": "choropleth",
         "z": [
          0.48650757575757547
         ]
        },
        {
         "coloraxis": "coloraxis",
         "geo": "geo9",
         "legendgroup": "c",
         "locationmode": "ISO-3",
         "locations": [
          "LVA"
         ],
         "name": "LVA",
         "type": "choropleth",
         "z": [
          0.45617085427135673
         ]
        },
        {
         "coloraxis": "coloraxis",
         "geo": "geo9",
         "legendgroup": "c",
         "locationmode": "ISO-3",
         "locations": [
          "MAR"
         ],
         "name": "MAR",
         "type": "choropleth",
         "z": [
          0.5180050251256282
         ]
        },
        {
         "coloraxis": "coloraxis",
         "geo": "geo9",
         "legendgroup": "c",
         "locationmode": "ISO-3",
         "locations": [
          "MEX"
         ],
         "name": "MEX",
         "type": "choropleth",
         "z": [
          0.637784
         ]
        },
        {
         "coloraxis": "coloraxis",
         "geo": "geo9",
         "legendgroup": "c",
         "locationmode": "ISO-3",
         "locations": [
          "MYS"
         ],
         "name": "MYS",
         "type": "choropleth",
         "z": [
          0.4338117346938775
         ]
        },
        {
         "coloraxis": "coloraxis",
         "geo": "geo9",
         "legendgroup": "c",
         "locationmode": "ISO-3",
         "locations": [
          "NIC"
         ],
         "name": "NIC",
         "type": "choropleth",
         "z": [
          0.6190665
         ]
        },
        {
         "coloraxis": "coloraxis",
         "geo": "geo9",
         "legendgroup": "c",
         "locationmode": "ISO-3",
         "locations": [
          "NLD"
         ],
         "name": "NLD",
         "type": "choropleth",
         "z": [
          0.509348730964467
         ]
        },
        {
         "coloraxis": "coloraxis",
         "geo": "geo9",
         "legendgroup": "c",
         "locationmode": "ISO-3",
         "locations": [
          "NOR"
         ],
         "name": "NOR",
         "type": "choropleth",
         "z": [
          0.4378282828282829
         ]
        },
        {
         "coloraxis": "coloraxis",
         "geo": "geo9",
         "legendgroup": "c",
         "locationmode": "ISO-3",
         "locations": [
          "NZL"
         ],
         "name": "NZL",
         "type": "choropleth",
         "z": [
          0.5038964646464642
         ]
        },
        {
         "coloraxis": "coloraxis",
         "geo": "geo9",
         "legendgroup": "c",
         "locationmode": "ISO-3",
         "locations": [
          "PAN"
         ],
         "name": "PAN",
         "type": "choropleth",
         "z": [
          0.6338206030150756
         ]
        },
        {
         "coloraxis": "coloraxis",
         "geo": "geo9",
         "legendgroup": "c",
         "locationmode": "ISO-3",
         "locations": [
          "PER"
         ],
         "name": "PER",
         "type": "choropleth",
         "z": [
          0.6609289999999999
         ]
        },
        {
         "coloraxis": "coloraxis",
         "geo": "geo9",
         "legendgroup": "c",
         "locationmode": "ISO-3",
         "locations": [
          "PHL"
         ],
         "name": "PHL",
         "type": "choropleth",
         "z": [
          0.4315954545454546
         ]
        },
        {
         "coloraxis": "coloraxis",
         "geo": "geo9",
         "legendgroup": "c",
         "locationmode": "ISO-3",
         "locations": [
          "POL"
         ],
         "name": "POL",
         "type": "choropleth",
         "z": [
          0.5076964824120604
         ]
        },
        {
         "coloraxis": "coloraxis",
         "geo": "geo9",
         "legendgroup": "c",
         "locationmode": "ISO-3",
         "locations": [
          "PRT"
         ],
         "name": "PRT",
         "type": "choropleth",
         "z": [
          0.46616767676767645
         ]
        },
        {
         "coloraxis": "coloraxis",
         "geo": "geo9",
         "legendgroup": "c",
         "locationmode": "ISO-3",
         "locations": [
          "PRY"
         ],
         "name": "PRY",
         "type": "choropleth",
         "z": [
          0.6508889999999997
         ]
        },
        {
         "coloraxis": "coloraxis",
         "geo": "geo9",
         "legendgroup": "c",
         "locationmode": "ISO-3",
         "locations": [
          "ROU"
         ],
         "name": "ROU",
         "type": "choropleth",
         "z": [
          0.47134213197969543
         ]
        },
        {
         "coloraxis": "coloraxis",
         "geo": "geo9",
         "legendgroup": "c",
         "locationmode": "ISO-3",
         "locations": [
          "SAU"
         ],
         "name": "SAU",
         "type": "choropleth",
         "z": [
          0.5036471794871795
         ]
        },
        {
         "coloraxis": "coloraxis",
         "geo": "geo9",
         "legendgroup": "c",
         "locationmode": "ISO-3",
         "locations": [
          "SGP"
         ],
         "name": "SGP",
         "type": "choropleth",
         "z": [
          0.4193257575757574
         ]
        },
        {
         "coloraxis": "coloraxis",
         "geo": "geo9",
         "legendgroup": "c",
         "locationmode": "ISO-3",
         "locations": [
          "SLV"
         ],
         "name": "SLV",
         "type": "choropleth",
         "z": [
          0.6198565
         ]
        },
        {
         "coloraxis": "coloraxis",
         "geo": "geo9",
         "legendgroup": "c",
         "locationmode": "ISO-3",
         "locations": [
          "SVK"
         ],
         "name": "SVK",
         "type": "choropleth",
         "z": [
          0.44083061224489783
         ]
        },
        {
         "coloraxis": "coloraxis",
         "geo": "geo9",
         "legendgroup": "c",
         "locationmode": "ISO-3",
         "locations": [
          "SWE"
         ],
         "name": "SWE",
         "type": "choropleth",
         "z": [
          0.4609084656084656
         ]
        },
        {
         "coloraxis": "coloraxis",
         "geo": "geo9",
         "legendgroup": "c",
         "locationmode": "ISO-3",
         "locations": [
          "THA"
         ],
         "name": "THA",
         "type": "choropleth",
         "z": [
          0.5040738461538459
         ]
        },
        {
         "coloraxis": "coloraxis",
         "geo": "geo9",
         "legendgroup": "c",
         "locationmode": "ISO-3",
         "locations": [
          "TUR"
         ],
         "name": "TUR",
         "type": "choropleth",
         "z": [
          0.45586149732620307
         ]
        },
        {
         "coloraxis": "coloraxis",
         "geo": "geo9",
         "legendgroup": "c",
         "locationmode": "ISO-3",
         "locations": [
          "TWN"
         ],
         "name": "TWN",
         "type": "choropleth",
         "z": [
          0.4113367875647667
         ]
        },
        {
         "coloraxis": "coloraxis",
         "geo": "geo9",
         "legendgroup": "c",
         "locationmode": "ISO-3",
         "locations": [
          "UKR"
         ],
         "name": "UKR",
         "type": "choropleth",
         "z": [
          0.45255427135678405
         ]
        },
        {
         "coloraxis": "coloraxis",
         "geo": "geo9",
         "legendgroup": "c",
         "locationmode": "ISO-3",
         "locations": [
          "URY"
         ],
         "name": "URY",
         "type": "choropleth",
         "z": [
          0.6644964102564104
         ]
        },
        {
         "coloraxis": "coloraxis",
         "geo": "geo9",
         "legendgroup": "c",
         "locationmode": "ISO-3",
         "locations": [
          "USA"
         ],
         "name": "USA",
         "type": "choropleth",
         "z": [
          0.4513592964824119
         ]
        },
        {
         "coloraxis": "coloraxis",
         "geo": "geo9",
         "legendgroup": "c",
         "locationmode": "ISO-3",
         "locations": [
          "VNM"
         ],
         "name": "VNM",
         "type": "choropleth",
         "z": [
          0.4384594871794869
         ]
        },
        {
         "coloraxis": "coloraxis",
         "geo": "geo9",
         "legendgroup": "c",
         "locationmode": "ISO-3",
         "locations": [
          "ZAF"
         ],
         "name": "ZAF",
         "type": "choropleth",
         "z": [
          0.4755398989898988
         ]
        },
        {
         "coloraxis": "coloraxis2",
         "geo": "geo10",
         "legendgroup": "d",
         "locationmode": "ISO-3",
         "locations": [
          "ARE"
         ],
         "name": "ARE",
         "type": "choropleth",
         "z": [
          6.791
         ]
        },
        {
         "coloraxis": "coloraxis2",
         "geo": "geo10",
         "legendgroup": "d",
         "locationmode": "ISO-3",
         "locations": [
          "ARG"
         ],
         "name": "ARG",
         "type": "choropleth",
         "z": [
          5.975
         ]
        },
        {
         "coloraxis": "coloraxis2",
         "geo": "geo10",
         "legendgroup": "d",
         "locationmode": "ISO-3",
         "locations": [
          "AUS"
         ],
         "name": "AUS",
         "type": "choropleth",
         "z": [
          7.223
         ]
        },
        {
         "coloraxis": "coloraxis2",
         "geo": "geo10",
         "legendgroup": "d",
         "locationmode": "ISO-3",
         "locations": [
          "AUT"
         ],
         "name": "AUT",
         "type": "choropleth",
         "z": [
          7.294
         ]
        },
        {
         "coloraxis": "coloraxis2",
         "geo": "geo10",
         "legendgroup": "d",
         "locationmode": "ISO-3",
         "locations": [
          "BEL"
         ],
         "name": "BEL",
         "type": "choropleth",
         "z": [
          6.864
         ]
        },
        {
         "coloraxis": "coloraxis2",
         "geo": "geo10",
         "legendgroup": "d",
         "locationmode": "ISO-3",
         "locations": [
          "BGR"
         ],
         "name": "BGR",
         "type": "choropleth",
         "z": [
          5.102
         ]
        },
        {
         "coloraxis": "coloraxis2",
         "geo": "geo10",
         "legendgroup": "d",
         "locationmode": "ISO-3",
         "locations": [
          "BOL"
         ],
         "name": "BOL",
         "type": "choropleth",
         "z": [
          0
         ]
        },
        {
         "coloraxis": "coloraxis2",
         "geo": "geo10",
         "legendgroup": "d",
         "locationmode": "ISO-3",
         "locations": [
          "BRA"
         ],
         "name": "BRA",
         "type": "choropleth",
         "z": [
          6.376
         ]
        },
        {
         "coloraxis": "coloraxis2",
         "geo": "geo10",
         "legendgroup": "d",
         "locationmode": "ISO-3",
         "locations": [
          "CAN"
         ],
         "name": "CAN",
         "type": "choropleth",
         "z": [
          7.232
         ]
        },
        {
         "coloraxis": "coloraxis2",
         "geo": "geo10",
         "legendgroup": "d",
         "locationmode": "ISO-3",
         "locations": [
          "CHE"
         ],
         "name": "CHE",
         "type": "choropleth",
         "z": [
          7.56
         ]
        },
        {
         "coloraxis": "coloraxis2",
         "geo": "geo10",
         "legendgroup": "d",
         "locationmode": "ISO-3",
         "locations": [
          "CHL"
         ],
         "name": "CHL",
         "type": "choropleth",
         "z": [
          6.228
         ]
        },
        {
         "coloraxis": "coloraxis2",
         "geo": "geo10",
         "legendgroup": "d",
         "locationmode": "ISO-3",
         "locations": [
          "COL"
         ],
         "name": "COL",
         "type": "choropleth",
         "z": [
          6.163
         ]
        },
        {
         "coloraxis": "coloraxis2",
         "geo": "geo10",
         "legendgroup": "d",
         "locationmode": "ISO-3",
         "locations": [
          "CRI"
         ],
         "name": "CRI",
         "type": "choropleth",
         "z": [
          7.121
         ]
        },
        {
         "coloraxis": "coloraxis2",
         "geo": "geo10",
         "legendgroup": "d",
         "locationmode": "ISO-3",
         "locations": [
          "CYP"
         ],
         "name": "CYP",
         "type": "choropleth",
         "z": [
          6.159
         ]
        },
        {
         "coloraxis": "coloraxis2",
         "geo": "geo10",
         "legendgroup": "d",
         "locationmode": "ISO-3",
         "locations": [
          "CZE"
         ],
         "name": "CZE",
         "type": "choropleth",
         "z": [
          6.911
         ]
        },
        {
         "coloraxis": "coloraxis2",
         "geo": "geo10",
         "legendgroup": "d",
         "locationmode": "ISO-3",
         "locations": [
          "DEU"
         ],
         "name": "DEU",
         "type": "choropleth",
         "z": [
          7.076
         ]
        },
        {
         "coloraxis": "coloraxis2",
         "geo": "geo10",
         "legendgroup": "d",
         "locationmode": "ISO-3",
         "locations": [
          "DNK"
         ],
         "name": "DNK",
         "type": "choropleth",
         "z": [
          7.646
         ]
        },
        {
         "coloraxis": "coloraxis2",
         "geo": "geo10",
         "legendgroup": "d",
         "locationmode": "ISO-3",
         "locations": [
          "DOM"
         ],
         "name": "DOM",
         "type": "choropleth",
         "z": [
          5.689
         ]
        },
        {
         "coloraxis": "coloraxis2",
         "geo": "geo10",
         "legendgroup": "d",
         "locationmode": "ISO-3",
         "locations": [
          "ECU"
         ],
         "name": "ECU",
         "type": "choropleth",
         "z": [
          5.925
         ]
        },
        {
         "coloraxis": "coloraxis2",
         "geo": "geo10",
         "legendgroup": "d",
         "locationmode": "ISO-3",
         "locations": [
          "EGY"
         ],
         "name": "EGY",
         "type": "choropleth",
         "z": [
          4.151
         ]
        },
        {
         "coloraxis": "coloraxis2",
         "geo": "geo10",
         "legendgroup": "d",
         "locationmode": "ISO-3",
         "locations": [
          "ESP"
         ],
         "name": "ESP",
         "type": "choropleth",
         "z": [
          6.401
         ]
        },
        {
         "coloraxis": "coloraxis2",
         "geo": "geo10",
         "legendgroup": "d",
         "locationmode": "ISO-3",
         "locations": [
          "EST"
         ],
         "name": "EST",
         "type": "choropleth",
         "z": [
          6.022
         ]
        },
        {
         "coloraxis": "coloraxis2",
         "geo": "geo10",
         "legendgroup": "d",
         "locationmode": "ISO-3",
         "locations": [
          "FIN"
         ],
         "name": "FIN",
         "type": "choropleth",
         "z": [
          7.809
         ]
        },
        {
         "coloraxis": "coloraxis2",
         "geo": "geo10",
         "legendgroup": "d",
         "locationmode": "ISO-3",
         "locations": [
          "FRA"
         ],
         "name": "FRA",
         "type": "choropleth",
         "z": [
          6.664
         ]
        },
        {
         "coloraxis": "coloraxis2",
         "geo": "geo10",
         "legendgroup": "d",
         "locationmode": "ISO-3",
         "locations": [
          "GBR"
         ],
         "name": "GBR",
         "type": "choropleth",
         "z": [
          7.165
         ]
        },
        {
         "coloraxis": "coloraxis2",
         "geo": "geo10",
         "legendgroup": "d",
         "locationmode": "ISO-3",
         "locations": [
          "GRC"
         ],
         "name": "GRC",
         "type": "choropleth",
         "z": [
          5.515
         ]
        },
        {
         "coloraxis": "coloraxis2",
         "geo": "geo10",
         "legendgroup": "d",
         "locationmode": "ISO-3",
         "locations": [
          "GTM"
         ],
         "name": "GTM",
         "type": "choropleth",
         "z": [
          6.399
         ]
        },
        {
         "coloraxis": "coloraxis2",
         "geo": "geo10",
         "legendgroup": "d",
         "locationmode": "ISO-3",
         "locations": [
          "HKG"
         ],
         "name": "HKG",
         "type": "choropleth",
         "z": [
          0
         ]
        },
        {
         "coloraxis": "coloraxis2",
         "geo": "geo10",
         "legendgroup": "d",
         "locationmode": "ISO-3",
         "locations": [
          "HND"
         ],
         "name": "HND",
         "type": "choropleth",
         "z": [
          5.953
         ]
        },
        {
         "coloraxis": "coloraxis2",
         "geo": "geo10",
         "legendgroup": "d",
         "locationmode": "ISO-3",
         "locations": [
          "HUN"
         ],
         "name": "HUN",
         "type": "choropleth",
         "z": [
          6
         ]
        },
        {
         "coloraxis": "coloraxis2",
         "geo": "geo10",
         "legendgroup": "d",
         "locationmode": "ISO-3",
         "locations": [
          "IDN"
         ],
         "name": "IDN",
         "type": "choropleth",
         "z": [
          5.286
         ]
        },
        {
         "coloraxis": "coloraxis2",
         "geo": "geo10",
         "legendgroup": "d",
         "locationmode": "ISO-3",
         "locations": [
          "IND"
         ],
         "name": "IND",
         "type": "choropleth",
         "z": [
          3.573
         ]
        },
        {
         "coloraxis": "coloraxis2",
         "geo": "geo10",
         "legendgroup": "d",
         "locationmode": "ISO-3",
         "locations": [
          "IRL"
         ],
         "name": "IRL",
         "type": "choropleth",
         "z": [
          7.094
         ]
        },
        {
         "coloraxis": "coloraxis2",
         "geo": "geo10",
         "legendgroup": "d",
         "locationmode": "ISO-3",
         "locations": [
          "ISL"
         ],
         "name": "ISL",
         "type": "choropleth",
         "z": [
          7.504
         ]
        },
        {
         "coloraxis": "coloraxis2",
         "geo": "geo10",
         "legendgroup": "d",
         "locationmode": "ISO-3",
         "locations": [
          "ISR"
         ],
         "name": "ISR",
         "type": "choropleth",
         "z": [
          7.129
         ]
        },
        {
         "coloraxis": "coloraxis2",
         "geo": "geo10",
         "legendgroup": "d",
         "locationmode": "ISO-3",
         "locations": [
          "ITA"
         ],
         "name": "ITA",
         "type": "choropleth",
         "z": [
          6.387
         ]
        },
        {
         "coloraxis": "coloraxis2",
         "geo": "geo10",
         "legendgroup": "d",
         "locationmode": "ISO-3",
         "locations": [
          "JPN"
         ],
         "name": "JPN",
         "type": "choropleth",
         "z": [
          5.871
         ]
        },
        {
         "coloraxis": "coloraxis2",
         "geo": "geo10",
         "legendgroup": "d",
         "locationmode": "ISO-3",
         "locations": [
          "LTU"
         ],
         "name": "LTU",
         "type": "choropleth",
         "z": [
          6.215
         ]
        },
        {
         "coloraxis": "coloraxis2",
         "geo": "geo10",
         "legendgroup": "d",
         "locationmode": "ISO-3",
         "locations": [
          "LUX"
         ],
         "name": "LUX",
         "type": "choropleth",
         "z": [
          7.238
         ]
        },
        {
         "coloraxis": "coloraxis2",
         "geo": "geo10",
         "legendgroup": "d",
         "locationmode": "ISO-3",
         "locations": [
          "LVA"
         ],
         "name": "LVA",
         "type": "choropleth",
         "z": [
          5.95
         ]
        },
        {
         "coloraxis": "coloraxis2",
         "geo": "geo10",
         "legendgroup": "d",
         "locationmode": "ISO-3",
         "locations": [
          "MAR"
         ],
         "name": "MAR",
         "type": "choropleth",
         "z": [
          5.095
         ]
        },
        {
         "coloraxis": "coloraxis2",
         "geo": "geo10",
         "legendgroup": "d",
         "locationmode": "ISO-3",
         "locations": [
          "MEX"
         ],
         "name": "MEX",
         "type": "choropleth",
         "z": [
          6.465
         ]
        },
        {
         "coloraxis": "coloraxis2",
         "geo": "geo10",
         "legendgroup": "d",
         "locationmode": "ISO-3",
         "locations": [
          "MYS"
         ],
         "name": "MYS",
         "type": "choropleth",
         "z": [
          5.384
         ]
        },
        {
         "coloraxis": "coloraxis2",
         "geo": "geo10",
         "legendgroup": "d",
         "locationmode": "ISO-3",
         "locations": [
          "NIC"
         ],
         "name": "NIC",
         "type": "choropleth",
         "z": [
          6.137
         ]
        },
        {
         "coloraxis": "coloraxis2",
         "geo": "geo10",
         "legendgroup": "d",
         "locationmode": "ISO-3",
         "locations": [
          "NLD"
         ],
         "name": "NLD",
         "type": "choropleth",
         "z": [
          7.449
         ]
        },
        {
         "coloraxis": "coloraxis2",
         "geo": "geo10",
         "legendgroup": "d",
         "locationmode": "ISO-3",
         "locations": [
          "NOR"
         ],
         "name": "NOR",
         "type": "choropleth",
         "z": [
          7.488
         ]
        },
        {
         "coloraxis": "coloraxis2",
         "geo": "geo10",
         "legendgroup": "d",
         "locationmode": "ISO-3",
         "locations": [
          "NZL"
         ],
         "name": "NZL",
         "type": "choropleth",
         "z": [
          7.3
         ]
        },
        {
         "coloraxis": "coloraxis2",
         "geo": "geo10",
         "legendgroup": "d",
         "locationmode": "ISO-3",
         "locations": [
          "PAN"
         ],
         "name": "PAN",
         "type": "choropleth",
         "z": [
          6.305
         ]
        },
        {
         "coloraxis": "coloraxis2",
         "geo": "geo10",
         "legendgroup": "d",
         "locationmode": "ISO-3",
         "locations": [
          "PER"
         ],
         "name": "PER",
         "type": "choropleth",
         "z": [
          5.797
         ]
        },
        {
         "coloraxis": "coloraxis2",
         "geo": "geo10",
         "legendgroup": "d",
         "locationmode": "ISO-3",
         "locations": [
          "PHL"
         ],
         "name": "PHL",
         "type": "choropleth",
         "z": [
          6.006
         ]
        },
        {
         "coloraxis": "coloraxis2",
         "geo": "geo10",
         "legendgroup": "d",
         "locationmode": "ISO-3",
         "locations": [
          "POL"
         ],
         "name": "POL",
         "type": "choropleth",
         "z": [
          6.186
         ]
        },
        {
         "coloraxis": "coloraxis2",
         "geo": "geo10",
         "legendgroup": "d",
         "locationmode": "ISO-3",
         "locations": [
          "PRT"
         ],
         "name": "PRT",
         "type": "choropleth",
         "z": [
          5.911
         ]
        },
        {
         "coloraxis": "coloraxis2",
         "geo": "geo10",
         "legendgroup": "d",
         "locationmode": "ISO-3",
         "locations": [
          "PRY"
         ],
         "name": "PRY",
         "type": "choropleth",
         "z": [
          5.692
         ]
        },
        {
         "coloraxis": "coloraxis2",
         "geo": "geo10",
         "legendgroup": "d",
         "locationmode": "ISO-3",
         "locations": [
          "ROU"
         ],
         "name": "ROU",
         "type": "choropleth",
         "z": [
          6.124
         ]
        },
        {
         "coloraxis": "coloraxis2",
         "geo": "geo10",
         "legendgroup": "d",
         "locationmode": "ISO-3",
         "locations": [
          "SAU"
         ],
         "name": "SAU",
         "type": "choropleth",
         "z": [
          6.406
         ]
        },
        {
         "coloraxis": "coloraxis2",
         "geo": "geo10",
         "legendgroup": "d",
         "locationmode": "ISO-3",
         "locations": [
          "SGP"
         ],
         "name": "SGP",
         "type": "choropleth",
         "z": [
          6.377
         ]
        },
        {
         "coloraxis": "coloraxis2",
         "geo": "geo10",
         "legendgroup": "d",
         "locationmode": "ISO-3",
         "locations": [
          "SLV"
         ],
         "name": "SLV",
         "type": "choropleth",
         "z": [
          6.348
         ]
        },
        {
         "coloraxis": "coloraxis2",
         "geo": "geo10",
         "legendgroup": "d",
         "locationmode": "ISO-3",
         "locations": [
          "SVK"
         ],
         "name": "SVK",
         "type": "choropleth",
         "z": [
          6.281
         ]
        },
        {
         "coloraxis": "coloraxis2",
         "geo": "geo10",
         "legendgroup": "d",
         "locationmode": "ISO-3",
         "locations": [
          "SWE"
         ],
         "name": "SWE",
         "type": "choropleth",
         "z": [
          7.353
         ]
        },
        {
         "coloraxis": "coloraxis2",
         "geo": "geo10",
         "legendgroup": "d",
         "locationmode": "ISO-3",
         "locations": [
          "THA"
         ],
         "name": "THA",
         "type": "choropleth",
         "z": [
          5.999
         ]
        },
        {
         "coloraxis": "coloraxis2",
         "geo": "geo10",
         "legendgroup": "d",
         "locationmode": "ISO-3",
         "locations": [
          "TUR"
         ],
         "name": "TUR",
         "type": "choropleth",
         "z": [
          5.132
         ]
        },
        {
         "coloraxis": "coloraxis2",
         "geo": "geo10",
         "legendgroup": "d",
         "locationmode": "ISO-3",
         "locations": [
          "TWN"
         ],
         "name": "TWN",
         "type": "choropleth",
         "z": [
          0
         ]
        },
        {
         "coloraxis": "coloraxis2",
         "geo": "geo10",
         "legendgroup": "d",
         "locationmode": "ISO-3",
         "locations": [
          "UKR"
         ],
         "name": "UKR",
         "type": "choropleth",
         "z": [
          4.561
         ]
        },
        {
         "coloraxis": "coloraxis2",
         "geo": "geo10",
         "legendgroup": "d",
         "locationmode": "ISO-3",
         "locations": [
          "URY"
         ],
         "name": "URY",
         "type": "choropleth",
         "z": [
          6.44
         ]
        },
        {
         "coloraxis": "coloraxis2",
         "geo": "geo10",
         "legendgroup": "d",
         "locationmode": "ISO-3",
         "locations": [
          "USA"
         ],
         "name": "USA",
         "type": "choropleth",
         "z": [
          6.94
         ]
        },
        {
         "coloraxis": "coloraxis2",
         "geo": "geo10",
         "legendgroup": "d",
         "locationmode": "ISO-3",
         "locations": [
          "VNM"
         ],
         "name": "VNM",
         "type": "choropleth",
         "z": [
          0
         ]
        },
        {
         "coloraxis": "coloraxis2",
         "geo": "geo10",
         "legendgroup": "d",
         "locationmode": "ISO-3",
         "locations": [
          "ZAF"
         ],
         "name": "ZAF",
         "type": "choropleth",
         "z": [
          4.814
         ]
        },
        {
         "coloraxis": "coloraxis",
         "geo": "geo11",
         "legendgroup": "c",
         "locationmode": "ISO-3",
         "locations": [
          "ARE"
         ],
         "name": "ARE",
         "type": "choropleth",
         "z": [
          0.4967844221105527
         ]
        },
        {
         "coloraxis": "coloraxis",
         "geo": "geo11",
         "legendgroup": "c",
         "locationmode": "ISO-3",
         "locations": [
          "ARG"
         ],
         "name": "ARG",
         "type": "choropleth",
         "z": [
          0.6672142857142859
         ]
        },
        {
         "coloraxis": "coloraxis",
         "geo": "geo11",
         "legendgroup": "c",
         "locationmode": "ISO-3",
         "locations": [
          "AUS"
         ],
         "name": "AUS",
         "type": "choropleth",
         "z": [
          0.5271713567839194
         ]
        },
        {
         "coloraxis": "coloraxis",
         "geo": "geo11",
         "legendgroup": "c",
         "locationmode": "ISO-3",
         "locations": [
          "AUT"
         ],
         "name": "AUT",
         "type": "choropleth",
         "z": [
          0.501463131313131
         ]
        },
        {
         "coloraxis": "coloraxis",
         "geo": "geo11",
         "legendgroup": "c",
         "locationmode": "ISO-3",
         "locations": [
          "BEL"
         ],
         "name": "BEL",
         "type": "choropleth",
         "z": [
          0.49730449999999976
         ]
        },
        {
         "coloraxis": "coloraxis",
         "geo": "geo11",
         "legendgroup": "c",
         "locationmode": "ISO-3",
         "locations": [
          "BGR"
         ],
         "name": "BGR",
         "type": "choropleth",
         "z": [
          0.5191194999999995
         ]
        },
        {
         "coloraxis": "coloraxis",
         "geo": "geo11",
         "legendgroup": "c",
         "locationmode": "ISO-3",
         "locations": [
          "BOL"
         ],
         "name": "BOL",
         "type": "choropleth",
         "z": [
          0.6322560606060607
         ]
        },
        {
         "coloraxis": "coloraxis",
         "geo": "geo11",
         "legendgroup": "c",
         "locationmode": "ISO-3",
         "locations": [
          "BRA"
         ],
         "name": "BRA",
         "type": "choropleth",
         "z": [
          0.6881616161616162
         ]
        },
        {
         "coloraxis": "coloraxis",
         "geo": "geo11",
         "legendgroup": "c",
         "locationmode": "ISO-3",
         "locations": [
          "CAN"
         ],
         "name": "CAN",
         "type": "choropleth",
         "z": [
          0.48437461928934006
         ]
        },
        {
         "coloraxis": "coloraxis",
         "geo": "geo11",
         "legendgroup": "c",
         "locationmode": "ISO-3",
         "locations": [
          "CHE"
         ],
         "name": "CHE",
         "type": "choropleth",
         "z": [
          0.49634449999999986
         ]
        },
        {
         "coloraxis": "coloraxis",
         "geo": "geo11",
         "legendgroup": "c",
         "locationmode": "ISO-3",
         "locations": [
          "CHL"
         ],
         "name": "CHL",
         "type": "choropleth",
         "z": [
          0.6317717171717171
         ]
        },
        {
         "coloraxis": "coloraxis",
         "geo": "geo11",
         "legendgroup": "c",
         "locationmode": "ISO-3",
         "locations": [
          "COL"
         ],
         "name": "COL",
         "type": "choropleth",
         "z": [
          0.6719949494949495
         ]
        },
        {
         "coloraxis": "coloraxis",
         "geo": "geo11",
         "legendgroup": "c",
         "locationmode": "ISO-3",
         "locations": [
          "CRI"
         ],
         "name": "CRI",
         "type": "choropleth",
         "z": [
          0.633478787878788
         ]
        },
        {
         "coloraxis": "coloraxis",
         "geo": "geo11",
         "legendgroup": "c",
         "locationmode": "ISO-3",
         "locations": [
          "CYP"
         ],
         "name": "CYP",
         "type": "choropleth",
         "z": [
          0.4826654999999997
         ]
        },
        {
         "coloraxis": "coloraxis",
         "geo": "geo11",
         "legendgroup": "c",
         "locationmode": "ISO-3",
         "locations": [
          "CZE"
         ],
         "name": "CZE",
         "type": "choropleth",
         "z": [
          0.4815261306532665
         ]
        },
        {
         "coloraxis": "coloraxis",
         "geo": "geo11",
         "legendgroup": "c",
         "locationmode": "ISO-3",
         "locations": [
          "DEU"
         ],
         "name": "DEU",
         "type": "choropleth",
         "z": [
          0.4971872448979594
         ]
        },
        {
         "coloraxis": "coloraxis",
         "geo": "geo11",
         "legendgroup": "c",
         "locationmode": "ISO-3",
         "locations": [
          "DNK"
         ],
         "name": "DNK",
         "type": "choropleth",
         "z": [
          0.5082919597989951
         ]
        },
        {
         "coloraxis": "coloraxis",
         "geo": "geo11",
         "legendgroup": "c",
         "locationmode": "ISO-3",
         "locations": [
          "DOM"
         ],
         "name": "DOM",
         "type": "choropleth",
         "z": [
          0.6121532663316583
         ]
        },
        {
         "coloraxis": "coloraxis",
         "geo": "geo11",
         "legendgroup": "c",
         "locationmode": "ISO-3",
         "locations": [
          "ECU"
         ],
         "name": "ECU",
         "type": "choropleth",
         "z": [
          0.6258510101010105
         ]
        },
        {
         "coloraxis": "coloraxis",
         "geo": "geo11",
         "legendgroup": "c",
         "locationmode": "ISO-3",
         "locations": [
          "EGY"
         ],
         "name": "EGY",
         "type": "choropleth",
         "z": [
          0.520162564102564
         ]
        },
        {
         "coloraxis": "coloraxis",
         "geo": "geo11",
         "legendgroup": "c",
         "locationmode": "ISO-3",
         "locations": [
          "ESP"
         ],
         "name": "ESP",
         "type": "choropleth",
         "z": [
          0.6109883838383837
         ]
        },
        {
         "coloraxis": "coloraxis",
         "geo": "geo11",
         "legendgroup": "c",
         "locationmode": "ISO-3",
         "locations": [
          "EST"
         ],
         "name": "EST",
         "type": "choropleth",
         "z": [
          0.49825349999999985
         ]
        },
        {
         "coloraxis": "coloraxis",
         "geo": "geo11",
         "legendgroup": "c",
         "locationmode": "ISO-3",
         "locations": [
          "FIN"
         ],
         "name": "FIN",
         "type": "choropleth",
         "z": [
          0.5016636363636364
         ]
        },
        {
         "coloraxis": "coloraxis",
         "geo": "geo11",
         "legendgroup": "c",
         "locationmode": "ISO-3",
         "locations": [
          "FRA"
         ],
         "name": "FRA",
         "type": "choropleth",
         "z": [
          0.5377295918367351
         ]
        },
        {
         "coloraxis": "coloraxis",
         "geo": "geo11",
         "legendgroup": "c",
         "locationmode": "ISO-3",
         "locations": [
          "GBR"
         ],
         "name": "GBR",
         "type": "choropleth",
         "z": [
          0.5132139999999995
         ]
        },
        {
         "coloraxis": "coloraxis",
         "geo": "geo11",
         "legendgroup": "c",
         "locationmode": "ISO-3",
         "locations": [
          "GRC"
         ],
         "name": "GRC",
         "type": "choropleth",
         "z": [
          0.48847749999999956
         ]
        },
        {
         "coloraxis": "coloraxis",
         "geo": "geo11",
         "legendgroup": "c",
         "locationmode": "ISO-3",
         "locations": [
          "GTM"
         ],
         "name": "GTM",
         "type": "choropleth",
         "z": [
          0.646180808080808
         ]
        },
        {
         "coloraxis": "coloraxis",
         "geo": "geo11",
         "legendgroup": "c",
         "locationmode": "ISO-3",
         "locations": [
          "HKG"
         ],
         "name": "HKG",
         "type": "choropleth",
         "z": [
          0.4394206030150751
         ]
        },
        {
         "coloraxis": "coloraxis",
         "geo": "geo11",
         "legendgroup": "c",
         "locationmode": "ISO-3",
         "locations": [
          "HND"
         ],
         "name": "HND",
         "type": "choropleth",
         "z": [
          0.6195782828282828
         ]
        },
        {
         "coloraxis": "coloraxis",
         "geo": "geo11",
         "legendgroup": "c",
         "locationmode": "ISO-3",
         "locations": [
          "HUN"
         ],
         "name": "HUN",
         "type": "choropleth",
         "z": [
          0.5099245
         ]
        },
        {
         "coloraxis": "coloraxis",
         "geo": "geo11",
         "legendgroup": "c",
         "locationmode": "ISO-3",
         "locations": [
          "IDN"
         ],
         "name": "IDN",
         "type": "choropleth",
         "z": [
          0.42318484848484816
         ]
        },
        {
         "coloraxis": "coloraxis",
         "geo": "geo11",
         "legendgroup": "c",
         "locationmode": "ISO-3",
         "locations": [
          "IND"
         ],
         "name": "IND",
         "type": "choropleth",
         "z": [
          0.5298668604651161
         ]
        },
        {
         "coloraxis": "coloraxis",
         "geo": "geo11",
         "legendgroup": "c",
         "locationmode": "ISO-3",
         "locations": [
          "IRL"
         ],
         "name": "IRL",
         "type": "choropleth",
         "z": [
          0.5082705
         ]
        },
        {
         "coloraxis": "coloraxis",
         "geo": "geo11",
         "legendgroup": "c",
         "locationmode": "ISO-3",
         "locations": [
          "ISL"
         ],
         "name": "ISL",
         "type": "choropleth",
         "z": [
          0.4507707070707072
         ]
        },
        {
         "coloraxis": "coloraxis",
         "geo": "geo11",
         "legendgroup": "c",
         "locationmode": "ISO-3",
         "locations": [
          "ISR"
         ],
         "name": "ISR",
         "type": "choropleth",
         "z": [
          0.46432295918367356
         ]
        },
        {
         "coloraxis": "coloraxis",
         "geo": "geo11",
         "legendgroup": "c",
         "locationmode": "ISO-3",
         "locations": [
          "ITA"
         ],
         "name": "ITA",
         "type": "choropleth",
         "z": [
          0.47781300000000015
         ]
        },
        {
         "coloraxis": "coloraxis",
         "geo": "geo11",
         "legendgroup": "c",
         "locationmode": "ISO-3",
         "locations": [
          "JPN"
         ],
         "name": "JPN",
         "type": "choropleth",
         "z": [
          0.5643969999999998
         ]
        },
        {
         "coloraxis": "coloraxis",
         "geo": "geo11",
         "legendgroup": "c",
         "locationmode": "ISO-3",
         "locations": [
          "KOR"
         ],
         "name": "KOR",
         "type": "choropleth",
         "z": [
          0.4998928934010157
         ]
        },
        {
         "coloraxis": "coloraxis",
         "geo": "geo11",
         "legendgroup": "c",
         "locationmode": "ISO-3",
         "locations": [
          "LTU"
         ],
         "name": "LTU",
         "type": "choropleth",
         "z": [
          0.4984105527638191
         ]
        },
        {
         "coloraxis": "coloraxis",
         "geo": "geo11",
         "legendgroup": "c",
         "locationmode": "ISO-3",
         "locations": [
          "LUX"
         ],
         "name": "LUX",
         "type": "choropleth",
         "z": [
          0.4916944999999995
         ]
        },
        {
         "coloraxis": "coloraxis",
         "geo": "geo11",
         "legendgroup": "c",
         "locationmode": "ISO-3",
         "locations": [
          "LVA"
         ],
         "name": "LVA",
         "type": "choropleth",
         "z": [
          0.4693251256281409
         ]
        },
        {
         "coloraxis": "coloraxis",
         "geo": "geo11",
         "legendgroup": "c",
         "locationmode": "ISO-3",
         "locations": [
          "MAR"
         ],
         "name": "MAR",
         "type": "choropleth",
         "z": [
          0.5149225000000001
         ]
        },
        {
         "coloraxis": "coloraxis",
         "geo": "geo11",
         "legendgroup": "c",
         "locationmode": "ISO-3",
         "locations": [
          "MEX"
         ],
         "name": "MEX",
         "type": "choropleth",
         "z": [
          0.655661616161616
         ]
        },
        {
         "coloraxis": "coloraxis",
         "geo": "geo11",
         "legendgroup": "c",
         "locationmode": "ISO-3",
         "locations": [
          "MYS"
         ],
         "name": "MYS",
         "type": "choropleth",
         "z": [
          0.4420944723618088
         ]
        },
        {
         "coloraxis": "coloraxis",
         "geo": "geo11",
         "legendgroup": "c",
         "locationmode": "ISO-3",
         "locations": [
          "NIC"
         ],
         "name": "NIC",
         "type": "choropleth",
         "z": [
          0.6341252525252526
         ]
        },
        {
         "coloraxis": "coloraxis",
         "geo": "geo11",
         "legendgroup": "c",
         "locationmode": "ISO-3",
         "locations": [
          "NLD"
         ],
         "name": "NLD",
         "type": "choropleth",
         "z": [
          0.5129644999999999
         ]
        },
        {
         "coloraxis": "coloraxis",
         "geo": "geo11",
         "legendgroup": "c",
         "locationmode": "ISO-3",
         "locations": [
          "NOR"
         ],
         "name": "NOR",
         "type": "choropleth",
         "z": [
          0.45186717171717167
         ]
        },
        {
         "coloraxis": "coloraxis",
         "geo": "geo11",
         "legendgroup": "c",
         "locationmode": "ISO-3",
         "locations": [
          "NZL"
         ],
         "name": "NZL",
         "type": "choropleth",
         "z": [
          0.5607242424242426
         ]
        },
        {
         "coloraxis": "coloraxis",
         "geo": "geo11",
         "legendgroup": "c",
         "locationmode": "ISO-3",
         "locations": [
          "PAN"
         ],
         "name": "PAN",
         "type": "choropleth",
         "z": [
          0.6059166666666669
         ]
        },
        {
         "coloraxis": "coloraxis",
         "geo": "geo11",
         "legendgroup": "c",
         "locationmode": "ISO-3",
         "locations": [
          "PER"
         ],
         "name": "PER",
         "type": "choropleth",
         "z": [
          0.646843434343435
         ]
        },
        {
         "coloraxis": "coloraxis",
         "geo": "geo11",
         "legendgroup": "c",
         "locationmode": "ISO-3",
         "locations": [
          "PHL"
         ],
         "name": "PHL",
         "type": "choropleth",
         "z": [
          0.47133768844221113
         ]
        },
        {
         "coloraxis": "coloraxis",
         "geo": "geo11",
         "legendgroup": "c",
         "locationmode": "ISO-3",
         "locations": [
          "POL"
         ],
         "name": "POL",
         "type": "choropleth",
         "z": [
          0.5176247474747475
         ]
        },
        {
         "coloraxis": "coloraxis",
         "geo": "geo11",
         "legendgroup": "c",
         "locationmode": "ISO-3",
         "locations": [
          "PRT"
         ],
         "name": "PRT",
         "type": "choropleth",
         "z": [
          0.49581616161616116
         ]
        },
        {
         "coloraxis": "coloraxis",
         "geo": "geo11",
         "legendgroup": "c",
         "locationmode": "ISO-3",
         "locations": [
          "PRY"
         ],
         "name": "PRY",
         "type": "choropleth",
         "z": [
          0.6589646464646465
         ]
        },
        {
         "coloraxis": "coloraxis",
         "geo": "geo11",
         "legendgroup": "c",
         "locationmode": "ISO-3",
         "locations": [
          "ROU"
         ],
         "name": "ROU",
         "type": "choropleth",
         "z": [
          0.5127656565656564
         ]
        },
        {
         "coloraxis": "coloraxis",
         "geo": "geo11",
         "legendgroup": "c",
         "locationmode": "ISO-3",
         "locations": [
          "SAU"
         ],
         "name": "SAU",
         "type": "choropleth",
         "z": [
          0.5516353535353534
         ]
        },
        {
         "coloraxis": "coloraxis",
         "geo": "geo11",
         "legendgroup": "c",
         "locationmode": "ISO-3",
         "locations": [
          "SGP"
         ],
         "name": "SGP",
         "type": "choropleth",
         "z": [
          0.4474286432160803
         ]
        },
        {
         "coloraxis": "coloraxis",
         "geo": "geo11",
         "legendgroup": "c",
         "locationmode": "ISO-3",
         "locations": [
          "SLV"
         ],
         "name": "SLV",
         "type": "choropleth",
         "z": [
          0.6214122340425532
         ]
        },
        {
         "coloraxis": "coloraxis",
         "geo": "geo11",
         "legendgroup": "c",
         "locationmode": "ISO-3",
         "locations": [
          "SVK"
         ],
         "name": "SVK",
         "type": "choropleth",
         "z": [
          0.4861311557788944
         ]
        },
        {
         "coloraxis": "coloraxis",
         "geo": "geo11",
         "legendgroup": "c",
         "locationmode": "ISO-3",
         "locations": [
          "SWE"
         ],
         "name": "SWE",
         "type": "choropleth",
         "z": [
          0.4815215384615385
         ]
        },
        {
         "coloraxis": "coloraxis",
         "geo": "geo11",
         "legendgroup": "c",
         "locationmode": "ISO-3",
         "locations": [
          "THA"
         ],
         "name": "THA",
         "type": "choropleth",
         "z": [
          0.5056185567010308
         ]
        },
        {
         "coloraxis": "coloraxis",
         "geo": "geo11",
         "legendgroup": "c",
         "locationmode": "ISO-3",
         "locations": [
          "TUR"
         ],
         "name": "TUR",
         "type": "choropleth",
         "z": [
          0.4819351758793971
         ]
        },
        {
         "coloraxis": "coloraxis",
         "geo": "geo11",
         "legendgroup": "c",
         "locationmode": "ISO-3",
         "locations": [
          "TWN"
         ],
         "name": "TWN",
         "type": "choropleth",
         "z": [
          0.4184974358974359
         ]
        },
        {
         "coloraxis": "coloraxis",
         "geo": "geo11",
         "legendgroup": "c",
         "locationmode": "ISO-3",
         "locations": [
          "UKR"
         ],
         "name": "UKR",
         "type": "choropleth",
         "z": [
          0.4772944162436546
         ]
        },
        {
         "coloraxis": "coloraxis",
         "geo": "geo11",
         "legendgroup": "c",
         "locationmode": "ISO-3",
         "locations": [
          "URY"
         ],
         "name": "URY",
         "type": "choropleth",
         "z": [
          0.6687005076142134
         ]
        },
        {
         "coloraxis": "coloraxis",
         "geo": "geo11",
         "legendgroup": "c",
         "locationmode": "ISO-3",
         "locations": [
          "USA"
         ],
         "name": "USA",
         "type": "choropleth",
         "z": [
          0.47951414141414106
         ]
        },
        {
         "coloraxis": "coloraxis",
         "geo": "geo11",
         "legendgroup": "c",
         "locationmode": "ISO-3",
         "locations": [
          "VNM"
         ],
         "name": "VNM",
         "type": "choropleth",
         "z": [
          0.443285
         ]
        },
        {
         "coloraxis": "coloraxis",
         "geo": "geo11",
         "legendgroup": "c",
         "locationmode": "ISO-3",
         "locations": [
          "ZAF"
         ],
         "name": "ZAF",
         "type": "choropleth",
         "z": [
          0.4908522613065324
         ]
        },
        {
         "coloraxis": "coloraxis2",
         "geo": "geo12",
         "legendgroup": "d",
         "locationmode": "ISO-3",
         "locations": [
          "ARE"
         ],
         "name": "ARE",
         "type": "choropleth",
         "z": [
          6.561
         ]
        },
        {
         "coloraxis": "coloraxis2",
         "geo": "geo12",
         "legendgroup": "d",
         "locationmode": "ISO-3",
         "locations": [
          "ARG"
         ],
         "name": "ARG",
         "type": "choropleth",
         "z": [
          5.929
         ]
        },
        {
         "coloraxis": "coloraxis2",
         "geo": "geo12",
         "legendgroup": "d",
         "locationmode": "ISO-3",
         "locations": [
          "AUS"
         ],
         "name": "AUS",
         "type": "choropleth",
         "z": [
          7.183
         ]
        },
        {
         "coloraxis": "coloraxis2",
         "geo": "geo12",
         "legendgroup": "d",
         "locationmode": "ISO-3",
         "locations": [
          "AUT"
         ],
         "name": "AUT",
         "type": "choropleth",
         "z": [
          7.268
         ]
        },
        {
         "coloraxis": "coloraxis2",
         "geo": "geo12",
         "legendgroup": "d",
         "locationmode": "ISO-3",
         "locations": [
          "BEL"
         ],
         "name": "BEL",
         "type": "choropleth",
         "z": [
          6.834
         ]
        },
        {
         "coloraxis": "coloraxis2",
         "geo": "geo12",
         "legendgroup": "d",
         "locationmode": "ISO-3",
         "locations": [
          "BGR"
         ],
         "name": "BGR",
         "type": "choropleth",
         "z": [
          5.266
         ]
        },
        {
         "coloraxis": "coloraxis2",
         "geo": "geo12",
         "legendgroup": "d",
         "locationmode": "ISO-3",
         "locations": [
          "BOL"
         ],
         "name": "BOL",
         "type": "choropleth",
         "z": [
          0
         ]
        },
        {
         "coloraxis": "coloraxis2",
         "geo": "geo12",
         "legendgroup": "d",
         "locationmode": "ISO-3",
         "locations": [
          "BRA"
         ],
         "name": "BRA",
         "type": "choropleth",
         "z": [
          6.33
         ]
        },
        {
         "coloraxis": "coloraxis2",
         "geo": "geo12",
         "legendgroup": "d",
         "locationmode": "ISO-3",
         "locations": [
          "CAN"
         ],
         "name": "CAN",
         "type": "choropleth",
         "z": [
          7.103
         ]
        },
        {
         "coloraxis": "coloraxis2",
         "geo": "geo12",
         "legendgroup": "d",
         "locationmode": "ISO-3",
         "locations": [
          "CHE"
         ],
         "name": "CHE",
         "type": "choropleth",
         "z": [
          7.571
         ]
        },
        {
         "coloraxis": "coloraxis2",
         "geo": "geo12",
         "legendgroup": "d",
         "locationmode": "ISO-3",
         "locations": [
          "CHL"
         ],
         "name": "CHL",
         "type": "choropleth",
         "z": [
          6.172
         ]
        },
        {
         "coloraxis": "coloraxis2",
         "geo": "geo12",
         "legendgroup": "d",
         "locationmode": "ISO-3",
         "locations": [
          "COL"
         ],
         "name": "COL",
         "type": "choropleth",
         "z": [
          6.012
         ]
        },
        {
         "coloraxis": "coloraxis2",
         "geo": "geo12",
         "legendgroup": "d",
         "locationmode": "ISO-3",
         "locations": [
          "CRI"
         ],
         "name": "CRI",
         "type": "choropleth",
         "z": [
          7.069
         ]
        },
        {
         "coloraxis": "coloraxis2",
         "geo": "geo12",
         "legendgroup": "d",
         "locationmode": "ISO-3",
         "locations": [
          "CYP"
         ],
         "name": "CYP",
         "type": "choropleth",
         "z": [
          6.223
         ]
        },
        {
         "coloraxis": "coloraxis2",
         "geo": "geo12",
         "legendgroup": "d",
         "locationmode": "ISO-3",
         "locations": [
          "CZE"
         ],
         "name": "CZE",
         "type": "choropleth",
         "z": [
          6.965
         ]
        },
        {
         "coloraxis": "coloraxis2",
         "geo": "geo12",
         "legendgroup": "d",
         "locationmode": "ISO-3",
         "locations": [
          "DEU"
         ],
         "name": "DEU",
         "type": "choropleth",
         "z": [
          7.155
         ]
        },
        {
         "coloraxis": "coloraxis2",
         "geo": "geo12",
         "legendgroup": "d",
         "locationmode": "ISO-3",
         "locations": [
          "DNK"
         ],
         "name": "DNK",
         "type": "choropleth",
         "z": [
          7.62
         ]
        },
        {
         "coloraxis": "coloraxis2",
         "geo": "geo12",
         "legendgroup": "d",
         "locationmode": "ISO-3",
         "locations": [
          "DOM"
         ],
         "name": "DOM",
         "type": "choropleth",
         "z": [
          5.545
         ]
        },
        {
         "coloraxis": "coloraxis2",
         "geo": "geo12",
         "legendgroup": "d",
         "locationmode": "ISO-3",
         "locations": [
          "ECU"
         ],
         "name": "ECU",
         "type": "choropleth",
         "z": [
          5.764
         ]
        },
        {
         "coloraxis": "coloraxis2",
         "geo": "geo12",
         "legendgroup": "d",
         "locationmode": "ISO-3",
         "locations": [
          "EGY"
         ],
         "name": "EGY",
         "type": "choropleth",
         "z": [
          4.283
         ]
        },
        {
         "coloraxis": "coloraxis2",
         "geo": "geo12",
         "legendgroup": "d",
         "locationmode": "ISO-3",
         "locations": [
          "ESP"
         ],
         "name": "ESP",
         "type": "choropleth",
         "z": [
          6.491
         ]
        },
        {
         "coloraxis": "coloraxis2",
         "geo": "geo12",
         "legendgroup": "d",
         "locationmode": "ISO-3",
         "locations": [
          "EST"
         ],
         "name": "EST",
         "type": "choropleth",
         "z": [
          6.189
         ]
        },
        {
         "coloraxis": "coloraxis2",
         "geo": "geo12",
         "legendgroup": "d",
         "locationmode": "ISO-3",
         "locations": [
          "FIN"
         ],
         "name": "FIN",
         "type": "choropleth",
         "z": [
          7.842
         ]
        },
        {
         "coloraxis": "coloraxis2",
         "geo": "geo12",
         "legendgroup": "d",
         "locationmode": "ISO-3",
         "locations": [
          "FRA"
         ],
         "name": "FRA",
         "type": "choropleth",
         "z": [
          6.69
         ]
        },
        {
         "coloraxis": "coloraxis2",
         "geo": "geo12",
         "legendgroup": "d",
         "locationmode": "ISO-3",
         "locations": [
          "GBR"
         ],
         "name": "GBR",
         "type": "choropleth",
         "z": [
          7.064
         ]
        },
        {
         "coloraxis": "coloraxis2",
         "geo": "geo12",
         "legendgroup": "d",
         "locationmode": "ISO-3",
         "locations": [
          "GRC"
         ],
         "name": "GRC",
         "type": "choropleth",
         "z": [
          5.723
         ]
        },
        {
         "coloraxis": "coloraxis2",
         "geo": "geo12",
         "legendgroup": "d",
         "locationmode": "ISO-3",
         "locations": [
          "GTM"
         ],
         "name": "GTM",
         "type": "choropleth",
         "z": [
          6.435
         ]
        },
        {
         "coloraxis": "coloraxis2",
         "geo": "geo12",
         "legendgroup": "d",
         "locationmode": "ISO-3",
         "locations": [
          "HKG"
         ],
         "name": "HKG",
         "type": "choropleth",
         "z": [
          0
         ]
        },
        {
         "coloraxis": "coloraxis2",
         "geo": "geo12",
         "legendgroup": "d",
         "locationmode": "ISO-3",
         "locations": [
          "HND"
         ],
         "name": "HND",
         "type": "choropleth",
         "z": [
          5.919
         ]
        },
        {
         "coloraxis": "coloraxis2",
         "geo": "geo12",
         "legendgroup": "d",
         "locationmode": "ISO-3",
         "locations": [
          "HUN"
         ],
         "name": "HUN",
         "type": "choropleth",
         "z": [
          5.992
         ]
        },
        {
         "coloraxis": "coloraxis2",
         "geo": "geo12",
         "legendgroup": "d",
         "locationmode": "ISO-3",
         "locations": [
          "IDN"
         ],
         "name": "IDN",
         "type": "choropleth",
         "z": [
          5.345
         ]
        },
        {
         "coloraxis": "coloraxis2",
         "geo": "geo12",
         "legendgroup": "d",
         "locationmode": "ISO-3",
         "locations": [
          "IND"
         ],
         "name": "IND",
         "type": "choropleth",
         "z": [
          3.819
         ]
        },
        {
         "coloraxis": "coloraxis2",
         "geo": "geo12",
         "legendgroup": "d",
         "locationmode": "ISO-3",
         "locations": [
          "IRL"
         ],
         "name": "IRL",
         "type": "choropleth",
         "z": [
          7.085
         ]
        },
        {
         "coloraxis": "coloraxis2",
         "geo": "geo12",
         "legendgroup": "d",
         "locationmode": "ISO-3",
         "locations": [
          "ISL"
         ],
         "name": "ISL",
         "type": "choropleth",
         "z": [
          7.554
         ]
        },
        {
         "coloraxis": "coloraxis2",
         "geo": "geo12",
         "legendgroup": "d",
         "locationmode": "ISO-3",
         "locations": [
          "ISR"
         ],
         "name": "ISR",
         "type": "choropleth",
         "z": [
          7.157
         ]
        },
        {
         "coloraxis": "coloraxis2",
         "geo": "geo12",
         "legendgroup": "d",
         "locationmode": "ISO-3",
         "locations": [
          "ITA"
         ],
         "name": "ITA",
         "type": "choropleth",
         "z": [
          6.483
         ]
        },
        {
         "coloraxis": "coloraxis2",
         "geo": "geo12",
         "legendgroup": "d",
         "locationmode": "ISO-3",
         "locations": [
          "JPN"
         ],
         "name": "JPN",
         "type": "choropleth",
         "z": [
          5.94
         ]
        },
        {
         "coloraxis": "coloraxis2",
         "geo": "geo12",
         "legendgroup": "d",
         "locationmode": "ISO-3",
         "locations": [
          "KOR"
         ],
         "name": "KOR",
         "type": "choropleth",
         "z": [
          0
         ]
        },
        {
         "coloraxis": "coloraxis2",
         "geo": "geo12",
         "legendgroup": "d",
         "locationmode": "ISO-3",
         "locations": [
          "LTU"
         ],
         "name": "LTU",
         "type": "choropleth",
         "z": [
          6.255
         ]
        },
        {
         "coloraxis": "coloraxis2",
         "geo": "geo12",
         "legendgroup": "d",
         "locationmode": "ISO-3",
         "locations": [
          "LUX"
         ],
         "name": "LUX",
         "type": "choropleth",
         "z": [
          7.324
         ]
        },
        {
         "coloraxis": "coloraxis2",
         "geo": "geo12",
         "legendgroup": "d",
         "locationmode": "ISO-3",
         "locations": [
          "LVA"
         ],
         "name": "LVA",
         "type": "choropleth",
         "z": [
          6.032
         ]
        },
        {
         "coloraxis": "coloraxis2",
         "geo": "geo12",
         "legendgroup": "d",
         "locationmode": "ISO-3",
         "locations": [
          "MAR"
         ],
         "name": "MAR",
         "type": "choropleth",
         "z": [
          4.918
         ]
        },
        {
         "coloraxis": "coloraxis2",
         "geo": "geo12",
         "legendgroup": "d",
         "locationmode": "ISO-3",
         "locations": [
          "MEX"
         ],
         "name": "MEX",
         "type": "choropleth",
         "z": [
          6.317
         ]
        },
        {
         "coloraxis": "coloraxis2",
         "geo": "geo12",
         "legendgroup": "d",
         "locationmode": "ISO-3",
         "locations": [
          "MYS"
         ],
         "name": "MYS",
         "type": "choropleth",
         "z": [
          5.384
         ]
        },
        {
         "coloraxis": "coloraxis2",
         "geo": "geo12",
         "legendgroup": "d",
         "locationmode": "ISO-3",
         "locations": [
          "NIC"
         ],
         "name": "NIC",
         "type": "choropleth",
         "z": [
          5.972
         ]
        },
        {
         "coloraxis": "coloraxis2",
         "geo": "geo12",
         "legendgroup": "d",
         "locationmode": "ISO-3",
         "locations": [
          "NLD"
         ],
         "name": "NLD",
         "type": "choropleth",
         "z": [
          7.464
         ]
        },
        {
         "coloraxis": "coloraxis2",
         "geo": "geo12",
         "legendgroup": "d",
         "locationmode": "ISO-3",
         "locations": [
          "NOR"
         ],
         "name": "NOR",
         "type": "choropleth",
         "z": [
          7.392
         ]
        },
        {
         "coloraxis": "coloraxis2",
         "geo": "geo12",
         "legendgroup": "d",
         "locationmode": "ISO-3",
         "locations": [
          "NZL"
         ],
         "name": "NZL",
         "type": "choropleth",
         "z": [
          7.277
         ]
        },
        {
         "coloraxis": "coloraxis2",
         "geo": "geo12",
         "legendgroup": "d",
         "locationmode": "ISO-3",
         "locations": [
          "PAN"
         ],
         "name": "PAN",
         "type": "choropleth",
         "z": [
          6.18
         ]
        },
        {
         "coloraxis": "coloraxis2",
         "geo": "geo12",
         "legendgroup": "d",
         "locationmode": "ISO-3",
         "locations": [
          "PER"
         ],
         "name": "PER",
         "type": "choropleth",
         "z": [
          5.84
         ]
        },
        {
         "coloraxis": "coloraxis2",
         "geo": "geo12",
         "legendgroup": "d",
         "locationmode": "ISO-3",
         "locations": [
          "PHL"
         ],
         "name": "PHL",
         "type": "choropleth",
         "z": [
          5.88
         ]
        },
        {
         "coloraxis": "coloraxis2",
         "geo": "geo12",
         "legendgroup": "d",
         "locationmode": "ISO-3",
         "locations": [
          "POL"
         ],
         "name": "POL",
         "type": "choropleth",
         "z": [
          6.166
         ]
        },
        {
         "coloraxis": "coloraxis2",
         "geo": "geo12",
         "legendgroup": "d",
         "locationmode": "ISO-3",
         "locations": [
          "PRT"
         ],
         "name": "PRT",
         "type": "choropleth",
         "z": [
          5.929
         ]
        },
        {
         "coloraxis": "coloraxis2",
         "geo": "geo12",
         "legendgroup": "d",
         "locationmode": "ISO-3",
         "locations": [
          "PRY"
         ],
         "name": "PRY",
         "type": "choropleth",
         "z": [
          5.653
         ]
        },
        {
         "coloraxis": "coloraxis2",
         "geo": "geo12",
         "legendgroup": "d",
         "locationmode": "ISO-3",
         "locations": [
          "ROU"
         ],
         "name": "ROU",
         "type": "choropleth",
         "z": [
          6.14
         ]
        },
        {
         "coloraxis": "coloraxis2",
         "geo": "geo12",
         "legendgroup": "d",
         "locationmode": "ISO-3",
         "locations": [
          "SAU"
         ],
         "name": "SAU",
         "type": "choropleth",
         "z": [
          6.494
         ]
        },
        {
         "coloraxis": "coloraxis2",
         "geo": "geo12",
         "legendgroup": "d",
         "locationmode": "ISO-3",
         "locations": [
          "SGP"
         ],
         "name": "SGP",
         "type": "choropleth",
         "z": [
          6.377
         ]
        },
        {
         "coloraxis": "coloraxis2",
         "geo": "geo12",
         "legendgroup": "d",
         "locationmode": "ISO-3",
         "locations": [
          "SLV"
         ],
         "name": "SLV",
         "type": "choropleth",
         "z": [
          6.061
         ]
        },
        {
         "coloraxis": "coloraxis2",
         "geo": "geo12",
         "legendgroup": "d",
         "locationmode": "ISO-3",
         "locations": [
          "SVK"
         ],
         "name": "SVK",
         "type": "choropleth",
         "z": [
          6.331
         ]
        },
        {
         "coloraxis": "coloraxis2",
         "geo": "geo12",
         "legendgroup": "d",
         "locationmode": "ISO-3",
         "locations": [
          "SWE"
         ],
         "name": "SWE",
         "type": "choropleth",
         "z": [
          7.363
         ]
        },
        {
         "coloraxis": "coloraxis2",
         "geo": "geo12",
         "legendgroup": "d",
         "locationmode": "ISO-3",
         "locations": [
          "THA"
         ],
         "name": "THA",
         "type": "choropleth",
         "z": [
          5.985
         ]
        },
        {
         "coloraxis": "coloraxis2",
         "geo": "geo12",
         "legendgroup": "d",
         "locationmode": "ISO-3",
         "locations": [
          "TUR"
         ],
         "name": "TUR",
         "type": "choropleth",
         "z": [
          4.948
         ]
        },
        {
         "coloraxis": "coloraxis2",
         "geo": "geo12",
         "legendgroup": "d",
         "locationmode": "ISO-3",
         "locations": [
          "TWN"
         ],
         "name": "TWN",
         "type": "choropleth",
         "z": [
          0
         ]
        },
        {
         "coloraxis": "coloraxis2",
         "geo": "geo12",
         "legendgroup": "d",
         "locationmode": "ISO-3",
         "locations": [
          "UKR"
         ],
         "name": "UKR",
         "type": "choropleth",
         "z": [
          4.875
         ]
        },
        {
         "coloraxis": "coloraxis2",
         "geo": "geo12",
         "legendgroup": "d",
         "locationmode": "ISO-3",
         "locations": [
          "URY"
         ],
         "name": "URY",
         "type": "choropleth",
         "z": [
          6.431
         ]
        },
        {
         "coloraxis": "coloraxis2",
         "geo": "geo12",
         "legendgroup": "d",
         "locationmode": "ISO-3",
         "locations": [
          "USA"
         ],
         "name": "USA",
         "type": "choropleth",
         "z": [
          6.951
         ]
        },
        {
         "coloraxis": "coloraxis2",
         "geo": "geo12",
         "legendgroup": "d",
         "locationmode": "ISO-3",
         "locations": [
          "VNM"
         ],
         "name": "VNM",
         "type": "choropleth",
         "z": [
          0
         ]
        },
        {
         "coloraxis": "coloraxis2",
         "geo": "geo12",
         "legendgroup": "d",
         "locationmode": "ISO-3",
         "locations": [
          "ZAF"
         ],
         "name": "ZAF",
         "type": "choropleth",
         "z": [
          4.956
         ]
        }
       ],
       "layout": {
        "annotations": [
         {
          "font": {
           "size": 16
          },
          "showarrow": false,
          "text": "2016 - Average Valance",
          "x": 0.25,
          "xanchor": "center",
          "xref": "paper",
          "y": 1,
          "yanchor": "bottom",
          "yref": "paper"
         },
         {
          "font": {
           "size": 16
          },
          "showarrow": false,
          "text": "2016 - Happiness Index",
          "x": 0.75,
          "xanchor": "center",
          "xref": "paper",
          "y": 1,
          "yanchor": "bottom",
          "yref": "paper"
         },
         {
          "font": {
           "size": 16
          },
          "showarrow": false,
          "text": "2017 - Average Valance",
          "x": 0.25,
          "xanchor": "center",
          "xref": "paper",
          "y": 0.8266666666666667,
          "yanchor": "bottom",
          "yref": "paper"
         },
         {
          "font": {
           "size": 16
          },
          "showarrow": false,
          "text": "2017 - Happiness Index",
          "x": 0.75,
          "xanchor": "center",
          "xref": "paper",
          "y": 0.8266666666666667,
          "yanchor": "bottom",
          "yref": "paper"
         },
         {
          "font": {
           "size": 16
          },
          "showarrow": false,
          "text": "2018 - Average Valance",
          "x": 0.25,
          "xanchor": "center",
          "xref": "paper",
          "y": 0.6533333333333333,
          "yanchor": "bottom",
          "yref": "paper"
         },
         {
          "font": {
           "size": 16
          },
          "showarrow": false,
          "text": "2018 - Happiness Index",
          "x": 0.75,
          "xanchor": "center",
          "xref": "paper",
          "y": 0.6533333333333333,
          "yanchor": "bottom",
          "yref": "paper"
         },
         {
          "font": {
           "size": 16
          },
          "showarrow": false,
          "text": "2019 - Average Valance",
          "x": 0.25,
          "xanchor": "center",
          "xref": "paper",
          "y": 0.48,
          "yanchor": "bottom",
          "yref": "paper"
         },
         {
          "font": {
           "size": 16
          },
          "showarrow": false,
          "text": "2019 - Happiness Index",
          "x": 0.75,
          "xanchor": "center",
          "xref": "paper",
          "y": 0.48,
          "yanchor": "bottom",
          "yref": "paper"
         },
         {
          "font": {
           "size": 16
          },
          "showarrow": false,
          "text": "2020 - Average Valance",
          "x": 0.25,
          "xanchor": "center",
          "xref": "paper",
          "y": 0.30666666666666664,
          "yanchor": "bottom",
          "yref": "paper"
         },
         {
          "font": {
           "size": 16
          },
          "showarrow": false,
          "text": "2020 - Happiness Index",
          "x": 0.75,
          "xanchor": "center",
          "xref": "paper",
          "y": 0.30666666666666664,
          "yanchor": "bottom",
          "yref": "paper"
         },
         {
          "font": {
           "size": 16
          },
          "showarrow": false,
          "text": "2021 - Average Valance",
          "x": 0.25,
          "xanchor": "center",
          "xref": "paper",
          "y": 0.13333333333333333,
          "yanchor": "bottom",
          "yref": "paper"
         },
         {
          "font": {
           "size": 16
          },
          "showarrow": false,
          "text": "2021 - Happiness Index",
          "x": 0.75,
          "xanchor": "center",
          "xref": "paper",
          "y": 0.13333333333333333,
          "yanchor": "bottom",
          "yref": "paper"
         }
        ],
        "coloraxis": {
         "colorbar": {
          "x": -0.1
         },
         "colorscale": [
          [
           0,
           "rgb(255,245,240)"
          ],
          [
           0.125,
           "rgb(254,224,210)"
          ],
          [
           0.25,
           "rgb(252,187,161)"
          ],
          [
           0.375,
           "rgb(252,146,114)"
          ],
          [
           0.5,
           "rgb(251,106,74)"
          ],
          [
           0.625,
           "rgb(239,59,44)"
          ],
          [
           0.75,
           "rgb(203,24,29)"
          ],
          [
           0.875,
           "rgb(165,15,21)"
          ],
          [
           1,
           "rgb(103,0,13)"
          ]
         ],
         "showscale": true
        },
        "geo": {
         "domain": {
          "x": [
           0,
           0.5
          ],
          "y": [
           0.8666666666666667,
           1
          ]
         }
        },
        "geo10": {
         "domain": {
          "x": [
           0.5,
           1
          ],
          "y": [
           0.17333333333333334,
           0.30666666666666664
          ]
         }
        },
        "geo11": {
         "domain": {
          "x": [
           0,
           0.5
          ],
          "y": [
           0,
           0.13333333333333333
          ]
         }
        },
        "geo12": {
         "domain": {
          "x": [
           0.5,
           1
          ],
          "y": [
           0,
           0.13333333333333333
          ]
         }
        },
        "geo2": {
         "domain": {
          "x": [
           0.5,
           1
          ],
          "y": [
           0.8666666666666667,
           1
          ]
         }
        },
        "geo3": {
         "domain": {
          "x": [
           0,
           0.5
          ],
          "y": [
           0.6933333333333334,
           0.8266666666666667
          ]
         }
        },
        "geo4": {
         "domain": {
          "x": [
           0.5,
           1
          ],
          "y": [
           0.6933333333333334,
           0.8266666666666667
          ]
         }
        },
        "geo5": {
         "domain": {
          "x": [
           0,
           0.5
          ],
          "y": [
           0.52,
           0.6533333333333333
          ]
         }
        },
        "geo6": {
         "domain": {
          "x": [
           0.5,
           1
          ],
          "y": [
           0.52,
           0.6533333333333333
          ]
         }
        },
        "geo7": {
         "domain": {
          "x": [
           0,
           0.5
          ],
          "y": [
           0.3466666666666667,
           0.48
          ]
         }
        },
        "geo8": {
         "domain": {
          "x": [
           0.5,
           1
          ],
          "y": [
           0.3466666666666667,
           0.48
          ]
         }
        },
        "geo9": {
         "domain": {
          "x": [
           0,
           0.5
          ],
          "y": [
           0.17333333333333334,
           0.30666666666666664
          ]
         }
        },
        "height": 2000,
        "margin": {
         "l": 0,
         "r": 0
        },
        "template": {
         "data": {
          "bar": [
           {
            "error_x": {
             "color": "#2a3f5f"
            },
            "error_y": {
             "color": "#2a3f5f"
            },
            "marker": {
             "line": {
              "color": "#E5ECF6",
              "width": 0.5
             },
             "pattern": {
              "fillmode": "overlay",
              "size": 10,
              "solidity": 0.2
             }
            },
            "type": "bar"
           }
          ],
          "barpolar": [
           {
            "marker": {
             "line": {
              "color": "#E5ECF6",
              "width": 0.5
             },
             "pattern": {
              "fillmode": "overlay",
              "size": 10,
              "solidity": 0.2
             }
            },
            "type": "barpolar"
           }
          ],
          "carpet": [
           {
            "aaxis": {
             "endlinecolor": "#2a3f5f",
             "gridcolor": "white",
             "linecolor": "white",
             "minorgridcolor": "white",
             "startlinecolor": "#2a3f5f"
            },
            "baxis": {
             "endlinecolor": "#2a3f5f",
             "gridcolor": "white",
             "linecolor": "white",
             "minorgridcolor": "white",
             "startlinecolor": "#2a3f5f"
            },
            "type": "carpet"
           }
          ],
          "choropleth": [
           {
            "colorbar": {
             "outlinewidth": 0,
             "ticks": ""
            },
            "type": "choropleth"
           }
          ],
          "contour": [
           {
            "colorbar": {
             "outlinewidth": 0,
             "ticks": ""
            },
            "colorscale": [
             [
              0,
              "#0d0887"
             ],
             [
              0.1111111111111111,
              "#46039f"
             ],
             [
              0.2222222222222222,
              "#7201a8"
             ],
             [
              0.3333333333333333,
              "#9c179e"
             ],
             [
              0.4444444444444444,
              "#bd3786"
             ],
             [
              0.5555555555555556,
              "#d8576b"
             ],
             [
              0.6666666666666666,
              "#ed7953"
             ],
             [
              0.7777777777777778,
              "#fb9f3a"
             ],
             [
              0.8888888888888888,
              "#fdca26"
             ],
             [
              1,
              "#f0f921"
             ]
            ],
            "type": "contour"
           }
          ],
          "contourcarpet": [
           {
            "colorbar": {
             "outlinewidth": 0,
             "ticks": ""
            },
            "type": "contourcarpet"
           }
          ],
          "heatmap": [
           {
            "colorbar": {
             "outlinewidth": 0,
             "ticks": ""
            },
            "colorscale": [
             [
              0,
              "#0d0887"
             ],
             [
              0.1111111111111111,
              "#46039f"
             ],
             [
              0.2222222222222222,
              "#7201a8"
             ],
             [
              0.3333333333333333,
              "#9c179e"
             ],
             [
              0.4444444444444444,
              "#bd3786"
             ],
             [
              0.5555555555555556,
              "#d8576b"
             ],
             [
              0.6666666666666666,
              "#ed7953"
             ],
             [
              0.7777777777777778,
              "#fb9f3a"
             ],
             [
              0.8888888888888888,
              "#fdca26"
             ],
             [
              1,
              "#f0f921"
             ]
            ],
            "type": "heatmap"
           }
          ],
          "heatmapgl": [
           {
            "colorbar": {
             "outlinewidth": 0,
             "ticks": ""
            },
            "colorscale": [
             [
              0,
              "#0d0887"
             ],
             [
              0.1111111111111111,
              "#46039f"
             ],
             [
              0.2222222222222222,
              "#7201a8"
             ],
             [
              0.3333333333333333,
              "#9c179e"
             ],
             [
              0.4444444444444444,
              "#bd3786"
             ],
             [
              0.5555555555555556,
              "#d8576b"
             ],
             [
              0.6666666666666666,
              "#ed7953"
             ],
             [
              0.7777777777777778,
              "#fb9f3a"
             ],
             [
              0.8888888888888888,
              "#fdca26"
             ],
             [
              1,
              "#f0f921"
             ]
            ],
            "type": "heatmapgl"
           }
          ],
          "histogram": [
           {
            "marker": {
             "pattern": {
              "fillmode": "overlay",
              "size": 10,
              "solidity": 0.2
             }
            },
            "type": "histogram"
           }
          ],
          "histogram2d": [
           {
            "colorbar": {
             "outlinewidth": 0,
             "ticks": ""
            },
            "colorscale": [
             [
              0,
              "#0d0887"
             ],
             [
              0.1111111111111111,
              "#46039f"
             ],
             [
              0.2222222222222222,
              "#7201a8"
             ],
             [
              0.3333333333333333,
              "#9c179e"
             ],
             [
              0.4444444444444444,
              "#bd3786"
             ],
             [
              0.5555555555555556,
              "#d8576b"
             ],
             [
              0.6666666666666666,
              "#ed7953"
             ],
             [
              0.7777777777777778,
              "#fb9f3a"
             ],
             [
              0.8888888888888888,
              "#fdca26"
             ],
             [
              1,
              "#f0f921"
             ]
            ],
            "type": "histogram2d"
           }
          ],
          "histogram2dcontour": [
           {
            "colorbar": {
             "outlinewidth": 0,
             "ticks": ""
            },
            "colorscale": [
             [
              0,
              "#0d0887"
             ],
             [
              0.1111111111111111,
              "#46039f"
             ],
             [
              0.2222222222222222,
              "#7201a8"
             ],
             [
              0.3333333333333333,
              "#9c179e"
             ],
             [
              0.4444444444444444,
              "#bd3786"
             ],
             [
              0.5555555555555556,
              "#d8576b"
             ],
             [
              0.6666666666666666,
              "#ed7953"
             ],
             [
              0.7777777777777778,
              "#fb9f3a"
             ],
             [
              0.8888888888888888,
              "#fdca26"
             ],
             [
              1,
              "#f0f921"
             ]
            ],
            "type": "histogram2dcontour"
           }
          ],
          "mesh3d": [
           {
            "colorbar": {
             "outlinewidth": 0,
             "ticks": ""
            },
            "type": "mesh3d"
           }
          ],
          "parcoords": [
           {
            "line": {
             "colorbar": {
              "outlinewidth": 0,
              "ticks": ""
             }
            },
            "type": "parcoords"
           }
          ],
          "pie": [
           {
            "automargin": true,
            "type": "pie"
           }
          ],
          "scatter": [
           {
            "fillpattern": {
             "fillmode": "overlay",
             "size": 10,
             "solidity": 0.2
            },
            "type": "scatter"
           }
          ],
          "scatter3d": [
           {
            "line": {
             "colorbar": {
              "outlinewidth": 0,
              "ticks": ""
             }
            },
            "marker": {
             "colorbar": {
              "outlinewidth": 0,
              "ticks": ""
             }
            },
            "type": "scatter3d"
           }
          ],
          "scattercarpet": [
           {
            "marker": {
             "colorbar": {
              "outlinewidth": 0,
              "ticks": ""
             }
            },
            "type": "scattercarpet"
           }
          ],
          "scattergeo": [
           {
            "marker": {
             "colorbar": {
              "outlinewidth": 0,
              "ticks": ""
             }
            },
            "type": "scattergeo"
           }
          ],
          "scattergl": [
           {
            "marker": {
             "colorbar": {
              "outlinewidth": 0,
              "ticks": ""
             }
            },
            "type": "scattergl"
           }
          ],
          "scattermapbox": [
           {
            "marker": {
             "colorbar": {
              "outlinewidth": 0,
              "ticks": ""
             }
            },
            "type": "scattermapbox"
           }
          ],
          "scatterpolar": [
           {
            "marker": {
             "colorbar": {
              "outlinewidth": 0,
              "ticks": ""
             }
            },
            "type": "scatterpolar"
           }
          ],
          "scatterpolargl": [
           {
            "marker": {
             "colorbar": {
              "outlinewidth": 0,
              "ticks": ""
             }
            },
            "type": "scatterpolargl"
           }
          ],
          "scatterternary": [
           {
            "marker": {
             "colorbar": {
              "outlinewidth": 0,
              "ticks": ""
             }
            },
            "type": "scatterternary"
           }
          ],
          "surface": [
           {
            "colorbar": {
             "outlinewidth": 0,
             "ticks": ""
            },
            "colorscale": [
             [
              0,
              "#0d0887"
             ],
             [
              0.1111111111111111,
              "#46039f"
             ],
             [
              0.2222222222222222,
              "#7201a8"
             ],
             [
              0.3333333333333333,
              "#9c179e"
             ],
             [
              0.4444444444444444,
              "#bd3786"
             ],
             [
              0.5555555555555556,
              "#d8576b"
             ],
             [
              0.6666666666666666,
              "#ed7953"
             ],
             [
              0.7777777777777778,
              "#fb9f3a"
             ],
             [
              0.8888888888888888,
              "#fdca26"
             ],
             [
              1,
              "#f0f921"
             ]
            ],
            "type": "surface"
           }
          ],
          "table": [
           {
            "cells": {
             "fill": {
              "color": "#EBF0F8"
             },
             "line": {
              "color": "white"
             }
            },
            "header": {
             "fill": {
              "color": "#C8D4E3"
             },
             "line": {
              "color": "white"
             }
            },
            "type": "table"
           }
          ]
         },
         "layout": {
          "annotationdefaults": {
           "arrowcolor": "#2a3f5f",
           "arrowhead": 0,
           "arrowwidth": 1
          },
          "autotypenumbers": "strict",
          "coloraxis": {
           "colorbar": {
            "outlinewidth": 0,
            "ticks": ""
           }
          },
          "colorscale": {
           "diverging": [
            [
             0,
             "#8e0152"
            ],
            [
             0.1,
             "#c51b7d"
            ],
            [
             0.2,
             "#de77ae"
            ],
            [
             0.3,
             "#f1b6da"
            ],
            [
             0.4,
             "#fde0ef"
            ],
            [
             0.5,
             "#f7f7f7"
            ],
            [
             0.6,
             "#e6f5d0"
            ],
            [
             0.7,
             "#b8e186"
            ],
            [
             0.8,
             "#7fbc41"
            ],
            [
             0.9,
             "#4d9221"
            ],
            [
             1,
             "#276419"
            ]
           ],
           "sequential": [
            [
             0,
             "#0d0887"
            ],
            [
             0.1111111111111111,
             "#46039f"
            ],
            [
             0.2222222222222222,
             "#7201a8"
            ],
            [
             0.3333333333333333,
             "#9c179e"
            ],
            [
             0.4444444444444444,
             "#bd3786"
            ],
            [
             0.5555555555555556,
             "#d8576b"
            ],
            [
             0.6666666666666666,
             "#ed7953"
            ],
            [
             0.7777777777777778,
             "#fb9f3a"
            ],
            [
             0.8888888888888888,
             "#fdca26"
            ],
            [
             1,
             "#f0f921"
            ]
           ],
           "sequentialminus": [
            [
             0,
             "#0d0887"
            ],
            [
             0.1111111111111111,
             "#46039f"
            ],
            [
             0.2222222222222222,
             "#7201a8"
            ],
            [
             0.3333333333333333,
             "#9c179e"
            ],
            [
             0.4444444444444444,
             "#bd3786"
            ],
            [
             0.5555555555555556,
             "#d8576b"
            ],
            [
             0.6666666666666666,
             "#ed7953"
            ],
            [
             0.7777777777777778,
             "#fb9f3a"
            ],
            [
             0.8888888888888888,
             "#fdca26"
            ],
            [
             1,
             "#f0f921"
            ]
           ]
          },
          "colorway": [
           "#636efa",
           "#EF553B",
           "#00cc96",
           "#ab63fa",
           "#FFA15A",
           "#19d3f3",
           "#FF6692",
           "#B6E880",
           "#FF97FF",
           "#FECB52"
          ],
          "font": {
           "color": "#2a3f5f"
          },
          "geo": {
           "bgcolor": "white",
           "lakecolor": "white",
           "landcolor": "#E5ECF6",
           "showlakes": true,
           "showland": true,
           "subunitcolor": "white"
          },
          "hoverlabel": {
           "align": "left"
          },
          "hovermode": "closest",
          "mapbox": {
           "style": "light"
          },
          "paper_bgcolor": "white",
          "plot_bgcolor": "#E5ECF6",
          "polar": {
           "angularaxis": {
            "gridcolor": "white",
            "linecolor": "white",
            "ticks": ""
           },
           "bgcolor": "#E5ECF6",
           "radialaxis": {
            "gridcolor": "white",
            "linecolor": "white",
            "ticks": ""
           }
          },
          "scene": {
           "xaxis": {
            "backgroundcolor": "#E5ECF6",
            "gridcolor": "white",
            "gridwidth": 2,
            "linecolor": "white",
            "showbackground": true,
            "ticks": "",
            "zerolinecolor": "white"
           },
           "yaxis": {
            "backgroundcolor": "#E5ECF6",
            "gridcolor": "white",
            "gridwidth": 2,
            "linecolor": "white",
            "showbackground": true,
            "ticks": "",
            "zerolinecolor": "white"
           },
           "zaxis": {
            "backgroundcolor": "#E5ECF6",
            "gridcolor": "white",
            "gridwidth": 2,
            "linecolor": "white",
            "showbackground": true,
            "ticks": "",
            "zerolinecolor": "white"
           }
          },
          "shapedefaults": {
           "line": {
            "color": "#2a3f5f"
           }
          },
          "ternary": {
           "aaxis": {
            "gridcolor": "white",
            "linecolor": "white",
            "ticks": ""
           },
           "baxis": {
            "gridcolor": "white",
            "linecolor": "white",
            "ticks": ""
           },
           "bgcolor": "#E5ECF6",
           "caxis": {
            "gridcolor": "white",
            "linecolor": "white",
            "ticks": ""
           }
          },
          "title": {
           "x": 0.05
          },
          "xaxis": {
           "automargin": true,
           "gridcolor": "white",
           "linecolor": "white",
           "ticks": "",
           "title": {
            "standoff": 15
           },
           "zerolinecolor": "white",
           "zerolinewidth": 2
          },
          "yaxis": {
           "automargin": true,
           "gridcolor": "white",
           "linecolor": "white",
           "ticks": "",
           "title": {
            "standoff": 15
           },
           "zerolinecolor": "white",
           "zerolinewidth": 2
          }
         }
        },
        "title": {
         "text": "Average Valance vs Happiness Index"
        },
        "width": 1300
       }
      }
     },
     "metadata": {},
     "output_type": "display_data"
    }
   ],
   "source": [
    "import pandas as pd\n",
    "from plotly.subplots import make_subplots\n",
    "import plotly.graph_objects as go\n",
    "import plotly.io as pio\n",
    "\n",
    "store = pd.HDFStore('store.h5')\n",
    "\n",
    "data = store['df']\n",
    "\n",
    "\n",
    "fig = make_subplots(rows=5, \n",
    "                    cols=2,  \n",
    "                    horizontal_spacing = 0, \n",
    "                    vertical_spacing = 0.04, \n",
    "                    specs= [[{'type': 'choropleth'}, {'type': 'choropleth'}],\n",
    "                           [{'type': 'choropleth'}, {'type': 'choropleth'}],\n",
    "                           [{'type': 'choropleth'}, {'type': 'choropleth'}],\n",
    "                           [{'type': 'choropleth'}, {'type': 'choropleth'}],\n",
    "                           [{'type': 'choropleth'}, {'type': 'choropleth'}],\n",
    "                           [{'type': 'choropleth'}, {'type': 'choropleth'}]],\n",
    "                    subplot_titles=('2016 - Average Valance', '2016 - Happiness Index',\n",
    "                                    '2017 - Average Valance', '2017 - Happiness Index',\n",
    "                                    '2018 - Average Valance', '2018 - Happiness Index', \n",
    "                                    '2019 - Average Valance', '2019 - Happiness Index', \n",
    "                                    '2020 - Average Valance', '2020 - Happiness Index', \n",
    "                                    '2021 - Average Valance', '2021 - Happiness Index'))\n",
    "                                    \n",
    "df = data.query(\"year=='2017'\")\n",
    "for country,valence in df.groupby('country'):\n",
    "    fig.add_trace(\n",
    "        go.Choropleth(locationmode = \"ISO-3\",\n",
    "                      locations = valence['country'],\n",
    "                      z = valence['avg valence'],\n",
    "                      legendgroup = 'c',\n",
    "                      name = country,\n",
    "                      coloraxis = \"coloraxis1\"),\n",
    "        row=1, col=1)\n",
    "    fig.update_coloraxes(colorbar_x=-0.1, showscale = True, colorscale = 'Reds') #Greens\n",
    "\n",
    "for country,dep in df.groupby('country'):\n",
    "    fig.add_trace(\n",
    "        go.Choropleth(locationmode = \"ISO-3\",\n",
    "                      locations = dep['country'], \n",
    "                      z = dep['depression'],\n",
    "                      legendgroup = 'd',\n",
    "                      name = country,\n",
    "                      coloraxis = \"coloraxis2\"),\n",
    "        row=1, col=2\n",
    "    )\n",
    "df = data.query(\"year=='2018'\")\n",
    "for country,valence in df.groupby('country'):\n",
    "    fig.add_trace(\n",
    "        go.Choropleth(locationmode = \"ISO-3\",\n",
    "                      locations = valence['country'],\n",
    "                      z = valence['avg valence'],\n",
    "                      legendgroup = 'c',\n",
    "                      name = country,\n",
    "                      coloraxis = \"coloraxis1\"),\n",
    "        row=2, col=1)\n",
    "    fig.update_coloraxes(colorbar_x=-0.1, showscale = True, colorscale = 'Reds') #Greens\n",
    "\n",
    "for country,dep in df.groupby('country'):\n",
    "    fig.add_trace(\n",
    "        go.Choropleth(locationmode = \"ISO-3\",\n",
    "                      locations = dep['country'], \n",
    "                      z = dep['depression'],\n",
    "                      legendgroup = 'd',\n",
    "                      name = country,\n",
    "                      coloraxis = \"coloraxis2\"),\n",
    "        row=2, col=2\n",
    "    )\n",
    "\n",
    "df = data.query(\"year=='2019'\")\n",
    "for country,valence in df.groupby('country'):\n",
    "    fig.add_trace(\n",
    "        go.Choropleth(locationmode = \"ISO-3\",\n",
    "                      locations = valence['country'],\n",
    "                      z = valence['avg valence'],\n",
    "                      legendgroup = 'c',\n",
    "                      name = country,\n",
    "                      coloraxis = \"coloraxis1\"),\n",
    "        row=3, col=1)\n",
    "    fig.update_coloraxes(colorbar_x=-0.1, showscale = True, colorscale = 'Reds') #Greens\n",
    "\n",
    "for country,dep in df.groupby('country'):\n",
    "    fig.add_trace(\n",
    "        go.Choropleth(locationmode = \"ISO-3\",\n",
    "                      locations = dep['country'], \n",
    "                      z = dep['depression'],\n",
    "                      legendgroup = 'd',\n",
    "                      name = country,\n",
    "                      coloraxis = \"coloraxis2\"),\n",
    "        row=3, col=2\n",
    "    )\n",
    "\n",
    "df = data.query(\"year=='2020'\")\n",
    "\n",
    "for country,valence in df.groupby('country'):\n",
    "    fig.add_trace(\n",
    "        go.Choropleth(locationmode = \"ISO-3\",\n",
    "                      locations = valence['country'],\n",
    "                      z = valence['avg valence'],\n",
    "                      legendgroup = 'c',\n",
    "                      name = country,\n",
    "                      coloraxis = \"coloraxis1\"),\n",
    "        row=4, col=1\n",
    "    )\n",
    "    fig.update_coloraxes(showscale = True, colorscale = 'Reds') #Greens\n",
    "\n",
    "for country,dep in df.groupby('country'):\n",
    "    fig.add_trace(\n",
    "        go.Choropleth(locationmode = \"ISO-3\",\n",
    "                      locations = dep['country'], \n",
    "                      z = dep['depression'],\n",
    "                      legendgroup = 'd',\n",
    "                      name = country,\n",
    "                      coloraxis = \"coloraxis2\"),\n",
    "        row=4, col=2\n",
    "    )\n",
    "\n",
    "df = data.query(\"year=='2021'\")\n",
    "\n",
    "for country,valence in df.groupby('country'):\n",
    "    fig.add_trace(\n",
    "        go.Choropleth(locationmode = \"ISO-3\",\n",
    "                      locations = valence['country'],\n",
    "                      z = valence['avg valence'],\n",
    "                      legendgroup = 'c',\n",
    "                      name = country,\n",
    "                      coloraxis = \"coloraxis1\"),\n",
    "        row=5, col=1\n",
    "    )\n",
    "    fig.update_coloraxes(showscale = True, colorscale = 'Reds') #Greens\n",
    "\n",
    "for country,dep in df.groupby('country'):\n",
    "    fig.add_trace(\n",
    "        go.Choropleth(locationmode = \"ISO-3\",\n",
    "                      locations = dep['country'], \n",
    "                      z = dep['depression'],\n",
    "                      legendgroup = 'd',\n",
    "                      name = country,\n",
    "                      coloraxis = \"coloraxis2\"),\n",
    "        row=5, col=2\n",
    "    )\n",
    "\n",
    "\n",
    "\n",
    "\n",
    "fig.update_layout(title_text=\"Average Valance vs Happiness Index\", width=1300, height=2000, margin_l = 0, margin_r = 0)\n",
    "fig.show()\n",
    "\n",
    "fh = open(\"maps.html\",'w')\n",
    "fh.close()\n",
    "pio.write_html(fig, file = 'htmlcode.html', auto_open = True, full_html = True) \n",
    "\n"
   ]
  },
  {
   "cell_type": "code",
   "execution_count": null,
   "metadata": {},
   "outputs": [],
   "source": []
  }
 ],
 "metadata": {
  "interpreter": {
   "hash": "e774977668b7c0ae8309835a5187aa7fbf7669e7d0bb59755bc63e573643edcd"
  },
  "kernelspec": {
   "display_name": "Python 3.7.3 64-bit",
   "language": "python",
   "name": "python3"
  },
  "language_info": {
   "codemirror_mode": {
    "name": "ipython",
    "version": 3
   },
   "file_extension": ".py",
   "mimetype": "text/x-python",
   "name": "python",
   "nbconvert_exporter": "python",
   "pygments_lexer": "ipython3",
   "version": "3.7.3"
  },
  "orig_nbformat": 4
 },
 "nbformat": 4,
 "nbformat_minor": 2
}
