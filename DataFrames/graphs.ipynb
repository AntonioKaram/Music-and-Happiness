{
 "cells": [
  {
   "cell_type": "code",
   "execution_count": 1,
   "metadata": {},
   "outputs": [
    {
     "name": "stdout",
     "output_type": "stream",
     "text": [
      "    country  year  crime education  depression  gdp per cap  avg valence  \\\n",
      "0       ARE  2018    0.7         0       6.774      33893.0     0.428689   \n",
      "1       ARE  2019    0.8         0       6.825      38663.0     0.432052   \n",
      "2       ARE  2020    4.1      99.2       6.791      40645.0     0.463403   \n",
      "3       ARE  2021    4.8     111.6       6.561      43839.0     0.496784   \n",
      "4       ARE  2022    3.1     102.1       6.576      43103.0     0.460953   \n",
      "..      ...   ...    ...       ...         ...          ...          ...   \n",
      "392     ZAF  2018    0.0         0       4.724       7329.0     0.429012   \n",
      "393     ZAF  2019    0.0     104.5       4.722       5731.0     0.454716   \n",
      "394     ZAF  2020    0.0     110.2       4.814       6122.0     0.475540   \n",
      "395     ZAF  2021    0.0      92.3       4.956       6369.0     0.490852   \n",
      "396     ZAF  2022    0.0      86.8       5.194       6001.0     0.469834   \n",
      "\n",
      "                                                 top 1  \\\n",
      "0               [thank u next by Ariana Grande, 0.412]   \n",
      "1    [Sunflower - Spider-Man: Into the Spider-Verse...   \n",
      "2                      [The Box by Roddy Ricch, 0.642]   \n",
      "3    [Lemonade (feat. Gunna Don Toliver & NAV) by I...   \n",
      "4                     [Sacrifice by The Weeknd, 0.905]   \n",
      "..                                                 ...   \n",
      "392                       [God's Plan by Drake, 0.357]   \n",
      "393  [Sunflower - Spider-Man: Into the Spider-Verse...   \n",
      "394               [Dance Monkey by Tones And I, 0.513]   \n",
      "395  [Lemonade (feat. Gunna Don Toliver & NAV) by I...   \n",
      "396             [Asibe Happy by Kabza De Small, 0.188]   \n",
      "\n",
      "                                                 top 2  \\\n",
      "0                        [Without Me by Halsey, 0.533]   \n",
      "1                        [Without Me by Halsey, 0.533]   \n",
      "2                 [Dance Monkey by Tones And I, 0.513]   \n",
      "3                  [positions by Ariana Grande, 0.682]   \n",
      "4    [STAY (with Justin Bieber) by The Kid LAROI, 0...   \n",
      "..                                                 ...   \n",
      "392  [Psycho (feat. Ty Dolla $ign) by Post Malone, ...   \n",
      "393                      [Without Me by Halsey, 0.533]   \n",
      "394                    [Circles by Post Malone, 0.553]   \n",
      "395        [Mood (feat. iann dior) by 24kGoldn, 0.732]   \n",
      "396                    [Ngixolele by Busta 929, 0.665]   \n",
      "\n",
      "                                                 top 3  \n",
      "0    [Sunflower - Spider-Man: Into the Spider-Verse...  \n",
      "1               [thank u next by Ariana Grande, 0.412]  \n",
      "2                    [Falling by Trevor Daniel, 0.236]  \n",
      "3          [Mood (feat. iann dior) by 24kGoldn, 0.732]  \n",
      "4                 [Heat Waves by Glass Animals, 0.531]  \n",
      "..                                                 ...  \n",
      "392                   [rockstar by Post Malone, 0.129]  \n",
      "393  [Eastside (with Halsey & Khalid) by benny blan...  \n",
      "394                      [Memories by Maroon 5, 0.595]  \n",
      "395             [Blinding Lights by The Weeknd, 0.334]  \n",
      "396  [Adiwele (feat. Kabza De Small & DJ Maphorisa)...  \n",
      "\n",
      "[397 rows x 10 columns]\n"
     ]
    }
   ],
   "source": [
    "import pandas as pd\n",
    "import plotly.express as px\n",
    "\n",
    "store = pd.HDFStore('store.h5')\n",
    "\n",
    "df = store['df']\n",
    "\n",
    "\n",
    "print(df)"
   ]
  }
 ],
 "metadata": {
  "interpreter": {
   "hash": "e774977668b7c0ae8309835a5187aa7fbf7669e7d0bb59755bc63e573643edcd"
  },
  "kernelspec": {
   "display_name": "Python 3.7.3 64-bit",
   "language": "python",
   "name": "python3"
  },
  "language_info": {
   "codemirror_mode": {
    "name": "ipython",
    "version": 3
   },
   "file_extension": ".py",
   "mimetype": "text/x-python",
   "name": "python",
   "nbconvert_exporter": "python",
   "pygments_lexer": "ipython3",
   "version": "3.7.3"
  },
  "orig_nbformat": 4
 },
 "nbformat": 4,
 "nbformat_minor": 2
}
