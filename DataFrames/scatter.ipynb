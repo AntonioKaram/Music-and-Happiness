{
 "cells": [
  {
   "cell_type": "code",
   "execution_count": 19,
   "metadata": {},
   "outputs": [
    {
     "data": {
      "application/vnd.plotly.v1+json": {
       "config": {
        "plotlyServerURL": "https://plot.ly"
       },
       "data": [
        {
         "showlegend": false,
         "type": "scatter",
         "x": [
          0
         ],
         "xaxis": "x",
         "y": [
          0.43205199999999977
         ],
         "yaxis": "y"
        },
        {
         "showlegend": false,
         "type": "scatter",
         "x": [
          91.2
         ],
         "xaxis": "x",
         "y": [
          0.6004873096446699
         ],
         "yaxis": "y"
        },
        {
         "showlegend": false,
         "type": "scatter",
         "x": [
          174.8
         ],
         "xaxis": "x",
         "y": [
          0.4567979695431473
         ],
         "yaxis": "y"
        },
        {
         "showlegend": false,
         "type": "scatter",
         "x": [
          94.5
         ],
         "xaxis": "x",
         "y": [
          0.46434021164021155
         ],
         "yaxis": "y"
        },
        {
         "showlegend": false,
         "type": "scatter",
         "x": [
          161.8
         ],
         "xaxis": "x",
         "y": [
          0.4621673366834173
         ],
         "yaxis": "y"
        },
        {
         "showlegend": false,
         "type": "scatter",
         "x": [
          119
         ],
         "xaxis": "x",
         "y": [
          0.4649085
         ],
         "yaxis": "y"
        },
        {
         "showlegend": false,
         "type": "scatter",
         "x": [
          0
         ],
         "xaxis": "x",
         "y": [
          0.6128793969849242
         ],
         "yaxis": "y"
        },
        {
         "showlegend": false,
         "type": "scatter",
         "x": [
          104.4
         ],
         "xaxis": "x",
         "y": [
          0.6108442211055276
         ],
         "yaxis": "y"
        },
        {
         "showlegend": false,
         "type": "scatter",
         "x": [
          118.4
         ],
         "xaxis": "x",
         "y": [
          0.43674199999999996
         ],
         "yaxis": "y"
        },
        {
         "showlegend": false,
         "type": "scatter",
         "x": [
          96.6
         ],
         "xaxis": "x",
         "y": [
          0.4603056701030924
         ],
         "yaxis": "y"
        },
        {
         "showlegend": false,
         "type": "scatter",
         "x": [
          103.4
         ],
         "xaxis": "x",
         "y": [
          0.6216984924623117
         ],
         "yaxis": "y"
        },
        {
         "showlegend": false,
         "type": "scatter",
         "x": [
          87.6
         ],
         "xaxis": "x",
         "y": [
          0.62921
         ],
         "yaxis": "y"
        },
        {
         "showlegend": false,
         "type": "scatter",
         "x": [
          155.4
         ],
         "xaxis": "x",
         "y": [
          0.5747638190954772
         ],
         "yaxis": "y"
        },
        {
         "showlegend": false,
         "type": "scatter",
         "x": [
          97.4
         ],
         "xaxis": "x",
         "y": [
          0.4501021505376343
         ],
         "yaxis": "y"
        },
        {
         "showlegend": false,
         "type": "scatter",
         "x": [
          0
         ],
         "xaxis": "x",
         "y": [
          0.45122049999999964
         ],
         "yaxis": "y"
        },
        {
         "showlegend": false,
         "type": "scatter",
         "x": [
          90
         ],
         "xaxis": "x",
         "y": [
          0.4755518518518516
         ],
         "yaxis": "y"
        },
        {
         "showlegend": false,
         "type": "scatter",
         "x": [
          139.3
         ],
         "xaxis": "x",
         "y": [
          0.4799444444444441
         ],
         "yaxis": "y"
        },
        {
         "showlegend": false,
         "type": "scatter",
         "x": [
          76.6
         ],
         "xaxis": "x",
         "y": [
          0.580262626262626
         ],
         "yaxis": "y"
        },
        {
         "showlegend": false,
         "type": "scatter",
         "x": [
          99.6
         ],
         "xaxis": "x",
         "y": [
          0.624445
         ],
         "yaxis": "y"
        },
        {
         "showlegend": false,
         "type": "scatter",
         "x": [
          76.9
         ],
         "xaxis": "x",
         "y": [
          0.47685128205128213
         ],
         "yaxis": "y"
        },
        {
         "showlegend": false,
         "type": "scatter",
         "x": [
          133.3
         ],
         "xaxis": "x",
         "y": [
          0.5646935
         ],
         "yaxis": "y"
        },
        {
         "showlegend": false,
         "type": "scatter",
         "x": [
          134.5
         ],
         "xaxis": "x",
         "y": [
          0.4498084999999996
         ],
         "yaxis": "y"
        },
        {
         "showlegend": false,
         "type": "scatter",
         "x": [
          189.7
         ],
         "xaxis": "x",
         "y": [
          0.4605821428571424
         ],
         "yaxis": "y"
        },
        {
         "showlegend": false,
         "type": "scatter",
         "x": [
          109
         ],
         "xaxis": "x",
         "y": [
          0.5059522842639594
         ],
         "yaxis": "y"
        },
        {
         "showlegend": false,
         "type": "scatter",
         "x": [
          126.3
         ],
         "xaxis": "x",
         "y": [
          0.45863015075376873
         ],
         "yaxis": "y"
        },
        {
         "showlegend": false,
         "type": "scatter",
         "x": [
          105
         ],
         "xaxis": "x",
         "y": [
          0.4451447236180904
         ],
         "yaxis": "y"
        },
        {
         "showlegend": false,
         "type": "scatter",
         "x": [
          37
         ],
         "xaxis": "x",
         "y": [
          0.5898944723618088
         ],
         "yaxis": "y"
        },
        {
         "showlegend": false,
         "type": "scatter",
         "x": [
          0
         ],
         "xaxis": "x",
         "y": [
          0.40792777777777744
         ],
         "yaxis": "y"
        },
        {
         "showlegend": false,
         "type": "scatter",
         "x": [
          63.9
         ],
         "xaxis": "x",
         "y": [
          0.578256281407035
         ],
         "yaxis": "y"
        },
        {
         "showlegend": false,
         "type": "scatter",
         "x": [
          106.6
         ],
         "xaxis": "x",
         "y": [
          0.4746864999999996
         ],
         "yaxis": "y"
        },
        {
         "showlegend": false,
         "type": "scatter",
         "x": [
          81.9
         ],
         "xaxis": "x",
         "y": [
          0.45639274611398944
         ],
         "yaxis": "y"
        },
        {
         "showlegend": false,
         "type": "scatter",
         "x": [
          65.9
         ],
         "xaxis": "x",
         "y": [
          0.4624548913043477
         ],
         "yaxis": "y"
        },
        {
         "showlegend": false,
         "type": "scatter",
         "x": [
          183.5
         ],
         "xaxis": "x",
         "y": [
          0.4385835
         ],
         "yaxis": "y"
        },
        {
         "showlegend": false,
         "type": "scatter",
         "x": [
          130
         ],
         "xaxis": "x",
         "y": [
          0.46134299999999995
         ],
         "yaxis": "y"
        },
        {
         "showlegend": false,
         "type": "scatter",
         "x": [
          105.5
         ],
         "xaxis": "x",
         "y": [
          0.4695343434343434
         ],
         "yaxis": "y"
        },
        {
         "showlegend": false,
         "type": "scatter",
         "x": [
          100.1
         ],
         "xaxis": "x",
         "y": [
          0.4809005076142131
         ],
         "yaxis": "y"
        },
        {
         "showlegend": false,
         "type": "scatter",
         "x": [
          0
         ],
         "xaxis": "x",
         "y": [
          0.5119438775510201
         ],
         "yaxis": "y"
        },
        {
         "showlegend": false,
         "type": "scatter",
         "x": [
          110.4
         ],
         "xaxis": "x",
         "y": [
          0.4436134999999998
         ],
         "yaxis": "y"
        },
        {
         "showlegend": false,
         "type": "scatter",
         "x": [
          99
         ],
         "xaxis": "x",
         "y": [
          0.4559309644670048
         ],
         "yaxis": "y"
        },
        {
         "showlegend": false,
         "type": "scatter",
         "x": [
          115
         ],
         "xaxis": "x",
         "y": [
          0.4461504999999997
         ],
         "yaxis": "y"
        },
        {
         "showlegend": false,
         "type": "scatter",
         "x": [
          106.6
         ],
         "xaxis": "x",
         "y": [
          0.5135263959390861
         ],
         "yaxis": "y"
        },
        {
         "showlegend": false,
         "type": "scatter",
         "x": [
          86.6
         ],
         "xaxis": "x",
         "y": [
          0.608150753768844
         ],
         "yaxis": "y"
        },
        {
         "showlegend": false,
         "type": "scatter",
         "x": [
          86.8
         ],
         "xaxis": "x",
         "y": [
          0.4277331632653061
         ],
         "yaxis": "y"
        },
        {
         "showlegend": false,
         "type": "scatter",
         "x": [
          0
         ],
         "xaxis": "x",
         "y": [
          0.5677035175879397
         ],
         "yaxis": "y"
        },
        {
         "showlegend": false,
         "type": "scatter",
         "x": [
          140.1
         ],
         "xaxis": "x",
         "y": [
          0.5159959595959596
         ],
         "yaxis": "y"
        },
        {
         "showlegend": false,
         "type": "scatter",
         "x": [
          125.2
         ],
         "xaxis": "x",
         "y": [
          0.4317464285714285
         ],
         "yaxis": "y"
        },
        {
         "showlegend": false,
         "type": "scatter",
         "x": [
          139.5
         ],
         "xaxis": "x",
         "y": [
          0.4824221105527638
         ],
         "yaxis": "y"
        },
        {
         "showlegend": false,
         "type": "scatter",
         "x": [
          61.6
         ],
         "xaxis": "x",
         "y": [
          0.6077085427135678
         ],
         "yaxis": "y"
        },
        {
         "showlegend": false,
         "type": "scatter",
         "x": [
          103.6
         ],
         "xaxis": "x",
         "y": [
          0.6445226130653265
         ],
         "yaxis": "y"
        },
        {
         "showlegend": false,
         "type": "scatter",
         "x": [
          83.1
         ],
         "xaxis": "x",
         "y": [
          0.4152091370558376
         ],
         "yaxis": "y"
        },
        {
         "showlegend": false,
         "type": "scatter",
         "x": [
          112.1
         ],
         "xaxis": "x",
         "y": [
          0.46120050251256234
         ],
         "yaxis": "y"
        },
        {
         "showlegend": false,
         "type": "scatter",
         "x": [
          125.3
         ],
         "xaxis": "x",
         "y": [
          0.4546648241206031
         ],
         "yaxis": "y"
        },
        {
         "showlegend": false,
         "type": "scatter",
         "x": [
          72.4
         ],
         "xaxis": "x",
         "y": [
          0.5936464646464645
         ],
         "yaxis": "y"
        },
        {
         "showlegend": false,
         "type": "scatter",
         "x": [
          90.8
         ],
         "xaxis": "x",
         "y": [
          0.445766
         ],
         "yaxis": "y"
        },
        {
         "showlegend": false,
         "type": "scatter",
         "x": [
          116.5
         ],
         "xaxis": "x",
         "y": [
          0.44934242424242377
         ],
         "yaxis": "y"
        },
        {
         "showlegend": false,
         "type": "scatter",
         "x": [
          0
         ],
         "xaxis": "x",
         "y": [
          0.41490204081632637
         ],
         "yaxis": "y"
        },
        {
         "showlegend": false,
         "type": "scatter",
         "x": [
          57.7
         ],
         "xaxis": "x",
         "y": [
          0.5786432160804017
         ],
         "yaxis": "y"
        },
        {
         "showlegend": false,
         "type": "scatter",
         "x": [
          89.2
         ],
         "xaxis": "x",
         "y": [
          0.4529558375634518
         ],
         "yaxis": "y"
        },
        {
         "showlegend": false,
         "type": "scatter",
         "x": [
          194.7
         ],
         "xaxis": "x",
         "y": [
          0.43954329896907224
         ],
         "yaxis": "y"
        },
        {
         "showlegend": false,
         "type": "scatter",
         "x": [
          112.1
         ],
         "xaxis": "x",
         "y": [
          0.48556467391304325
         ],
         "yaxis": "y"
        },
        {
         "showlegend": false,
         "type": "scatter",
         "x": [
          101.9
         ],
         "xaxis": "x",
         "y": [
          0.46339844559585475
         ],
         "yaxis": "y"
        },
        {
         "showlegend": false,
         "type": "scatter",
         "x": [
          0
         ],
         "xaxis": "x",
         "y": [
          0.383148205128205
         ],
         "yaxis": "y"
        },
        {
         "showlegend": false,
         "type": "scatter",
         "x": [
          128.3
         ],
         "xaxis": "x",
         "y": [
          0.6333877551020409
         ],
         "yaxis": "y"
        },
        {
         "showlegend": false,
         "type": "scatter",
         "x": [
          0
         ],
         "xaxis": "x",
         "y": [
          0.42652750000000006
         ],
         "yaxis": "y"
        },
        {
         "showlegend": false,
         "type": "scatter",
         "x": [
          116.7
         ],
         "xaxis": "x",
         "y": [
          0.41727684210526317
         ],
         "yaxis": "y"
        },
        {
         "showlegend": false,
         "type": "scatter",
         "x": [
          104.5
         ],
         "xaxis": "x",
         "y": [
          0.45471557788944694
         ],
         "yaxis": "y"
        },
        {
         "showlegend": false,
         "type": "scatter",
         "x": [
          99.2
         ],
         "xaxis": "x2",
         "y": [
          0.4634030612244895
         ],
         "yaxis": "y2"
        },
        {
         "showlegend": false,
         "type": "scatter",
         "x": [
          91.1
         ],
         "xaxis": "x2",
         "y": [
          0.64664
         ],
         "yaxis": "y2"
        },
        {
         "showlegend": false,
         "type": "scatter",
         "x": [
          145.9
         ],
         "xaxis": "x2",
         "y": [
          0.4890126262626256
         ],
         "yaxis": "y2"
        },
        {
         "showlegend": false,
         "type": "scatter",
         "x": [
          97.3
         ],
         "xaxis": "x2",
         "y": [
          0.5029668367346937
         ],
         "yaxis": "y2"
        },
        {
         "showlegend": false,
         "type": "scatter",
         "x": [
          168.7
         ],
         "xaxis": "x2",
         "y": [
          0.4891540404040405
         ],
         "yaxis": "y2"
        },
        {
         "showlegend": false,
         "type": "scatter",
         "x": [
          111.8
         ],
         "xaxis": "x2",
         "y": [
          0.4962743718592959
         ],
         "yaxis": "y2"
        },
        {
         "showlegend": false,
         "type": "scatter",
         "x": [
          0
         ],
         "xaxis": "x2",
         "y": [
          0.6456639999999997
         ],
         "yaxis": "y2"
        },
        {
         "showlegend": false,
         "type": "scatter",
         "x": [
          99.3
         ],
         "xaxis": "x2",
         "y": [
          0.6444939698492458
         ],
         "yaxis": "y2"
        },
        {
         "showlegend": false,
         "type": "scatter",
         "x": [
          119.9
         ],
         "xaxis": "x2",
         "y": [
          0.46791161616161603
         ],
         "yaxis": "y2"
        },
        {
         "showlegend": false,
         "type": "scatter",
         "x": [
          95.3
         ],
         "xaxis": "x2",
         "y": [
          0.4889085858585859
         ],
         "yaxis": "y2"
        },
        {
         "showlegend": false,
         "type": "scatter",
         "x": [
          101
         ],
         "xaxis": "x2",
         "y": [
          0.6255939999999997
         ],
         "yaxis": "y2"
        },
        {
         "showlegend": false,
         "type": "scatter",
         "x": [
          85.2
         ],
         "xaxis": "x2",
         "y": [
          0.6539336683417084
         ],
         "yaxis": "y2"
        },
        {
         "showlegend": false,
         "type": "scatter",
         "x": [
          118.2
         ],
         "xaxis": "x2",
         "y": [
          0.6158339999999997
         ],
         "yaxis": "y2"
        },
        {
         "showlegend": false,
         "type": "scatter",
         "x": [
          99.6
         ],
         "xaxis": "x2",
         "y": [
          0.47155505050505037
         ],
         "yaxis": "y2"
        },
        {
         "showlegend": false,
         "type": "scatter",
         "x": [
          0
         ],
         "xaxis": "x2",
         "y": [
          0.4550456852791879
         ],
         "yaxis": "y2"
        },
        {
         "showlegend": false,
         "type": "scatter",
         "x": [
          96
         ],
         "xaxis": "x2",
         "y": [
          0.4922701015228428
         ],
         "yaxis": "y2"
        },
        {
         "showlegend": false,
         "type": "scatter",
         "x": [
          148.1
         ],
         "xaxis": "x2",
         "y": [
          0.47821979695431477
         ],
         "yaxis": "y2"
        },
        {
         "showlegend": false,
         "type": "scatter",
         "x": [
          80.5
         ],
         "xaxis": "x2",
         "y": [
          0.6172477386934674
         ],
         "yaxis": "y2"
        },
        {
         "showlegend": false,
         "type": "scatter",
         "x": [
          98.5
         ],
         "xaxis": "x2",
         "y": [
          0.6470639999999998
         ],
         "yaxis": "y2"
        },
        {
         "showlegend": false,
         "type": "scatter",
         "x": [
          66.5
         ],
         "xaxis": "x2",
         "y": [
          0.5089211956521739
         ],
         "yaxis": "y2"
        },
        {
         "showlegend": false,
         "type": "scatter",
         "x": [
          128
         ],
         "xaxis": "x2",
         "y": [
          0.6228064999999999
         ],
         "yaxis": "y2"
        },
        {
         "showlegend": false,
         "type": "scatter",
         "x": [
          116.1
         ],
         "xaxis": "x2",
         "y": [
          0.46908080808080793
         ],
         "yaxis": "y2"
        },
        {
         "showlegend": false,
         "type": "scatter",
         "x": [
          181.8
         ],
         "xaxis": "x2",
         "y": [
          0.48384365482233493
         ],
         "yaxis": "y2"
        },
        {
         "showlegend": false,
         "type": "scatter",
         "x": [
          108.6
         ],
         "xaxis": "x2",
         "y": [
          0.5125808080808082
         ],
         "yaxis": "y2"
        },
        {
         "showlegend": false,
         "type": "scatter",
         "x": [
          138.5
         ],
         "xaxis": "x2",
         "y": [
          0.483554314720812
         ],
         "yaxis": "y2"
        },
        {
         "showlegend": false,
         "type": "scatter",
         "x": [
          99.4
         ],
         "xaxis": "x2",
         "y": [
          0.4679059999999998
         ],
         "yaxis": "y2"
        },
        {
         "showlegend": false,
         "type": "scatter",
         "x": [
          37.2
         ],
         "xaxis": "x2",
         "y": [
          0.6258364999999998
         ],
         "yaxis": "y2"
        },
        {
         "showlegend": false,
         "type": "scatter",
         "x": [
          0
         ],
         "xaxis": "x2",
         "y": [
          0.4274333333333334
         ],
         "yaxis": "y2"
        },
        {
         "showlegend": false,
         "type": "scatter",
         "x": [
          43.9
         ],
         "xaxis": "x2",
         "y": [
          0.6141989999999997
         ],
         "yaxis": "y2"
        },
        {
         "showlegend": false,
         "type": "scatter",
         "x": [
          107.6
         ],
         "xaxis": "x2",
         "y": [
          0.48425656565656544
         ],
         "yaxis": "y2"
        },
        {
         "showlegend": false,
         "type": "scatter",
         "x": [
          74.4
         ],
         "xaxis": "x2",
         "y": [
          0.4329621212121211
         ],
         "yaxis": "y2"
        },
        {
         "showlegend": false,
         "type": "scatter",
         "x": [
          62.6
         ],
         "xaxis": "x2",
         "y": [
          0.4974029940119758
         ],
         "yaxis": "y2"
        },
        {
         "showlegend": false,
         "type": "scatter",
         "x": [
          141.5
         ],
         "xaxis": "x2",
         "y": [
          0.4721817258883247
         ],
         "yaxis": "y2"
        },
        {
         "showlegend": false,
         "type": "scatter",
         "x": [
          132.9
         ],
         "xaxis": "x2",
         "y": [
          0.4873484536082475
         ],
         "yaxis": "y2"
        },
        {
         "showlegend": false,
         "type": "scatter",
         "x": [
          102.6
         ],
         "xaxis": "x2",
         "y": [
          0.45267135678391973
         ],
         "yaxis": "y2"
        },
        {
         "showlegend": false,
         "type": "scatter",
         "x": [
          100.9
         ],
         "xaxis": "x2",
         "y": [
          0.4898724999999999
         ],
         "yaxis": "y2"
        },
        {
         "showlegend": false,
         "type": "scatter",
         "x": [
          0
         ],
         "xaxis": "x2",
         "y": [
          0.5609238341968914
         ],
         "yaxis": "y2"
        },
        {
         "showlegend": false,
         "type": "scatter",
         "x": [
          114
         ],
         "xaxis": "x2",
         "y": [
          0.45746616161616155
         ],
         "yaxis": "y2"
        },
        {
         "showlegend": false,
         "type": "scatter",
         "x": [
          97.3
         ],
         "xaxis": "x2",
         "y": [
          0.48650757575757547
         ],
         "yaxis": "y2"
        },
        {
         "showlegend": false,
         "type": "scatter",
         "x": [
          121.4
         ],
         "xaxis": "x2",
         "y": [
          0.45617085427135673
         ],
         "yaxis": "y2"
        },
        {
         "showlegend": false,
         "type": "scatter",
         "x": [
          52.5
         ],
         "xaxis": "x2",
         "y": [
          0.5180050251256282
         ],
         "yaxis": "y2"
        },
        {
         "showlegend": false,
         "type": "scatter",
         "x": [
          73.3
         ],
         "xaxis": "x2",
         "y": [
          0.637784
         ],
         "yaxis": "y2"
        },
        {
         "showlegend": false,
         "type": "scatter",
         "x": [
          86.9
         ],
         "xaxis": "x2",
         "y": [
          0.4338117346938775
         ],
         "yaxis": "y2"
        },
        {
         "showlegend": false,
         "type": "scatter",
         "x": [
          0
         ],
         "xaxis": "x2",
         "y": [
          0.6190665
         ],
         "yaxis": "y2"
        },
        {
         "showlegend": false,
         "type": "scatter",
         "x": [
          137.2
         ],
         "xaxis": "x2",
         "y": [
          0.509348730964467
         ],
         "yaxis": "y2"
        },
        {
         "showlegend": false,
         "type": "scatter",
         "x": [
          122.1
         ],
         "xaxis": "x2",
         "y": [
          0.4378282828282829
         ],
         "yaxis": "y2"
        },
        {
         "showlegend": false,
         "type": "scatter",
         "x": [
          138.6
         ],
         "xaxis": "x2",
         "y": [
          0.5038964646464642
         ],
         "yaxis": "y2"
        },
        {
         "showlegend": false,
         "type": "scatter",
         "x": [
          62.5
         ],
         "xaxis": "x2",
         "y": [
          0.6338206030150756
         ],
         "yaxis": "y2"
        },
        {
         "showlegend": false,
         "type": "scatter",
         "x": [
          91.4
         ],
         "xaxis": "x2",
         "y": [
          0.6609289999999999
         ],
         "yaxis": "y2"
        },
        {
         "showlegend": false,
         "type": "scatter",
         "x": [
          78.2
         ],
         "xaxis": "x2",
         "y": [
          0.4315954545454546
         ],
         "yaxis": "y2"
        },
        {
         "showlegend": false,
         "type": "scatter",
         "x": [
          111.2
         ],
         "xaxis": "x2",
         "y": [
          0.5076964824120604
         ],
         "yaxis": "y2"
        },
        {
         "showlegend": false,
         "type": "scatter",
         "x": [
          117.7
         ],
         "xaxis": "x2",
         "y": [
          0.46616767676767645
         ],
         "yaxis": "y2"
        },
        {
         "showlegend": false,
         "type": "scatter",
         "x": [
          71.8
         ],
         "xaxis": "x2",
         "y": [
          0.6508889999999997
         ],
         "yaxis": "y2"
        },
        {
         "showlegend": false,
         "type": "scatter",
         "x": [
          91
         ],
         "xaxis": "x2",
         "y": [
          0.47134213197969543
         ],
         "yaxis": "y2"
        },
        {
         "showlegend": false,
         "type": "scatter",
         "x": [
          106.2
         ],
         "xaxis": "x2",
         "y": [
          0.5036471794871795
         ],
         "yaxis": "y2"
        },
        {
         "showlegend": false,
         "type": "scatter",
         "x": [
          0
         ],
         "xaxis": "x2",
         "y": [
          0.4193257575757574
         ],
         "yaxis": "y2"
        },
        {
         "showlegend": false,
         "type": "scatter",
         "x": [
          58.6
         ],
         "xaxis": "x2",
         "y": [
          0.6198565
         ],
         "yaxis": "y2"
        },
        {
         "showlegend": false,
         "type": "scatter",
         "x": [
          86.8
         ],
         "xaxis": "x2",
         "y": [
          0.44083061224489783
         ],
         "yaxis": "y2"
        },
        {
         "showlegend": false,
         "type": "scatter",
         "x": [
          179.1
         ],
         "xaxis": "x2",
         "y": [
          0.4609084656084656
         ],
         "yaxis": "y2"
        },
        {
         "showlegend": false,
         "type": "scatter",
         "x": [
          120.2
         ],
         "xaxis": "x2",
         "y": [
          0.5040738461538459
         ],
         "yaxis": "y2"
        },
        {
         "showlegend": false,
         "type": "scatter",
         "x": [
          102.9
         ],
         "xaxis": "x2",
         "y": [
          0.45586149732620307
         ],
         "yaxis": "y2"
        },
        {
         "showlegend": false,
         "type": "scatter",
         "x": [
          0
         ],
         "xaxis": "x2",
         "y": [
          0.4113367875647667
         ],
         "yaxis": "y2"
        },
        {
         "showlegend": false,
         "type": "scatter",
         "x": [
          89
         ],
         "xaxis": "x2",
         "y": [
          0.45255427135678405
         ],
         "yaxis": "y2"
        },
        {
         "showlegend": false,
         "type": "scatter",
         "x": [
          160
         ],
         "xaxis": "x2",
         "y": [
          0.6644964102564104
         ],
         "yaxis": "y2"
        },
        {
         "showlegend": false,
         "type": "scatter",
         "x": [
          0
         ],
         "xaxis": "x2",
         "y": [
          0.4513592964824119
         ],
         "yaxis": "y2"
        },
        {
         "showlegend": false,
         "type": "scatter",
         "x": [
          110.1
         ],
         "xaxis": "x2",
         "y": [
          0.4384594871794869
         ],
         "yaxis": "y2"
        },
        {
         "showlegend": false,
         "type": "scatter",
         "x": [
          110.2
         ],
         "xaxis": "x2",
         "y": [
          0.4755398989898988
         ],
         "yaxis": "y2"
        },
        {
         "showlegend": false,
         "type": "scatter",
         "x": [
          111.6
         ],
         "xaxis": "x3",
         "y": [
          0.4967844221105527
         ],
         "yaxis": "y3"
        },
        {
         "showlegend": false,
         "type": "scatter",
         "x": [
          77.8
         ],
         "xaxis": "x3",
         "y": [
          0.6672142857142859
         ],
         "yaxis": "y3"
        },
        {
         "showlegend": false,
         "type": "scatter",
         "x": [
          105.5
         ],
         "xaxis": "x3",
         "y": [
          0.5271713567839194
         ],
         "yaxis": "y3"
        },
        {
         "showlegend": false,
         "type": "scatter",
         "x": [
          92.3
         ],
         "xaxis": "x3",
         "y": [
          0.501463131313131
         ],
         "yaxis": "y3"
        },
        {
         "showlegend": false,
         "type": "scatter",
         "x": [
          180.6
         ],
         "xaxis": "x3",
         "y": [
          0.49730449999999976
         ],
         "yaxis": "y3"
        },
        {
         "showlegend": false,
         "type": "scatter",
         "x": [
          91.7
         ],
         "xaxis": "x3",
         "y": [
          0.5191194999999995
         ],
         "yaxis": "y3"
        },
        {
         "showlegend": false,
         "type": "scatter",
         "x": [
          0
         ],
         "xaxis": "x3",
         "y": [
          0.6322560606060607
         ],
         "yaxis": "y3"
        },
        {
         "showlegend": false,
         "type": "scatter",
         "x": [
          99.5
         ],
         "xaxis": "x3",
         "y": [
          0.6881616161616162
         ],
         "yaxis": "y3"
        },
        {
         "showlegend": false,
         "type": "scatter",
         "x": [
          102
         ],
         "xaxis": "x3",
         "y": [
          0.48437461928934006
         ],
         "yaxis": "y3"
        },
        {
         "showlegend": false,
         "type": "scatter",
         "x": [
          82.6
         ],
         "xaxis": "x3",
         "y": [
          0.49634449999999986
         ],
         "yaxis": "y3"
        },
        {
         "showlegend": false,
         "type": "scatter",
         "x": [
          88.3
         ],
         "xaxis": "x3",
         "y": [
          0.6317717171717171
         ],
         "yaxis": "y3"
        },
        {
         "showlegend": false,
         "type": "scatter",
         "x": [
          87
         ],
         "xaxis": "x3",
         "y": [
          0.6719949494949495
         ],
         "yaxis": "y3"
        },
        {
         "showlegend": false,
         "type": "scatter",
         "x": [
          82.2
         ],
         "xaxis": "x3",
         "y": [
          0.633478787878788
         ],
         "yaxis": "y3"
        },
        {
         "showlegend": false,
         "type": "scatter",
         "x": [
          88.1
         ],
         "xaxis": "x3",
         "y": [
          0.4826654999999997
         ],
         "yaxis": "y3"
        },
        {
         "showlegend": false,
         "type": "scatter",
         "x": [
          0
         ],
         "xaxis": "x3",
         "y": [
          0.4815261306532665
         ],
         "yaxis": "y3"
        },
        {
         "showlegend": false,
         "type": "scatter",
         "x": [
          100.8
         ],
         "xaxis": "x3",
         "y": [
          0.4971872448979594
         ],
         "yaxis": "y3"
        },
        {
         "showlegend": false,
         "type": "scatter",
         "x": [
          121.8
         ],
         "xaxis": "x3",
         "y": [
          0.5082919597989951
         ],
         "yaxis": "y3"
        },
        {
         "showlegend": false,
         "type": "scatter",
         "x": [
          78
         ],
         "xaxis": "x3",
         "y": [
          0.6121532663316583
         ],
         "yaxis": "y3"
        },
        {
         "showlegend": false,
         "type": "scatter",
         "x": [
          82.9
         ],
         "xaxis": "x3",
         "y": [
          0.6258510101010105
         ],
         "yaxis": "y3"
        },
        {
         "showlegend": false,
         "type": "scatter",
         "x": [
          46.6
         ],
         "xaxis": "x3",
         "y": [
          0.520162564102564
         ],
         "yaxis": "y3"
        },
        {
         "showlegend": false,
         "type": "scatter",
         "x": [
          134.3
         ],
         "xaxis": "x3",
         "y": [
          0.6109883838383837
         ],
         "yaxis": "y3"
        },
        {
         "showlegend": false,
         "type": "scatter",
         "x": [
          109.1
         ],
         "xaxis": "x3",
         "y": [
          0.49825349999999985
         ],
         "yaxis": "y3"
        },
        {
         "showlegend": false,
         "type": "scatter",
         "x": [
          120.5
         ],
         "xaxis": "x3",
         "y": [
          0.5016636363636364
         ],
         "yaxis": "y3"
        },
        {
         "showlegend": false,
         "type": "scatter",
         "x": [
          112.7
         ],
         "xaxis": "x3",
         "y": [
          0.5377295918367351
         ],
         "yaxis": "y3"
        },
        {
         "showlegend": false,
         "type": "scatter",
         "x": [
          99.6
         ],
         "xaxis": "x3",
         "y": [
          0.5132139999999995
         ],
         "yaxis": "y3"
        },
        {
         "showlegend": false,
         "type": "scatter",
         "x": [
          106.2
         ],
         "xaxis": "x3",
         "y": [
          0.48847749999999956
         ],
         "yaxis": "y3"
        },
        {
         "showlegend": false,
         "type": "scatter",
         "x": [
          35.3
         ],
         "xaxis": "x3",
         "y": [
          0.646180808080808
         ],
         "yaxis": "y3"
        },
        {
         "showlegend": false,
         "type": "scatter",
         "x": [
          0
         ],
         "xaxis": "x3",
         "y": [
          0.4394206030150751
         ],
         "yaxis": "y3"
        },
        {
         "showlegend": false,
         "type": "scatter",
         "x": [
          76.7
         ],
         "xaxis": "x3",
         "y": [
          0.6195782828282828
         ],
         "yaxis": "y3"
        },
        {
         "showlegend": false,
         "type": "scatter",
         "x": [
          96.7
         ],
         "xaxis": "x3",
         "y": [
          0.5099245
         ],
         "yaxis": "y3"
        },
        {
         "showlegend": false,
         "type": "scatter",
         "x": [
          63.1
         ],
         "xaxis": "x3",
         "y": [
          0.42318484848484816
         ],
         "yaxis": "y3"
        },
        {
         "showlegend": false,
         "type": "scatter",
         "x": [
          47.4
         ],
         "xaxis": "x3",
         "y": [
          0.5298668604651161
         ],
         "yaxis": "y3"
        },
        {
         "showlegend": false,
         "type": "scatter",
         "x": [
          141.6
         ],
         "xaxis": "x3",
         "y": [
          0.5082705
         ],
         "yaxis": "y3"
        },
        {
         "showlegend": false,
         "type": "scatter",
         "x": [
          118.1
         ],
         "xaxis": "x3",
         "y": [
          0.4507707070707072
         ],
         "yaxis": "y3"
        },
        {
         "showlegend": false,
         "type": "scatter",
         "x": [
          103.9
         ],
         "xaxis": "x3",
         "y": [
          0.46432295918367356
         ],
         "yaxis": "y3"
        },
        {
         "showlegend": false,
         "type": "scatter",
         "x": [
          99.9
         ],
         "xaxis": "x3",
         "y": [
          0.47781300000000015
         ],
         "yaxis": "y3"
        },
        {
         "showlegend": false,
         "type": "scatter",
         "x": [
          0
         ],
         "xaxis": "x3",
         "y": [
          0.5643969999999998
         ],
         "yaxis": "y3"
        },
        {
         "showlegend": false,
         "type": "scatter",
         "x": [
          0
         ],
         "xaxis": "x3",
         "y": [
          0.4998928934010157
         ],
         "yaxis": "y3"
        },
        {
         "showlegend": false,
         "type": "scatter",
         "x": [
          108.3
         ],
         "xaxis": "x3",
         "y": [
          0.4984105527638191
         ],
         "yaxis": "y3"
        },
        {
         "showlegend": false,
         "type": "scatter",
         "x": [
          92.3
         ],
         "xaxis": "x3",
         "y": [
          0.4916944999999995
         ],
         "yaxis": "y3"
        },
        {
         "showlegend": false,
         "type": "scatter",
         "x": [
          100.7
         ],
         "xaxis": "x3",
         "y": [
          0.4693251256281409
         ],
         "yaxis": "y3"
        },
        {
         "showlegend": false,
         "type": "scatter",
         "x": [
          46.8
         ],
         "xaxis": "x3",
         "y": [
          0.5149225000000001
         ],
         "yaxis": "y3"
        },
        {
         "showlegend": false,
         "type": "scatter",
         "x": [
          62.4
         ],
         "xaxis": "x3",
         "y": [
          0.655661616161616
         ],
         "yaxis": "y3"
        },
        {
         "showlegend": false,
         "type": "scatter",
         "x": [
          70
         ],
         "xaxis": "x3",
         "y": [
          0.4420944723618088
         ],
         "yaxis": "y3"
        },
        {
         "showlegend": false,
         "type": "scatter",
         "x": [
          64.4
         ],
         "xaxis": "x3",
         "y": [
          0.6341252525252526
         ],
         "yaxis": "y3"
        },
        {
         "showlegend": false,
         "type": "scatter",
         "x": [
          118.4
         ],
         "xaxis": "x3",
         "y": [
          0.5129644999999999
         ],
         "yaxis": "y3"
        },
        {
         "showlegend": false,
         "type": "scatter",
         "x": [
          124.1
         ],
         "xaxis": "x3",
         "y": [
          0.45186717171717167
         ],
         "yaxis": "y3"
        },
        {
         "showlegend": false,
         "type": "scatter",
         "x": [
          144.6
         ],
         "xaxis": "x3",
         "y": [
          0.5607242424242426
         ],
         "yaxis": "y3"
        },
        {
         "showlegend": false,
         "type": "scatter",
         "x": [
          56.3
         ],
         "xaxis": "x3",
         "y": [
          0.6059166666666669
         ],
         "yaxis": "y3"
        },
        {
         "showlegend": false,
         "type": "scatter",
         "x": [
          80.2
         ],
         "xaxis": "x3",
         "y": [
          0.646843434343435
         ],
         "yaxis": "y3"
        },
        {
         "showlegend": false,
         "type": "scatter",
         "x": [
          81.8
         ],
         "xaxis": "x3",
         "y": [
          0.47133768844221113
         ],
         "yaxis": "y3"
        },
        {
         "showlegend": false,
         "type": "scatter",
         "x": [
          96.8
         ],
         "xaxis": "x3",
         "y": [
          0.5176247474747475
         ],
         "yaxis": "y3"
        },
        {
         "showlegend": false,
         "type": "scatter",
         "x": [
          105.2
         ],
         "xaxis": "x3",
         "y": [
          0.49581616161616116
         ],
         "yaxis": "y3"
        },
        {
         "showlegend": false,
         "type": "scatter",
         "x": [
          58.7
         ],
         "xaxis": "x3",
         "y": [
          0.6589646464646465
         ],
         "yaxis": "y3"
        },
        {
         "showlegend": false,
         "type": "scatter",
         "x": [
          97.1
         ],
         "xaxis": "x3",
         "y": [
          0.5127656565656564
         ],
         "yaxis": "y3"
        },
        {
         "showlegend": false,
         "type": "scatter",
         "x": [
          83.1
         ],
         "xaxis": "x3",
         "y": [
          0.5516353535353534
         ],
         "yaxis": "y3"
        },
        {
         "showlegend": false,
         "type": "scatter",
         "x": [
          110.4
         ],
         "xaxis": "x3",
         "y": [
          0.4474286432160803
         ],
         "yaxis": "y3"
        },
        {
         "showlegend": false,
         "type": "scatter",
         "x": [
          47.3
         ],
         "xaxis": "x3",
         "y": [
          0.6214122340425532
         ],
         "yaxis": "y3"
        },
        {
         "showlegend": false,
         "type": "scatter",
         "x": [
          93
         ],
         "xaxis": "x3",
         "y": [
          0.4861311557788944
         ],
         "yaxis": "y3"
        },
        {
         "showlegend": false,
         "type": "scatter",
         "x": [
          99.1
         ],
         "xaxis": "x3",
         "y": [
          0.4815215384615385
         ],
         "yaxis": "y3"
        },
        {
         "showlegend": false,
         "type": "scatter",
         "x": [
          73.5
         ],
         "xaxis": "x3",
         "y": [
          0.5056185567010308
         ],
         "yaxis": "y3"
        },
        {
         "showlegend": false,
         "type": "scatter",
         "x": [
          67.5
         ],
         "xaxis": "x3",
         "y": [
          0.4819351758793971
         ],
         "yaxis": "y3"
        },
        {
         "showlegend": false,
         "type": "scatter",
         "x": [
          0
         ],
         "xaxis": "x3",
         "y": [
          0.4184974358974359
         ],
         "yaxis": "y3"
        },
        {
         "showlegend": false,
         "type": "scatter",
         "x": [
          76.4
         ],
         "xaxis": "x3",
         "y": [
          0.4772944162436546
         ],
         "yaxis": "y3"
        },
        {
         "showlegend": false,
         "type": "scatter",
         "x": [
          104.6
         ],
         "xaxis": "x3",
         "y": [
          0.6687005076142134
         ],
         "yaxis": "y3"
        },
        {
         "showlegend": false,
         "type": "scatter",
         "x": [
          0
         ],
         "xaxis": "x3",
         "y": [
          0.47951414141414106
         ],
         "yaxis": "y3"
        },
        {
         "showlegend": false,
         "type": "scatter",
         "x": [
          103.2
         ],
         "xaxis": "x3",
         "y": [
          0.443285
         ],
         "yaxis": "y3"
        },
        {
         "showlegend": false,
         "type": "scatter",
         "x": [
          92.3
         ],
         "xaxis": "x3",
         "y": [
          0.4908522613065324
         ],
         "yaxis": "y3"
        }
       ],
       "layout": {
        "annotations": [
         {
          "font": {
           "size": 16
          },
          "showarrow": false,
          "text": "2019 - Valance vs Education",
          "x": 0.5,
          "xanchor": "center",
          "xref": "paper",
          "y": 0.9999999999999999,
          "yanchor": "bottom",
          "yref": "paper"
         },
         {
          "font": {
           "size": 16
          },
          "showarrow": false,
          "text": "2020 - Valance vs Education",
          "x": 0.5,
          "xanchor": "center",
          "xref": "paper",
          "y": 0.6166666666666666,
          "yanchor": "bottom",
          "yref": "paper"
         },
         {
          "font": {
           "size": 16
          },
          "showarrow": false,
          "text": "2021 - Valance vs Education",
          "x": 0.5,
          "xanchor": "center",
          "xref": "paper",
          "y": 0.2333333333333333,
          "yanchor": "bottom",
          "yref": "paper"
         }
        ],
        "height": 800,
        "template": {
         "data": {
          "bar": [
           {
            "error_x": {
             "color": "#2a3f5f"
            },
            "error_y": {
             "color": "#2a3f5f"
            },
            "marker": {
             "line": {
              "color": "#E5ECF6",
              "width": 0.5
             },
             "pattern": {
              "fillmode": "overlay",
              "size": 10,
              "solidity": 0.2
             }
            },
            "type": "bar"
           }
          ],
          "barpolar": [
           {
            "marker": {
             "line": {
              "color": "#E5ECF6",
              "width": 0.5
             },
             "pattern": {
              "fillmode": "overlay",
              "size": 10,
              "solidity": 0.2
             }
            },
            "type": "barpolar"
           }
          ],
          "carpet": [
           {
            "aaxis": {
             "endlinecolor": "#2a3f5f",
             "gridcolor": "white",
             "linecolor": "white",
             "minorgridcolor": "white",
             "startlinecolor": "#2a3f5f"
            },
            "baxis": {
             "endlinecolor": "#2a3f5f",
             "gridcolor": "white",
             "linecolor": "white",
             "minorgridcolor": "white",
             "startlinecolor": "#2a3f5f"
            },
            "type": "carpet"
           }
          ],
          "choropleth": [
           {
            "colorbar": {
             "outlinewidth": 0,
             "ticks": ""
            },
            "type": "choropleth"
           }
          ],
          "contour": [
           {
            "colorbar": {
             "outlinewidth": 0,
             "ticks": ""
            },
            "colorscale": [
             [
              0,
              "#0d0887"
             ],
             [
              0.1111111111111111,
              "#46039f"
             ],
             [
              0.2222222222222222,
              "#7201a8"
             ],
             [
              0.3333333333333333,
              "#9c179e"
             ],
             [
              0.4444444444444444,
              "#bd3786"
             ],
             [
              0.5555555555555556,
              "#d8576b"
             ],
             [
              0.6666666666666666,
              "#ed7953"
             ],
             [
              0.7777777777777778,
              "#fb9f3a"
             ],
             [
              0.8888888888888888,
              "#fdca26"
             ],
             [
              1,
              "#f0f921"
             ]
            ],
            "type": "contour"
           }
          ],
          "contourcarpet": [
           {
            "colorbar": {
             "outlinewidth": 0,
             "ticks": ""
            },
            "type": "contourcarpet"
           }
          ],
          "heatmap": [
           {
            "colorbar": {
             "outlinewidth": 0,
             "ticks": ""
            },
            "colorscale": [
             [
              0,
              "#0d0887"
             ],
             [
              0.1111111111111111,
              "#46039f"
             ],
             [
              0.2222222222222222,
              "#7201a8"
             ],
             [
              0.3333333333333333,
              "#9c179e"
             ],
             [
              0.4444444444444444,
              "#bd3786"
             ],
             [
              0.5555555555555556,
              "#d8576b"
             ],
             [
              0.6666666666666666,
              "#ed7953"
             ],
             [
              0.7777777777777778,
              "#fb9f3a"
             ],
             [
              0.8888888888888888,
              "#fdca26"
             ],
             [
              1,
              "#f0f921"
             ]
            ],
            "type": "heatmap"
           }
          ],
          "heatmapgl": [
           {
            "colorbar": {
             "outlinewidth": 0,
             "ticks": ""
            },
            "colorscale": [
             [
              0,
              "#0d0887"
             ],
             [
              0.1111111111111111,
              "#46039f"
             ],
             [
              0.2222222222222222,
              "#7201a8"
             ],
             [
              0.3333333333333333,
              "#9c179e"
             ],
             [
              0.4444444444444444,
              "#bd3786"
             ],
             [
              0.5555555555555556,
              "#d8576b"
             ],
             [
              0.6666666666666666,
              "#ed7953"
             ],
             [
              0.7777777777777778,
              "#fb9f3a"
             ],
             [
              0.8888888888888888,
              "#fdca26"
             ],
             [
              1,
              "#f0f921"
             ]
            ],
            "type": "heatmapgl"
           }
          ],
          "histogram": [
           {
            "marker": {
             "pattern": {
              "fillmode": "overlay",
              "size": 10,
              "solidity": 0.2
             }
            },
            "type": "histogram"
           }
          ],
          "histogram2d": [
           {
            "colorbar": {
             "outlinewidth": 0,
             "ticks": ""
            },
            "colorscale": [
             [
              0,
              "#0d0887"
             ],
             [
              0.1111111111111111,
              "#46039f"
             ],
             [
              0.2222222222222222,
              "#7201a8"
             ],
             [
              0.3333333333333333,
              "#9c179e"
             ],
             [
              0.4444444444444444,
              "#bd3786"
             ],
             [
              0.5555555555555556,
              "#d8576b"
             ],
             [
              0.6666666666666666,
              "#ed7953"
             ],
             [
              0.7777777777777778,
              "#fb9f3a"
             ],
             [
              0.8888888888888888,
              "#fdca26"
             ],
             [
              1,
              "#f0f921"
             ]
            ],
            "type": "histogram2d"
           }
          ],
          "histogram2dcontour": [
           {
            "colorbar": {
             "outlinewidth": 0,
             "ticks": ""
            },
            "colorscale": [
             [
              0,
              "#0d0887"
             ],
             [
              0.1111111111111111,
              "#46039f"
             ],
             [
              0.2222222222222222,
              "#7201a8"
             ],
             [
              0.3333333333333333,
              "#9c179e"
             ],
             [
              0.4444444444444444,
              "#bd3786"
             ],
             [
              0.5555555555555556,
              "#d8576b"
             ],
             [
              0.6666666666666666,
              "#ed7953"
             ],
             [
              0.7777777777777778,
              "#fb9f3a"
             ],
             [
              0.8888888888888888,
              "#fdca26"
             ],
             [
              1,
              "#f0f921"
             ]
            ],
            "type": "histogram2dcontour"
           }
          ],
          "mesh3d": [
           {
            "colorbar": {
             "outlinewidth": 0,
             "ticks": ""
            },
            "type": "mesh3d"
           }
          ],
          "parcoords": [
           {
            "line": {
             "colorbar": {
              "outlinewidth": 0,
              "ticks": ""
             }
            },
            "type": "parcoords"
           }
          ],
          "pie": [
           {
            "automargin": true,
            "type": "pie"
           }
          ],
          "scatter": [
           {
            "marker": {
             "colorbar": {
              "outlinewidth": 0,
              "ticks": ""
             }
            },
            "type": "scatter"
           }
          ],
          "scatter3d": [
           {
            "line": {
             "colorbar": {
              "outlinewidth": 0,
              "ticks": ""
             }
            },
            "marker": {
             "colorbar": {
              "outlinewidth": 0,
              "ticks": ""
             }
            },
            "type": "scatter3d"
           }
          ],
          "scattercarpet": [
           {
            "marker": {
             "colorbar": {
              "outlinewidth": 0,
              "ticks": ""
             }
            },
            "type": "scattercarpet"
           }
          ],
          "scattergeo": [
           {
            "marker": {
             "colorbar": {
              "outlinewidth": 0,
              "ticks": ""
             }
            },
            "type": "scattergeo"
           }
          ],
          "scattergl": [
           {
            "marker": {
             "colorbar": {
              "outlinewidth": 0,
              "ticks": ""
             }
            },
            "type": "scattergl"
           }
          ],
          "scattermapbox": [
           {
            "marker": {
             "colorbar": {
              "outlinewidth": 0,
              "ticks": ""
             }
            },
            "type": "scattermapbox"
           }
          ],
          "scatterpolar": [
           {
            "marker": {
             "colorbar": {
              "outlinewidth": 0,
              "ticks": ""
             }
            },
            "type": "scatterpolar"
           }
          ],
          "scatterpolargl": [
           {
            "marker": {
             "colorbar": {
              "outlinewidth": 0,
              "ticks": ""
             }
            },
            "type": "scatterpolargl"
           }
          ],
          "scatterternary": [
           {
            "marker": {
             "colorbar": {
              "outlinewidth": 0,
              "ticks": ""
             }
            },
            "type": "scatterternary"
           }
          ],
          "surface": [
           {
            "colorbar": {
             "outlinewidth": 0,
             "ticks": ""
            },
            "colorscale": [
             [
              0,
              "#0d0887"
             ],
             [
              0.1111111111111111,
              "#46039f"
             ],
             [
              0.2222222222222222,
              "#7201a8"
             ],
             [
              0.3333333333333333,
              "#9c179e"
             ],
             [
              0.4444444444444444,
              "#bd3786"
             ],
             [
              0.5555555555555556,
              "#d8576b"
             ],
             [
              0.6666666666666666,
              "#ed7953"
             ],
             [
              0.7777777777777778,
              "#fb9f3a"
             ],
             [
              0.8888888888888888,
              "#fdca26"
             ],
             [
              1,
              "#f0f921"
             ]
            ],
            "type": "surface"
           }
          ],
          "table": [
           {
            "cells": {
             "fill": {
              "color": "#EBF0F8"
             },
             "line": {
              "color": "white"
             }
            },
            "header": {
             "fill": {
              "color": "#C8D4E3"
             },
             "line": {
              "color": "white"
             }
            },
            "type": "table"
           }
          ]
         },
         "layout": {
          "annotationdefaults": {
           "arrowcolor": "#2a3f5f",
           "arrowhead": 0,
           "arrowwidth": 1
          },
          "autotypenumbers": "strict",
          "coloraxis": {
           "colorbar": {
            "outlinewidth": 0,
            "ticks": ""
           }
          },
          "colorscale": {
           "diverging": [
            [
             0,
             "#8e0152"
            ],
            [
             0.1,
             "#c51b7d"
            ],
            [
             0.2,
             "#de77ae"
            ],
            [
             0.3,
             "#f1b6da"
            ],
            [
             0.4,
             "#fde0ef"
            ],
            [
             0.5,
             "#f7f7f7"
            ],
            [
             0.6,
             "#e6f5d0"
            ],
            [
             0.7,
             "#b8e186"
            ],
            [
             0.8,
             "#7fbc41"
            ],
            [
             0.9,
             "#4d9221"
            ],
            [
             1,
             "#276419"
            ]
           ],
           "sequential": [
            [
             0,
             "#0d0887"
            ],
            [
             0.1111111111111111,
             "#46039f"
            ],
            [
             0.2222222222222222,
             "#7201a8"
            ],
            [
             0.3333333333333333,
             "#9c179e"
            ],
            [
             0.4444444444444444,
             "#bd3786"
            ],
            [
             0.5555555555555556,
             "#d8576b"
            ],
            [
             0.6666666666666666,
             "#ed7953"
            ],
            [
             0.7777777777777778,
             "#fb9f3a"
            ],
            [
             0.8888888888888888,
             "#fdca26"
            ],
            [
             1,
             "#f0f921"
            ]
           ],
           "sequentialminus": [
            [
             0,
             "#0d0887"
            ],
            [
             0.1111111111111111,
             "#46039f"
            ],
            [
             0.2222222222222222,
             "#7201a8"
            ],
            [
             0.3333333333333333,
             "#9c179e"
            ],
            [
             0.4444444444444444,
             "#bd3786"
            ],
            [
             0.5555555555555556,
             "#d8576b"
            ],
            [
             0.6666666666666666,
             "#ed7953"
            ],
            [
             0.7777777777777778,
             "#fb9f3a"
            ],
            [
             0.8888888888888888,
             "#fdca26"
            ],
            [
             1,
             "#f0f921"
            ]
           ]
          },
          "colorway": [
           "#636efa",
           "#EF553B",
           "#00cc96",
           "#ab63fa",
           "#FFA15A",
           "#19d3f3",
           "#FF6692",
           "#B6E880",
           "#FF97FF",
           "#FECB52"
          ],
          "font": {
           "color": "#2a3f5f"
          },
          "geo": {
           "bgcolor": "white",
           "lakecolor": "white",
           "landcolor": "#E5ECF6",
           "showlakes": true,
           "showland": true,
           "subunitcolor": "white"
          },
          "hoverlabel": {
           "align": "left"
          },
          "hovermode": "closest",
          "mapbox": {
           "style": "light"
          },
          "paper_bgcolor": "white",
          "plot_bgcolor": "#E5ECF6",
          "polar": {
           "angularaxis": {
            "gridcolor": "white",
            "linecolor": "white",
            "ticks": ""
           },
           "bgcolor": "#E5ECF6",
           "radialaxis": {
            "gridcolor": "white",
            "linecolor": "white",
            "ticks": ""
           }
          },
          "scene": {
           "xaxis": {
            "backgroundcolor": "#E5ECF6",
            "gridcolor": "white",
            "gridwidth": 2,
            "linecolor": "white",
            "showbackground": true,
            "ticks": "",
            "zerolinecolor": "white"
           },
           "yaxis": {
            "backgroundcolor": "#E5ECF6",
            "gridcolor": "white",
            "gridwidth": 2,
            "linecolor": "white",
            "showbackground": true,
            "ticks": "",
            "zerolinecolor": "white"
           },
           "zaxis": {
            "backgroundcolor": "#E5ECF6",
            "gridcolor": "white",
            "gridwidth": 2,
            "linecolor": "white",
            "showbackground": true,
            "ticks": "",
            "zerolinecolor": "white"
           }
          },
          "shapedefaults": {
           "line": {
            "color": "#2a3f5f"
           }
          },
          "ternary": {
           "aaxis": {
            "gridcolor": "white",
            "linecolor": "white",
            "ticks": ""
           },
           "baxis": {
            "gridcolor": "white",
            "linecolor": "white",
            "ticks": ""
           },
           "bgcolor": "#E5ECF6",
           "caxis": {
            "gridcolor": "white",
            "linecolor": "white",
            "ticks": ""
           }
          },
          "title": {
           "x": 0.05
          },
          "xaxis": {
           "automargin": true,
           "gridcolor": "white",
           "linecolor": "white",
           "ticks": "",
           "title": {
            "standoff": 15
           },
           "zerolinecolor": "white",
           "zerolinewidth": 2
          },
          "yaxis": {
           "automargin": true,
           "gridcolor": "white",
           "linecolor": "white",
           "ticks": "",
           "title": {
            "standoff": 15
           },
           "zerolinecolor": "white",
           "zerolinewidth": 2
          }
         }
        },
        "title": {
         "text": "Average Valance vs Education"
        },
        "width": 800,
        "xaxis": {
         "anchor": "y",
         "domain": [
          0,
          1
         ]
        },
        "xaxis2": {
         "anchor": "y2",
         "domain": [
          0,
          1
         ]
        },
        "xaxis3": {
         "anchor": "y3",
         "domain": [
          0,
          1
         ]
        },
        "yaxis": {
         "anchor": "x",
         "domain": [
          0.7666666666666666,
          0.9999999999999999
         ]
        },
        "yaxis2": {
         "anchor": "x2",
         "domain": [
          0.3833333333333333,
          0.6166666666666666
         ]
        },
        "yaxis3": {
         "anchor": "x3",
         "domain": [
          0,
          0.2333333333333333
         ]
        }
       }
      }
     },
     "metadata": {},
     "output_type": "display_data"
    }
   ],
   "source": [
    "import pandas as pd\n",
    "import plotly.express as px\n",
    "import pandas as pd\n",
    "from plotly.subplots import make_subplots\n",
    "import plotly.graph_objects as go\n",
    "import plotly.io as pio\n",
    "\n",
    "'''\n",
    "'2017 - Valance vs Crime','2017 - Valance vs GDP/Cap'\n",
    "'2018 - Valance vs Crime','2018 - Valance vs GDP/Cap'\n",
    "'2019 - Valance vs Crime','2019 - Valance vs GDP/Cap' \n",
    "'2020 - Valance vs Crime','2020 - Valance vs GDP/Cap'\n",
    "'2020 - Valance vs Crime','2020 - Valance vs GDP/Cap'\n",
    "'''\n",
    "\n",
    "fig = make_subplots(rows=3, \n",
    "                    cols=1,  \n",
    "                    horizontal_spacing = 0.10, \n",
    "                    vertical_spacing = 0.15, \n",
    "                    subplot_titles=('2019 - Valance vs Education',\n",
    "                                    '2020 - Valance vs Education', \n",
    "                                    '2021 - Valance vs Education',))\n",
    "data = pd.read_pickle('store.pkl')\n",
    "for i in range(2019,2022):\n",
    "    df = data.query(\"year==%s\"%(i))\n",
    "    for country,cat in df.groupby('country'):\n",
    "        fig.add_trace(\n",
    "            go.Scatter(x=cat['education'],y=cat['avg valence'],showlegend=False),\n",
    "            row=i-2018, col=1)\n",
    "          \n",
    "fig.update_layout(title_text=\"Average Valance vs Education\", width=800, height=800)\n",
    "\n",
    "fig.show()\n",
    "\n",
    "\n"
   ]
  }
 ],
 "metadata": {
  "interpreter": {
   "hash": "31f2aee4e71d21fbe5cf8b01ff0e069b9275f58929596ceb00d14d90e3e16cd6"
  },
  "kernelspec": {
   "display_name": "Python 3.8.9 64-bit",
   "language": "python",
   "name": "python3"
  },
  "language_info": {
   "codemirror_mode": {
    "name": "ipython",
    "version": 3
   },
   "file_extension": ".py",
   "mimetype": "text/x-python",
   "name": "python",
   "nbconvert_exporter": "python",
   "pygments_lexer": "ipython3",
   "version": "3.8.6"
  },
  "orig_nbformat": 4
 },
 "nbformat": 4,
 "nbformat_minor": 2
}
