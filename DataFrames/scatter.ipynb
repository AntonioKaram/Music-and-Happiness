{
 "cells": [
  {
   "cell_type": "code",
   "execution_count": 11,
   "metadata": {},
   "outputs": [
    {
     "data": {
      "application/vnd.plotly.v1+json": {
       "config": {
        "plotlyServerURL": "https://plot.ly"
       },
       "data": [
        {
         "showlegend": false,
         "type": "scatter",
         "x": [
          0.43205199999999977
         ],
         "xaxis": "x",
         "y": [
          0
         ],
         "yaxis": "y"
        },
        {
         "showlegend": false,
         "type": "scatter",
         "x": [
          0.6004873096446699
         ],
         "xaxis": "x",
         "y": [
          91.2
         ],
         "yaxis": "y"
        },
        {
         "showlegend": false,
         "type": "scatter",
         "x": [
          0.4567979695431473
         ],
         "xaxis": "x",
         "y": [
          174.8
         ],
         "yaxis": "y"
        },
        {
         "showlegend": false,
         "type": "scatter",
         "x": [
          0.46434021164021155
         ],
         "xaxis": "x",
         "y": [
          94.5
         ],
         "yaxis": "y"
        },
        {
         "showlegend": false,
         "type": "scatter",
         "x": [
          0.4621673366834173
         ],
         "xaxis": "x",
         "y": [
          161.8
         ],
         "yaxis": "y"
        },
        {
         "showlegend": false,
         "type": "scatter",
         "x": [
          0.4649085
         ],
         "xaxis": "x",
         "y": [
          119
         ],
         "yaxis": "y"
        },
        {
         "showlegend": false,
         "type": "scatter",
         "x": [
          0.6128793969849242
         ],
         "xaxis": "x",
         "y": [
          0
         ],
         "yaxis": "y"
        },
        {
         "showlegend": false,
         "type": "scatter",
         "x": [
          0.6108442211055276
         ],
         "xaxis": "x",
         "y": [
          104.4
         ],
         "yaxis": "y"
        },
        {
         "showlegend": false,
         "type": "scatter",
         "x": [
          0.43674199999999996
         ],
         "xaxis": "x",
         "y": [
          118.4
         ],
         "yaxis": "y"
        },
        {
         "showlegend": false,
         "type": "scatter",
         "x": [
          0.4603056701030924
         ],
         "xaxis": "x",
         "y": [
          96.6
         ],
         "yaxis": "y"
        },
        {
         "showlegend": false,
         "type": "scatter",
         "x": [
          0.6216984924623117
         ],
         "xaxis": "x",
         "y": [
          103.4
         ],
         "yaxis": "y"
        },
        {
         "showlegend": false,
         "type": "scatter",
         "x": [
          0.62921
         ],
         "xaxis": "x",
         "y": [
          87.6
         ],
         "yaxis": "y"
        },
        {
         "showlegend": false,
         "type": "scatter",
         "x": [
          0.5747638190954772
         ],
         "xaxis": "x",
         "y": [
          155.4
         ],
         "yaxis": "y"
        },
        {
         "showlegend": false,
         "type": "scatter",
         "x": [
          0.4501021505376343
         ],
         "xaxis": "x",
         "y": [
          97.4
         ],
         "yaxis": "y"
        },
        {
         "showlegend": false,
         "type": "scatter",
         "x": [
          0.45122049999999964
         ],
         "xaxis": "x",
         "y": [
          0
         ],
         "yaxis": "y"
        },
        {
         "showlegend": false,
         "type": "scatter",
         "x": [
          0.4755518518518516
         ],
         "xaxis": "x",
         "y": [
          90
         ],
         "yaxis": "y"
        },
        {
         "showlegend": false,
         "type": "scatter",
         "x": [
          0.4799444444444441
         ],
         "xaxis": "x",
         "y": [
          139.3
         ],
         "yaxis": "y"
        },
        {
         "showlegend": false,
         "type": "scatter",
         "x": [
          0.580262626262626
         ],
         "xaxis": "x",
         "y": [
          76.6
         ],
         "yaxis": "y"
        },
        {
         "showlegend": false,
         "type": "scatter",
         "x": [
          0.624445
         ],
         "xaxis": "x",
         "y": [
          99.6
         ],
         "yaxis": "y"
        },
        {
         "showlegend": false,
         "type": "scatter",
         "x": [
          0.47685128205128213
         ],
         "xaxis": "x",
         "y": [
          76.9
         ],
         "yaxis": "y"
        },
        {
         "showlegend": false,
         "type": "scatter",
         "x": [
          0.5646935
         ],
         "xaxis": "x",
         "y": [
          133.3
         ],
         "yaxis": "y"
        },
        {
         "showlegend": false,
         "type": "scatter",
         "x": [
          0.4498084999999996
         ],
         "xaxis": "x",
         "y": [
          134.5
         ],
         "yaxis": "y"
        },
        {
         "showlegend": false,
         "type": "scatter",
         "x": [
          0.4605821428571424
         ],
         "xaxis": "x",
         "y": [
          189.7
         ],
         "yaxis": "y"
        },
        {
         "showlegend": false,
         "type": "scatter",
         "x": [
          0.5059522842639594
         ],
         "xaxis": "x",
         "y": [
          109
         ],
         "yaxis": "y"
        },
        {
         "showlegend": false,
         "type": "scatter",
         "x": [
          0.45863015075376873
         ],
         "xaxis": "x",
         "y": [
          126.3
         ],
         "yaxis": "y"
        },
        {
         "showlegend": false,
         "type": "scatter",
         "x": [
          0.4451447236180904
         ],
         "xaxis": "x",
         "y": [
          105
         ],
         "yaxis": "y"
        },
        {
         "showlegend": false,
         "type": "scatter",
         "x": [
          0.5898944723618088
         ],
         "xaxis": "x",
         "y": [
          37
         ],
         "yaxis": "y"
        },
        {
         "showlegend": false,
         "type": "scatter",
         "x": [
          0.40792777777777744
         ],
         "xaxis": "x",
         "y": [
          0
         ],
         "yaxis": "y"
        },
        {
         "showlegend": false,
         "type": "scatter",
         "x": [
          0.578256281407035
         ],
         "xaxis": "x",
         "y": [
          63.9
         ],
         "yaxis": "y"
        },
        {
         "showlegend": false,
         "type": "scatter",
         "x": [
          0.4746864999999996
         ],
         "xaxis": "x",
         "y": [
          106.6
         ],
         "yaxis": "y"
        },
        {
         "showlegend": false,
         "type": "scatter",
         "x": [
          0.45639274611398944
         ],
         "xaxis": "x",
         "y": [
          81.9
         ],
         "yaxis": "y"
        },
        {
         "showlegend": false,
         "type": "scatter",
         "x": [
          0.4624548913043477
         ],
         "xaxis": "x",
         "y": [
          65.9
         ],
         "yaxis": "y"
        },
        {
         "showlegend": false,
         "type": "scatter",
         "x": [
          0.4385835
         ],
         "xaxis": "x",
         "y": [
          183.5
         ],
         "yaxis": "y"
        },
        {
         "showlegend": false,
         "type": "scatter",
         "x": [
          0.46134299999999995
         ],
         "xaxis": "x",
         "y": [
          130
         ],
         "yaxis": "y"
        },
        {
         "showlegend": false,
         "type": "scatter",
         "x": [
          0.4695343434343434
         ],
         "xaxis": "x",
         "y": [
          105.5
         ],
         "yaxis": "y"
        },
        {
         "showlegend": false,
         "type": "scatter",
         "x": [
          0.4809005076142131
         ],
         "xaxis": "x",
         "y": [
          100.1
         ],
         "yaxis": "y"
        },
        {
         "showlegend": false,
         "type": "scatter",
         "x": [
          0.5119438775510201
         ],
         "xaxis": "x",
         "y": [
          0
         ],
         "yaxis": "y"
        },
        {
         "showlegend": false,
         "type": "scatter",
         "x": [
          0.4436134999999998
         ],
         "xaxis": "x",
         "y": [
          110.4
         ],
         "yaxis": "y"
        },
        {
         "showlegend": false,
         "type": "scatter",
         "x": [
          0.4559309644670048
         ],
         "xaxis": "x",
         "y": [
          99
         ],
         "yaxis": "y"
        },
        {
         "showlegend": false,
         "type": "scatter",
         "x": [
          0.4461504999999997
         ],
         "xaxis": "x",
         "y": [
          115
         ],
         "yaxis": "y"
        },
        {
         "showlegend": false,
         "type": "scatter",
         "x": [
          0.5135263959390861
         ],
         "xaxis": "x",
         "y": [
          106.6
         ],
         "yaxis": "y"
        },
        {
         "showlegend": false,
         "type": "scatter",
         "x": [
          0.608150753768844
         ],
         "xaxis": "x",
         "y": [
          86.6
         ],
         "yaxis": "y"
        },
        {
         "showlegend": false,
         "type": "scatter",
         "x": [
          0.4277331632653061
         ],
         "xaxis": "x",
         "y": [
          86.8
         ],
         "yaxis": "y"
        },
        {
         "showlegend": false,
         "type": "scatter",
         "x": [
          0.5677035175879397
         ],
         "xaxis": "x",
         "y": [
          0
         ],
         "yaxis": "y"
        },
        {
         "showlegend": false,
         "type": "scatter",
         "x": [
          0.5159959595959596
         ],
         "xaxis": "x",
         "y": [
          140.1
         ],
         "yaxis": "y"
        },
        {
         "showlegend": false,
         "type": "scatter",
         "x": [
          0.4317464285714285
         ],
         "xaxis": "x",
         "y": [
          125.2
         ],
         "yaxis": "y"
        },
        {
         "showlegend": false,
         "type": "scatter",
         "x": [
          0.4824221105527638
         ],
         "xaxis": "x",
         "y": [
          139.5
         ],
         "yaxis": "y"
        },
        {
         "showlegend": false,
         "type": "scatter",
         "x": [
          0.6077085427135678
         ],
         "xaxis": "x",
         "y": [
          61.6
         ],
         "yaxis": "y"
        },
        {
         "showlegend": false,
         "type": "scatter",
         "x": [
          0.6445226130653265
         ],
         "xaxis": "x",
         "y": [
          103.6
         ],
         "yaxis": "y"
        },
        {
         "showlegend": false,
         "type": "scatter",
         "x": [
          0.4152091370558376
         ],
         "xaxis": "x",
         "y": [
          83.1
         ],
         "yaxis": "y"
        },
        {
         "showlegend": false,
         "type": "scatter",
         "x": [
          0.46120050251256234
         ],
         "xaxis": "x",
         "y": [
          112.1
         ],
         "yaxis": "y"
        },
        {
         "showlegend": false,
         "type": "scatter",
         "x": [
          0.4546648241206031
         ],
         "xaxis": "x",
         "y": [
          125.3
         ],
         "yaxis": "y"
        },
        {
         "showlegend": false,
         "type": "scatter",
         "x": [
          0.5936464646464645
         ],
         "xaxis": "x",
         "y": [
          72.4
         ],
         "yaxis": "y"
        },
        {
         "showlegend": false,
         "type": "scatter",
         "x": [
          0.445766
         ],
         "xaxis": "x",
         "y": [
          90.8
         ],
         "yaxis": "y"
        },
        {
         "showlegend": false,
         "type": "scatter",
         "x": [
          0.44934242424242377
         ],
         "xaxis": "x",
         "y": [
          116.5
         ],
         "yaxis": "y"
        },
        {
         "showlegend": false,
         "type": "scatter",
         "x": [
          0.41490204081632637
         ],
         "xaxis": "x",
         "y": [
          0
         ],
         "yaxis": "y"
        },
        {
         "showlegend": false,
         "type": "scatter",
         "x": [
          0.5786432160804017
         ],
         "xaxis": "x",
         "y": [
          57.7
         ],
         "yaxis": "y"
        },
        {
         "showlegend": false,
         "type": "scatter",
         "x": [
          0.4529558375634518
         ],
         "xaxis": "x",
         "y": [
          89.2
         ],
         "yaxis": "y"
        },
        {
         "showlegend": false,
         "type": "scatter",
         "x": [
          0.43954329896907224
         ],
         "xaxis": "x",
         "y": [
          194.7
         ],
         "yaxis": "y"
        },
        {
         "showlegend": false,
         "type": "scatter",
         "x": [
          0.48556467391304325
         ],
         "xaxis": "x",
         "y": [
          112.1
         ],
         "yaxis": "y"
        },
        {
         "showlegend": false,
         "type": "scatter",
         "x": [
          0.46339844559585475
         ],
         "xaxis": "x",
         "y": [
          101.9
         ],
         "yaxis": "y"
        },
        {
         "showlegend": false,
         "type": "scatter",
         "x": [
          0.383148205128205
         ],
         "xaxis": "x",
         "y": [
          0
         ],
         "yaxis": "y"
        },
        {
         "showlegend": false,
         "type": "scatter",
         "x": [
          0.6333877551020409
         ],
         "xaxis": "x",
         "y": [
          128.3
         ],
         "yaxis": "y"
        },
        {
         "showlegend": false,
         "type": "scatter",
         "x": [
          0.42652750000000006
         ],
         "xaxis": "x",
         "y": [
          0
         ],
         "yaxis": "y"
        },
        {
         "showlegend": false,
         "type": "scatter",
         "x": [
          0.41727684210526317
         ],
         "xaxis": "x",
         "y": [
          116.7
         ],
         "yaxis": "y"
        },
        {
         "showlegend": false,
         "type": "scatter",
         "x": [
          0.45471557788944694
         ],
         "xaxis": "x",
         "y": [
          104.5
         ],
         "yaxis": "y"
        },
        {
         "showlegend": false,
         "type": "scatter",
         "x": [
          0.4634030612244895
         ],
         "xaxis": "x2",
         "y": [
          99.2
         ],
         "yaxis": "y2"
        },
        {
         "showlegend": false,
         "type": "scatter",
         "x": [
          0.64664
         ],
         "xaxis": "x2",
         "y": [
          91.1
         ],
         "yaxis": "y2"
        },
        {
         "showlegend": false,
         "type": "scatter",
         "x": [
          0.4890126262626256
         ],
         "xaxis": "x2",
         "y": [
          145.9
         ],
         "yaxis": "y2"
        },
        {
         "showlegend": false,
         "type": "scatter",
         "x": [
          0.5029668367346937
         ],
         "xaxis": "x2",
         "y": [
          97.3
         ],
         "yaxis": "y2"
        },
        {
         "showlegend": false,
         "type": "scatter",
         "x": [
          0.4891540404040405
         ],
         "xaxis": "x2",
         "y": [
          168.7
         ],
         "yaxis": "y2"
        },
        {
         "showlegend": false,
         "type": "scatter",
         "x": [
          0.4962743718592959
         ],
         "xaxis": "x2",
         "y": [
          111.8
         ],
         "yaxis": "y2"
        },
        {
         "showlegend": false,
         "type": "scatter",
         "x": [
          0.6456639999999997
         ],
         "xaxis": "x2",
         "y": [
          0
         ],
         "yaxis": "y2"
        },
        {
         "showlegend": false,
         "type": "scatter",
         "x": [
          0.6444939698492458
         ],
         "xaxis": "x2",
         "y": [
          99.3
         ],
         "yaxis": "y2"
        },
        {
         "showlegend": false,
         "type": "scatter",
         "x": [
          0.46791161616161603
         ],
         "xaxis": "x2",
         "y": [
          119.9
         ],
         "yaxis": "y2"
        },
        {
         "showlegend": false,
         "type": "scatter",
         "x": [
          0.4889085858585859
         ],
         "xaxis": "x2",
         "y": [
          95.3
         ],
         "yaxis": "y2"
        },
        {
         "showlegend": false,
         "type": "scatter",
         "x": [
          0.6255939999999997
         ],
         "xaxis": "x2",
         "y": [
          101
         ],
         "yaxis": "y2"
        },
        {
         "showlegend": false,
         "type": "scatter",
         "x": [
          0.6539336683417084
         ],
         "xaxis": "x2",
         "y": [
          85.2
         ],
         "yaxis": "y2"
        },
        {
         "showlegend": false,
         "type": "scatter",
         "x": [
          0.6158339999999997
         ],
         "xaxis": "x2",
         "y": [
          118.2
         ],
         "yaxis": "y2"
        },
        {
         "showlegend": false,
         "type": "scatter",
         "x": [
          0.47155505050505037
         ],
         "xaxis": "x2",
         "y": [
          99.6
         ],
         "yaxis": "y2"
        },
        {
         "showlegend": false,
         "type": "scatter",
         "x": [
          0.4550456852791879
         ],
         "xaxis": "x2",
         "y": [
          0
         ],
         "yaxis": "y2"
        },
        {
         "showlegend": false,
         "type": "scatter",
         "x": [
          0.4922701015228428
         ],
         "xaxis": "x2",
         "y": [
          96
         ],
         "yaxis": "y2"
        },
        {
         "showlegend": false,
         "type": "scatter",
         "x": [
          0.47821979695431477
         ],
         "xaxis": "x2",
         "y": [
          148.1
         ],
         "yaxis": "y2"
        },
        {
         "showlegend": false,
         "type": "scatter",
         "x": [
          0.6172477386934674
         ],
         "xaxis": "x2",
         "y": [
          80.5
         ],
         "yaxis": "y2"
        },
        {
         "showlegend": false,
         "type": "scatter",
         "x": [
          0.6470639999999998
         ],
         "xaxis": "x2",
         "y": [
          98.5
         ],
         "yaxis": "y2"
        },
        {
         "showlegend": false,
         "type": "scatter",
         "x": [
          0.5089211956521739
         ],
         "xaxis": "x2",
         "y": [
          66.5
         ],
         "yaxis": "y2"
        },
        {
         "showlegend": false,
         "type": "scatter",
         "x": [
          0.6228064999999999
         ],
         "xaxis": "x2",
         "y": [
          128
         ],
         "yaxis": "y2"
        },
        {
         "showlegend": false,
         "type": "scatter",
         "x": [
          0.46908080808080793
         ],
         "xaxis": "x2",
         "y": [
          116.1
         ],
         "yaxis": "y2"
        },
        {
         "showlegend": false,
         "type": "scatter",
         "x": [
          0.48384365482233493
         ],
         "xaxis": "x2",
         "y": [
          181.8
         ],
         "yaxis": "y2"
        },
        {
         "showlegend": false,
         "type": "scatter",
         "x": [
          0.5125808080808082
         ],
         "xaxis": "x2",
         "y": [
          108.6
         ],
         "yaxis": "y2"
        },
        {
         "showlegend": false,
         "type": "scatter",
         "x": [
          0.483554314720812
         ],
         "xaxis": "x2",
         "y": [
          138.5
         ],
         "yaxis": "y2"
        },
        {
         "showlegend": false,
         "type": "scatter",
         "x": [
          0.4679059999999998
         ],
         "xaxis": "x2",
         "y": [
          99.4
         ],
         "yaxis": "y2"
        },
        {
         "showlegend": false,
         "type": "scatter",
         "x": [
          0.6258364999999998
         ],
         "xaxis": "x2",
         "y": [
          37.2
         ],
         "yaxis": "y2"
        },
        {
         "showlegend": false,
         "type": "scatter",
         "x": [
          0.4274333333333334
         ],
         "xaxis": "x2",
         "y": [
          0
         ],
         "yaxis": "y2"
        },
        {
         "showlegend": false,
         "type": "scatter",
         "x": [
          0.6141989999999997
         ],
         "xaxis": "x2",
         "y": [
          43.9
         ],
         "yaxis": "y2"
        },
        {
         "showlegend": false,
         "type": "scatter",
         "x": [
          0.48425656565656544
         ],
         "xaxis": "x2",
         "y": [
          107.6
         ],
         "yaxis": "y2"
        },
        {
         "showlegend": false,
         "type": "scatter",
         "x": [
          0.4329621212121211
         ],
         "xaxis": "x2",
         "y": [
          74.4
         ],
         "yaxis": "y2"
        },
        {
         "showlegend": false,
         "type": "scatter",
         "x": [
          0.4974029940119758
         ],
         "xaxis": "x2",
         "y": [
          62.6
         ],
         "yaxis": "y2"
        },
        {
         "showlegend": false,
         "type": "scatter",
         "x": [
          0.4721817258883247
         ],
         "xaxis": "x2",
         "y": [
          141.5
         ],
         "yaxis": "y2"
        },
        {
         "showlegend": false,
         "type": "scatter",
         "x": [
          0.4873484536082475
         ],
         "xaxis": "x2",
         "y": [
          132.9
         ],
         "yaxis": "y2"
        },
        {
         "showlegend": false,
         "type": "scatter",
         "x": [
          0.45267135678391973
         ],
         "xaxis": "x2",
         "y": [
          102.6
         ],
         "yaxis": "y2"
        },
        {
         "showlegend": false,
         "type": "scatter",
         "x": [
          0.4898724999999999
         ],
         "xaxis": "x2",
         "y": [
          100.9
         ],
         "yaxis": "y2"
        },
        {
         "showlegend": false,
         "type": "scatter",
         "x": [
          0.5609238341968914
         ],
         "xaxis": "x2",
         "y": [
          0
         ],
         "yaxis": "y2"
        },
        {
         "showlegend": false,
         "type": "scatter",
         "x": [
          0.45746616161616155
         ],
         "xaxis": "x2",
         "y": [
          114
         ],
         "yaxis": "y2"
        },
        {
         "showlegend": false,
         "type": "scatter",
         "x": [
          0.48650757575757547
         ],
         "xaxis": "x2",
         "y": [
          97.3
         ],
         "yaxis": "y2"
        },
        {
         "showlegend": false,
         "type": "scatter",
         "x": [
          0.45617085427135673
         ],
         "xaxis": "x2",
         "y": [
          121.4
         ],
         "yaxis": "y2"
        },
        {
         "showlegend": false,
         "type": "scatter",
         "x": [
          0.5180050251256282
         ],
         "xaxis": "x2",
         "y": [
          52.5
         ],
         "yaxis": "y2"
        },
        {
         "showlegend": false,
         "type": "scatter",
         "x": [
          0.637784
         ],
         "xaxis": "x2",
         "y": [
          73.3
         ],
         "yaxis": "y2"
        },
        {
         "showlegend": false,
         "type": "scatter",
         "x": [
          0.4338117346938775
         ],
         "xaxis": "x2",
         "y": [
          86.9
         ],
         "yaxis": "y2"
        },
        {
         "showlegend": false,
         "type": "scatter",
         "x": [
          0.6190665
         ],
         "xaxis": "x2",
         "y": [
          0
         ],
         "yaxis": "y2"
        },
        {
         "showlegend": false,
         "type": "scatter",
         "x": [
          0.509348730964467
         ],
         "xaxis": "x2",
         "y": [
          137.2
         ],
         "yaxis": "y2"
        },
        {
         "showlegend": false,
         "type": "scatter",
         "x": [
          0.4378282828282829
         ],
         "xaxis": "x2",
         "y": [
          122.1
         ],
         "yaxis": "y2"
        },
        {
         "showlegend": false,
         "type": "scatter",
         "x": [
          0.5038964646464642
         ],
         "xaxis": "x2",
         "y": [
          138.6
         ],
         "yaxis": "y2"
        },
        {
         "showlegend": false,
         "type": "scatter",
         "x": [
          0.6338206030150756
         ],
         "xaxis": "x2",
         "y": [
          62.5
         ],
         "yaxis": "y2"
        },
        {
         "showlegend": false,
         "type": "scatter",
         "x": [
          0.6609289999999999
         ],
         "xaxis": "x2",
         "y": [
          91.4
         ],
         "yaxis": "y2"
        },
        {
         "showlegend": false,
         "type": "scatter",
         "x": [
          0.4315954545454546
         ],
         "xaxis": "x2",
         "y": [
          78.2
         ],
         "yaxis": "y2"
        },
        {
         "showlegend": false,
         "type": "scatter",
         "x": [
          0.5076964824120604
         ],
         "xaxis": "x2",
         "y": [
          111.2
         ],
         "yaxis": "y2"
        },
        {
         "showlegend": false,
         "type": "scatter",
         "x": [
          0.46616767676767645
         ],
         "xaxis": "x2",
         "y": [
          117.7
         ],
         "yaxis": "y2"
        },
        {
         "showlegend": false,
         "type": "scatter",
         "x": [
          0.6508889999999997
         ],
         "xaxis": "x2",
         "y": [
          71.8
         ],
         "yaxis": "y2"
        },
        {
         "showlegend": false,
         "type": "scatter",
         "x": [
          0.47134213197969543
         ],
         "xaxis": "x2",
         "y": [
          91
         ],
         "yaxis": "y2"
        },
        {
         "showlegend": false,
         "type": "scatter",
         "x": [
          0.5036471794871795
         ],
         "xaxis": "x2",
         "y": [
          106.2
         ],
         "yaxis": "y2"
        },
        {
         "showlegend": false,
         "type": "scatter",
         "x": [
          0.4193257575757574
         ],
         "xaxis": "x2",
         "y": [
          0
         ],
         "yaxis": "y2"
        },
        {
         "showlegend": false,
         "type": "scatter",
         "x": [
          0.6198565
         ],
         "xaxis": "x2",
         "y": [
          58.6
         ],
         "yaxis": "y2"
        },
        {
         "showlegend": false,
         "type": "scatter",
         "x": [
          0.44083061224489783
         ],
         "xaxis": "x2",
         "y": [
          86.8
         ],
         "yaxis": "y2"
        },
        {
         "showlegend": false,
         "type": "scatter",
         "x": [
          0.4609084656084656
         ],
         "xaxis": "x2",
         "y": [
          179.1
         ],
         "yaxis": "y2"
        },
        {
         "showlegend": false,
         "type": "scatter",
         "x": [
          0.5040738461538459
         ],
         "xaxis": "x2",
         "y": [
          120.2
         ],
         "yaxis": "y2"
        },
        {
         "showlegend": false,
         "type": "scatter",
         "x": [
          0.45586149732620307
         ],
         "xaxis": "x2",
         "y": [
          102.9
         ],
         "yaxis": "y2"
        },
        {
         "showlegend": false,
         "type": "scatter",
         "x": [
          0.4113367875647667
         ],
         "xaxis": "x2",
         "y": [
          0
         ],
         "yaxis": "y2"
        },
        {
         "showlegend": false,
         "type": "scatter",
         "x": [
          0.45255427135678405
         ],
         "xaxis": "x2",
         "y": [
          89
         ],
         "yaxis": "y2"
        },
        {
         "showlegend": false,
         "type": "scatter",
         "x": [
          0.6644964102564104
         ],
         "xaxis": "x2",
         "y": [
          160
         ],
         "yaxis": "y2"
        },
        {
         "showlegend": false,
         "type": "scatter",
         "x": [
          0.4513592964824119
         ],
         "xaxis": "x2",
         "y": [
          0
         ],
         "yaxis": "y2"
        },
        {
         "showlegend": false,
         "type": "scatter",
         "x": [
          0.4384594871794869
         ],
         "xaxis": "x2",
         "y": [
          110.1
         ],
         "yaxis": "y2"
        },
        {
         "showlegend": false,
         "type": "scatter",
         "x": [
          0.4755398989898988
         ],
         "xaxis": "x2",
         "y": [
          110.2
         ],
         "yaxis": "y2"
        },
        {
         "showlegend": false,
         "type": "scatter",
         "x": [
          0.4967844221105527
         ],
         "xaxis": "x3",
         "y": [
          111.6
         ],
         "yaxis": "y3"
        },
        {
         "showlegend": false,
         "type": "scatter",
         "x": [
          0.6672142857142859
         ],
         "xaxis": "x3",
         "y": [
          77.8
         ],
         "yaxis": "y3"
        },
        {
         "showlegend": false,
         "type": "scatter",
         "x": [
          0.5271713567839194
         ],
         "xaxis": "x3",
         "y": [
          105.5
         ],
         "yaxis": "y3"
        },
        {
         "showlegend": false,
         "type": "scatter",
         "x": [
          0.501463131313131
         ],
         "xaxis": "x3",
         "y": [
          92.3
         ],
         "yaxis": "y3"
        },
        {
         "showlegend": false,
         "type": "scatter",
         "x": [
          0.49730449999999976
         ],
         "xaxis": "x3",
         "y": [
          180.6
         ],
         "yaxis": "y3"
        },
        {
         "showlegend": false,
         "type": "scatter",
         "x": [
          0.5191194999999995
         ],
         "xaxis": "x3",
         "y": [
          91.7
         ],
         "yaxis": "y3"
        },
        {
         "showlegend": false,
         "type": "scatter",
         "x": [
          0.6322560606060607
         ],
         "xaxis": "x3",
         "y": [
          0
         ],
         "yaxis": "y3"
        },
        {
         "showlegend": false,
         "type": "scatter",
         "x": [
          0.6881616161616162
         ],
         "xaxis": "x3",
         "y": [
          99.5
         ],
         "yaxis": "y3"
        },
        {
         "showlegend": false,
         "type": "scatter",
         "x": [
          0.48437461928934006
         ],
         "xaxis": "x3",
         "y": [
          102
         ],
         "yaxis": "y3"
        },
        {
         "showlegend": false,
         "type": "scatter",
         "x": [
          0.49634449999999986
         ],
         "xaxis": "x3",
         "y": [
          82.6
         ],
         "yaxis": "y3"
        },
        {
         "showlegend": false,
         "type": "scatter",
         "x": [
          0.6317717171717171
         ],
         "xaxis": "x3",
         "y": [
          88.3
         ],
         "yaxis": "y3"
        },
        {
         "showlegend": false,
         "type": "scatter",
         "x": [
          0.6719949494949495
         ],
         "xaxis": "x3",
         "y": [
          87
         ],
         "yaxis": "y3"
        },
        {
         "showlegend": false,
         "type": "scatter",
         "x": [
          0.633478787878788
         ],
         "xaxis": "x3",
         "y": [
          82.2
         ],
         "yaxis": "y3"
        },
        {
         "showlegend": false,
         "type": "scatter",
         "x": [
          0.4826654999999997
         ],
         "xaxis": "x3",
         "y": [
          88.1
         ],
         "yaxis": "y3"
        },
        {
         "showlegend": false,
         "type": "scatter",
         "x": [
          0.4815261306532665
         ],
         "xaxis": "x3",
         "y": [
          0
         ],
         "yaxis": "y3"
        },
        {
         "showlegend": false,
         "type": "scatter",
         "x": [
          0.4971872448979594
         ],
         "xaxis": "x3",
         "y": [
          100.8
         ],
         "yaxis": "y3"
        },
        {
         "showlegend": false,
         "type": "scatter",
         "x": [
          0.5082919597989951
         ],
         "xaxis": "x3",
         "y": [
          121.8
         ],
         "yaxis": "y3"
        },
        {
         "showlegend": false,
         "type": "scatter",
         "x": [
          0.6121532663316583
         ],
         "xaxis": "x3",
         "y": [
          78
         ],
         "yaxis": "y3"
        },
        {
         "showlegend": false,
         "type": "scatter",
         "x": [
          0.6258510101010105
         ],
         "xaxis": "x3",
         "y": [
          82.9
         ],
         "yaxis": "y3"
        },
        {
         "showlegend": false,
         "type": "scatter",
         "x": [
          0.520162564102564
         ],
         "xaxis": "x3",
         "y": [
          46.6
         ],
         "yaxis": "y3"
        },
        {
         "showlegend": false,
         "type": "scatter",
         "x": [
          0.6109883838383837
         ],
         "xaxis": "x3",
         "y": [
          134.3
         ],
         "yaxis": "y3"
        },
        {
         "showlegend": false,
         "type": "scatter",
         "x": [
          0.49825349999999985
         ],
         "xaxis": "x3",
         "y": [
          109.1
         ],
         "yaxis": "y3"
        },
        {
         "showlegend": false,
         "type": "scatter",
         "x": [
          0.5016636363636364
         ],
         "xaxis": "x3",
         "y": [
          120.5
         ],
         "yaxis": "y3"
        },
        {
         "showlegend": false,
         "type": "scatter",
         "x": [
          0.5377295918367351
         ],
         "xaxis": "x3",
         "y": [
          112.7
         ],
         "yaxis": "y3"
        },
        {
         "showlegend": false,
         "type": "scatter",
         "x": [
          0.5132139999999995
         ],
         "xaxis": "x3",
         "y": [
          99.6
         ],
         "yaxis": "y3"
        },
        {
         "showlegend": false,
         "type": "scatter",
         "x": [
          0.48847749999999956
         ],
         "xaxis": "x3",
         "y": [
          106.2
         ],
         "yaxis": "y3"
        },
        {
         "showlegend": false,
         "type": "scatter",
         "x": [
          0.646180808080808
         ],
         "xaxis": "x3",
         "y": [
          35.3
         ],
         "yaxis": "y3"
        },
        {
         "showlegend": false,
         "type": "scatter",
         "x": [
          0.4394206030150751
         ],
         "xaxis": "x3",
         "y": [
          0
         ],
         "yaxis": "y3"
        },
        {
         "showlegend": false,
         "type": "scatter",
         "x": [
          0.6195782828282828
         ],
         "xaxis": "x3",
         "y": [
          76.7
         ],
         "yaxis": "y3"
        },
        {
         "showlegend": false,
         "type": "scatter",
         "x": [
          0.5099245
         ],
         "xaxis": "x3",
         "y": [
          96.7
         ],
         "yaxis": "y3"
        },
        {
         "showlegend": false,
         "type": "scatter",
         "x": [
          0.42318484848484816
         ],
         "xaxis": "x3",
         "y": [
          63.1
         ],
         "yaxis": "y3"
        },
        {
         "showlegend": false,
         "type": "scatter",
         "x": [
          0.5298668604651161
         ],
         "xaxis": "x3",
         "y": [
          47.4
         ],
         "yaxis": "y3"
        },
        {
         "showlegend": false,
         "type": "scatter",
         "x": [
          0.5082705
         ],
         "xaxis": "x3",
         "y": [
          141.6
         ],
         "yaxis": "y3"
        },
        {
         "showlegend": false,
         "type": "scatter",
         "x": [
          0.4507707070707072
         ],
         "xaxis": "x3",
         "y": [
          118.1
         ],
         "yaxis": "y3"
        },
        {
         "showlegend": false,
         "type": "scatter",
         "x": [
          0.46432295918367356
         ],
         "xaxis": "x3",
         "y": [
          103.9
         ],
         "yaxis": "y3"
        },
        {
         "showlegend": false,
         "type": "scatter",
         "x": [
          0.47781300000000015
         ],
         "xaxis": "x3",
         "y": [
          99.9
         ],
         "yaxis": "y3"
        },
        {
         "showlegend": false,
         "type": "scatter",
         "x": [
          0.5643969999999998
         ],
         "xaxis": "x3",
         "y": [
          0
         ],
         "yaxis": "y3"
        },
        {
         "showlegend": false,
         "type": "scatter",
         "x": [
          0.4998928934010157
         ],
         "xaxis": "x3",
         "y": [
          0
         ],
         "yaxis": "y3"
        },
        {
         "showlegend": false,
         "type": "scatter",
         "x": [
          0.4984105527638191
         ],
         "xaxis": "x3",
         "y": [
          108.3
         ],
         "yaxis": "y3"
        },
        {
         "showlegend": false,
         "type": "scatter",
         "x": [
          0.4916944999999995
         ],
         "xaxis": "x3",
         "y": [
          92.3
         ],
         "yaxis": "y3"
        },
        {
         "showlegend": false,
         "type": "scatter",
         "x": [
          0.4693251256281409
         ],
         "xaxis": "x3",
         "y": [
          100.7
         ],
         "yaxis": "y3"
        },
        {
         "showlegend": false,
         "type": "scatter",
         "x": [
          0.5149225000000001
         ],
         "xaxis": "x3",
         "y": [
          46.8
         ],
         "yaxis": "y3"
        },
        {
         "showlegend": false,
         "type": "scatter",
         "x": [
          0.655661616161616
         ],
         "xaxis": "x3",
         "y": [
          62.4
         ],
         "yaxis": "y3"
        },
        {
         "showlegend": false,
         "type": "scatter",
         "x": [
          0.4420944723618088
         ],
         "xaxis": "x3",
         "y": [
          70
         ],
         "yaxis": "y3"
        },
        {
         "showlegend": false,
         "type": "scatter",
         "x": [
          0.6341252525252526
         ],
         "xaxis": "x3",
         "y": [
          64.4
         ],
         "yaxis": "y3"
        },
        {
         "showlegend": false,
         "type": "scatter",
         "x": [
          0.5129644999999999
         ],
         "xaxis": "x3",
         "y": [
          118.4
         ],
         "yaxis": "y3"
        },
        {
         "showlegend": false,
         "type": "scatter",
         "x": [
          0.45186717171717167
         ],
         "xaxis": "x3",
         "y": [
          124.1
         ],
         "yaxis": "y3"
        },
        {
         "showlegend": false,
         "type": "scatter",
         "x": [
          0.5607242424242426
         ],
         "xaxis": "x3",
         "y": [
          144.6
         ],
         "yaxis": "y3"
        },
        {
         "showlegend": false,
         "type": "scatter",
         "x": [
          0.6059166666666669
         ],
         "xaxis": "x3",
         "y": [
          56.3
         ],
         "yaxis": "y3"
        },
        {
         "showlegend": false,
         "type": "scatter",
         "x": [
          0.646843434343435
         ],
         "xaxis": "x3",
         "y": [
          80.2
         ],
         "yaxis": "y3"
        },
        {
         "showlegend": false,
         "type": "scatter",
         "x": [
          0.47133768844221113
         ],
         "xaxis": "x3",
         "y": [
          81.8
         ],
         "yaxis": "y3"
        },
        {
         "showlegend": false,
         "type": "scatter",
         "x": [
          0.5176247474747475
         ],
         "xaxis": "x3",
         "y": [
          96.8
         ],
         "yaxis": "y3"
        },
        {
         "showlegend": false,
         "type": "scatter",
         "x": [
          0.49581616161616116
         ],
         "xaxis": "x3",
         "y": [
          105.2
         ],
         "yaxis": "y3"
        },
        {
         "showlegend": false,
         "type": "scatter",
         "x": [
          0.6589646464646465
         ],
         "xaxis": "x3",
         "y": [
          58.7
         ],
         "yaxis": "y3"
        },
        {
         "showlegend": false,
         "type": "scatter",
         "x": [
          0.5127656565656564
         ],
         "xaxis": "x3",
         "y": [
          97.1
         ],
         "yaxis": "y3"
        },
        {
         "showlegend": false,
         "type": "scatter",
         "x": [
          0.5516353535353534
         ],
         "xaxis": "x3",
         "y": [
          83.1
         ],
         "yaxis": "y3"
        },
        {
         "showlegend": false,
         "type": "scatter",
         "x": [
          0.4474286432160803
         ],
         "xaxis": "x3",
         "y": [
          110.4
         ],
         "yaxis": "y3"
        },
        {
         "showlegend": false,
         "type": "scatter",
         "x": [
          0.6214122340425532
         ],
         "xaxis": "x3",
         "y": [
          47.3
         ],
         "yaxis": "y3"
        },
        {
         "showlegend": false,
         "type": "scatter",
         "x": [
          0.4861311557788944
         ],
         "xaxis": "x3",
         "y": [
          93
         ],
         "yaxis": "y3"
        },
        {
         "showlegend": false,
         "type": "scatter",
         "x": [
          0.4815215384615385
         ],
         "xaxis": "x3",
         "y": [
          99.1
         ],
         "yaxis": "y3"
        },
        {
         "showlegend": false,
         "type": "scatter",
         "x": [
          0.5056185567010308
         ],
         "xaxis": "x3",
         "y": [
          73.5
         ],
         "yaxis": "y3"
        },
        {
         "showlegend": false,
         "type": "scatter",
         "x": [
          0.4819351758793971
         ],
         "xaxis": "x3",
         "y": [
          67.5
         ],
         "yaxis": "y3"
        },
        {
         "showlegend": false,
         "type": "scatter",
         "x": [
          0.4184974358974359
         ],
         "xaxis": "x3",
         "y": [
          0
         ],
         "yaxis": "y3"
        },
        {
         "showlegend": false,
         "type": "scatter",
         "x": [
          0.4772944162436546
         ],
         "xaxis": "x3",
         "y": [
          76.4
         ],
         "yaxis": "y3"
        },
        {
         "showlegend": false,
         "type": "scatter",
         "x": [
          0.6687005076142134
         ],
         "xaxis": "x3",
         "y": [
          104.6
         ],
         "yaxis": "y3"
        },
        {
         "showlegend": false,
         "type": "scatter",
         "x": [
          0.47951414141414106
         ],
         "xaxis": "x3",
         "y": [
          0
         ],
         "yaxis": "y3"
        },
        {
         "showlegend": false,
         "type": "scatter",
         "x": [
          0.443285
         ],
         "xaxis": "x3",
         "y": [
          103.2
         ],
         "yaxis": "y3"
        },
        {
         "showlegend": false,
         "type": "scatter",
         "x": [
          0.4908522613065324
         ],
         "xaxis": "x3",
         "y": [
          92.3
         ],
         "yaxis": "y3"
        }
       ],
       "layout": {
        "annotations": [
         {
          "font": {
           "size": 16
          },
          "showarrow": false,
          "text": "2019 - Valance vs Education",
          "x": 0.5,
          "xanchor": "center",
          "xref": "paper",
          "y": 1,
          "yanchor": "bottom",
          "yref": "paper"
         },
         {
          "font": {
           "size": 16
          },
          "showarrow": false,
          "text": "2020 - Valance vs Education",
          "x": 0.5,
          "xanchor": "center",
          "xref": "paper",
          "y": 0.6499999999999999,
          "yanchor": "bottom",
          "yref": "paper"
         },
         {
          "font": {
           "size": 16
          },
          "showarrow": false,
          "text": "2021 - Valance vs Education",
          "x": 0.5,
          "xanchor": "center",
          "xref": "paper",
          "y": 0.3,
          "yanchor": "bottom",
          "yref": "paper"
         }
        ],
        "height": 800,
        "margin": {
         "l": 0,
         "r": 0
        },
        "template": {
         "data": {
          "bar": [
           {
            "error_x": {
             "color": "#2a3f5f"
            },
            "error_y": {
             "color": "#2a3f5f"
            },
            "marker": {
             "line": {
              "color": "#E5ECF6",
              "width": 0.5
             },
             "pattern": {
              "fillmode": "overlay",
              "size": 10,
              "solidity": 0.2
             }
            },
            "type": "bar"
           }
          ],
          "barpolar": [
           {
            "marker": {
             "line": {
              "color": "#E5ECF6",
              "width": 0.5
             },
             "pattern": {
              "fillmode": "overlay",
              "size": 10,
              "solidity": 0.2
             }
            },
            "type": "barpolar"
           }
          ],
          "carpet": [
           {
            "aaxis": {
             "endlinecolor": "#2a3f5f",
             "gridcolor": "white",
             "linecolor": "white",
             "minorgridcolor": "white",
             "startlinecolor": "#2a3f5f"
            },
            "baxis": {
             "endlinecolor": "#2a3f5f",
             "gridcolor": "white",
             "linecolor": "white",
             "minorgridcolor": "white",
             "startlinecolor": "#2a3f5f"
            },
            "type": "carpet"
           }
          ],
          "choropleth": [
           {
            "colorbar": {
             "outlinewidth": 0,
             "ticks": ""
            },
            "type": "choropleth"
           }
          ],
          "contour": [
           {
            "colorbar": {
             "outlinewidth": 0,
             "ticks": ""
            },
            "colorscale": [
             [
              0,
              "#0d0887"
             ],
             [
              0.1111111111111111,
              "#46039f"
             ],
             [
              0.2222222222222222,
              "#7201a8"
             ],
             [
              0.3333333333333333,
              "#9c179e"
             ],
             [
              0.4444444444444444,
              "#bd3786"
             ],
             [
              0.5555555555555556,
              "#d8576b"
             ],
             [
              0.6666666666666666,
              "#ed7953"
             ],
             [
              0.7777777777777778,
              "#fb9f3a"
             ],
             [
              0.8888888888888888,
              "#fdca26"
             ],
             [
              1,
              "#f0f921"
             ]
            ],
            "type": "contour"
           }
          ],
          "contourcarpet": [
           {
            "colorbar": {
             "outlinewidth": 0,
             "ticks": ""
            },
            "type": "contourcarpet"
           }
          ],
          "heatmap": [
           {
            "colorbar": {
             "outlinewidth": 0,
             "ticks": ""
            },
            "colorscale": [
             [
              0,
              "#0d0887"
             ],
             [
              0.1111111111111111,
              "#46039f"
             ],
             [
              0.2222222222222222,
              "#7201a8"
             ],
             [
              0.3333333333333333,
              "#9c179e"
             ],
             [
              0.4444444444444444,
              "#bd3786"
             ],
             [
              0.5555555555555556,
              "#d8576b"
             ],
             [
              0.6666666666666666,
              "#ed7953"
             ],
             [
              0.7777777777777778,
              "#fb9f3a"
             ],
             [
              0.8888888888888888,
              "#fdca26"
             ],
             [
              1,
              "#f0f921"
             ]
            ],
            "type": "heatmap"
           }
          ],
          "heatmapgl": [
           {
            "colorbar": {
             "outlinewidth": 0,
             "ticks": ""
            },
            "colorscale": [
             [
              0,
              "#0d0887"
             ],
             [
              0.1111111111111111,
              "#46039f"
             ],
             [
              0.2222222222222222,
              "#7201a8"
             ],
             [
              0.3333333333333333,
              "#9c179e"
             ],
             [
              0.4444444444444444,
              "#bd3786"
             ],
             [
              0.5555555555555556,
              "#d8576b"
             ],
             [
              0.6666666666666666,
              "#ed7953"
             ],
             [
              0.7777777777777778,
              "#fb9f3a"
             ],
             [
              0.8888888888888888,
              "#fdca26"
             ],
             [
              1,
              "#f0f921"
             ]
            ],
            "type": "heatmapgl"
           }
          ],
          "histogram": [
           {
            "marker": {
             "pattern": {
              "fillmode": "overlay",
              "size": 10,
              "solidity": 0.2
             }
            },
            "type": "histogram"
           }
          ],
          "histogram2d": [
           {
            "colorbar": {
             "outlinewidth": 0,
             "ticks": ""
            },
            "colorscale": [
             [
              0,
              "#0d0887"
             ],
             [
              0.1111111111111111,
              "#46039f"
             ],
             [
              0.2222222222222222,
              "#7201a8"
             ],
             [
              0.3333333333333333,
              "#9c179e"
             ],
             [
              0.4444444444444444,
              "#bd3786"
             ],
             [
              0.5555555555555556,
              "#d8576b"
             ],
             [
              0.6666666666666666,
              "#ed7953"
             ],
             [
              0.7777777777777778,
              "#fb9f3a"
             ],
             [
              0.8888888888888888,
              "#fdca26"
             ],
             [
              1,
              "#f0f921"
             ]
            ],
            "type": "histogram2d"
           }
          ],
          "histogram2dcontour": [
           {
            "colorbar": {
             "outlinewidth": 0,
             "ticks": ""
            },
            "colorscale": [
             [
              0,
              "#0d0887"
             ],
             [
              0.1111111111111111,
              "#46039f"
             ],
             [
              0.2222222222222222,
              "#7201a8"
             ],
             [
              0.3333333333333333,
              "#9c179e"
             ],
             [
              0.4444444444444444,
              "#bd3786"
             ],
             [
              0.5555555555555556,
              "#d8576b"
             ],
             [
              0.6666666666666666,
              "#ed7953"
             ],
             [
              0.7777777777777778,
              "#fb9f3a"
             ],
             [
              0.8888888888888888,
              "#fdca26"
             ],
             [
              1,
              "#f0f921"
             ]
            ],
            "type": "histogram2dcontour"
           }
          ],
          "mesh3d": [
           {
            "colorbar": {
             "outlinewidth": 0,
             "ticks": ""
            },
            "type": "mesh3d"
           }
          ],
          "parcoords": [
           {
            "line": {
             "colorbar": {
              "outlinewidth": 0,
              "ticks": ""
             }
            },
            "type": "parcoords"
           }
          ],
          "pie": [
           {
            "automargin": true,
            "type": "pie"
           }
          ],
          "scatter": [
           {
            "marker": {
             "colorbar": {
              "outlinewidth": 0,
              "ticks": ""
             }
            },
            "type": "scatter"
           }
          ],
          "scatter3d": [
           {
            "line": {
             "colorbar": {
              "outlinewidth": 0,
              "ticks": ""
             }
            },
            "marker": {
             "colorbar": {
              "outlinewidth": 0,
              "ticks": ""
             }
            },
            "type": "scatter3d"
           }
          ],
          "scattercarpet": [
           {
            "marker": {
             "colorbar": {
              "outlinewidth": 0,
              "ticks": ""
             }
            },
            "type": "scattercarpet"
           }
          ],
          "scattergeo": [
           {
            "marker": {
             "colorbar": {
              "outlinewidth": 0,
              "ticks": ""
             }
            },
            "type": "scattergeo"
           }
          ],
          "scattergl": [
           {
            "marker": {
             "colorbar": {
              "outlinewidth": 0,
              "ticks": ""
             }
            },
            "type": "scattergl"
           }
          ],
          "scattermapbox": [
           {
            "marker": {
             "colorbar": {
              "outlinewidth": 0,
              "ticks": ""
             }
            },
            "type": "scattermapbox"
           }
          ],
          "scatterpolar": [
           {
            "marker": {
             "colorbar": {
              "outlinewidth": 0,
              "ticks": ""
             }
            },
            "type": "scatterpolar"
           }
          ],
          "scatterpolargl": [
           {
            "marker": {
             "colorbar": {
              "outlinewidth": 0,
              "ticks": ""
             }
            },
            "type": "scatterpolargl"
           }
          ],
          "scatterternary": [
           {
            "marker": {
             "colorbar": {
              "outlinewidth": 0,
              "ticks": ""
             }
            },
            "type": "scatterternary"
           }
          ],
          "surface": [
           {
            "colorbar": {
             "outlinewidth": 0,
             "ticks": ""
            },
            "colorscale": [
             [
              0,
              "#0d0887"
             ],
             [
              0.1111111111111111,
              "#46039f"
             ],
             [
              0.2222222222222222,
              "#7201a8"
             ],
             [
              0.3333333333333333,
              "#9c179e"
             ],
             [
              0.4444444444444444,
              "#bd3786"
             ],
             [
              0.5555555555555556,
              "#d8576b"
             ],
             [
              0.6666666666666666,
              "#ed7953"
             ],
             [
              0.7777777777777778,
              "#fb9f3a"
             ],
             [
              0.8888888888888888,
              "#fdca26"
             ],
             [
              1,
              "#f0f921"
             ]
            ],
            "type": "surface"
           }
          ],
          "table": [
           {
            "cells": {
             "fill": {
              "color": "#EBF0F8"
             },
             "line": {
              "color": "white"
             }
            },
            "header": {
             "fill": {
              "color": "#C8D4E3"
             },
             "line": {
              "color": "white"
             }
            },
            "type": "table"
           }
          ]
         },
         "layout": {
          "annotationdefaults": {
           "arrowcolor": "#2a3f5f",
           "arrowhead": 0,
           "arrowwidth": 1
          },
          "autotypenumbers": "strict",
          "coloraxis": {
           "colorbar": {
            "outlinewidth": 0,
            "ticks": ""
           }
          },
          "colorscale": {
           "diverging": [
            [
             0,
             "#8e0152"
            ],
            [
             0.1,
             "#c51b7d"
            ],
            [
             0.2,
             "#de77ae"
            ],
            [
             0.3,
             "#f1b6da"
            ],
            [
             0.4,
             "#fde0ef"
            ],
            [
             0.5,
             "#f7f7f7"
            ],
            [
             0.6,
             "#e6f5d0"
            ],
            [
             0.7,
             "#b8e186"
            ],
            [
             0.8,
             "#7fbc41"
            ],
            [
             0.9,
             "#4d9221"
            ],
            [
             1,
             "#276419"
            ]
           ],
           "sequential": [
            [
             0,
             "#0d0887"
            ],
            [
             0.1111111111111111,
             "#46039f"
            ],
            [
             0.2222222222222222,
             "#7201a8"
            ],
            [
             0.3333333333333333,
             "#9c179e"
            ],
            [
             0.4444444444444444,
             "#bd3786"
            ],
            [
             0.5555555555555556,
             "#d8576b"
            ],
            [
             0.6666666666666666,
             "#ed7953"
            ],
            [
             0.7777777777777778,
             "#fb9f3a"
            ],
            [
             0.8888888888888888,
             "#fdca26"
            ],
            [
             1,
             "#f0f921"
            ]
           ],
           "sequentialminus": [
            [
             0,
             "#0d0887"
            ],
            [
             0.1111111111111111,
             "#46039f"
            ],
            [
             0.2222222222222222,
             "#7201a8"
            ],
            [
             0.3333333333333333,
             "#9c179e"
            ],
            [
             0.4444444444444444,
             "#bd3786"
            ],
            [
             0.5555555555555556,
             "#d8576b"
            ],
            [
             0.6666666666666666,
             "#ed7953"
            ],
            [
             0.7777777777777778,
             "#fb9f3a"
            ],
            [
             0.8888888888888888,
             "#fdca26"
            ],
            [
             1,
             "#f0f921"
            ]
           ]
          },
          "colorway": [
           "#636efa",
           "#EF553B",
           "#00cc96",
           "#ab63fa",
           "#FFA15A",
           "#19d3f3",
           "#FF6692",
           "#B6E880",
           "#FF97FF",
           "#FECB52"
          ],
          "font": {
           "color": "#2a3f5f"
          },
          "geo": {
           "bgcolor": "white",
           "lakecolor": "white",
           "landcolor": "#E5ECF6",
           "showlakes": true,
           "showland": true,
           "subunitcolor": "white"
          },
          "hoverlabel": {
           "align": "left"
          },
          "hovermode": "closest",
          "mapbox": {
           "style": "light"
          },
          "paper_bgcolor": "white",
          "plot_bgcolor": "#E5ECF6",
          "polar": {
           "angularaxis": {
            "gridcolor": "white",
            "linecolor": "white",
            "ticks": ""
           },
           "bgcolor": "#E5ECF6",
           "radialaxis": {
            "gridcolor": "white",
            "linecolor": "white",
            "ticks": ""
           }
          },
          "scene": {
           "xaxis": {
            "backgroundcolor": "#E5ECF6",
            "gridcolor": "white",
            "gridwidth": 2,
            "linecolor": "white",
            "showbackground": true,
            "ticks": "",
            "zerolinecolor": "white"
           },
           "yaxis": {
            "backgroundcolor": "#E5ECF6",
            "gridcolor": "white",
            "gridwidth": 2,
            "linecolor": "white",
            "showbackground": true,
            "ticks": "",
            "zerolinecolor": "white"
           },
           "zaxis": {
            "backgroundcolor": "#E5ECF6",
            "gridcolor": "white",
            "gridwidth": 2,
            "linecolor": "white",
            "showbackground": true,
            "ticks": "",
            "zerolinecolor": "white"
           }
          },
          "shapedefaults": {
           "line": {
            "color": "#2a3f5f"
           }
          },
          "ternary": {
           "aaxis": {
            "gridcolor": "white",
            "linecolor": "white",
            "ticks": ""
           },
           "baxis": {
            "gridcolor": "white",
            "linecolor": "white",
            "ticks": ""
           },
           "bgcolor": "#E5ECF6",
           "caxis": {
            "gridcolor": "white",
            "linecolor": "white",
            "ticks": ""
           }
          },
          "title": {
           "x": 0.05
          },
          "xaxis": {
           "automargin": true,
           "gridcolor": "white",
           "linecolor": "white",
           "ticks": "",
           "title": {
            "standoff": 15
           },
           "zerolinecolor": "white",
           "zerolinewidth": 2
          },
          "yaxis": {
           "automargin": true,
           "gridcolor": "white",
           "linecolor": "white",
           "ticks": "",
           "title": {
            "standoff": 15
           },
           "zerolinecolor": "white",
           "zerolinewidth": 2
          }
         }
        },
        "title": {
         "text": "Average Valance vs Education"
        },
        "width": 800,
        "xaxis": {
         "anchor": "y",
         "domain": [
          0,
          1
         ]
        },
        "xaxis2": {
         "anchor": "y2",
         "domain": [
          0,
          1
         ]
        },
        "xaxis3": {
         "anchor": "y3",
         "domain": [
          0,
          1
         ]
        },
        "yaxis": {
         "anchor": "x",
         "domain": [
          0.7,
          1
         ]
        },
        "yaxis2": {
         "anchor": "x2",
         "domain": [
          0.35,
          0.6499999999999999
         ]
        },
        "yaxis3": {
         "anchor": "x3",
         "domain": [
          0,
          0.3
         ]
        }
       }
      }
     },
     "metadata": {},
     "output_type": "display_data"
    }
   ],
   "source": [
    "import pandas as pd\n",
    "import plotly.express as px\n",
    "import pandas as pd\n",
    "from plotly.subplots import make_subplots\n",
    "import plotly.graph_objects as go\n",
    "import plotly.io as pio\n",
    "\n",
    "'''\n",
    "'2017 - Valance vs Crime','2017 - Valance vs GDP/Cap'\n",
    "'2018 - Valance vs Crime','2018 - Valance vs GDP/Cap'\n",
    "'2019 - Valance vs Crime','2019 - Valance vs GDP/Cap' \n",
    "'2020 - Valance vs Crime','2020 - Valance vs GDP/Cap'\n",
    "'2020 - Valance vs Crime','2020 - Valance vs GDP/Cap'\n",
    "'''\n",
    "\n",
    "fig = make_subplots(rows=3, \n",
    "                    cols=1,  \n",
    "                    horizontal_spacing = 0.05, \n",
    "                    vertical_spacing = 0.05, \n",
    "                    subplot_titles=('2019 - Valance vs Education',\n",
    "                                    '2020 - Valance vs Education', \n",
    "                                    '2021 - Valance vs Education',))\n",
    "data = pd.read_pickle('store.pkl')\n",
    "for i in range(2019,2022):\n",
    "    df = data.query(\"year==%s\"%(i))\n",
    "    for country,cat in df.groupby('country'):\n",
    "        fig.add_trace(\n",
    "            go.Scatter(x=cat['avg valence'],y=cat['education'],showlegend=False),\n",
    "            row=i-2018, col=1)\n",
    "          \n",
    "fig.update_layout(title_text=\"Average Valance vs Education\", width=800, height=800, margin_l = 0, margin_r = 0)\n",
    "\n",
    "fig.show()\n",
    "\n",
    "\n"
   ]
  }
 ],
 "metadata": {
  "interpreter": {
   "hash": "31f2aee4e71d21fbe5cf8b01ff0e069b9275f58929596ceb00d14d90e3e16cd6"
  },
  "kernelspec": {
   "display_name": "Python 3.8.9 64-bit",
   "language": "python",
   "name": "python3"
  },
  "language_info": {
   "codemirror_mode": {
    "name": "ipython",
    "version": 3
   },
   "file_extension": ".py",
   "mimetype": "text/x-python",
   "name": "python",
   "nbconvert_exporter": "python",
   "pygments_lexer": "ipython3",
   "version": "3.8.6"
  },
  "orig_nbformat": 4
 },
 "nbformat": 4,
 "nbformat_minor": 2
}
