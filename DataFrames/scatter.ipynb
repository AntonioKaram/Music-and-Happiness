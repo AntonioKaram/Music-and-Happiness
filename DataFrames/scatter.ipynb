{
 "cells": [
  {
   "cell_type": "code",
   "execution_count": 5,
   "metadata": {},
   "outputs": [
    {
     "data": {
      "application/vnd.plotly.v1+json": {
       "config": {
        "plotlyServerURL": "https://plot.ly"
       },
       "data": [
        {
         "hovertemplate": "country=ARE<br>year=2018<br>avg valence=%{x}<br>depression=%{y}<br>gdp per cap=%{marker.size}<extra></extra>",
         "legendgroup": "ARE",
         "marker": {
          "color": "#636efa",
          "size": [
           33893
          ],
          "sizemode": "area",
          "sizeref": 248.225,
          "symbol": "circle"
         },
         "mode": "markers",
         "name": "ARE",
         "orientation": "v",
         "showlegend": true,
         "type": "scatter",
         "x": [
          0.4286894472361804
         ],
         "xaxis": "x",
         "y": [
          6.774
         ],
         "yaxis": "y"
        },
        {
         "hovertemplate": "country=ARG<br>year=2018<br>avg valence=%{x}<br>depression=%{y}<br>gdp per cap=%{marker.size}<extra></extra>",
         "legendgroup": "ARG",
         "marker": {
          "color": "#EF553B",
          "size": [
           10429
          ],
          "sizemode": "area",
          "sizeref": 248.225,
          "symbol": "circle"
         },
         "mode": "markers",
         "name": "ARG",
         "orientation": "v",
         "showlegend": true,
         "type": "scatter",
         "x": [
          0.6215816753926702
         ],
         "xaxis": "x",
         "y": [
          6.388
         ],
         "yaxis": "y"
        },
        {
         "hovertemplate": "country=AUT<br>year=2018<br>avg valence=%{x}<br>depression=%{y}<br>gdp per cap=%{marker.size}<extra></extra>",
         "legendgroup": "AUT",
         "marker": {
          "color": "#00cc96",
          "size": [
           46599
          ],
          "sizemode": "area",
          "sizeref": 248.225,
          "symbol": "circle"
         },
         "mode": "markers",
         "name": "AUT",
         "orientation": "v",
         "showlegend": true,
         "type": "scatter",
         "x": [
          0.4776951612903227
         ],
         "xaxis": "x",
         "y": [
          7.139
         ],
         "yaxis": "y"
        },
        {
         "hovertemplate": "country=AUS<br>year=2018<br>avg valence=%{x}<br>depression=%{y}<br>gdp per cap=%{marker.size}<extra></extra>",
         "legendgroup": "AUS",
         "marker": {
          "color": "#ab63fa",
          "size": [
           58654
          ],
          "sizemode": "area",
          "sizeref": 248.225,
          "symbol": "circle"
         },
         "mode": "markers",
         "name": "AUS",
         "orientation": "v",
         "showlegend": true,
         "type": "scatter",
         "x": [
          0.4685836734693876
         ],
         "xaxis": "x",
         "y": [
          7.272
         ],
         "yaxis": "y"
        },
        {
         "hovertemplate": "country=BEL<br>year=2018<br>avg valence=%{x}<br>depression=%{y}<br>gdp per cap=%{marker.size}<extra></extra>",
         "legendgroup": "BEL",
         "marker": {
          "color": "#FFA15A",
          "size": [
           43968
          ],
          "sizemode": "area",
          "sizeref": 248.225,
          "symbol": "circle"
         },
         "mode": "markers",
         "name": "BEL",
         "orientation": "v",
         "showlegend": true,
         "type": "scatter",
         "x": [
          0.4904989743589742
         ],
         "xaxis": "x",
         "y": [
          6.927
         ],
         "yaxis": "y"
        },
        {
         "hovertemplate": "country=BGR<br>year=2018<br>avg valence=%{x}<br>depression=%{y}<br>gdp per cap=%{marker.size}<extra></extra>",
         "legendgroup": "BGR",
         "marker": {
          "color": "#19d3f3",
          "size": [
           46370
          ],
          "sizemode": "area",
          "sizeref": 248.225,
          "symbol": "circle"
         },
         "mode": "markers",
         "name": "BGR",
         "orientation": "v",
         "showlegend": true,
         "type": "scatter",
         "x": [
          0.45542131979695427
         ],
         "xaxis": "x",
         "y": [
          4.933
         ],
         "yaxis": "y"
        },
        {
         "hovertemplate": "country=BOL<br>year=2018<br>avg valence=%{x}<br>depression=%{y}<br>gdp per cap=%{marker.size}<extra></extra>",
         "legendgroup": "BOL",
         "marker": {
          "color": "#FF6692",
          "size": [
           0
          ],
          "sizemode": "area",
          "sizeref": 248.225,
          "symbol": "circle"
         },
         "mode": "markers",
         "name": "BOL",
         "orientation": "v",
         "showlegend": true,
         "type": "scatter",
         "x": [
          0.5871127551020404
         ],
         "xaxis": "x",
         "y": [
          0
         ],
         "yaxis": "y"
        },
        {
         "hovertemplate": "country=BRA<br>year=2018<br>avg valence=%{x}<br>depression=%{y}<br>gdp per cap=%{marker.size}<extra></extra>",
         "legendgroup": "BRA",
         "marker": {
          "color": "#B6E880",
          "size": [
           11286
          ],
          "sizemode": "area",
          "sizeref": 248.225,
          "symbol": "circle"
         },
         "mode": "markers",
         "name": "BRA",
         "orientation": "v",
         "showlegend": true,
         "type": "scatter",
         "x": [
          0.6049734693877552
         ],
         "xaxis": "x",
         "y": [
          6.419
         ],
         "yaxis": "y"
        },
        {
         "hovertemplate": "country=CAN<br>year=2018<br>avg valence=%{x}<br>depression=%{y}<br>gdp per cap=%{marker.size}<extra></extra>",
         "legendgroup": "CAN",
         "marker": {
          "color": "#FECB52",
          "size": [
           47361
          ],
          "sizemode": "area",
          "sizeref": 248.225,
          "symbol": "circle"
         },
         "mode": "markers",
         "name": "CAN",
         "orientation": "v",
         "showlegend": true,
         "type": "scatter",
         "x": [
          0.4478080808080804
         ],
         "xaxis": "x",
         "y": [
          7.328
         ],
         "yaxis": "y"
        },
        {
         "hovertemplate": "country=CHE<br>year=2018<br>avg valence=%{x}<br>depression=%{y}<br>gdp per cap=%{marker.size}<extra></extra>",
         "legendgroup": "CHE",
         "marker": {
          "color": "#636efa",
          "size": [
           77277
          ],
          "sizemode": "area",
          "sizeref": 248.225,
          "symbol": "circle"
         },
         "mode": "markers",
         "name": "CHE",
         "orientation": "v",
         "showlegend": true,
         "type": "scatter",
         "x": [
          0.48479025641025636
         ],
         "xaxis": "x",
         "y": [
          7.487
         ],
         "yaxis": "y"
        },
        {
         "hovertemplate": "country=CHL<br>year=2018<br>avg valence=%{x}<br>depression=%{y}<br>gdp per cap=%{marker.size}<extra></extra>",
         "legendgroup": "CHL",
         "marker": {
          "color": "#EF553B",
          "size": [
           12808
          ],
          "sizemode": "area",
          "sizeref": 248.225,
          "symbol": "circle"
         },
         "mode": "markers",
         "name": "CHL",
         "orientation": "v",
         "showlegend": true,
         "type": "scatter",
         "x": [
          0.6064604278074867
         ],
         "xaxis": "x",
         "y": [
          6.476
         ],
         "yaxis": "y"
        },
        {
         "hovertemplate": "country=COL<br>year=2018<br>avg valence=%{x}<br>depression=%{y}<br>gdp per cap=%{marker.size}<extra></extra>",
         "legendgroup": "COL",
         "marker": {
          "color": "#00cc96",
          "size": [
           6337
          ],
          "sizemode": "area",
          "sizeref": 248.225,
          "symbol": "circle"
         },
         "mode": "markers",
         "name": "COL",
         "orientation": "v",
         "showlegend": true,
         "type": "scatter",
         "x": [
          0.5940419689119167
         ],
         "xaxis": "x",
         "y": [
          6.26
         ],
         "yaxis": "y"
        },
        {
         "hovertemplate": "country=CRI<br>year=2018<br>avg valence=%{x}<br>depression=%{y}<br>gdp per cap=%{marker.size}<extra></extra>",
         "legendgroup": "CRI",
         "marker": {
          "color": "#ab63fa",
          "size": [
           45676
          ],
          "sizemode": "area",
          "sizeref": 248.225,
          "symbol": "circle"
         },
         "mode": "markers",
         "name": "CRI",
         "orientation": "v",
         "showlegend": true,
         "type": "scatter",
         "x": [
          0.569059487179487
         ],
         "xaxis": "x",
         "y": [
          7.072
         ],
         "yaxis": "y"
        },
        {
         "hovertemplate": "country=CYP<br>year=2018<br>avg valence=%{x}<br>depression=%{y}<br>gdp per cap=%{marker.size}<extra></extra>",
         "legendgroup": "CYP",
         "marker": {
          "color": "#FFA15A",
          "size": [
           21514
          ],
          "sizemode": "area",
          "sizeref": 248.225,
          "symbol": "circle"
         },
         "mode": "markers",
         "name": "CYP",
         "orientation": "v",
         "showlegend": true,
         "type": "scatter",
         "x": [
          0.4717542857142859
         ],
         "xaxis": "x",
         "y": [
          5.762
         ],
         "yaxis": "y"
        },
        {
         "hovertemplate": "country=CZE<br>year=2018<br>avg valence=%{x}<br>depression=%{y}<br>gdp per cap=%{marker.size}<extra></extra>",
         "legendgroup": "CZE",
         "marker": {
          "color": "#19d3f3",
          "size": [
           0
          ],
          "sizemode": "area",
          "sizeref": 248.225,
          "symbol": "circle"
         },
         "mode": "markers",
         "name": "CZE",
         "orientation": "v",
         "showlegend": true,
         "type": "scatter",
         "x": [
          0.46816753926701565
         ],
         "xaxis": "x",
         "y": [
          6.711
         ],
         "yaxis": "y"
        },
        {
         "hovertemplate": "country=DEU<br>year=2018<br>avg valence=%{x}<br>depression=%{y}<br>gdp per cap=%{marker.size}<extra></extra>",
         "legendgroup": "DEU",
         "marker": {
          "color": "#FF6692",
          "size": [
           42020
          ],
          "sizemode": "area",
          "sizeref": 248.225,
          "symbol": "circle"
         },
         "mode": "markers",
         "name": "DEU",
         "orientation": "v",
         "showlegend": true,
         "type": "scatter",
         "x": [
          0.4917167567567565
         ],
         "xaxis": "x",
         "y": [
          6.965
         ],
         "yaxis": "y"
        },
        {
         "hovertemplate": "country=DNK<br>year=2018<br>avg valence=%{x}<br>depression=%{y}<br>gdp per cap=%{marker.size}<extra></extra>",
         "legendgroup": "DNK",
         "marker": {
          "color": "#B6E880",
          "size": [
           57967
          ],
          "sizemode": "area",
          "sizeref": 248.225,
          "symbol": "circle"
         },
         "mode": "markers",
         "name": "DNK",
         "orientation": "v",
         "showlegend": true,
         "type": "scatter",
         "x": [
          0.49431275510204037
         ],
         "xaxis": "x",
         "y": [
          7.555
         ],
         "yaxis": "y"
        },
        {
         "hovertemplate": "country=DOM<br>year=2018<br>avg valence=%{x}<br>depression=%{y}<br>gdp per cap=%{marker.size}<extra></extra>",
         "legendgroup": "DOM",
         "marker": {
          "color": "#FF97FF",
          "size": [
           55952
          ],
          "sizemode": "area",
          "sizeref": 248.225,
          "symbol": "circle"
         },
         "mode": "markers",
         "name": "DOM",
         "orientation": "v",
         "showlegend": true,
         "type": "scatter",
         "x": [
          0.5460468421052632
         ],
         "xaxis": "x",
         "y": [
          5.302
         ],
         "yaxis": "y"
        },
        {
         "hovertemplate": "country=ECU<br>year=2018<br>avg valence=%{x}<br>depression=%{y}<br>gdp per cap=%{marker.size}<extra></extra>",
         "legendgroup": "ECU",
         "marker": {
          "color": "#FECB52",
          "size": [
           79915
          ],
          "sizemode": "area",
          "sizeref": 248.225,
          "symbol": "circle"
         },
         "mode": "markers",
         "name": "ECU",
         "orientation": "v",
         "showlegend": true,
         "type": "scatter",
         "x": [
          0.596648469387755
         ],
         "xaxis": "x",
         "y": [
          5.973
         ],
         "yaxis": "y"
        },
        {
         "hovertemplate": "country=EST<br>year=2018<br>avg valence=%{x}<br>depression=%{y}<br>gdp per cap=%{marker.size}<extra></extra>",
         "legendgroup": "EST",
         "marker": {
          "color": "#636efa",
          "size": [
           19569
          ],
          "sizemode": "area",
          "sizeref": 248.225,
          "symbol": "circle"
         },
         "mode": "markers",
         "name": "EST",
         "orientation": "v",
         "showlegend": true,
         "type": "scatter",
         "x": [
          0.4529862944162437
         ],
         "xaxis": "x",
         "y": [
          5.739
         ],
         "yaxis": "y"
        },
        {
         "hovertemplate": "country=EGY<br>year=2018<br>avg valence=%{x}<br>depression=%{y}<br>gdp per cap=%{marker.size}<extra></extra>",
         "legendgroup": "EGY",
         "marker": {
          "color": "#EF553B",
          "size": [
           2593
          ],
          "sizemode": "area",
          "sizeref": 248.225,
          "symbol": "circle"
         },
         "mode": "markers",
         "name": "EGY",
         "orientation": "v",
         "showlegend": true,
         "type": "scatter",
         "x": [
          0.4778907216494844
         ],
         "xaxis": "x",
         "y": [
          4.419
         ],
         "yaxis": "y"
        },
        {
         "hovertemplate": "country=ESP<br>year=2018<br>avg valence=%{x}<br>depression=%{y}<br>gdp per cap=%{marker.size}<extra></extra>",
         "legendgroup": "ESP",
         "marker": {
          "color": "#00cc96",
          "size": [
           30273
          ],
          "sizemode": "area",
          "sizeref": 248.225,
          "symbol": "circle"
         },
         "mode": "markers",
         "name": "ESP",
         "orientation": "v",
         "showlegend": true,
         "type": "scatter",
         "x": [
          0.5577596938775506
         ],
         "xaxis": "x",
         "y": [
          6.31
         ],
         "yaxis": "y"
        },
        {
         "hovertemplate": "country=FIN<br>year=2018<br>avg valence=%{x}<br>depression=%{y}<br>gdp per cap=%{marker.size}<extra></extra>",
         "legendgroup": "FIN",
         "marker": {
          "color": "#ab63fa",
          "size": [
           46439
          ],
          "sizemode": "area",
          "sizeref": 248.225,
          "symbol": "circle"
         },
         "mode": "markers",
         "name": "FIN",
         "orientation": "v",
         "showlegend": true,
         "type": "scatter",
         "x": [
          0.5034549450549449
         ],
         "xaxis": "x",
         "y": [
          7.632
         ],
         "yaxis": "y"
        },
        {
         "hovertemplate": "country=FRA<br>year=2018<br>avg valence=%{x}<br>depression=%{y}<br>gdp per cap=%{marker.size}<extra></extra>",
         "legendgroup": "FRA",
         "marker": {
          "color": "#FFA15A",
          "size": [
           40685
          ],
          "sizemode": "area",
          "sizeref": 248.225,
          "symbol": "circle"
         },
         "mode": "markers",
         "name": "FRA",
         "orientation": "v",
         "showlegend": true,
         "type": "scatter",
         "x": [
          0.5130411167512693
         ],
         "xaxis": "x",
         "y": [
          6.489
         ],
         "yaxis": "y"
        },
        {
         "hovertemplate": "country=GBR<br>year=2018<br>avg valence=%{x}<br>depression=%{y}<br>gdp per cap=%{marker.size}<extra></extra>",
         "legendgroup": "GBR",
         "marker": {
          "color": "#19d3f3",
          "size": [
           39105
          ],
          "sizemode": "area",
          "sizeref": 248.225,
          "symbol": "circle"
         },
         "mode": "markers",
         "name": "GBR",
         "orientation": "v",
         "showlegend": true,
         "type": "scatter",
         "x": [
          0.49998442211055216
         ],
         "xaxis": "x",
         "y": [
          7.19
         ],
         "yaxis": "y"
        },
        {
         "hovertemplate": "country=GRC<br>year=2018<br>avg valence=%{x}<br>depression=%{y}<br>gdp per cap=%{marker.size}<extra></extra>",
         "legendgroup": "GRC",
         "marker": {
          "color": "#FF6692",
          "size": [
           27264
          ],
          "sizemode": "area",
          "sizeref": 248.225,
          "symbol": "circle"
         },
         "mode": "markers",
         "name": "GRC",
         "orientation": "v",
         "showlegend": true,
         "type": "scatter",
         "x": [
          0.4661701030927834
         ],
         "xaxis": "x",
         "y": [
          5.358
         ],
         "yaxis": "y"
        },
        {
         "hovertemplate": "country=GTM<br>year=2018<br>avg valence=%{x}<br>depression=%{y}<br>gdp per cap=%{marker.size}<extra></extra>",
         "legendgroup": "GTM",
         "marker": {
          "color": "#B6E880",
          "size": [
           51428
          ],
          "sizemode": "area",
          "sizeref": 248.225,
          "symbol": "circle"
         },
         "mode": "markers",
         "name": "GTM",
         "orientation": "v",
         "showlegend": true,
         "type": "scatter",
         "x": [
          0.5633113989637304
         ],
         "xaxis": "x",
         "y": [
          6.382
         ],
         "yaxis": "y"
        },
        {
         "hovertemplate": "country=HKG<br>year=2018<br>avg valence=%{x}<br>depression=%{y}<br>gdp per cap=%{marker.size}<extra></extra>",
         "legendgroup": "HKG",
         "marker": {
          "color": "#FF97FF",
          "size": [
           0
          ],
          "sizemode": "area",
          "sizeref": 248.225,
          "symbol": "circle"
         },
         "mode": "markers",
         "name": "HKG",
         "orientation": "v",
         "showlegend": true,
         "type": "scatter",
         "x": [
          0.42539897959183676
         ],
         "xaxis": "x",
         "y": [
          5.43
         ],
         "yaxis": "y"
        },
        {
         "hovertemplate": "country=HND<br>year=2018<br>avg valence=%{x}<br>depression=%{y}<br>gdp per cap=%{marker.size}<extra></extra>",
         "legendgroup": "HND",
         "marker": {
          "color": "#FECB52",
          "size": [
           17639
          ],
          "sizemode": "area",
          "sizeref": 248.225,
          "symbol": "circle"
         },
         "mode": "markers",
         "name": "HND",
         "orientation": "v",
         "showlegend": true,
         "type": "scatter",
         "x": [
          0.562169841269841
         ],
         "xaxis": "x",
         "y": [
          5.504
         ],
         "yaxis": "y"
        },
        {
         "hovertemplate": "country=HUN<br>year=2018<br>avg valence=%{x}<br>depression=%{y}<br>gdp per cap=%{marker.size}<extra></extra>",
         "legendgroup": "HUN",
         "marker": {
          "color": "#636efa",
          "size": [
           13288
          ],
          "sizemode": "area",
          "sizeref": 248.225,
          "symbol": "circle"
         },
         "mode": "markers",
         "name": "HUN",
         "orientation": "v",
         "showlegend": true,
         "type": "scatter",
         "x": [
          0.49518367346938735
         ],
         "xaxis": "x",
         "y": [
          5.62
         ],
         "yaxis": "y"
        },
        {
         "hovertemplate": "country=IDN<br>year=2018<br>avg valence=%{x}<br>depression=%{y}<br>gdp per cap=%{marker.size}<extra></extra>",
         "legendgroup": "IDN",
         "marker": {
          "color": "#EF553B",
          "size": [
           3122
          ],
          "sizemode": "area",
          "sizeref": 248.225,
          "symbol": "circle"
         },
         "mode": "markers",
         "name": "IDN",
         "orientation": "v",
         "showlegend": true,
         "type": "scatter",
         "x": [
          0.4472720812182739
         ],
         "xaxis": "x",
         "y": [
          5.093
         ],
         "yaxis": "y"
        },
        {
         "hovertemplate": "country=IRL<br>year=2018<br>avg valence=%{x}<br>depression=%{y}<br>gdp per cap=%{marker.size}<extra></extra>",
         "legendgroup": "IRL",
         "marker": {
          "color": "#00cc96",
          "size": [
           48761
          ],
          "sizemode": "area",
          "sizeref": 248.225,
          "symbol": "circle"
         },
         "mode": "markers",
         "name": "IRL",
         "orientation": "v",
         "showlegend": true,
         "type": "scatter",
         "x": [
          0.489164141414141
         ],
         "xaxis": "x",
         "y": [
          6.977
         ],
         "yaxis": "y"
        },
        {
         "hovertemplate": "country=ISR<br>year=2018<br>avg valence=%{x}<br>depression=%{y}<br>gdp per cap=%{marker.size}<extra></extra>",
         "legendgroup": "ISR",
         "marker": {
          "color": "#ab63fa",
          "size": [
           31852
          ],
          "sizemode": "area",
          "sizeref": 248.225,
          "symbol": "circle"
         },
         "mode": "markers",
         "name": "ISR",
         "orientation": "v",
         "showlegend": true,
         "type": "scatter",
         "x": [
          0.5171943298969073
         ],
         "xaxis": "x",
         "y": [
          6.814
         ],
         "yaxis": "y"
        },
        {
         "hovertemplate": "country=ISL<br>year=2018<br>avg valence=%{x}<br>depression=%{y}<br>gdp per cap=%{marker.size}<extra></extra>",
         "legendgroup": "ISL",
         "marker": {
          "color": "#19d3f3",
          "size": [
           15132
          ],
          "sizemode": "area",
          "sizeref": 248.225,
          "symbol": "circle"
         },
         "mode": "markers",
         "name": "ISL",
         "orientation": "v",
         "showlegend": true,
         "type": "scatter",
         "x": [
          0.45144744897959177
         ],
         "xaxis": "x",
         "y": [
          7.495
         ],
         "yaxis": "y"
        },
        {
         "hovertemplate": "country=ITA<br>year=2018<br>avg valence=%{x}<br>depression=%{y}<br>gdp per cap=%{marker.size}<extra></extra>",
         "legendgroup": "ITA",
         "marker": {
          "color": "#FF6692",
          "size": [
           35972
          ],
          "sizemode": "area",
          "sizeref": 248.225,
          "symbol": "circle"
         },
         "mode": "markers",
         "name": "ITA",
         "orientation": "v",
         "showlegend": true,
         "type": "scatter",
         "x": [
          0.4899823232323231
         ],
         "xaxis": "x",
         "y": [
          6
         ],
         "yaxis": "y"
        },
        {
         "hovertemplate": "country=JPN<br>year=2018<br>avg valence=%{x}<br>depression=%{y}<br>gdp per cap=%{marker.size}<extra></extra>",
         "legendgroup": "JPN",
         "marker": {
          "color": "#B6E880",
          "size": [
           44344
          ],
          "sizemode": "area",
          "sizeref": 248.225,
          "symbol": "circle"
         },
         "mode": "markers",
         "name": "JPN",
         "orientation": "v",
         "showlegend": true,
         "type": "scatter",
         "x": [
          0.509057512953368
         ],
         "xaxis": "x",
         "y": [
          5.915
         ],
         "yaxis": "y"
        },
        {
         "hovertemplate": "country=LTU<br>year=2018<br>avg valence=%{x}<br>depression=%{y}<br>gdp per cap=%{marker.size}<extra></extra>",
         "legendgroup": "LTU",
         "marker": {
          "color": "#636efa",
          "size": [
           34388
          ],
          "sizemode": "area",
          "sizeref": 248.225,
          "symbol": "circle"
         },
         "mode": "markers",
         "name": "LTU",
         "orientation": "v",
         "showlegend": true,
         "type": "scatter",
         "x": [
          0.47450964467005063
         ],
         "xaxis": "x",
         "y": [
          5.952
         ],
         "yaxis": "y"
        },
        {
         "hovertemplate": "country=LUX<br>year=2018<br>avg valence=%{x}<br>depression=%{y}<br>gdp per cap=%{marker.size}<extra></extra>",
         "legendgroup": "LUX",
         "marker": {
          "color": "#EF553B",
          "size": [
           50117
          ],
          "sizemode": "area",
          "sizeref": 248.225,
          "symbol": "circle"
         },
         "mode": "markers",
         "name": "LUX",
         "orientation": "v",
         "showlegend": true,
         "type": "scatter",
         "x": [
          0.4745177664974616
         ],
         "xaxis": "x",
         "y": [
          6.91
         ],
         "yaxis": "y"
        },
        {
         "hovertemplate": "country=LVA<br>year=2018<br>avg valence=%{x}<br>depression=%{y}<br>gdp per cap=%{marker.size}<extra></extra>",
         "legendgroup": "LVA",
         "marker": {
          "color": "#00cc96",
          "size": [
           22818
          ],
          "sizemode": "area",
          "sizeref": 248.225,
          "symbol": "circle"
         },
         "mode": "markers",
         "name": "LVA",
         "orientation": "v",
         "showlegend": true,
         "type": "scatter",
         "x": [
          0.45211573604060906
         ],
         "xaxis": "x",
         "y": [
          5.933
         ],
         "yaxis": "y"
        },
        {
         "hovertemplate": "country=MAR<br>year=2018<br>avg valence=%{x}<br>depression=%{y}<br>gdp per cap=%{marker.size}<extra></extra>",
         "legendgroup": "MAR",
         "marker": {
          "color": "#ab63fa",
          "size": [
           81274
          ],
          "sizemode": "area",
          "sizeref": 248.225,
          "symbol": "circle"
         },
         "mode": "markers",
         "name": "MAR",
         "orientation": "v",
         "showlegend": true,
         "type": "scatter",
         "x": [
          0.4950505050505046
         ],
         "xaxis": "x",
         "y": [
          5.254
         ],
         "yaxis": "y"
        },
        {
         "hovertemplate": "country=MEX<br>year=2018<br>avg valence=%{x}<br>depression=%{y}<br>gdp per cap=%{marker.size}<extra></extra>",
         "legendgroup": "MEX",
         "marker": {
          "color": "#FFA15A",
          "size": [
           9271
          ],
          "sizemode": "area",
          "sizeref": 248.225,
          "symbol": "circle"
         },
         "mode": "markers",
         "name": "MEX",
         "orientation": "v",
         "showlegend": true,
         "type": "scatter",
         "x": [
          0.5818178571428567
         ],
         "xaxis": "x",
         "y": [
          6.488
         ],
         "yaxis": "y"
        },
        {
         "hovertemplate": "country=MYS<br>year=2018<br>avg valence=%{x}<br>depression=%{y}<br>gdp per cap=%{marker.size}<extra></extra>",
         "legendgroup": "MYS",
         "marker": {
          "color": "#19d3f3",
          "size": [
           9041
          ],
          "sizemode": "area",
          "sizeref": 248.225,
          "symbol": "circle"
         },
         "mode": "markers",
         "name": "MYS",
         "orientation": "v",
         "showlegend": true,
         "type": "scatter",
         "x": [
          0.43308888888888886
         ],
         "xaxis": "x",
         "y": [
          6.322
         ],
         "yaxis": "y"
        },
        {
         "hovertemplate": "country=NIC<br>year=2018<br>avg valence=%{x}<br>depression=%{y}<br>gdp per cap=%{marker.size}<extra></extra>",
         "legendgroup": "NIC",
         "marker": {
          "color": "#B6E880",
          "size": [
           9779
          ],
          "sizemode": "area",
          "sizeref": 248.225,
          "symbol": "circle"
         },
         "mode": "markers",
         "name": "NIC",
         "orientation": "v",
         "showlegend": true,
         "type": "scatter",
         "x": [
          0.5602832460732983
         ],
         "xaxis": "x",
         "y": [
          6.141
         ],
         "yaxis": "y"
        },
        {
         "hovertemplate": "country=NLD<br>year=2018<br>avg valence=%{x}<br>depression=%{y}<br>gdp per cap=%{marker.size}<extra></extra>",
         "legendgroup": "NLD",
         "marker": {
          "color": "#FF97FF",
          "size": [
           50744
          ],
          "sizemode": "area",
          "sizeref": 248.225,
          "symbol": "circle"
         },
         "mode": "markers",
         "name": "NLD",
         "orientation": "v",
         "showlegend": true,
         "type": "scatter",
         "x": [
          0.5347477272727271
         ],
         "xaxis": "x",
         "y": [
          7.441
         ],
         "yaxis": "y"
        },
        {
         "hovertemplate": "country=NOR<br>year=2018<br>avg valence=%{x}<br>depression=%{y}<br>gdp per cap=%{marker.size}<extra></extra>",
         "legendgroup": "NOR",
         "marker": {
          "color": "#FECB52",
          "size": [
           87754
          ],
          "sizemode": "area",
          "sizeref": 248.225,
          "symbol": "circle"
         },
         "mode": "markers",
         "name": "NOR",
         "orientation": "v",
         "showlegend": true,
         "type": "scatter",
         "x": [
          0.4545273195876285
         ],
         "xaxis": "x",
         "y": [
          7.594
         ],
         "yaxis": "y"
        },
        {
         "hovertemplate": "country=NZL<br>year=2018<br>avg valence=%{x}<br>depression=%{y}<br>gdp per cap=%{marker.size}<extra></extra>",
         "legendgroup": "NZL",
         "marker": {
          "color": "#636efa",
          "size": [
           33543
          ],
          "sizemode": "area",
          "sizeref": 248.225,
          "symbol": "circle"
         },
         "mode": "markers",
         "name": "NZL",
         "orientation": "v",
         "showlegend": true,
         "type": "scatter",
         "x": [
          0.4874112244897958
         ],
         "xaxis": "x",
         "y": [
          7.324
         ],
         "yaxis": "y"
        },
        {
         "hovertemplate": "country=PAN<br>year=2018<br>avg valence=%{x}<br>depression=%{y}<br>gdp per cap=%{marker.size}<extra></extra>",
         "legendgroup": "PAN",
         "marker": {
          "color": "#EF553B",
          "size": [
           37273
          ],
          "sizemode": "area",
          "sizeref": 248.225,
          "symbol": "circle"
         },
         "mode": "markers",
         "name": "PAN",
         "orientation": "v",
         "showlegend": true,
         "type": "scatter",
         "x": [
          0.5654036269430052
         ],
         "xaxis": "x",
         "y": [
          6.43
         ],
         "yaxis": "y"
        },
        {
         "hovertemplate": "country=PER<br>year=2018<br>avg valence=%{x}<br>depression=%{y}<br>gdp per cap=%{marker.size}<extra></extra>",
         "legendgroup": "PER",
         "marker": {
          "color": "#00cc96",
          "size": [
           5082
          ],
          "sizemode": "area",
          "sizeref": 248.225,
          "symbol": "circle"
         },
         "mode": "markers",
         "name": "PER",
         "orientation": "v",
         "showlegend": true,
         "type": "scatter",
         "x": [
          0.6132544041450778
         ],
         "xaxis": "x",
         "y": [
          5.663
         ],
         "yaxis": "y"
        },
        {
         "hovertemplate": "country=PHL<br>year=2018<br>avg valence=%{x}<br>depression=%{y}<br>gdp per cap=%{marker.size}<extra></extra>",
         "legendgroup": "PHL",
         "marker": {
          "color": "#ab63fa",
          "size": [
           2124
          ],
          "sizemode": "area",
          "sizeref": 248.225,
          "symbol": "circle"
         },
         "mode": "markers",
         "name": "PHL",
         "orientation": "v",
         "showlegend": true,
         "type": "scatter",
         "x": [
          0.4463492227979276
         ],
         "xaxis": "x",
         "y": [
          5.524
         ],
         "yaxis": "y"
        },
        {
         "hovertemplate": "country=POL<br>year=2018<br>avg valence=%{x}<br>depression=%{y}<br>gdp per cap=%{marker.size}<extra></extra>",
         "legendgroup": "POL",
         "marker": {
          "color": "#FFA15A",
          "size": [
           12519
          ],
          "sizemode": "area",
          "sizeref": 248.225,
          "symbol": "circle"
         },
         "mode": "markers",
         "name": "POL",
         "orientation": "v",
         "showlegend": true,
         "type": "scatter",
         "x": [
          0.48739896907216484
         ],
         "xaxis": "x",
         "y": [
          6.123
         ],
         "yaxis": "y"
        },
        {
         "hovertemplate": "country=PRT<br>year=2018<br>avg valence=%{x}<br>depression=%{y}<br>gdp per cap=%{marker.size}<extra></extra>",
         "legendgroup": "PRT",
         "marker": {
          "color": "#19d3f3",
          "size": [
           22450
          ],
          "sizemode": "area",
          "sizeref": 248.225,
          "symbol": "circle"
         },
         "mode": "markers",
         "name": "PRT",
         "orientation": "v",
         "showlegend": true,
         "type": "scatter",
         "x": [
          0.4813578680203042
         ],
         "xaxis": "x",
         "y": [
          5.41
         ],
         "yaxis": "y"
        },
        {
         "hovertemplate": "country=PRY<br>year=2018<br>avg valence=%{x}<br>depression=%{y}<br>gdp per cap=%{marker.size}<extra></extra>",
         "legendgroup": "PRY",
         "marker": {
          "color": "#FF6692",
          "size": [
           29762
          ],
          "sizemode": "area",
          "sizeref": 248.225,
          "symbol": "circle"
         },
         "mode": "markers",
         "name": "PRY",
         "orientation": "v",
         "showlegend": true,
         "type": "scatter",
         "x": [
          0.6032597883597883
         ],
         "xaxis": "x",
         "y": [
          5.681
         ],
         "yaxis": "y"
        },
        {
         "hovertemplate": "country=ROU<br>year=2018<br>avg valence=%{x}<br>depression=%{y}<br>gdp per cap=%{marker.size}<extra></extra>",
         "legendgroup": "ROU",
         "marker": {
          "color": "#B6E880",
          "size": [
           8120
          ],
          "sizemode": "area",
          "sizeref": 248.225,
          "symbol": "circle"
         },
         "mode": "markers",
         "name": "ROU",
         "orientation": "v",
         "showlegend": true,
         "type": "scatter",
         "x": [
          0.45450406091370554
         ],
         "xaxis": "x",
         "y": [
          5.945
         ],
         "yaxis": "y"
        },
        {
         "hovertemplate": "country=SAU<br>year=2018<br>avg valence=%{x}<br>depression=%{y}<br>gdp per cap=%{marker.size}<extra></extra>",
         "legendgroup": "SAU",
         "marker": {
          "color": "#FF97FF",
          "size": [
           19263
          ],
          "sizemode": "area",
          "sizeref": 248.225,
          "symbol": "circle"
         },
         "mode": "markers",
         "name": "SAU",
         "orientation": "v",
         "showlegend": true,
         "type": "scatter",
         "x": [
          0.43469038461538473
         ],
         "xaxis": "x",
         "y": [
          6.371
         ],
         "yaxis": "y"
        },
        {
         "hovertemplate": "country=SWE<br>year=2018<br>avg valence=%{x}<br>depression=%{y}<br>gdp per cap=%{marker.size}<extra></extra>",
         "legendgroup": "SWE",
         "marker": {
          "color": "#FECB52",
          "size": [
           52801
          ],
          "sizemode": "area",
          "sizeref": 248.225,
          "symbol": "circle"
         },
         "mode": "markers",
         "name": "SWE",
         "orientation": "v",
         "showlegend": true,
         "type": "scatter",
         "x": [
          0.4588974226804123
         ],
         "xaxis": "x",
         "y": [
          7.314
         ],
         "yaxis": "y"
        },
        {
         "hovertemplate": "country=SGP<br>year=2018<br>avg valence=%{x}<br>depression=%{y}<br>gdp per cap=%{marker.size}<extra></extra>",
         "legendgroup": "SGP",
         "marker": {
          "color": "#636efa",
          "size": [
           46736
          ],
          "sizemode": "area",
          "sizeref": 248.225,
          "symbol": "circle"
         },
         "mode": "markers",
         "name": "SGP",
         "orientation": "v",
         "showlegend": true,
         "type": "scatter",
         "x": [
          0.4378025510204081
         ],
         "xaxis": "x",
         "y": [
          6.343
         ],
         "yaxis": "y"
        },
        {
         "hovertemplate": "country=SVK<br>year=2018<br>avg valence=%{x}<br>depression=%{y}<br>gdp per cap=%{marker.size}<extra></extra>",
         "legendgroup": "SVK",
         "marker": {
          "color": "#EF553B",
          "size": [
           77947
          ],
          "sizemode": "area",
          "sizeref": 248.225,
          "symbol": "circle"
         },
         "mode": "markers",
         "name": "SVK",
         "orientation": "v",
         "showlegend": true,
         "type": "scatter",
         "x": [
          0.4782144329896908
         ],
         "xaxis": "x",
         "y": [
          6.173
         ],
         "yaxis": "y"
        },
        {
         "hovertemplate": "country=SLV<br>year=2018<br>avg valence=%{x}<br>depression=%{y}<br>gdp per cap=%{marker.size}<extra></extra>",
         "legendgroup": "SLV",
         "marker": {
          "color": "#00cc96",
          "size": [
           21277
          ],
          "sizemode": "area",
          "sizeref": 248.225,
          "symbol": "circle"
         },
         "mode": "markers",
         "name": "SLV",
         "orientation": "v",
         "showlegend": true,
         "type": "scatter",
         "x": [
          0.5661455958549221
         ],
         "xaxis": "x",
         "y": [
          6.167
         ],
         "yaxis": "y"
        },
        {
         "hovertemplate": "country=THA<br>year=2018<br>avg valence=%{x}<br>depression=%{y}<br>gdp per cap=%{marker.size}<extra></extra>",
         "legendgroup": "THA",
         "marker": {
          "color": "#ab63fa",
          "size": [
           5076
          ],
          "sizemode": "area",
          "sizeref": 248.225,
          "symbol": "circle"
         },
         "mode": "markers",
         "name": "THA",
         "orientation": "v",
         "showlegend": true,
         "type": "scatter",
         "x": [
          0.4995601036269429
         ],
         "xaxis": "x",
         "y": [
          6.072
         ],
         "yaxis": "y"
        },
        {
         "hovertemplate": "country=TUR<br>year=2018<br>avg valence=%{x}<br>depression=%{y}<br>gdp per cap=%{marker.size}<extra></extra>",
         "legendgroup": "TUR",
         "marker": {
          "color": "#FFA15A",
          "size": [
           10742
          ],
          "sizemode": "area",
          "sizeref": 248.225,
          "symbol": "circle"
         },
         "mode": "markers",
         "name": "TUR",
         "orientation": "v",
         "showlegend": true,
         "type": "scatter",
         "x": [
          0.5179440414507773
         ],
         "xaxis": "x",
         "y": [
          5.483
         ],
         "yaxis": "y"
        },
        {
         "hovertemplate": "country=TWN<br>year=2018<br>avg valence=%{x}<br>depression=%{y}<br>gdp per cap=%{marker.size}<extra></extra>",
         "legendgroup": "TWN",
         "marker": {
          "color": "#19d3f3",
          "size": [
           0
          ],
          "sizemode": "area",
          "sizeref": 248.225,
          "symbol": "circle"
         },
         "mode": "markers",
         "name": "TWN",
         "orientation": "v",
         "showlegend": true,
         "type": "scatter",
         "x": [
          0.4125246153846153
         ],
         "xaxis": "x",
         "y": [
          0
         ],
         "yaxis": "y"
        },
        {
         "hovertemplate": "country=USA<br>year=2018<br>avg valence=%{x}<br>depression=%{y}<br>gdp per cap=%{marker.size}<extra></extra>",
         "legendgroup": "USA",
         "marker": {
          "color": "#B6E880",
          "size": [
           0
          ],
          "sizemode": "area",
          "sizeref": 248.225,
          "symbol": "circle"
         },
         "mode": "markers",
         "name": "USA",
         "orientation": "v",
         "showlegend": true,
         "type": "scatter",
         "x": [
          0.4538336683417082
         ],
         "xaxis": "x",
         "y": [
          6.886
         ],
         "yaxis": "y"
        },
        {
         "hovertemplate": "country=URY<br>year=2018<br>avg valence=%{x}<br>depression=%{y}<br>gdp per cap=%{marker.size}<extra></extra>",
         "legendgroup": "URY",
         "marker": {
          "color": "#FF97FF",
          "size": [
           45125
          ],
          "sizemode": "area",
          "sizeref": 248.225,
          "symbol": "circle"
         },
         "mode": "markers",
         "name": "URY",
         "orientation": "v",
         "showlegend": true,
         "type": "scatter",
         "x": [
          0.642665425531915
         ],
         "xaxis": "x",
         "y": [
          6.379
         ],
         "yaxis": "y"
        },
        {
         "hovertemplate": "country=VNM<br>year=2018<br>avg valence=%{x}<br>depression=%{y}<br>gdp per cap=%{marker.size}<extra></extra>",
         "legendgroup": "VNM",
         "marker": {
          "color": "#636efa",
          "size": [
           1318
          ],
          "sizemode": "area",
          "sizeref": 248.225,
          "symbol": "circle"
         },
         "mode": "markers",
         "name": "VNM",
         "orientation": "v",
         "showlegend": true,
         "type": "scatter",
         "x": [
          0.41696969696969693
         ],
         "xaxis": "x",
         "y": [
          0
         ],
         "yaxis": "y"
        },
        {
         "hovertemplate": "country=ZAF<br>year=2018<br>avg valence=%{x}<br>depression=%{y}<br>gdp per cap=%{marker.size}<extra></extra>",
         "legendgroup": "ZAF",
         "marker": {
          "color": "#EF553B",
          "size": [
           7329
          ],
          "sizemode": "area",
          "sizeref": 248.225,
          "symbol": "circle"
         },
         "mode": "markers",
         "name": "ZAF",
         "orientation": "v",
         "showlegend": true,
         "type": "scatter",
         "x": [
          0.4290116279069768
         ],
         "xaxis": "x",
         "y": [
          4.724
         ],
         "yaxis": "y"
        }
       ],
       "frames": [
        {
         "data": [
          {
           "hovertemplate": "country=ARE<br>year=2018<br>avg valence=%{x}<br>depression=%{y}<br>gdp per cap=%{marker.size}<extra></extra>",
           "legendgroup": "ARE",
           "marker": {
            "color": "#636efa",
            "size": [
             33893
            ],
            "sizemode": "area",
            "sizeref": 248.225,
            "symbol": "circle"
           },
           "mode": "markers",
           "name": "ARE",
           "orientation": "v",
           "showlegend": true,
           "type": "scatter",
           "x": [
            0.4286894472361804
           ],
           "xaxis": "x",
           "y": [
            6.774
           ],
           "yaxis": "y"
          },
          {
           "hovertemplate": "country=ARG<br>year=2018<br>avg valence=%{x}<br>depression=%{y}<br>gdp per cap=%{marker.size}<extra></extra>",
           "legendgroup": "ARG",
           "marker": {
            "color": "#EF553B",
            "size": [
             10429
            ],
            "sizemode": "area",
            "sizeref": 248.225,
            "symbol": "circle"
           },
           "mode": "markers",
           "name": "ARG",
           "orientation": "v",
           "showlegend": true,
           "type": "scatter",
           "x": [
            0.6215816753926702
           ],
           "xaxis": "x",
           "y": [
            6.388
           ],
           "yaxis": "y"
          },
          {
           "hovertemplate": "country=AUT<br>year=2018<br>avg valence=%{x}<br>depression=%{y}<br>gdp per cap=%{marker.size}<extra></extra>",
           "legendgroup": "AUT",
           "marker": {
            "color": "#00cc96",
            "size": [
             46599
            ],
            "sizemode": "area",
            "sizeref": 248.225,
            "symbol": "circle"
           },
           "mode": "markers",
           "name": "AUT",
           "orientation": "v",
           "showlegend": true,
           "type": "scatter",
           "x": [
            0.4776951612903227
           ],
           "xaxis": "x",
           "y": [
            7.139
           ],
           "yaxis": "y"
          },
          {
           "hovertemplate": "country=AUS<br>year=2018<br>avg valence=%{x}<br>depression=%{y}<br>gdp per cap=%{marker.size}<extra></extra>",
           "legendgroup": "AUS",
           "marker": {
            "color": "#ab63fa",
            "size": [
             58654
            ],
            "sizemode": "area",
            "sizeref": 248.225,
            "symbol": "circle"
           },
           "mode": "markers",
           "name": "AUS",
           "orientation": "v",
           "showlegend": true,
           "type": "scatter",
           "x": [
            0.4685836734693876
           ],
           "xaxis": "x",
           "y": [
            7.272
           ],
           "yaxis": "y"
          },
          {
           "hovertemplate": "country=BEL<br>year=2018<br>avg valence=%{x}<br>depression=%{y}<br>gdp per cap=%{marker.size}<extra></extra>",
           "legendgroup": "BEL",
           "marker": {
            "color": "#FFA15A",
            "size": [
             43968
            ],
            "sizemode": "area",
            "sizeref": 248.225,
            "symbol": "circle"
           },
           "mode": "markers",
           "name": "BEL",
           "orientation": "v",
           "showlegend": true,
           "type": "scatter",
           "x": [
            0.4904989743589742
           ],
           "xaxis": "x",
           "y": [
            6.927
           ],
           "yaxis": "y"
          },
          {
           "hovertemplate": "country=BGR<br>year=2018<br>avg valence=%{x}<br>depression=%{y}<br>gdp per cap=%{marker.size}<extra></extra>",
           "legendgroup": "BGR",
           "marker": {
            "color": "#19d3f3",
            "size": [
             46370
            ],
            "sizemode": "area",
            "sizeref": 248.225,
            "symbol": "circle"
           },
           "mode": "markers",
           "name": "BGR",
           "orientation": "v",
           "showlegend": true,
           "type": "scatter",
           "x": [
            0.45542131979695427
           ],
           "xaxis": "x",
           "y": [
            4.933
           ],
           "yaxis": "y"
          },
          {
           "hovertemplate": "country=BOL<br>year=2018<br>avg valence=%{x}<br>depression=%{y}<br>gdp per cap=%{marker.size}<extra></extra>",
           "legendgroup": "BOL",
           "marker": {
            "color": "#FF6692",
            "size": [
             0
            ],
            "sizemode": "area",
            "sizeref": 248.225,
            "symbol": "circle"
           },
           "mode": "markers",
           "name": "BOL",
           "orientation": "v",
           "showlegend": true,
           "type": "scatter",
           "x": [
            0.5871127551020404
           ],
           "xaxis": "x",
           "y": [
            0
           ],
           "yaxis": "y"
          },
          {
           "hovertemplate": "country=BRA<br>year=2018<br>avg valence=%{x}<br>depression=%{y}<br>gdp per cap=%{marker.size}<extra></extra>",
           "legendgroup": "BRA",
           "marker": {
            "color": "#B6E880",
            "size": [
             11286
            ],
            "sizemode": "area",
            "sizeref": 248.225,
            "symbol": "circle"
           },
           "mode": "markers",
           "name": "BRA",
           "orientation": "v",
           "showlegend": true,
           "type": "scatter",
           "x": [
            0.6049734693877552
           ],
           "xaxis": "x",
           "y": [
            6.419
           ],
           "yaxis": "y"
          },
          {
           "hovertemplate": "country=CAN<br>year=2018<br>avg valence=%{x}<br>depression=%{y}<br>gdp per cap=%{marker.size}<extra></extra>",
           "legendgroup": "CAN",
           "marker": {
            "color": "#FECB52",
            "size": [
             47361
            ],
            "sizemode": "area",
            "sizeref": 248.225,
            "symbol": "circle"
           },
           "mode": "markers",
           "name": "CAN",
           "orientation": "v",
           "showlegend": true,
           "type": "scatter",
           "x": [
            0.4478080808080804
           ],
           "xaxis": "x",
           "y": [
            7.328
           ],
           "yaxis": "y"
          },
          {
           "hovertemplate": "country=CHE<br>year=2018<br>avg valence=%{x}<br>depression=%{y}<br>gdp per cap=%{marker.size}<extra></extra>",
           "legendgroup": "CHE",
           "marker": {
            "color": "#636efa",
            "size": [
             77277
            ],
            "sizemode": "area",
            "sizeref": 248.225,
            "symbol": "circle"
           },
           "mode": "markers",
           "name": "CHE",
           "orientation": "v",
           "showlegend": true,
           "type": "scatter",
           "x": [
            0.48479025641025636
           ],
           "xaxis": "x",
           "y": [
            7.487
           ],
           "yaxis": "y"
          },
          {
           "hovertemplate": "country=CHL<br>year=2018<br>avg valence=%{x}<br>depression=%{y}<br>gdp per cap=%{marker.size}<extra></extra>",
           "legendgroup": "CHL",
           "marker": {
            "color": "#EF553B",
            "size": [
             12808
            ],
            "sizemode": "area",
            "sizeref": 248.225,
            "symbol": "circle"
           },
           "mode": "markers",
           "name": "CHL",
           "orientation": "v",
           "showlegend": true,
           "type": "scatter",
           "x": [
            0.6064604278074867
           ],
           "xaxis": "x",
           "y": [
            6.476
           ],
           "yaxis": "y"
          },
          {
           "hovertemplate": "country=COL<br>year=2018<br>avg valence=%{x}<br>depression=%{y}<br>gdp per cap=%{marker.size}<extra></extra>",
           "legendgroup": "COL",
           "marker": {
            "color": "#00cc96",
            "size": [
             6337
            ],
            "sizemode": "area",
            "sizeref": 248.225,
            "symbol": "circle"
           },
           "mode": "markers",
           "name": "COL",
           "orientation": "v",
           "showlegend": true,
           "type": "scatter",
           "x": [
            0.5940419689119167
           ],
           "xaxis": "x",
           "y": [
            6.26
           ],
           "yaxis": "y"
          },
          {
           "hovertemplate": "country=CRI<br>year=2018<br>avg valence=%{x}<br>depression=%{y}<br>gdp per cap=%{marker.size}<extra></extra>",
           "legendgroup": "CRI",
           "marker": {
            "color": "#ab63fa",
            "size": [
             45676
            ],
            "sizemode": "area",
            "sizeref": 248.225,
            "symbol": "circle"
           },
           "mode": "markers",
           "name": "CRI",
           "orientation": "v",
           "showlegend": true,
           "type": "scatter",
           "x": [
            0.569059487179487
           ],
           "xaxis": "x",
           "y": [
            7.072
           ],
           "yaxis": "y"
          },
          {
           "hovertemplate": "country=CYP<br>year=2018<br>avg valence=%{x}<br>depression=%{y}<br>gdp per cap=%{marker.size}<extra></extra>",
           "legendgroup": "CYP",
           "marker": {
            "color": "#FFA15A",
            "size": [
             21514
            ],
            "sizemode": "area",
            "sizeref": 248.225,
            "symbol": "circle"
           },
           "mode": "markers",
           "name": "CYP",
           "orientation": "v",
           "showlegend": true,
           "type": "scatter",
           "x": [
            0.4717542857142859
           ],
           "xaxis": "x",
           "y": [
            5.762
           ],
           "yaxis": "y"
          },
          {
           "hovertemplate": "country=CZE<br>year=2018<br>avg valence=%{x}<br>depression=%{y}<br>gdp per cap=%{marker.size}<extra></extra>",
           "legendgroup": "CZE",
           "marker": {
            "color": "#19d3f3",
            "size": [
             0
            ],
            "sizemode": "area",
            "sizeref": 248.225,
            "symbol": "circle"
           },
           "mode": "markers",
           "name": "CZE",
           "orientation": "v",
           "showlegend": true,
           "type": "scatter",
           "x": [
            0.46816753926701565
           ],
           "xaxis": "x",
           "y": [
            6.711
           ],
           "yaxis": "y"
          },
          {
           "hovertemplate": "country=DEU<br>year=2018<br>avg valence=%{x}<br>depression=%{y}<br>gdp per cap=%{marker.size}<extra></extra>",
           "legendgroup": "DEU",
           "marker": {
            "color": "#FF6692",
            "size": [
             42020
            ],
            "sizemode": "area",
            "sizeref": 248.225,
            "symbol": "circle"
           },
           "mode": "markers",
           "name": "DEU",
           "orientation": "v",
           "showlegend": true,
           "type": "scatter",
           "x": [
            0.4917167567567565
           ],
           "xaxis": "x",
           "y": [
            6.965
           ],
           "yaxis": "y"
          },
          {
           "hovertemplate": "country=DNK<br>year=2018<br>avg valence=%{x}<br>depression=%{y}<br>gdp per cap=%{marker.size}<extra></extra>",
           "legendgroup": "DNK",
           "marker": {
            "color": "#B6E880",
            "size": [
             57967
            ],
            "sizemode": "area",
            "sizeref": 248.225,
            "symbol": "circle"
           },
           "mode": "markers",
           "name": "DNK",
           "orientation": "v",
           "showlegend": true,
           "type": "scatter",
           "x": [
            0.49431275510204037
           ],
           "xaxis": "x",
           "y": [
            7.555
           ],
           "yaxis": "y"
          },
          {
           "hovertemplate": "country=DOM<br>year=2018<br>avg valence=%{x}<br>depression=%{y}<br>gdp per cap=%{marker.size}<extra></extra>",
           "legendgroup": "DOM",
           "marker": {
            "color": "#FF97FF",
            "size": [
             55952
            ],
            "sizemode": "area",
            "sizeref": 248.225,
            "symbol": "circle"
           },
           "mode": "markers",
           "name": "DOM",
           "orientation": "v",
           "showlegend": true,
           "type": "scatter",
           "x": [
            0.5460468421052632
           ],
           "xaxis": "x",
           "y": [
            5.302
           ],
           "yaxis": "y"
          },
          {
           "hovertemplate": "country=ECU<br>year=2018<br>avg valence=%{x}<br>depression=%{y}<br>gdp per cap=%{marker.size}<extra></extra>",
           "legendgroup": "ECU",
           "marker": {
            "color": "#FECB52",
            "size": [
             79915
            ],
            "sizemode": "area",
            "sizeref": 248.225,
            "symbol": "circle"
           },
           "mode": "markers",
           "name": "ECU",
           "orientation": "v",
           "showlegend": true,
           "type": "scatter",
           "x": [
            0.596648469387755
           ],
           "xaxis": "x",
           "y": [
            5.973
           ],
           "yaxis": "y"
          },
          {
           "hovertemplate": "country=EST<br>year=2018<br>avg valence=%{x}<br>depression=%{y}<br>gdp per cap=%{marker.size}<extra></extra>",
           "legendgroup": "EST",
           "marker": {
            "color": "#636efa",
            "size": [
             19569
            ],
            "sizemode": "area",
            "sizeref": 248.225,
            "symbol": "circle"
           },
           "mode": "markers",
           "name": "EST",
           "orientation": "v",
           "showlegend": true,
           "type": "scatter",
           "x": [
            0.4529862944162437
           ],
           "xaxis": "x",
           "y": [
            5.739
           ],
           "yaxis": "y"
          },
          {
           "hovertemplate": "country=EGY<br>year=2018<br>avg valence=%{x}<br>depression=%{y}<br>gdp per cap=%{marker.size}<extra></extra>",
           "legendgroup": "EGY",
           "marker": {
            "color": "#EF553B",
            "size": [
             2593
            ],
            "sizemode": "area",
            "sizeref": 248.225,
            "symbol": "circle"
           },
           "mode": "markers",
           "name": "EGY",
           "orientation": "v",
           "showlegend": true,
           "type": "scatter",
           "x": [
            0.4778907216494844
           ],
           "xaxis": "x",
           "y": [
            4.419
           ],
           "yaxis": "y"
          },
          {
           "hovertemplate": "country=ESP<br>year=2018<br>avg valence=%{x}<br>depression=%{y}<br>gdp per cap=%{marker.size}<extra></extra>",
           "legendgroup": "ESP",
           "marker": {
            "color": "#00cc96",
            "size": [
             30273
            ],
            "sizemode": "area",
            "sizeref": 248.225,
            "symbol": "circle"
           },
           "mode": "markers",
           "name": "ESP",
           "orientation": "v",
           "showlegend": true,
           "type": "scatter",
           "x": [
            0.5577596938775506
           ],
           "xaxis": "x",
           "y": [
            6.31
           ],
           "yaxis": "y"
          },
          {
           "hovertemplate": "country=FIN<br>year=2018<br>avg valence=%{x}<br>depression=%{y}<br>gdp per cap=%{marker.size}<extra></extra>",
           "legendgroup": "FIN",
           "marker": {
            "color": "#ab63fa",
            "size": [
             46439
            ],
            "sizemode": "area",
            "sizeref": 248.225,
            "symbol": "circle"
           },
           "mode": "markers",
           "name": "FIN",
           "orientation": "v",
           "showlegend": true,
           "type": "scatter",
           "x": [
            0.5034549450549449
           ],
           "xaxis": "x",
           "y": [
            7.632
           ],
           "yaxis": "y"
          },
          {
           "hovertemplate": "country=FRA<br>year=2018<br>avg valence=%{x}<br>depression=%{y}<br>gdp per cap=%{marker.size}<extra></extra>",
           "legendgroup": "FRA",
           "marker": {
            "color": "#FFA15A",
            "size": [
             40685
            ],
            "sizemode": "area",
            "sizeref": 248.225,
            "symbol": "circle"
           },
           "mode": "markers",
           "name": "FRA",
           "orientation": "v",
           "showlegend": true,
           "type": "scatter",
           "x": [
            0.5130411167512693
           ],
           "xaxis": "x",
           "y": [
            6.489
           ],
           "yaxis": "y"
          },
          {
           "hovertemplate": "country=GBR<br>year=2018<br>avg valence=%{x}<br>depression=%{y}<br>gdp per cap=%{marker.size}<extra></extra>",
           "legendgroup": "GBR",
           "marker": {
            "color": "#19d3f3",
            "size": [
             39105
            ],
            "sizemode": "area",
            "sizeref": 248.225,
            "symbol": "circle"
           },
           "mode": "markers",
           "name": "GBR",
           "orientation": "v",
           "showlegend": true,
           "type": "scatter",
           "x": [
            0.49998442211055216
           ],
           "xaxis": "x",
           "y": [
            7.19
           ],
           "yaxis": "y"
          },
          {
           "hovertemplate": "country=GRC<br>year=2018<br>avg valence=%{x}<br>depression=%{y}<br>gdp per cap=%{marker.size}<extra></extra>",
           "legendgroup": "GRC",
           "marker": {
            "color": "#FF6692",
            "size": [
             27264
            ],
            "sizemode": "area",
            "sizeref": 248.225,
            "symbol": "circle"
           },
           "mode": "markers",
           "name": "GRC",
           "orientation": "v",
           "showlegend": true,
           "type": "scatter",
           "x": [
            0.4661701030927834
           ],
           "xaxis": "x",
           "y": [
            5.358
           ],
           "yaxis": "y"
          },
          {
           "hovertemplate": "country=GTM<br>year=2018<br>avg valence=%{x}<br>depression=%{y}<br>gdp per cap=%{marker.size}<extra></extra>",
           "legendgroup": "GTM",
           "marker": {
            "color": "#B6E880",
            "size": [
             51428
            ],
            "sizemode": "area",
            "sizeref": 248.225,
            "symbol": "circle"
           },
           "mode": "markers",
           "name": "GTM",
           "orientation": "v",
           "showlegend": true,
           "type": "scatter",
           "x": [
            0.5633113989637304
           ],
           "xaxis": "x",
           "y": [
            6.382
           ],
           "yaxis": "y"
          },
          {
           "hovertemplate": "country=HKG<br>year=2018<br>avg valence=%{x}<br>depression=%{y}<br>gdp per cap=%{marker.size}<extra></extra>",
           "legendgroup": "HKG",
           "marker": {
            "color": "#FF97FF",
            "size": [
             0
            ],
            "sizemode": "area",
            "sizeref": 248.225,
            "symbol": "circle"
           },
           "mode": "markers",
           "name": "HKG",
           "orientation": "v",
           "showlegend": true,
           "type": "scatter",
           "x": [
            0.42539897959183676
           ],
           "xaxis": "x",
           "y": [
            5.43
           ],
           "yaxis": "y"
          },
          {
           "hovertemplate": "country=HND<br>year=2018<br>avg valence=%{x}<br>depression=%{y}<br>gdp per cap=%{marker.size}<extra></extra>",
           "legendgroup": "HND",
           "marker": {
            "color": "#FECB52",
            "size": [
             17639
            ],
            "sizemode": "area",
            "sizeref": 248.225,
            "symbol": "circle"
           },
           "mode": "markers",
           "name": "HND",
           "orientation": "v",
           "showlegend": true,
           "type": "scatter",
           "x": [
            0.562169841269841
           ],
           "xaxis": "x",
           "y": [
            5.504
           ],
           "yaxis": "y"
          },
          {
           "hovertemplate": "country=HUN<br>year=2018<br>avg valence=%{x}<br>depression=%{y}<br>gdp per cap=%{marker.size}<extra></extra>",
           "legendgroup": "HUN",
           "marker": {
            "color": "#636efa",
            "size": [
             13288
            ],
            "sizemode": "area",
            "sizeref": 248.225,
            "symbol": "circle"
           },
           "mode": "markers",
           "name": "HUN",
           "orientation": "v",
           "showlegend": true,
           "type": "scatter",
           "x": [
            0.49518367346938735
           ],
           "xaxis": "x",
           "y": [
            5.62
           ],
           "yaxis": "y"
          },
          {
           "hovertemplate": "country=IDN<br>year=2018<br>avg valence=%{x}<br>depression=%{y}<br>gdp per cap=%{marker.size}<extra></extra>",
           "legendgroup": "IDN",
           "marker": {
            "color": "#EF553B",
            "size": [
             3122
            ],
            "sizemode": "area",
            "sizeref": 248.225,
            "symbol": "circle"
           },
           "mode": "markers",
           "name": "IDN",
           "orientation": "v",
           "showlegend": true,
           "type": "scatter",
           "x": [
            0.4472720812182739
           ],
           "xaxis": "x",
           "y": [
            5.093
           ],
           "yaxis": "y"
          },
          {
           "hovertemplate": "country=IRL<br>year=2018<br>avg valence=%{x}<br>depression=%{y}<br>gdp per cap=%{marker.size}<extra></extra>",
           "legendgroup": "IRL",
           "marker": {
            "color": "#00cc96",
            "size": [
             48761
            ],
            "sizemode": "area",
            "sizeref": 248.225,
            "symbol": "circle"
           },
           "mode": "markers",
           "name": "IRL",
           "orientation": "v",
           "showlegend": true,
           "type": "scatter",
           "x": [
            0.489164141414141
           ],
           "xaxis": "x",
           "y": [
            6.977
           ],
           "yaxis": "y"
          },
          {
           "hovertemplate": "country=ISR<br>year=2018<br>avg valence=%{x}<br>depression=%{y}<br>gdp per cap=%{marker.size}<extra></extra>",
           "legendgroup": "ISR",
           "marker": {
            "color": "#ab63fa",
            "size": [
             31852
            ],
            "sizemode": "area",
            "sizeref": 248.225,
            "symbol": "circle"
           },
           "mode": "markers",
           "name": "ISR",
           "orientation": "v",
           "showlegend": true,
           "type": "scatter",
           "x": [
            0.5171943298969073
           ],
           "xaxis": "x",
           "y": [
            6.814
           ],
           "yaxis": "y"
          },
          {
           "hovertemplate": "country=ISL<br>year=2018<br>avg valence=%{x}<br>depression=%{y}<br>gdp per cap=%{marker.size}<extra></extra>",
           "legendgroup": "ISL",
           "marker": {
            "color": "#19d3f3",
            "size": [
             15132
            ],
            "sizemode": "area",
            "sizeref": 248.225,
            "symbol": "circle"
           },
           "mode": "markers",
           "name": "ISL",
           "orientation": "v",
           "showlegend": true,
           "type": "scatter",
           "x": [
            0.45144744897959177
           ],
           "xaxis": "x",
           "y": [
            7.495
           ],
           "yaxis": "y"
          },
          {
           "hovertemplate": "country=ITA<br>year=2018<br>avg valence=%{x}<br>depression=%{y}<br>gdp per cap=%{marker.size}<extra></extra>",
           "legendgroup": "ITA",
           "marker": {
            "color": "#FF6692",
            "size": [
             35972
            ],
            "sizemode": "area",
            "sizeref": 248.225,
            "symbol": "circle"
           },
           "mode": "markers",
           "name": "ITA",
           "orientation": "v",
           "showlegend": true,
           "type": "scatter",
           "x": [
            0.4899823232323231
           ],
           "xaxis": "x",
           "y": [
            6
           ],
           "yaxis": "y"
          },
          {
           "hovertemplate": "country=JPN<br>year=2018<br>avg valence=%{x}<br>depression=%{y}<br>gdp per cap=%{marker.size}<extra></extra>",
           "legendgroup": "JPN",
           "marker": {
            "color": "#B6E880",
            "size": [
             44344
            ],
            "sizemode": "area",
            "sizeref": 248.225,
            "symbol": "circle"
           },
           "mode": "markers",
           "name": "JPN",
           "orientation": "v",
           "showlegend": true,
           "type": "scatter",
           "x": [
            0.509057512953368
           ],
           "xaxis": "x",
           "y": [
            5.915
           ],
           "yaxis": "y"
          },
          {
           "hovertemplate": "country=LTU<br>year=2018<br>avg valence=%{x}<br>depression=%{y}<br>gdp per cap=%{marker.size}<extra></extra>",
           "legendgroup": "LTU",
           "marker": {
            "color": "#636efa",
            "size": [
             34388
            ],
            "sizemode": "area",
            "sizeref": 248.225,
            "symbol": "circle"
           },
           "mode": "markers",
           "name": "LTU",
           "orientation": "v",
           "showlegend": true,
           "type": "scatter",
           "x": [
            0.47450964467005063
           ],
           "xaxis": "x",
           "y": [
            5.952
           ],
           "yaxis": "y"
          },
          {
           "hovertemplate": "country=LUX<br>year=2018<br>avg valence=%{x}<br>depression=%{y}<br>gdp per cap=%{marker.size}<extra></extra>",
           "legendgroup": "LUX",
           "marker": {
            "color": "#EF553B",
            "size": [
             50117
            ],
            "sizemode": "area",
            "sizeref": 248.225,
            "symbol": "circle"
           },
           "mode": "markers",
           "name": "LUX",
           "orientation": "v",
           "showlegend": true,
           "type": "scatter",
           "x": [
            0.4745177664974616
           ],
           "xaxis": "x",
           "y": [
            6.91
           ],
           "yaxis": "y"
          },
          {
           "hovertemplate": "country=LVA<br>year=2018<br>avg valence=%{x}<br>depression=%{y}<br>gdp per cap=%{marker.size}<extra></extra>",
           "legendgroup": "LVA",
           "marker": {
            "color": "#00cc96",
            "size": [
             22818
            ],
            "sizemode": "area",
            "sizeref": 248.225,
            "symbol": "circle"
           },
           "mode": "markers",
           "name": "LVA",
           "orientation": "v",
           "showlegend": true,
           "type": "scatter",
           "x": [
            0.45211573604060906
           ],
           "xaxis": "x",
           "y": [
            5.933
           ],
           "yaxis": "y"
          },
          {
           "hovertemplate": "country=MAR<br>year=2018<br>avg valence=%{x}<br>depression=%{y}<br>gdp per cap=%{marker.size}<extra></extra>",
           "legendgroup": "MAR",
           "marker": {
            "color": "#ab63fa",
            "size": [
             81274
            ],
            "sizemode": "area",
            "sizeref": 248.225,
            "symbol": "circle"
           },
           "mode": "markers",
           "name": "MAR",
           "orientation": "v",
           "showlegend": true,
           "type": "scatter",
           "x": [
            0.4950505050505046
           ],
           "xaxis": "x",
           "y": [
            5.254
           ],
           "yaxis": "y"
          },
          {
           "hovertemplate": "country=MEX<br>year=2018<br>avg valence=%{x}<br>depression=%{y}<br>gdp per cap=%{marker.size}<extra></extra>",
           "legendgroup": "MEX",
           "marker": {
            "color": "#FFA15A",
            "size": [
             9271
            ],
            "sizemode": "area",
            "sizeref": 248.225,
            "symbol": "circle"
           },
           "mode": "markers",
           "name": "MEX",
           "orientation": "v",
           "showlegend": true,
           "type": "scatter",
           "x": [
            0.5818178571428567
           ],
           "xaxis": "x",
           "y": [
            6.488
           ],
           "yaxis": "y"
          },
          {
           "hovertemplate": "country=MYS<br>year=2018<br>avg valence=%{x}<br>depression=%{y}<br>gdp per cap=%{marker.size}<extra></extra>",
           "legendgroup": "MYS",
           "marker": {
            "color": "#19d3f3",
            "size": [
             9041
            ],
            "sizemode": "area",
            "sizeref": 248.225,
            "symbol": "circle"
           },
           "mode": "markers",
           "name": "MYS",
           "orientation": "v",
           "showlegend": true,
           "type": "scatter",
           "x": [
            0.43308888888888886
           ],
           "xaxis": "x",
           "y": [
            6.322
           ],
           "yaxis": "y"
          },
          {
           "hovertemplate": "country=NIC<br>year=2018<br>avg valence=%{x}<br>depression=%{y}<br>gdp per cap=%{marker.size}<extra></extra>",
           "legendgroup": "NIC",
           "marker": {
            "color": "#B6E880",
            "size": [
             9779
            ],
            "sizemode": "area",
            "sizeref": 248.225,
            "symbol": "circle"
           },
           "mode": "markers",
           "name": "NIC",
           "orientation": "v",
           "showlegend": true,
           "type": "scatter",
           "x": [
            0.5602832460732983
           ],
           "xaxis": "x",
           "y": [
            6.141
           ],
           "yaxis": "y"
          },
          {
           "hovertemplate": "country=NLD<br>year=2018<br>avg valence=%{x}<br>depression=%{y}<br>gdp per cap=%{marker.size}<extra></extra>",
           "legendgroup": "NLD",
           "marker": {
            "color": "#FF97FF",
            "size": [
             50744
            ],
            "sizemode": "area",
            "sizeref": 248.225,
            "symbol": "circle"
           },
           "mode": "markers",
           "name": "NLD",
           "orientation": "v",
           "showlegend": true,
           "type": "scatter",
           "x": [
            0.5347477272727271
           ],
           "xaxis": "x",
           "y": [
            7.441
           ],
           "yaxis": "y"
          },
          {
           "hovertemplate": "country=NOR<br>year=2018<br>avg valence=%{x}<br>depression=%{y}<br>gdp per cap=%{marker.size}<extra></extra>",
           "legendgroup": "NOR",
           "marker": {
            "color": "#FECB52",
            "size": [
             87754
            ],
            "sizemode": "area",
            "sizeref": 248.225,
            "symbol": "circle"
           },
           "mode": "markers",
           "name": "NOR",
           "orientation": "v",
           "showlegend": true,
           "type": "scatter",
           "x": [
            0.4545273195876285
           ],
           "xaxis": "x",
           "y": [
            7.594
           ],
           "yaxis": "y"
          },
          {
           "hovertemplate": "country=NZL<br>year=2018<br>avg valence=%{x}<br>depression=%{y}<br>gdp per cap=%{marker.size}<extra></extra>",
           "legendgroup": "NZL",
           "marker": {
            "color": "#636efa",
            "size": [
             33543
            ],
            "sizemode": "area",
            "sizeref": 248.225,
            "symbol": "circle"
           },
           "mode": "markers",
           "name": "NZL",
           "orientation": "v",
           "showlegend": true,
           "type": "scatter",
           "x": [
            0.4874112244897958
           ],
           "xaxis": "x",
           "y": [
            7.324
           ],
           "yaxis": "y"
          },
          {
           "hovertemplate": "country=PAN<br>year=2018<br>avg valence=%{x}<br>depression=%{y}<br>gdp per cap=%{marker.size}<extra></extra>",
           "legendgroup": "PAN",
           "marker": {
            "color": "#EF553B",
            "size": [
             37273
            ],
            "sizemode": "area",
            "sizeref": 248.225,
            "symbol": "circle"
           },
           "mode": "markers",
           "name": "PAN",
           "orientation": "v",
           "showlegend": true,
           "type": "scatter",
           "x": [
            0.5654036269430052
           ],
           "xaxis": "x",
           "y": [
            6.43
           ],
           "yaxis": "y"
          },
          {
           "hovertemplate": "country=PER<br>year=2018<br>avg valence=%{x}<br>depression=%{y}<br>gdp per cap=%{marker.size}<extra></extra>",
           "legendgroup": "PER",
           "marker": {
            "color": "#00cc96",
            "size": [
             5082
            ],
            "sizemode": "area",
            "sizeref": 248.225,
            "symbol": "circle"
           },
           "mode": "markers",
           "name": "PER",
           "orientation": "v",
           "showlegend": true,
           "type": "scatter",
           "x": [
            0.6132544041450778
           ],
           "xaxis": "x",
           "y": [
            5.663
           ],
           "yaxis": "y"
          },
          {
           "hovertemplate": "country=PHL<br>year=2018<br>avg valence=%{x}<br>depression=%{y}<br>gdp per cap=%{marker.size}<extra></extra>",
           "legendgroup": "PHL",
           "marker": {
            "color": "#ab63fa",
            "size": [
             2124
            ],
            "sizemode": "area",
            "sizeref": 248.225,
            "symbol": "circle"
           },
           "mode": "markers",
           "name": "PHL",
           "orientation": "v",
           "showlegend": true,
           "type": "scatter",
           "x": [
            0.4463492227979276
           ],
           "xaxis": "x",
           "y": [
            5.524
           ],
           "yaxis": "y"
          },
          {
           "hovertemplate": "country=POL<br>year=2018<br>avg valence=%{x}<br>depression=%{y}<br>gdp per cap=%{marker.size}<extra></extra>",
           "legendgroup": "POL",
           "marker": {
            "color": "#FFA15A",
            "size": [
             12519
            ],
            "sizemode": "area",
            "sizeref": 248.225,
            "symbol": "circle"
           },
           "mode": "markers",
           "name": "POL",
           "orientation": "v",
           "showlegend": true,
           "type": "scatter",
           "x": [
            0.48739896907216484
           ],
           "xaxis": "x",
           "y": [
            6.123
           ],
           "yaxis": "y"
          },
          {
           "hovertemplate": "country=PRT<br>year=2018<br>avg valence=%{x}<br>depression=%{y}<br>gdp per cap=%{marker.size}<extra></extra>",
           "legendgroup": "PRT",
           "marker": {
            "color": "#19d3f3",
            "size": [
             22450
            ],
            "sizemode": "area",
            "sizeref": 248.225,
            "symbol": "circle"
           },
           "mode": "markers",
           "name": "PRT",
           "orientation": "v",
           "showlegend": true,
           "type": "scatter",
           "x": [
            0.4813578680203042
           ],
           "xaxis": "x",
           "y": [
            5.41
           ],
           "yaxis": "y"
          },
          {
           "hovertemplate": "country=PRY<br>year=2018<br>avg valence=%{x}<br>depression=%{y}<br>gdp per cap=%{marker.size}<extra></extra>",
           "legendgroup": "PRY",
           "marker": {
            "color": "#FF6692",
            "size": [
             29762
            ],
            "sizemode": "area",
            "sizeref": 248.225,
            "symbol": "circle"
           },
           "mode": "markers",
           "name": "PRY",
           "orientation": "v",
           "showlegend": true,
           "type": "scatter",
           "x": [
            0.6032597883597883
           ],
           "xaxis": "x",
           "y": [
            5.681
           ],
           "yaxis": "y"
          },
          {
           "hovertemplate": "country=ROU<br>year=2018<br>avg valence=%{x}<br>depression=%{y}<br>gdp per cap=%{marker.size}<extra></extra>",
           "legendgroup": "ROU",
           "marker": {
            "color": "#B6E880",
            "size": [
             8120
            ],
            "sizemode": "area",
            "sizeref": 248.225,
            "symbol": "circle"
           },
           "mode": "markers",
           "name": "ROU",
           "orientation": "v",
           "showlegend": true,
           "type": "scatter",
           "x": [
            0.45450406091370554
           ],
           "xaxis": "x",
           "y": [
            5.945
           ],
           "yaxis": "y"
          },
          {
           "hovertemplate": "country=SAU<br>year=2018<br>avg valence=%{x}<br>depression=%{y}<br>gdp per cap=%{marker.size}<extra></extra>",
           "legendgroup": "SAU",
           "marker": {
            "color": "#FF97FF",
            "size": [
             19263
            ],
            "sizemode": "area",
            "sizeref": 248.225,
            "symbol": "circle"
           },
           "mode": "markers",
           "name": "SAU",
           "orientation": "v",
           "showlegend": true,
           "type": "scatter",
           "x": [
            0.43469038461538473
           ],
           "xaxis": "x",
           "y": [
            6.371
           ],
           "yaxis": "y"
          },
          {
           "hovertemplate": "country=SWE<br>year=2018<br>avg valence=%{x}<br>depression=%{y}<br>gdp per cap=%{marker.size}<extra></extra>",
           "legendgroup": "SWE",
           "marker": {
            "color": "#FECB52",
            "size": [
             52801
            ],
            "sizemode": "area",
            "sizeref": 248.225,
            "symbol": "circle"
           },
           "mode": "markers",
           "name": "SWE",
           "orientation": "v",
           "showlegend": true,
           "type": "scatter",
           "x": [
            0.4588974226804123
           ],
           "xaxis": "x",
           "y": [
            7.314
           ],
           "yaxis": "y"
          },
          {
           "hovertemplate": "country=SGP<br>year=2018<br>avg valence=%{x}<br>depression=%{y}<br>gdp per cap=%{marker.size}<extra></extra>",
           "legendgroup": "SGP",
           "marker": {
            "color": "#636efa",
            "size": [
             46736
            ],
            "sizemode": "area",
            "sizeref": 248.225,
            "symbol": "circle"
           },
           "mode": "markers",
           "name": "SGP",
           "orientation": "v",
           "showlegend": true,
           "type": "scatter",
           "x": [
            0.4378025510204081
           ],
           "xaxis": "x",
           "y": [
            6.343
           ],
           "yaxis": "y"
          },
          {
           "hovertemplate": "country=SVK<br>year=2018<br>avg valence=%{x}<br>depression=%{y}<br>gdp per cap=%{marker.size}<extra></extra>",
           "legendgroup": "SVK",
           "marker": {
            "color": "#EF553B",
            "size": [
             77947
            ],
            "sizemode": "area",
            "sizeref": 248.225,
            "symbol": "circle"
           },
           "mode": "markers",
           "name": "SVK",
           "orientation": "v",
           "showlegend": true,
           "type": "scatter",
           "x": [
            0.4782144329896908
           ],
           "xaxis": "x",
           "y": [
            6.173
           ],
           "yaxis": "y"
          },
          {
           "hovertemplate": "country=SLV<br>year=2018<br>avg valence=%{x}<br>depression=%{y}<br>gdp per cap=%{marker.size}<extra></extra>",
           "legendgroup": "SLV",
           "marker": {
            "color": "#00cc96",
            "size": [
             21277
            ],
            "sizemode": "area",
            "sizeref": 248.225,
            "symbol": "circle"
           },
           "mode": "markers",
           "name": "SLV",
           "orientation": "v",
           "showlegend": true,
           "type": "scatter",
           "x": [
            0.5661455958549221
           ],
           "xaxis": "x",
           "y": [
            6.167
           ],
           "yaxis": "y"
          },
          {
           "hovertemplate": "country=THA<br>year=2018<br>avg valence=%{x}<br>depression=%{y}<br>gdp per cap=%{marker.size}<extra></extra>",
           "legendgroup": "THA",
           "marker": {
            "color": "#ab63fa",
            "size": [
             5076
            ],
            "sizemode": "area",
            "sizeref": 248.225,
            "symbol": "circle"
           },
           "mode": "markers",
           "name": "THA",
           "orientation": "v",
           "showlegend": true,
           "type": "scatter",
           "x": [
            0.4995601036269429
           ],
           "xaxis": "x",
           "y": [
            6.072
           ],
           "yaxis": "y"
          },
          {
           "hovertemplate": "country=TUR<br>year=2018<br>avg valence=%{x}<br>depression=%{y}<br>gdp per cap=%{marker.size}<extra></extra>",
           "legendgroup": "TUR",
           "marker": {
            "color": "#FFA15A",
            "size": [
             10742
            ],
            "sizemode": "area",
            "sizeref": 248.225,
            "symbol": "circle"
           },
           "mode": "markers",
           "name": "TUR",
           "orientation": "v",
           "showlegend": true,
           "type": "scatter",
           "x": [
            0.5179440414507773
           ],
           "xaxis": "x",
           "y": [
            5.483
           ],
           "yaxis": "y"
          },
          {
           "hovertemplate": "country=TWN<br>year=2018<br>avg valence=%{x}<br>depression=%{y}<br>gdp per cap=%{marker.size}<extra></extra>",
           "legendgroup": "TWN",
           "marker": {
            "color": "#19d3f3",
            "size": [
             0
            ],
            "sizemode": "area",
            "sizeref": 248.225,
            "symbol": "circle"
           },
           "mode": "markers",
           "name": "TWN",
           "orientation": "v",
           "showlegend": true,
           "type": "scatter",
           "x": [
            0.4125246153846153
           ],
           "xaxis": "x",
           "y": [
            0
           ],
           "yaxis": "y"
          },
          {
           "hovertemplate": "country=USA<br>year=2018<br>avg valence=%{x}<br>depression=%{y}<br>gdp per cap=%{marker.size}<extra></extra>",
           "legendgroup": "USA",
           "marker": {
            "color": "#B6E880",
            "size": [
             0
            ],
            "sizemode": "area",
            "sizeref": 248.225,
            "symbol": "circle"
           },
           "mode": "markers",
           "name": "USA",
           "orientation": "v",
           "showlegend": true,
           "type": "scatter",
           "x": [
            0.4538336683417082
           ],
           "xaxis": "x",
           "y": [
            6.886
           ],
           "yaxis": "y"
          },
          {
           "hovertemplate": "country=URY<br>year=2018<br>avg valence=%{x}<br>depression=%{y}<br>gdp per cap=%{marker.size}<extra></extra>",
           "legendgroup": "URY",
           "marker": {
            "color": "#FF97FF",
            "size": [
             45125
            ],
            "sizemode": "area",
            "sizeref": 248.225,
            "symbol": "circle"
           },
           "mode": "markers",
           "name": "URY",
           "orientation": "v",
           "showlegend": true,
           "type": "scatter",
           "x": [
            0.642665425531915
           ],
           "xaxis": "x",
           "y": [
            6.379
           ],
           "yaxis": "y"
          },
          {
           "hovertemplate": "country=VNM<br>year=2018<br>avg valence=%{x}<br>depression=%{y}<br>gdp per cap=%{marker.size}<extra></extra>",
           "legendgroup": "VNM",
           "marker": {
            "color": "#636efa",
            "size": [
             1318
            ],
            "sizemode": "area",
            "sizeref": 248.225,
            "symbol": "circle"
           },
           "mode": "markers",
           "name": "VNM",
           "orientation": "v",
           "showlegend": true,
           "type": "scatter",
           "x": [
            0.41696969696969693
           ],
           "xaxis": "x",
           "y": [
            0
           ],
           "yaxis": "y"
          },
          {
           "hovertemplate": "country=ZAF<br>year=2018<br>avg valence=%{x}<br>depression=%{y}<br>gdp per cap=%{marker.size}<extra></extra>",
           "legendgroup": "ZAF",
           "marker": {
            "color": "#EF553B",
            "size": [
             7329
            ],
            "sizemode": "area",
            "sizeref": 248.225,
            "symbol": "circle"
           },
           "mode": "markers",
           "name": "ZAF",
           "orientation": "v",
           "showlegend": true,
           "type": "scatter",
           "x": [
            0.4290116279069768
           ],
           "xaxis": "x",
           "y": [
            4.724
           ],
           "yaxis": "y"
          }
         ],
         "name": "2018"
        },
        {
         "data": [
          {
           "hovertemplate": "country=ARE<br>year=2019<br>avg valence=%{x}<br>depression=%{y}<br>gdp per cap=%{marker.size}<extra></extra>",
           "legendgroup": "ARE",
           "marker": {
            "color": "#636efa",
            "size": [
             38663
            ],
            "sizemode": "area",
            "sizeref": 248.225,
            "symbol": "circle"
           },
           "mode": "markers",
           "name": "ARE",
           "orientation": "v",
           "showlegend": true,
           "type": "scatter",
           "x": [
            0.43205199999999977
           ],
           "xaxis": "x",
           "y": [
            6.825
           ],
           "yaxis": "y"
          },
          {
           "hovertemplate": "country=ARG<br>year=2019<br>avg valence=%{x}<br>depression=%{y}<br>gdp per cap=%{marker.size}<extra></extra>",
           "legendgroup": "ARG",
           "marker": {
            "color": "#EF553B",
            "size": [
             14971
            ],
            "sizemode": "area",
            "sizeref": 248.225,
            "symbol": "circle"
           },
           "mode": "markers",
           "name": "ARG",
           "orientation": "v",
           "showlegend": true,
           "type": "scatter",
           "x": [
            0.6004873096446699
           ],
           "xaxis": "x",
           "y": [
            6.086
           ],
           "yaxis": "y"
          },
          {
           "hovertemplate": "country=AUT<br>year=2019<br>avg valence=%{x}<br>depression=%{y}<br>gdp per cap=%{marker.size}<extra></extra>",
           "legendgroup": "AUT",
           "marker": {
            "color": "#00cc96",
            "size": [
             43995
            ],
            "sizemode": "area",
            "sizeref": 248.225,
            "symbol": "circle"
           },
           "mode": "markers",
           "name": "AUT",
           "orientation": "v",
           "showlegend": true,
           "type": "scatter",
           "x": [
            0.46434021164021155
           ],
           "xaxis": "x",
           "y": [
            7.246
           ],
           "yaxis": "y"
          },
          {
           "hovertemplate": "country=AUS<br>year=2019<br>avg valence=%{x}<br>depression=%{y}<br>gdp per cap=%{marker.size}<extra></extra>",
           "legendgroup": "AUS",
           "marker": {
            "color": "#ab63fa",
            "size": [
             52131
            ],
            "sizemode": "area",
            "sizeref": 248.225,
            "symbol": "circle"
           },
           "mode": "markers",
           "name": "AUS",
           "orientation": "v",
           "showlegend": true,
           "type": "scatter",
           "x": [
            0.4567979695431473
           ],
           "xaxis": "x",
           "y": [
            7.228
           ],
           "yaxis": "y"
          },
          {
           "hovertemplate": "country=BEL<br>year=2019<br>avg valence=%{x}<br>depression=%{y}<br>gdp per cap=%{marker.size}<extra></extra>",
           "legendgroup": "BEL",
           "marker": {
            "color": "#FFA15A",
            "size": [
             40942
            ],
            "sizemode": "area",
            "sizeref": 248.225,
            "symbol": "circle"
           },
           "mode": "markers",
           "name": "BEL",
           "orientation": "v",
           "showlegend": true,
           "type": "scatter",
           "x": [
            0.4621673366834173
           ],
           "xaxis": "x",
           "y": [
            6.923
           ],
           "yaxis": "y"
          },
          {
           "hovertemplate": "country=BGR<br>year=2019<br>avg valence=%{x}<br>depression=%{y}<br>gdp per cap=%{marker.size}<extra></extra>",
           "legendgroup": "BGR",
           "marker": {
            "color": "#19d3f3",
            "size": [
             50631
            ],
            "sizemode": "area",
            "sizeref": 248.225,
            "symbol": "circle"
           },
           "mode": "markers",
           "name": "BGR",
           "orientation": "v",
           "showlegend": true,
           "type": "scatter",
           "x": [
            0.4649085
           ],
           "xaxis": "x",
           "y": [
            5.011
           ],
           "yaxis": "y"
          },
          {
           "hovertemplate": "country=BOL<br>year=2019<br>avg valence=%{x}<br>depression=%{y}<br>gdp per cap=%{marker.size}<extra></extra>",
           "legendgroup": "BOL",
           "marker": {
            "color": "#FF6692",
            "size": [
             0
            ],
            "sizemode": "area",
            "sizeref": 248.225,
            "symbol": "circle"
           },
           "mode": "markers",
           "name": "BOL",
           "orientation": "v",
           "showlegend": true,
           "type": "scatter",
           "x": [
            0.6128793969849242
           ],
           "xaxis": "x",
           "y": [
            0
           ],
           "yaxis": "y"
          },
          {
           "hovertemplate": "country=BRA<br>year=2019<br>avg valence=%{x}<br>depression=%{y}<br>gdp per cap=%{marker.size}<extra></extra>",
           "legendgroup": "BRA",
           "marker": {
            "color": "#B6E880",
            "size": [
             8814
            ],
            "sizemode": "area",
            "sizeref": 248.225,
            "symbol": "circle"
           },
           "mode": "markers",
           "name": "BRA",
           "orientation": "v",
           "showlegend": true,
           "type": "scatter",
           "x": [
            0.6108442211055276
           ],
           "xaxis": "x",
           "y": [
            6.3
           ],
           "yaxis": "y"
          },
          {
           "hovertemplate": "country=CAN<br>year=2019<br>avg valence=%{x}<br>depression=%{y}<br>gdp per cap=%{marker.size}<extra></extra>",
           "legendgroup": "CAN",
           "marker": {
            "color": "#FECB52",
            "size": [
             43194
            ],
            "sizemode": "area",
            "sizeref": 248.225,
            "symbol": "circle"
           },
           "mode": "markers",
           "name": "CAN",
           "orientation": "v",
           "showlegend": true,
           "type": "scatter",
           "x": [
            0.43674199999999996
           ],
           "xaxis": "x",
           "y": [
            7.278
           ],
           "yaxis": "y"
          },
          {
           "hovertemplate": "country=CHE<br>year=2019<br>avg valence=%{x}<br>depression=%{y}<br>gdp per cap=%{marker.size}<extra></extra>",
           "legendgroup": "CHE",
           "marker": {
            "color": "#636efa",
            "size": [
             84629
            ],
            "sizemode": "area",
            "sizeref": 248.225,
            "symbol": "circle"
           },
           "mode": "markers",
           "name": "CHE",
           "orientation": "v",
           "showlegend": true,
           "type": "scatter",
           "x": [
            0.4603056701030924
           ],
           "xaxis": "x",
           "y": [
            7.48
           ],
           "yaxis": "y"
          },
          {
           "hovertemplate": "country=CHL<br>year=2019<br>avg valence=%{x}<br>depression=%{y}<br>gdp per cap=%{marker.size}<extra></extra>",
           "legendgroup": "CHL",
           "marker": {
            "color": "#EF553B",
            "size": [
             13574
            ],
            "sizemode": "area",
            "sizeref": 248.225,
            "symbol": "circle"
           },
           "mode": "markers",
           "name": "CHL",
           "orientation": "v",
           "showlegend": true,
           "type": "scatter",
           "x": [
            0.6216984924623117
           ],
           "xaxis": "x",
           "y": [
            6.444
           ],
           "yaxis": "y"
          },
          {
           "hovertemplate": "country=COL<br>year=2019<br>avg valence=%{x}<br>depression=%{y}<br>gdp per cap=%{marker.size}<extra></extra>",
           "legendgroup": "COL",
           "marker": {
            "color": "#00cc96",
            "size": [
             6176
            ],
            "sizemode": "area",
            "sizeref": 248.225,
            "symbol": "circle"
           },
           "mode": "markers",
           "name": "COL",
           "orientation": "v",
           "showlegend": true,
           "type": "scatter",
           "x": [
            0.62921
           ],
           "xaxis": "x",
           "y": [
            6.125
           ],
           "yaxis": "y"
          },
          {
           "hovertemplate": "country=CRI<br>year=2019<br>avg valence=%{x}<br>depression=%{y}<br>gdp per cap=%{marker.size}<extra></extra>",
           "legendgroup": "CRI",
           "marker": {
            "color": "#ab63fa",
            "size": [
             54776
            ],
            "sizemode": "area",
            "sizeref": 248.225,
            "symbol": "circle"
           },
           "mode": "markers",
           "name": "CRI",
           "orientation": "v",
           "showlegend": true,
           "type": "scatter",
           "x": [
            0.5747638190954772
           ],
           "xaxis": "x",
           "y": [
            7.167
           ],
           "yaxis": "y"
          },
          {
           "hovertemplate": "country=CYP<br>year=2019<br>avg valence=%{x}<br>depression=%{y}<br>gdp per cap=%{marker.size}<extra></extra>",
           "legendgroup": "CYP",
           "marker": {
            "color": "#FFA15A",
            "size": [
             19771
            ],
            "sizemode": "area",
            "sizeref": 248.225,
            "symbol": "circle"
           },
           "mode": "markers",
           "name": "CYP",
           "orientation": "v",
           "showlegend": true,
           "type": "scatter",
           "x": [
            0.4501021505376343
           ],
           "xaxis": "x",
           "y": [
            6.046
           ],
           "yaxis": "y"
          },
          {
           "hovertemplate": "country=CZE<br>year=2019<br>avg valence=%{x}<br>depression=%{y}<br>gdp per cap=%{marker.size}<extra></extra>",
           "legendgroup": "CZE",
           "marker": {
            "color": "#19d3f3",
            "size": [
             0
            ],
            "sizemode": "area",
            "sizeref": 248.225,
            "symbol": "circle"
           },
           "mode": "markers",
           "name": "CZE",
           "orientation": "v",
           "showlegend": true,
           "type": "scatter",
           "x": [
            0.45122049999999964
           ],
           "xaxis": "x",
           "y": [
            6.852
           ],
           "yaxis": "y"
          },
          {
           "hovertemplate": "country=DEU<br>year=2019<br>avg valence=%{x}<br>depression=%{y}<br>gdp per cap=%{marker.size}<extra></extra>",
           "legendgroup": "DEU",
           "marker": {
            "color": "#FF6692",
            "size": [
             41036
            ],
            "sizemode": "area",
            "sizeref": 248.225,
            "symbol": "circle"
           },
           "mode": "markers",
           "name": "DEU",
           "orientation": "v",
           "showlegend": true,
           "type": "scatter",
           "x": [
            0.4755518518518516
           ],
           "xaxis": "x",
           "y": [
            6.985
           ],
           "yaxis": "y"
          },
          {
           "hovertemplate": "country=DNK<br>year=2019<br>avg valence=%{x}<br>depression=%{y}<br>gdp per cap=%{marker.size}<extra></extra>",
           "legendgroup": "DNK",
           "marker": {
            "color": "#B6E880",
            "size": [
             53206
            ],
            "sizemode": "area",
            "sizeref": 248.225,
            "symbol": "circle"
           },
           "mode": "markers",
           "name": "DNK",
           "orientation": "v",
           "showlegend": true,
           "type": "scatter",
           "x": [
            0.4799444444444441
           ],
           "xaxis": "x",
           "y": [
            7.6
           ],
           "yaxis": "y"
          },
          {
           "hovertemplate": "country=DOM<br>year=2019<br>avg valence=%{x}<br>depression=%{y}<br>gdp per cap=%{marker.size}<extra></extra>",
           "legendgroup": "DOM",
           "marker": {
            "color": "#FF97FF",
            "size": [
             71155
            ],
            "sizemode": "area",
            "sizeref": 248.225,
            "symbol": "circle"
           },
           "mode": "markers",
           "name": "DOM",
           "orientation": "v",
           "showlegend": true,
           "type": "scatter",
           "x": [
            0.580262626262626
           ],
           "xaxis": "x",
           "y": [
            5.425
           ],
           "yaxis": "y"
          },
          {
           "hovertemplate": "country=ECU<br>year=2019<br>avg valence=%{x}<br>depression=%{y}<br>gdp per cap=%{marker.size}<extra></extra>",
           "legendgroup": "ECU",
           "marker": {
            "color": "#FECB52",
            "size": [
             99290
            ],
            "sizemode": "area",
            "sizeref": 248.225,
            "symbol": "circle"
           },
           "mode": "markers",
           "name": "ECU",
           "orientation": "v",
           "showlegend": true,
           "type": "scatter",
           "x": [
            0.624445
           ],
           "xaxis": "x",
           "y": [
            6.028
           ],
           "yaxis": "y"
          },
          {
           "hovertemplate": "country=EST<br>year=2019<br>avg valence=%{x}<br>depression=%{y}<br>gdp per cap=%{marker.size}<extra></extra>",
           "legendgroup": "EST",
           "marker": {
            "color": "#636efa",
            "size": [
             23049
            ],
            "sizemode": "area",
            "sizeref": 248.225,
            "symbol": "circle"
           },
           "mode": "markers",
           "name": "EST",
           "orientation": "v",
           "showlegend": true,
           "type": "scatter",
           "x": [
            0.4498084999999996
           ],
           "xaxis": "x",
           "y": [
            5.893
           ],
           "yaxis": "y"
          },
          {
           "hovertemplate": "country=EGY<br>year=2019<br>avg valence=%{x}<br>depression=%{y}<br>gdp per cap=%{marker.size}<extra></extra>",
           "legendgroup": "EGY",
           "marker": {
            "color": "#EF553B",
            "size": [
             3437
            ],
            "sizemode": "area",
            "sizeref": 248.225,
            "symbol": "circle"
           },
           "mode": "markers",
           "name": "EGY",
           "orientation": "v",
           "showlegend": true,
           "type": "scatter",
           "x": [
            0.47685128205128213
           ],
           "xaxis": "x",
           "y": [
            4.166
           ],
           "yaxis": "y"
          },
          {
           "hovertemplate": "country=ESP<br>year=2019<br>avg valence=%{x}<br>depression=%{y}<br>gdp per cap=%{marker.size}<extra></extra>",
           "legendgroup": "ESP",
           "marker": {
            "color": "#00cc96",
            "size": [
             25607
            ],
            "sizemode": "area",
            "sizeref": 248.225,
            "symbol": "circle"
           },
           "mode": "markers",
           "name": "ESP",
           "orientation": "v",
           "showlegend": true,
           "type": "scatter",
           "x": [
            0.5646935
           ],
           "xaxis": "x",
           "y": [
            6.354
           ],
           "yaxis": "y"
          },
          {
           "hovertemplate": "country=FIN<br>year=2019<br>avg valence=%{x}<br>depression=%{y}<br>gdp per cap=%{marker.size}<extra></extra>",
           "legendgroup": "FIN",
           "marker": {
            "color": "#ab63fa",
            "size": [
             42772
            ],
            "sizemode": "area",
            "sizeref": 248.225,
            "symbol": "circle"
           },
           "mode": "markers",
           "name": "FIN",
           "orientation": "v",
           "showlegend": true,
           "type": "scatter",
           "x": [
            0.4605821428571424
           ],
           "xaxis": "x",
           "y": [
            7.769
           ],
           "yaxis": "y"
          },
          {
           "hovertemplate": "country=FRA<br>year=2019<br>avg valence=%{x}<br>depression=%{y}<br>gdp per cap=%{marker.size}<extra></extra>",
           "legendgroup": "FRA",
           "marker": {
            "color": "#FFA15A",
            "size": [
             36612
            ],
            "sizemode": "area",
            "sizeref": 248.225,
            "symbol": "circle"
           },
           "mode": "markers",
           "name": "FRA",
           "orientation": "v",
           "showlegend": true,
           "type": "scatter",
           "x": [
            0.5059522842639594
           ],
           "xaxis": "x",
           "y": [
            6.592
           ],
           "yaxis": "y"
          },
          {
           "hovertemplate": "country=GBR<br>year=2019<br>avg valence=%{x}<br>depression=%{y}<br>gdp per cap=%{marker.size}<extra></extra>",
           "legendgroup": "GBR",
           "marker": {
            "color": "#19d3f3",
            "size": [
             44530
            ],
            "sizemode": "area",
            "sizeref": 248.225,
            "symbol": "circle"
           },
           "mode": "markers",
           "name": "GBR",
           "orientation": "v",
           "showlegend": true,
           "type": "scatter",
           "x": [
            0.45863015075376873
           ],
           "xaxis": "x",
           "y": [
            7.054
           ],
           "yaxis": "y"
          },
          {
           "hovertemplate": "country=GRC<br>year=2019<br>avg valence=%{x}<br>depression=%{y}<br>gdp per cap=%{marker.size}<extra></extra>",
           "legendgroup": "GRC",
           "marker": {
            "color": "#FF6692",
            "size": [
             18323
            ],
            "sizemode": "area",
            "sizeref": 248.225,
            "symbol": "circle"
           },
           "mode": "markers",
           "name": "GRC",
           "orientation": "v",
           "showlegend": true,
           "type": "scatter",
           "x": [
            0.4451447236180904
           ],
           "xaxis": "x",
           "y": [
            5.287
           ],
           "yaxis": "y"
          },
          {
           "hovertemplate": "country=GTM<br>year=2019<br>avg valence=%{x}<br>depression=%{y}<br>gdp per cap=%{marker.size}<extra></extra>",
           "legendgroup": "GTM",
           "marker": {
            "color": "#B6E880",
            "size": [
             62186
            ],
            "sizemode": "area",
            "sizeref": 248.225,
            "symbol": "circle"
           },
           "mode": "markers",
           "name": "GTM",
           "orientation": "v",
           "showlegend": true,
           "type": "scatter",
           "x": [
            0.5898944723618088
           ],
           "xaxis": "x",
           "y": [
            6.436
           ],
           "yaxis": "y"
          },
          {
           "hovertemplate": "country=HKG<br>year=2019<br>avg valence=%{x}<br>depression=%{y}<br>gdp per cap=%{marker.size}<extra></extra>",
           "legendgroup": "HKG",
           "marker": {
            "color": "#FF97FF",
            "size": [
             0
            ],
            "sizemode": "area",
            "sizeref": 248.225,
            "symbol": "circle"
           },
           "mode": "markers",
           "name": "HKG",
           "orientation": "v",
           "showlegend": true,
           "type": "scatter",
           "x": [
            0.40792777777777744
           ],
           "xaxis": "x",
           "y": [
            5.43
           ],
           "yaxis": "y"
          },
          {
           "hovertemplate": "country=HND<br>year=2019<br>avg valence=%{x}<br>depression=%{y}<br>gdp per cap=%{marker.size}<extra></extra>",
           "legendgroup": "HND",
           "marker": {
            "color": "#FECB52",
            "size": [
             20980
            ],
            "sizemode": "area",
            "sizeref": 248.225,
            "symbol": "circle"
           },
           "mode": "markers",
           "name": "HND",
           "orientation": "v",
           "showlegend": true,
           "type": "scatter",
           "x": [
            0.578256281407035
           ],
           "xaxis": "x",
           "y": [
            5.86
           ],
           "yaxis": "y"
          },
          {
           "hovertemplate": "country=HUN<br>year=2019<br>avg valence=%{x}<br>depression=%{y}<br>gdp per cap=%{marker.size}<extra></extra>",
           "legendgroup": "HUN",
           "marker": {
            "color": "#636efa",
            "size": [
             12791
            ],
            "sizemode": "area",
            "sizeref": 248.225,
            "symbol": "circle"
           },
           "mode": "markers",
           "name": "HUN",
           "orientation": "v",
           "showlegend": true,
           "type": "scatter",
           "x": [
            0.4746864999999996
           ],
           "xaxis": "x",
           "y": [
            5.758
           ],
           "yaxis": "y"
          },
          {
           "hovertemplate": "country=IDN<br>year=2019<br>avg valence=%{x}<br>depression=%{y}<br>gdp per cap=%{marker.size}<extra></extra>",
           "legendgroup": "IDN",
           "marker": {
            "color": "#EF553B",
            "size": [
             3332
            ],
            "sizemode": "area",
            "sizeref": 248.225,
            "symbol": "circle"
           },
           "mode": "markers",
           "name": "IDN",
           "orientation": "v",
           "showlegend": true,
           "type": "scatter",
           "x": [
            0.45639274611398944
           ],
           "xaxis": "x",
           "y": [
            5.192
           ],
           "yaxis": "y"
          },
          {
           "hovertemplate": "country=IRL<br>year=2019<br>avg valence=%{x}<br>depression=%{y}<br>gdp per cap=%{marker.size}<extra></extra>",
           "legendgroup": "IRL",
           "marker": {
            "color": "#00cc96",
            "size": [
             62660
            ],
            "sizemode": "area",
            "sizeref": 248.225,
            "symbol": "circle"
           },
           "mode": "markers",
           "name": "IRL",
           "orientation": "v",
           "showlegend": true,
           "type": "scatter",
           "x": [
            0.4385835
           ],
           "xaxis": "x",
           "y": [
            7.021
           ],
           "yaxis": "y"
          },
          {
           "hovertemplate": "country=ISR<br>year=2019<br>avg valence=%{x}<br>depression=%{y}<br>gdp per cap=%{marker.size}<extra></extra>",
           "legendgroup": "ISR",
           "marker": {
            "color": "#ab63fa",
            "size": [
             37578
            ],
            "sizemode": "area",
            "sizeref": 248.225,
            "symbol": "circle"
           },
           "mode": "markers",
           "name": "ISR",
           "orientation": "v",
           "showlegend": true,
           "type": "scatter",
           "x": [
            0.4695343434343434
           ],
           "xaxis": "x",
           "y": [
            7.139
           ],
           "yaxis": "y"
          },
          {
           "hovertemplate": "country=IND<br>year=2019<br>avg valence=%{x}<br>depression=%{y}<br>gdp per cap=%{marker.size}<extra></extra>",
           "legendgroup": "IND",
           "marker": {
            "color": "#FFA15A",
            "size": [
             1639
            ],
            "sizemode": "area",
            "sizeref": 248.225,
            "symbol": "circle"
           },
           "mode": "markers",
           "name": "IND",
           "orientation": "v",
           "showlegend": true,
           "type": "scatter",
           "x": [
            0.4624548913043477
           ],
           "xaxis": "x",
           "y": [
            4.015
           ],
           "yaxis": "y"
          },
          {
           "hovertemplate": "country=ISL<br>year=2019<br>avg valence=%{x}<br>depression=%{y}<br>gdp per cap=%{marker.size}<extra></extra>",
           "legendgroup": "ISL",
           "marker": {
            "color": "#19d3f3",
            "size": [
             17389
            ],
            "sizemode": "area",
            "sizeref": 248.225,
            "symbol": "circle"
           },
           "mode": "markers",
           "name": "ISL",
           "orientation": "v",
           "showlegend": true,
           "type": "scatter",
           "x": [
            0.46134299999999995
           ],
           "xaxis": "x",
           "y": [
            7.494
           ],
           "yaxis": "y"
          },
          {
           "hovertemplate": "country=ITA<br>year=2019<br>avg valence=%{x}<br>depression=%{y}<br>gdp per cap=%{marker.size}<extra></extra>",
           "legendgroup": "ITA",
           "marker": {
            "color": "#FF6692",
            "size": [
             30306
            ],
            "sizemode": "area",
            "sizeref": 248.225,
            "symbol": "circle"
           },
           "mode": "markers",
           "name": "ITA",
           "orientation": "v",
           "showlegend": true,
           "type": "scatter",
           "x": [
            0.4809005076142131
           ],
           "xaxis": "x",
           "y": [
            6.223
           ],
           "yaxis": "y"
          },
          {
           "hovertemplate": "country=JPN<br>year=2019<br>avg valence=%{x}<br>depression=%{y}<br>gdp per cap=%{marker.size}<extra></extra>",
           "legendgroup": "JPN",
           "marker": {
            "color": "#B6E880",
            "size": [
             34297
            ],
            "sizemode": "area",
            "sizeref": 248.225,
            "symbol": "circle"
           },
           "mode": "markers",
           "name": "JPN",
           "orientation": "v",
           "showlegend": true,
           "type": "scatter",
           "x": [
            0.5119438775510201
           ],
           "xaxis": "x",
           "y": [
            5.886
           ],
           "yaxis": "y"
          },
          {
           "hovertemplate": "country=LTU<br>year=2019<br>avg valence=%{x}<br>depression=%{y}<br>gdp per cap=%{marker.size}<extra></extra>",
           "legendgroup": "LTU",
           "marker": {
            "color": "#636efa",
            "size": [
             41419
            ],
            "sizemode": "area",
            "sizeref": 248.225,
            "symbol": "circle"
           },
           "mode": "markers",
           "name": "LTU",
           "orientation": "v",
           "showlegend": true,
           "type": "scatter",
           "x": [
            0.4436134999999998
           ],
           "xaxis": "x",
           "y": [
            6.149
           ],
           "yaxis": "y"
          },
          {
           "hovertemplate": "country=LUX<br>year=2019<br>avg valence=%{x}<br>depression=%{y}<br>gdp per cap=%{marker.size}<extra></extra>",
           "legendgroup": "LUX",
           "marker": {
            "color": "#EF553B",
            "size": [
             57744
            ],
            "sizemode": "area",
            "sizeref": 248.225,
            "symbol": "circle"
           },
           "mode": "markers",
           "name": "LUX",
           "orientation": "v",
           "showlegend": true,
           "type": "scatter",
           "x": [
            0.4559309644670048
           ],
           "xaxis": "x",
           "y": [
            7.09
           ],
           "yaxis": "y"
          },
          {
           "hovertemplate": "country=LVA<br>year=2019<br>avg valence=%{x}<br>depression=%{y}<br>gdp per cap=%{marker.size}<extra></extra>",
           "legendgroup": "LVA",
           "marker": {
            "color": "#00cc96",
            "size": [
             27240
            ],
            "sizemode": "area",
            "sizeref": 248.225,
            "symbol": "circle"
           },
           "mode": "markers",
           "name": "LVA",
           "orientation": "v",
           "showlegend": true,
           "type": "scatter",
           "x": [
            0.4461504999999997
           ],
           "xaxis": "x",
           "y": [
            5.94
           ],
           "yaxis": "y"
          },
          {
           "hovertemplate": "country=MAR<br>year=2019<br>avg valence=%{x}<br>depression=%{y}<br>gdp per cap=%{marker.size}<extra></extra>",
           "legendgroup": "MAR",
           "marker": {
            "color": "#ab63fa",
            "size": [
             2919
            ],
            "sizemode": "area",
            "sizeref": 248.225,
            "symbol": "circle"
           },
           "mode": "markers",
           "name": "MAR",
           "orientation": "v",
           "showlegend": true,
           "type": "scatter",
           "x": [
            0.5135263959390861
           ],
           "xaxis": "x",
           "y": [
            5.208
           ],
           "yaxis": "y"
          },
          {
           "hovertemplate": "country=MEX<br>year=2019<br>avg valence=%{x}<br>depression=%{y}<br>gdp per cap=%{marker.size}<extra></extra>",
           "legendgroup": "MEX",
           "marker": {
            "color": "#FFA15A",
            "size": [
             9606
            ],
            "sizemode": "area",
            "sizeref": 248.225,
            "symbol": "circle"
           },
           "mode": "markers",
           "name": "MEX",
           "orientation": "v",
           "showlegend": true,
           "type": "scatter",
           "x": [
            0.608150753768844
           ],
           "xaxis": "x",
           "y": [
            6.595
           ],
           "yaxis": "y"
          },
          {
           "hovertemplate": "country=MYS<br>year=2019<br>avg valence=%{x}<br>depression=%{y}<br>gdp per cap=%{marker.size}<extra></extra>",
           "legendgroup": "MYS",
           "marker": {
            "color": "#19d3f3",
            "size": [
             9955
            ],
            "sizemode": "area",
            "sizeref": 248.225,
            "symbol": "circle"
           },
           "mode": "markers",
           "name": "MYS",
           "orientation": "v",
           "showlegend": true,
           "type": "scatter",
           "x": [
            0.4277331632653061
           ],
           "xaxis": "x",
           "y": [
            5.339
           ],
           "yaxis": "y"
          },
          {
           "hovertemplate": "country=NIC<br>year=2019<br>avg valence=%{x}<br>depression=%{y}<br>gdp per cap=%{marker.size}<extra></extra>",
           "legendgroup": "NIC",
           "marker": {
            "color": "#B6E880",
            "size": [
             12757
            ],
            "sizemode": "area",
            "sizeref": 248.225,
            "symbol": "circle"
           },
           "mode": "markers",
           "name": "NIC",
           "orientation": "v",
           "showlegend": true,
           "type": "scatter",
           "x": [
            0.5677035175879397
           ],
           "xaxis": "x",
           "y": [
            6.105
           ],
           "yaxis": "y"
          },
          {
           "hovertemplate": "country=NLD<br>year=2019<br>avg valence=%{x}<br>depression=%{y}<br>gdp per cap=%{marker.size}<extra></extra>",
           "legendgroup": "NLD",
           "marker": {
            "color": "#FF97FF",
            "size": [
             45179
            ],
            "sizemode": "area",
            "sizeref": 248.225,
            "symbol": "circle"
           },
           "mode": "markers",
           "name": "NLD",
           "orientation": "v",
           "showlegend": true,
           "type": "scatter",
           "x": [
            0.5159959595959596
           ],
           "xaxis": "x",
           "y": [
            7.488
           ],
           "yaxis": "y"
          },
          {
           "hovertemplate": "country=NOR<br>year=2019<br>avg valence=%{x}<br>depression=%{y}<br>gdp per cap=%{marker.size}<extra></extra>",
           "legendgroup": "NOR",
           "marker": {
            "color": "#FECB52",
            "size": [
             74195
            ],
            "sizemode": "area",
            "sizeref": 248.225,
            "symbol": "circle"
           },
           "mode": "markers",
           "name": "NOR",
           "orientation": "v",
           "showlegend": true,
           "type": "scatter",
           "x": [
            0.4317464285714285
           ],
           "xaxis": "x",
           "y": [
            7.554
           ],
           "yaxis": "y"
          },
          {
           "hovertemplate": "country=NZL<br>year=2019<br>avg valence=%{x}<br>depression=%{y}<br>gdp per cap=%{marker.size}<extra></extra>",
           "legendgroup": "NZL",
           "marker": {
            "color": "#636efa",
            "size": [
             38458
            ],
            "sizemode": "area",
            "sizeref": 248.225,
            "symbol": "circle"
           },
           "mode": "markers",
           "name": "NZL",
           "orientation": "v",
           "showlegend": true,
           "type": "scatter",
           "x": [
            0.4824221105527638
           ],
           "xaxis": "x",
           "y": [
            7.307
           ],
           "yaxis": "y"
          },
          {
           "hovertemplate": "country=PAN<br>year=2019<br>avg valence=%{x}<br>depression=%{y}<br>gdp per cap=%{marker.size}<extra></extra>",
           "legendgroup": "PAN",
           "marker": {
            "color": "#EF553B",
            "size": [
             54092
            ],
            "sizemode": "area",
            "sizeref": 248.225,
            "symbol": "circle"
           },
           "mode": "markers",
           "name": "PAN",
           "orientation": "v",
           "showlegend": true,
           "type": "scatter",
           "x": [
            0.6077085427135678
           ],
           "xaxis": "x",
           "y": [
            6.321
           ],
           "yaxis": "y"
          },
          {
           "hovertemplate": "country=PER<br>year=2019<br>avg valence=%{x}<br>depression=%{y}<br>gdp per cap=%{marker.size}<extra></extra>",
           "legendgroup": "PER",
           "marker": {
            "color": "#00cc96",
            "size": [
             6229
            ],
            "sizemode": "area",
            "sizeref": 248.225,
            "symbol": "circle"
           },
           "mode": "markers",
           "name": "PER",
           "orientation": "v",
           "showlegend": true,
           "type": "scatter",
           "x": [
            0.6445226130653265
           ],
           "xaxis": "x",
           "y": [
            5.697
           ],
           "yaxis": "y"
          },
          {
           "hovertemplate": "country=PHL<br>year=2019<br>avg valence=%{x}<br>depression=%{y}<br>gdp per cap=%{marker.size}<extra></extra>",
           "legendgroup": "PHL",
           "marker": {
            "color": "#ab63fa",
            "size": [
             2867
            ],
            "sizemode": "area",
            "sizeref": 248.225,
            "symbol": "circle"
           },
           "mode": "markers",
           "name": "PHL",
           "orientation": "v",
           "showlegend": true,
           "type": "scatter",
           "x": [
            0.4152091370558376
           ],
           "xaxis": "x",
           "y": [
            5.631
           ],
           "yaxis": "y"
          },
          {
           "hovertemplate": "country=POL<br>year=2019<br>avg valence=%{x}<br>depression=%{y}<br>gdp per cap=%{marker.size}<extra></extra>",
           "legendgroup": "POL",
           "marker": {
            "color": "#FFA15A",
            "size": [
             12563
            ],
            "sizemode": "area",
            "sizeref": 248.225,
            "symbol": "circle"
           },
           "mode": "markers",
           "name": "POL",
           "orientation": "v",
           "showlegend": true,
           "type": "scatter",
           "x": [
            0.46120050251256234
           ],
           "xaxis": "x",
           "y": [
            6.182
           ],
           "yaxis": "y"
          },
          {
           "hovertemplate": "country=PRT<br>year=2019<br>avg valence=%{x}<br>depression=%{y}<br>gdp per cap=%{marker.size}<extra></extra>",
           "legendgroup": "PRT",
           "marker": {
            "color": "#19d3f3",
            "size": [
             19223
            ],
            "sizemode": "area",
            "sizeref": 248.225,
            "symbol": "circle"
           },
           "mode": "markers",
           "name": "PRT",
           "orientation": "v",
           "showlegend": true,
           "type": "scatter",
           "x": [
            0.4546648241206031
           ],
           "xaxis": "x",
           "y": [
            5.693
           ],
           "yaxis": "y"
          },
          {
           "hovertemplate": "country=PRY<br>year=2019<br>avg valence=%{x}<br>depression=%{y}<br>gdp per cap=%{marker.size}<extra></extra>",
           "legendgroup": "PRY",
           "marker": {
            "color": "#FF6692",
            "size": [
             36164
            ],
            "sizemode": "area",
            "sizeref": 248.225,
            "symbol": "circle"
           },
           "mode": "markers",
           "name": "PRY",
           "orientation": "v",
           "showlegend": true,
           "type": "scatter",
           "x": [
            0.5936464646464645
           ],
           "xaxis": "x",
           "y": [
            5.743
           ],
           "yaxis": "y"
          },
          {
           "hovertemplate": "country=ROU<br>year=2019<br>avg valence=%{x}<br>depression=%{y}<br>gdp per cap=%{marker.size}<extra></extra>",
           "legendgroup": "ROU",
           "marker": {
            "color": "#B6E880",
            "size": [
             8928
            ],
            "sizemode": "area",
            "sizeref": 248.225,
            "symbol": "circle"
           },
           "mode": "markers",
           "name": "ROU",
           "orientation": "v",
           "showlegend": true,
           "type": "scatter",
           "x": [
            0.445766
           ],
           "xaxis": "x",
           "y": [
            6.07
           ],
           "yaxis": "y"
          },
          {
           "hovertemplate": "country=SAU<br>year=2019<br>avg valence=%{x}<br>depression=%{y}<br>gdp per cap=%{marker.size}<extra></extra>",
           "legendgroup": "SAU",
           "marker": {
            "color": "#FF97FF",
            "size": [
             20628
            ],
            "sizemode": "area",
            "sizeref": 248.225,
            "symbol": "circle"
           },
           "mode": "markers",
           "name": "SAU",
           "orientation": "v",
           "showlegend": true,
           "type": "scatter",
           "x": [
            0.44934242424242377
           ],
           "xaxis": "x",
           "y": [
            6.375
           ],
           "yaxis": "y"
          },
          {
           "hovertemplate": "country=SWE<br>year=2019<br>avg valence=%{x}<br>depression=%{y}<br>gdp per cap=%{marker.size}<extra></extra>",
           "legendgroup": "SWE",
           "marker": {
            "color": "#FECB52",
            "size": [
             51726
            ],
            "sizemode": "area",
            "sizeref": 248.225,
            "symbol": "circle"
           },
           "mode": "markers",
           "name": "SWE",
           "orientation": "v",
           "showlegend": true,
           "type": "scatter",
           "x": [
            0.43954329896907224
           ],
           "xaxis": "x",
           "y": [
            7.343
           ],
           "yaxis": "y"
          },
          {
           "hovertemplate": "country=SGP<br>year=2019<br>avg valence=%{x}<br>depression=%{y}<br>gdp per cap=%{marker.size}<extra></extra>",
           "legendgroup": "SGP",
           "marker": {
            "color": "#636efa",
            "size": [
             55077
            ],
            "sizemode": "area",
            "sizeref": 248.225,
            "symbol": "circle"
           },
           "mode": "markers",
           "name": "SGP",
           "orientation": "v",
           "showlegend": true,
           "type": "scatter",
           "x": [
            0.41490204081632637
           ],
           "xaxis": "x",
           "y": [
            6.262
           ],
           "yaxis": "y"
          },
          {
           "hovertemplate": "country=SVK<br>year=2019<br>avg valence=%{x}<br>depression=%{y}<br>gdp per cap=%{marker.size}<extra></extra>",
           "legendgroup": "SVK",
           "marker": {
            "color": "#EF553B",
            "size": [
             88468
            ],
            "sizemode": "area",
            "sizeref": 248.225,
            "symbol": "circle"
           },
           "mode": "markers",
           "name": "SVK",
           "orientation": "v",
           "showlegend": true,
           "type": "scatter",
           "x": [
            0.4529558375634518
           ],
           "xaxis": "x",
           "y": [
            6.198
           ],
           "yaxis": "y"
          },
          {
           "hovertemplate": "country=SLV<br>year=2019<br>avg valence=%{x}<br>depression=%{y}<br>gdp per cap=%{marker.size}<extra></extra>",
           "legendgroup": "SLV",
           "marker": {
            "color": "#00cc96",
            "size": [
             23438
            ],
            "sizemode": "area",
            "sizeref": 248.225,
            "symbol": "circle"
           },
           "mode": "markers",
           "name": "SLV",
           "orientation": "v",
           "showlegend": true,
           "type": "scatter",
           "x": [
            0.5786432160804017
           ],
           "xaxis": "x",
           "y": [
            6.253
           ],
           "yaxis": "y"
          },
          {
           "hovertemplate": "country=THA<br>year=2019<br>avg valence=%{x}<br>depression=%{y}<br>gdp per cap=%{marker.size}<extra></extra>",
           "legendgroup": "THA",
           "marker": {
            "color": "#ab63fa",
            "size": [
             5840
            ],
            "sizemode": "area",
            "sizeref": 248.225,
            "symbol": "circle"
           },
           "mode": "markers",
           "name": "THA",
           "orientation": "v",
           "showlegend": true,
           "type": "scatter",
           "x": [
            0.48556467391304325
           ],
           "xaxis": "x",
           "y": [
            6.008
           ],
           "yaxis": "y"
          },
          {
           "hovertemplate": "country=TUR<br>year=2019<br>avg valence=%{x}<br>depression=%{y}<br>gdp per cap=%{marker.size}<extra></extra>",
           "legendgroup": "TUR",
           "marker": {
            "color": "#FFA15A",
            "size": [
             11006
            ],
            "sizemode": "area",
            "sizeref": 248.225,
            "symbol": "circle"
           },
           "mode": "markers",
           "name": "TUR",
           "orientation": "v",
           "showlegend": true,
           "type": "scatter",
           "x": [
            0.46339844559585475
           ],
           "xaxis": "x",
           "y": [
            5.373
           ],
           "yaxis": "y"
          },
          {
           "hovertemplate": "country=TWN<br>year=2019<br>avg valence=%{x}<br>depression=%{y}<br>gdp per cap=%{marker.size}<extra></extra>",
           "legendgroup": "TWN",
           "marker": {
            "color": "#19d3f3",
            "size": [
             0
            ],
            "sizemode": "area",
            "sizeref": 248.225,
            "symbol": "circle"
           },
           "mode": "markers",
           "name": "TWN",
           "orientation": "v",
           "showlegend": true,
           "type": "scatter",
           "x": [
            0.383148205128205
           ],
           "xaxis": "x",
           "y": [
            0
           ],
           "yaxis": "y"
          },
          {
           "hovertemplate": "country=USA<br>year=2019<br>avg valence=%{x}<br>depression=%{y}<br>gdp per cap=%{marker.size}<extra></extra>",
           "legendgroup": "USA",
           "marker": {
            "color": "#B6E880",
            "size": [
             0
            ],
            "sizemode": "area",
            "sizeref": 248.225,
            "symbol": "circle"
           },
           "mode": "markers",
           "name": "USA",
           "orientation": "v",
           "showlegend": true,
           "type": "scatter",
           "x": [
            0.42652750000000006
           ],
           "xaxis": "x",
           "y": [
            6.892
           ],
           "yaxis": "y"
          },
          {
           "hovertemplate": "country=URY<br>year=2019<br>avg valence=%{x}<br>depression=%{y}<br>gdp per cap=%{marker.size}<extra></extra>",
           "legendgroup": "URY",
           "marker": {
            "color": "#FF97FF",
            "size": [
             53274
            ],
            "sizemode": "area",
            "sizeref": 248.225,
            "symbol": "circle"
           },
           "mode": "markers",
           "name": "URY",
           "orientation": "v",
           "showlegend": true,
           "type": "scatter",
           "x": [
            0.6333877551020409
           ],
           "xaxis": "x",
           "y": [
            6.293
           ],
           "yaxis": "y"
          },
          {
           "hovertemplate": "country=VNM<br>year=2019<br>avg valence=%{x}<br>depression=%{y}<br>gdp per cap=%{marker.size}<extra></extra>",
           "legendgroup": "VNM",
           "marker": {
            "color": "#636efa",
            "size": [
             2085
            ],
            "sizemode": "area",
            "sizeref": 248.225,
            "symbol": "circle"
           },
           "mode": "markers",
           "name": "VNM",
           "orientation": "v",
           "showlegend": true,
           "type": "scatter",
           "x": [
            0.41727684210526317
           ],
           "xaxis": "x",
           "y": [
            0
           ],
           "yaxis": "y"
          },
          {
           "hovertemplate": "country=ZAF<br>year=2019<br>avg valence=%{x}<br>depression=%{y}<br>gdp per cap=%{marker.size}<extra></extra>",
           "legendgroup": "ZAF",
           "marker": {
            "color": "#EF553B",
            "size": [
             5731
            ],
            "sizemode": "area",
            "sizeref": 248.225,
            "symbol": "circle"
           },
           "mode": "markers",
           "name": "ZAF",
           "orientation": "v",
           "showlegend": true,
           "type": "scatter",
           "x": [
            0.45471557788944694
           ],
           "xaxis": "x",
           "y": [
            4.722
           ],
           "yaxis": "y"
          }
         ],
         "name": "2019"
        },
        {
         "data": [
          {
           "hovertemplate": "country=ARE<br>year=2020<br>avg valence=%{x}<br>depression=%{y}<br>gdp per cap=%{marker.size}<extra></extra>",
           "legendgroup": "ARE",
           "marker": {
            "color": "#636efa",
            "size": [
             40645
            ],
            "sizemode": "area",
            "sizeref": 248.225,
            "symbol": "circle"
           },
           "mode": "markers",
           "name": "ARE",
           "orientation": "v",
           "showlegend": true,
           "type": "scatter",
           "x": [
            0.4634030612244895
           ],
           "xaxis": "x",
           "y": [
            6.791
           ],
           "yaxis": "y"
          },
          {
           "hovertemplate": "country=ARG<br>year=2020<br>avg valence=%{x}<br>depression=%{y}<br>gdp per cap=%{marker.size}<extra></extra>",
           "legendgroup": "ARG",
           "marker": {
            "color": "#EF553B",
            "size": [
             14628
            ],
            "sizemode": "area",
            "sizeref": 248.225,
            "symbol": "circle"
           },
           "mode": "markers",
           "name": "ARG",
           "orientation": "v",
           "showlegend": true,
           "type": "scatter",
           "x": [
            0.64664
           ],
           "xaxis": "x",
           "y": [
            5.975
           ],
           "yaxis": "y"
          },
          {
           "hovertemplate": "country=AUT<br>year=2020<br>avg valence=%{x}<br>depression=%{y}<br>gdp per cap=%{marker.size}<extra></extra>",
           "legendgroup": "AUT",
           "marker": {
            "color": "#00cc96",
            "size": [
             47306
            ],
            "sizemode": "area",
            "sizeref": 248.225,
            "symbol": "circle"
           },
           "mode": "markers",
           "name": "AUT",
           "orientation": "v",
           "showlegend": true,
           "type": "scatter",
           "x": [
            0.5029668367346937
           ],
           "xaxis": "x",
           "y": [
            7.294
           ],
           "yaxis": "y"
          },
          {
           "hovertemplate": "country=AUS<br>year=2020<br>avg valence=%{x}<br>depression=%{y}<br>gdp per cap=%{marker.size}<extra></extra>",
           "legendgroup": "AUS",
           "marker": {
            "color": "#ab63fa",
            "size": [
             57629
            ],
            "sizemode": "area",
            "sizeref": 248.225,
            "symbol": "circle"
           },
           "mode": "markers",
           "name": "AUS",
           "orientation": "v",
           "showlegend": true,
           "type": "scatter",
           "x": [
            0.4890126262626256
           ],
           "xaxis": "x",
           "y": [
            7.223
           ],
           "yaxis": "y"
          },
          {
           "hovertemplate": "country=BEL<br>year=2020<br>avg valence=%{x}<br>depression=%{y}<br>gdp per cap=%{marker.size}<extra></extra>",
           "legendgroup": "BEL",
           "marker": {
            "color": "#FFA15A",
            "size": [
             44020
            ],
            "sizemode": "area",
            "sizeref": 248.225,
            "symbol": "circle"
           },
           "mode": "markers",
           "name": "BEL",
           "orientation": "v",
           "showlegend": true,
           "type": "scatter",
           "x": [
            0.4891540404040405
           ],
           "xaxis": "x",
           "y": [
            6.864
           ],
           "yaxis": "y"
          },
          {
           "hovertemplate": "country=BGR<br>year=2020<br>avg valence=%{x}<br>depression=%{y}<br>gdp per cap=%{marker.size}<extra></extra>",
           "legendgroup": "BGR",
           "marker": {
            "color": "#19d3f3",
            "size": [
             54404
            ],
            "sizemode": "area",
            "sizeref": 248.225,
            "symbol": "circle"
           },
           "mode": "markers",
           "name": "BGR",
           "orientation": "v",
           "showlegend": true,
           "type": "scatter",
           "x": [
            0.4962743718592959
           ],
           "xaxis": "x",
           "y": [
            5.102
           ],
           "yaxis": "y"
          },
          {
           "hovertemplate": "country=BOL<br>year=2020<br>avg valence=%{x}<br>depression=%{y}<br>gdp per cap=%{marker.size}<extra></extra>",
           "legendgroup": "BOL",
           "marker": {
            "color": "#FF6692",
            "size": [
             0
            ],
            "sizemode": "area",
            "sizeref": 248.225,
            "symbol": "circle"
           },
           "mode": "markers",
           "name": "BOL",
           "orientation": "v",
           "showlegend": true,
           "type": "scatter",
           "x": [
            0.6456639999999997
           ],
           "xaxis": "x",
           "y": [
            0
           ],
           "yaxis": "y"
          },
          {
           "hovertemplate": "country=BRA<br>year=2020<br>avg valence=%{x}<br>depression=%{y}<br>gdp per cap=%{marker.size}<extra></extra>",
           "legendgroup": "BRA",
           "marker": {
            "color": "#B6E880",
            "size": [
             9925
            ],
            "sizemode": "area",
            "sizeref": 248.225,
            "symbol": "circle"
           },
           "mode": "markers",
           "name": "BRA",
           "orientation": "v",
           "showlegend": true,
           "type": "scatter",
           "x": [
            0.6444939698492458
           ],
           "xaxis": "x",
           "y": [
            6.376
           ],
           "yaxis": "y"
          },
          {
           "hovertemplate": "country=CAN<br>year=2020<br>avg valence=%{x}<br>depression=%{y}<br>gdp per cap=%{marker.size}<extra></extra>",
           "legendgroup": "CAN",
           "marker": {
            "color": "#FECB52",
            "size": [
             44907
            ],
            "sizemode": "area",
            "sizeref": 248.225,
            "symbol": "circle"
           },
           "mode": "markers",
           "name": "CAN",
           "orientation": "v",
           "showlegend": true,
           "type": "scatter",
           "x": [
            0.46791161616161603
           ],
           "xaxis": "x",
           "y": [
            7.232
           ],
           "yaxis": "y"
          },
          {
           "hovertemplate": "country=CHE<br>year=2020<br>avg valence=%{x}<br>depression=%{y}<br>gdp per cap=%{marker.size}<extra></extra>",
           "legendgroup": "CHE",
           "marker": {
            "color": "#636efa",
            "size": [
             83313
            ],
            "sizemode": "area",
            "sizeref": 248.225,
            "symbol": "circle"
           },
           "mode": "markers",
           "name": "CHE",
           "orientation": "v",
           "showlegend": true,
           "type": "scatter",
           "x": [
            0.4889085858585859
           ],
           "xaxis": "x",
           "y": [
            7.56
           ],
           "yaxis": "y"
          },
          {
           "hovertemplate": "country=CHL<br>year=2020<br>avg valence=%{x}<br>depression=%{y}<br>gdp per cap=%{marker.size}<extra></extra>",
           "legendgroup": "CHL",
           "marker": {
            "color": "#EF553B",
            "size": [
             14999
            ],
            "sizemode": "area",
            "sizeref": 248.225,
            "symbol": "circle"
           },
           "mode": "markers",
           "name": "CHL",
           "orientation": "v",
           "showlegend": true,
           "type": "scatter",
           "x": [
            0.6255939999999997
           ],
           "xaxis": "x",
           "y": [
            6.228
           ],
           "yaxis": "y"
          },
          {
           "hovertemplate": "country=COL<br>year=2020<br>avg valence=%{x}<br>depression=%{y}<br>gdp per cap=%{marker.size}<extra></extra>",
           "legendgroup": "COL",
           "marker": {
            "color": "#00cc96",
            "size": [
             6377
            ],
            "sizemode": "area",
            "sizeref": 248.225,
            "symbol": "circle"
           },
           "mode": "markers",
           "name": "COL",
           "orientation": "v",
           "showlegend": true,
           "type": "scatter",
           "x": [
            0.6539336683417084
           ],
           "xaxis": "x",
           "y": [
            6.163
           ],
           "yaxis": "y"
          },
          {
           "hovertemplate": "country=CRI<br>year=2020<br>avg valence=%{x}<br>depression=%{y}<br>gdp per cap=%{marker.size}<extra></extra>",
           "legendgroup": "CRI",
           "marker": {
            "color": "#ab63fa",
            "size": [
             59306
            ],
            "sizemode": "area",
            "sizeref": 248.225,
            "symbol": "circle"
           },
           "mode": "markers",
           "name": "CRI",
           "orientation": "v",
           "showlegend": true,
           "type": "scatter",
           "x": [
            0.6158339999999997
           ],
           "xaxis": "x",
           "y": [
            7.121
           ],
           "yaxis": "y"
          },
          {
           "hovertemplate": "country=CYP<br>year=2020<br>avg valence=%{x}<br>depression=%{y}<br>gdp per cap=%{marker.size}<extra></extra>",
           "legendgroup": "CYP",
           "marker": {
            "color": "#FFA15A",
            "size": [
             22025
            ],
            "sizemode": "area",
            "sizeref": 248.225,
            "symbol": "circle"
           },
           "mode": "markers",
           "name": "CYP",
           "orientation": "v",
           "showlegend": true,
           "type": "scatter",
           "x": [
            0.47155505050505037
           ],
           "xaxis": "x",
           "y": [
            6.159
           ],
           "yaxis": "y"
          },
          {
           "hovertemplate": "country=CZE<br>year=2020<br>avg valence=%{x}<br>depression=%{y}<br>gdp per cap=%{marker.size}<extra></extra>",
           "legendgroup": "CZE",
           "marker": {
            "color": "#19d3f3",
            "size": [
             0
            ],
            "sizemode": "area",
            "sizeref": 248.225,
            "symbol": "circle"
           },
           "mode": "markers",
           "name": "CZE",
           "orientation": "v",
           "showlegend": true,
           "type": "scatter",
           "x": [
            0.4550456852791879
           ],
           "xaxis": "x",
           "y": [
            6.911
           ],
           "yaxis": "y"
          },
          {
           "hovertemplate": "country=DEU<br>year=2020<br>avg valence=%{x}<br>depression=%{y}<br>gdp per cap=%{marker.size}<extra></extra>",
           "legendgroup": "DEU",
           "marker": {
            "color": "#FF6692",
            "size": [
             44552
            ],
            "sizemode": "area",
            "sizeref": 248.225,
            "symbol": "circle"
           },
           "mode": "markers",
           "name": "DEU",
           "orientation": "v",
           "showlegend": true,
           "type": "scatter",
           "x": [
            0.4922701015228428
           ],
           "xaxis": "x",
           "y": [
            7.076
           ],
           "yaxis": "y"
          },
          {
           "hovertemplate": "country=DNK<br>year=2020<br>avg valence=%{x}<br>depression=%{y}<br>gdp per cap=%{marker.size}<extra></extra>",
           "legendgroup": "DNK",
           "marker": {
            "color": "#B6E880",
            "size": [
             57939
            ],
            "sizemode": "area",
            "sizeref": 248.225,
            "symbol": "circle"
           },
           "mode": "markers",
           "name": "DNK",
           "orientation": "v",
           "showlegend": true,
           "type": "scatter",
           "x": [
            0.47821979695431477
           ],
           "xaxis": "x",
           "y": [
            7.646
           ],
           "yaxis": "y"
          },
          {
           "hovertemplate": "country=DOM<br>year=2020<br>avg valence=%{x}<br>depression=%{y}<br>gdp per cap=%{marker.size}<extra></extra>",
           "legendgroup": "DOM",
           "marker": {
            "color": "#FF97FF",
            "size": [
             79435
            ],
            "sizemode": "area",
            "sizeref": 248.225,
            "symbol": "circle"
           },
           "mode": "markers",
           "name": "DOM",
           "orientation": "v",
           "showlegend": true,
           "type": "scatter",
           "x": [
            0.6172477386934674
           ],
           "xaxis": "x",
           "y": [
            5.689
           ],
           "yaxis": "y"
          },
          {
           "hovertemplate": "country=ECU<br>year=2020<br>avg valence=%{x}<br>depression=%{y}<br>gdp per cap=%{marker.size}<extra></extra>",
           "legendgroup": "ECU",
           "marker": {
            "color": "#FECB52",
            "size": [
             6214
            ],
            "sizemode": "area",
            "sizeref": 248.225,
            "symbol": "circle"
           },
           "mode": "markers",
           "name": "ECU",
           "orientation": "v",
           "showlegend": true,
           "type": "scatter",
           "x": [
            0.6470639999999998
           ],
           "xaxis": "x",
           "y": [
            5.925
           ],
           "yaxis": "y"
          },
          {
           "hovertemplate": "country=EST<br>year=2020<br>avg valence=%{x}<br>depression=%{y}<br>gdp per cap=%{marker.size}<extra></extra>",
           "legendgroup": "EST",
           "marker": {
            "color": "#636efa",
            "size": [
             25092
            ],
            "sizemode": "area",
            "sizeref": 248.225,
            "symbol": "circle"
           },
           "mode": "markers",
           "name": "EST",
           "orientation": "v",
           "showlegend": true,
           "type": "scatter",
           "x": [
            0.46908080808080793
           ],
           "xaxis": "x",
           "y": [
            6.022
           ],
           "yaxis": "y"
          },
          {
           "hovertemplate": "country=EGY<br>year=2020<br>avg valence=%{x}<br>depression=%{y}<br>gdp per cap=%{marker.size}<extra></extra>",
           "legendgroup": "EGY",
           "marker": {
            "color": "#EF553B",
            "size": [
             2023
            ],
            "sizemode": "area",
            "sizeref": 248.225,
            "symbol": "circle"
           },
           "mode": "markers",
           "name": "EGY",
           "orientation": "v",
           "showlegend": true,
           "type": "scatter",
           "x": [
            0.5089211956521739
           ],
           "xaxis": "x",
           "y": [
            4.151
           ],
           "yaxis": "y"
          },
          {
           "hovertemplate": "country=ESP<br>year=2020<br>avg valence=%{x}<br>depression=%{y}<br>gdp per cap=%{marker.size}<extra></extra>",
           "legendgroup": "ESP",
           "marker": {
            "color": "#00cc96",
            "size": [
             28137
            ],
            "sizemode": "area",
            "sizeref": 248.225,
            "symbol": "circle"
           },
           "mode": "markers",
           "name": "ESP",
           "orientation": "v",
           "showlegend": true,
           "type": "scatter",
           "x": [
            0.6228064999999999
           ],
           "xaxis": "x",
           "y": [
            6.401
           ],
           "yaxis": "y"
          },
          {
           "hovertemplate": "country=FIN<br>year=2020<br>avg valence=%{x}<br>depression=%{y}<br>gdp per cap=%{marker.size}<extra></extra>",
           "legendgroup": "FIN",
           "marker": {
            "color": "#ab63fa",
            "size": [
             46310
            ],
            "sizemode": "area",
            "sizeref": 248.225,
            "symbol": "circle"
           },
           "mode": "markers",
           "name": "FIN",
           "orientation": "v",
           "showlegend": true,
           "type": "scatter",
           "x": [
            0.48384365482233493
           ],
           "xaxis": "x",
           "y": [
            7.809
           ],
           "yaxis": "y"
          },
          {
           "hovertemplate": "country=FRA<br>year=2020<br>avg valence=%{x}<br>depression=%{y}<br>gdp per cap=%{marker.size}<extra></extra>",
           "legendgroup": "FRA",
           "marker": {
            "color": "#FFA15A",
            "size": [
             38721
            ],
            "sizemode": "area",
            "sizeref": 248.225,
            "symbol": "circle"
           },
           "mode": "markers",
           "name": "FRA",
           "orientation": "v",
           "showlegend": true,
           "type": "scatter",
           "x": [
            0.5125808080808082
           ],
           "xaxis": "x",
           "y": [
            6.664
           ],
           "yaxis": "y"
          },
          {
           "hovertemplate": "country=GBR<br>year=2020<br>avg valence=%{x}<br>depression=%{y}<br>gdp per cap=%{marker.size}<extra></extra>",
           "legendgroup": "GBR",
           "marker": {
            "color": "#19d3f3",
            "size": [
             39901
            ],
            "sizemode": "area",
            "sizeref": 248.225,
            "symbol": "circle"
           },
           "mode": "markers",
           "name": "GBR",
           "orientation": "v",
           "showlegend": true,
           "type": "scatter",
           "x": [
            0.483554314720812
           ],
           "xaxis": "x",
           "y": [
            7.165
           ],
           "yaxis": "y"
          },
          {
           "hovertemplate": "country=GRC<br>year=2020<br>avg valence=%{x}<br>depression=%{y}<br>gdp per cap=%{marker.size}<extra></extra>",
           "legendgroup": "GRC",
           "marker": {
            "color": "#FF6692",
            "size": [
             18934
            ],
            "sizemode": "area",
            "sizeref": 248.225,
            "symbol": "circle"
           },
           "mode": "markers",
           "name": "GRC",
           "orientation": "v",
           "showlegend": true,
           "type": "scatter",
           "x": [
            0.4679059999999998
           ],
           "xaxis": "x",
           "y": [
            5.515
           ],
           "yaxis": "y"
          },
          {
           "hovertemplate": "country=GTM<br>year=2020<br>avg valence=%{x}<br>depression=%{y}<br>gdp per cap=%{marker.size}<extra></extra>",
           "legendgroup": "GTM",
           "marker": {
            "color": "#B6E880",
            "size": [
             65782
            ],
            "sizemode": "area",
            "sizeref": 248.225,
            "symbol": "circle"
           },
           "mode": "markers",
           "name": "GTM",
           "orientation": "v",
           "showlegend": true,
           "type": "scatter",
           "x": [
            0.6258364999999998
           ],
           "xaxis": "x",
           "y": [
            6.399
           ],
           "yaxis": "y"
          },
          {
           "hovertemplate": "country=HKG<br>year=2020<br>avg valence=%{x}<br>depression=%{y}<br>gdp per cap=%{marker.size}<extra></extra>",
           "legendgroup": "HKG",
           "marker": {
            "color": "#FF97FF",
            "size": [
             0
            ],
            "sizemode": "area",
            "sizeref": 248.225,
            "symbol": "circle"
           },
           "mode": "markers",
           "name": "HKG",
           "orientation": "v",
           "showlegend": true,
           "type": "scatter",
           "x": [
            0.4274333333333334
           ],
           "xaxis": "x",
           "y": [
            0
           ],
           "yaxis": "y"
          },
          {
           "hovertemplate": "country=HND<br>year=2020<br>avg valence=%{x}<br>depression=%{y}<br>gdp per cap=%{marker.size}<extra></extra>",
           "legendgroup": "HND",
           "marker": {
            "color": "#FECB52",
            "size": [
             22852
            ],
            "sizemode": "area",
            "sizeref": 248.225,
            "symbol": "circle"
           },
           "mode": "markers",
           "name": "HND",
           "orientation": "v",
           "showlegend": true,
           "type": "scatter",
           "x": [
            0.6141989999999997
           ],
           "xaxis": "x",
           "y": [
            5.953
           ],
           "yaxis": "y"
          },
          {
           "hovertemplate": "country=HUN<br>year=2020<br>avg valence=%{x}<br>depression=%{y}<br>gdp per cap=%{marker.size}<extra></extra>",
           "legendgroup": "HUN",
           "marker": {
            "color": "#636efa",
            "size": [
             14693
            ],
            "sizemode": "area",
            "sizeref": 248.225,
            "symbol": "circle"
           },
           "mode": "markers",
           "name": "HUN",
           "orientation": "v",
           "showlegend": true,
           "type": "scatter",
           "x": [
            0.48425656565656544
           ],
           "xaxis": "x",
           "y": [
            6
           ],
           "yaxis": "y"
          },
          {
           "hovertemplate": "country=IDN<br>year=2020<br>avg valence=%{x}<br>depression=%{y}<br>gdp per cap=%{marker.size}<extra></extra>",
           "legendgroup": "IDN",
           "marker": {
            "color": "#EF553B",
            "size": [
             3838
            ],
            "sizemode": "area",
            "sizeref": 248.225,
            "symbol": "circle"
           },
           "mode": "markers",
           "name": "IDN",
           "orientation": "v",
           "showlegend": true,
           "type": "scatter",
           "x": [
            0.4329621212121211
           ],
           "xaxis": "x",
           "y": [
            5.286
           ],
           "yaxis": "y"
          },
          {
           "hovertemplate": "country=IRL<br>year=2020<br>avg valence=%{x}<br>depression=%{y}<br>gdp per cap=%{marker.size}<extra></extra>",
           "legendgroup": "IRL",
           "marker": {
            "color": "#00cc96",
            "size": [
             71391
            ],
            "sizemode": "area",
            "sizeref": 248.225,
            "symbol": "circle"
           },
           "mode": "markers",
           "name": "IRL",
           "orientation": "v",
           "showlegend": true,
           "type": "scatter",
           "x": [
            0.4721817258883247
           ],
           "xaxis": "x",
           "y": [
            7.094
           ],
           "yaxis": "y"
          },
          {
           "hovertemplate": "country=ISR<br>year=2020<br>avg valence=%{x}<br>depression=%{y}<br>gdp per cap=%{marker.size}<extra></extra>",
           "legendgroup": "ISR",
           "marker": {
            "color": "#ab63fa",
            "size": [
             42851
            ],
            "sizemode": "area",
            "sizeref": 248.225,
            "symbol": "circle"
           },
           "mode": "markers",
           "name": "ISR",
           "orientation": "v",
           "showlegend": true,
           "type": "scatter",
           "x": [
            0.45267135678391973
           ],
           "xaxis": "x",
           "y": [
            7.129
           ],
           "yaxis": "y"
          },
          {
           "hovertemplate": "country=IND<br>year=2020<br>avg valence=%{x}<br>depression=%{y}<br>gdp per cap=%{marker.size}<extra></extra>",
           "legendgroup": "IND",
           "marker": {
            "color": "#FFA15A",
            "size": [
             1961
            ],
            "sizemode": "area",
            "sizeref": 248.225,
            "symbol": "circle"
           },
           "mode": "markers",
           "name": "IND",
           "orientation": "v",
           "showlegend": true,
           "type": "scatter",
           "x": [
            0.4974029940119758
           ],
           "xaxis": "x",
           "y": [
            3.573
           ],
           "yaxis": "y"
          },
          {
           "hovertemplate": "country=ISL<br>year=2020<br>avg valence=%{x}<br>depression=%{y}<br>gdp per cap=%{marker.size}<extra></extra>",
           "legendgroup": "ISL",
           "marker": {
            "color": "#19d3f3",
            "size": [
             19384
            ],
            "sizemode": "area",
            "sizeref": 248.225,
            "symbol": "circle"
           },
           "mode": "markers",
           "name": "ISL",
           "orientation": "v",
           "showlegend": true,
           "type": "scatter",
           "x": [
            0.4873484536082475
           ],
           "xaxis": "x",
           "y": [
            7.504
           ],
           "yaxis": "y"
          },
          {
           "hovertemplate": "country=ITA<br>year=2020<br>avg valence=%{x}<br>depression=%{y}<br>gdp per cap=%{marker.size}<extra></extra>",
           "legendgroup": "ITA",
           "marker": {
            "color": "#FF6692",
            "size": [
             32334
            ],
            "sizemode": "area",
            "sizeref": 248.225,
            "symbol": "circle"
           },
           "mode": "markers",
           "name": "ITA",
           "orientation": "v",
           "showlegend": true,
           "type": "scatter",
           "x": [
            0.4898724999999999
           ],
           "xaxis": "x",
           "y": [
            6.387
           ],
           "yaxis": "y"
          },
          {
           "hovertemplate": "country=JPN<br>year=2020<br>avg valence=%{x}<br>depression=%{y}<br>gdp per cap=%{marker.size}<extra></extra>",
           "legendgroup": "JPN",
           "marker": {
            "color": "#B6E880",
            "size": [
             38171
            ],
            "sizemode": "area",
            "sizeref": 248.225,
            "symbol": "circle"
           },
           "mode": "markers",
           "name": "JPN",
           "orientation": "v",
           "showlegend": true,
           "type": "scatter",
           "x": [
            0.5609238341968914
           ],
           "xaxis": "x",
           "y": [
            5.871
           ],
           "yaxis": "y"
          },
          {
           "hovertemplate": "country=LTU<br>year=2020<br>avg valence=%{x}<br>depression=%{y}<br>gdp per cap=%{marker.size}<extra></extra>",
           "legendgroup": "LTU",
           "marker": {
            "color": "#636efa",
            "size": [
             44281
            ],
            "sizemode": "area",
            "sizeref": 248.225,
            "symbol": "circle"
           },
           "mode": "markers",
           "name": "LTU",
           "orientation": "v",
           "showlegend": true,
           "type": "scatter",
           "x": [
            0.45746616161616155
           ],
           "xaxis": "x",
           "y": [
            6.215
           ],
           "yaxis": "y"
          },
          {
           "hovertemplate": "country=LUX<br>year=2020<br>avg valence=%{x}<br>depression=%{y}<br>gdp per cap=%{marker.size}<extra></extra>",
           "legendgroup": "LUX",
           "marker": {
            "color": "#EF553B",
            "size": [
             61474
            ],
            "sizemode": "area",
            "sizeref": 248.225,
            "symbol": "circle"
           },
           "mode": "markers",
           "name": "LUX",
           "orientation": "v",
           "showlegend": true,
           "type": "scatter",
           "x": [
            0.48650757575757547
           ],
           "xaxis": "x",
           "y": [
            7.238
           ],
           "yaxis": "y"
          },
          {
           "hovertemplate": "country=LVA<br>year=2020<br>avg valence=%{x}<br>depression=%{y}<br>gdp per cap=%{marker.size}<extra></extra>",
           "legendgroup": "LVA",
           "marker": {
            "color": "#00cc96",
            "size": [
             28793
            ],
            "sizemode": "area",
            "sizeref": 248.225,
            "symbol": "circle"
           },
           "mode": "markers",
           "name": "LVA",
           "orientation": "v",
           "showlegend": true,
           "type": "scatter",
           "x": [
            0.45617085427135673
           ],
           "xaxis": "x",
           "y": [
            5.95
           ],
           "yaxis": "y"
          },
          {
           "hovertemplate": "country=MAR<br>year=2020<br>avg valence=%{x}<br>depression=%{y}<br>gdp per cap=%{marker.size}<extra></extra>",
           "legendgroup": "MAR",
           "marker": {
            "color": "#ab63fa",
            "size": [
             3083
            ],
            "sizemode": "area",
            "sizeref": 248.225,
            "symbol": "circle"
           },
           "mode": "markers",
           "name": "MAR",
           "orientation": "v",
           "showlegend": true,
           "type": "scatter",
           "x": [
            0.5180050251256282
           ],
           "xaxis": "x",
           "y": [
            5.095
           ],
           "yaxis": "y"
          },
          {
           "hovertemplate": "country=MEX<br>year=2020<br>avg valence=%{x}<br>depression=%{y}<br>gdp per cap=%{marker.size}<extra></extra>",
           "legendgroup": "MEX",
           "marker": {
            "color": "#FFA15A",
            "size": [
             9278
            ],
            "sizemode": "area",
            "sizeref": 248.225,
            "symbol": "circle"
           },
           "mode": "markers",
           "name": "MEX",
           "orientation": "v",
           "showlegend": true,
           "type": "scatter",
           "x": [
            0.637784
           ],
           "xaxis": "x",
           "y": [
            6.465
           ],
           "yaxis": "y"
          },
          {
           "hovertemplate": "country=MYS<br>year=2020<br>avg valence=%{x}<br>depression=%{y}<br>gdp per cap=%{marker.size}<extra></extra>",
           "legendgroup": "MYS",
           "marker": {
            "color": "#19d3f3",
            "size": [
             10259
            ],
            "sizemode": "area",
            "sizeref": 248.225,
            "symbol": "circle"
           },
           "mode": "markers",
           "name": "MYS",
           "orientation": "v",
           "showlegend": true,
           "type": "scatter",
           "x": [
            0.4338117346938775
           ],
           "xaxis": "x",
           "y": [
            5.384
           ],
           "yaxis": "y"
          },
          {
           "hovertemplate": "country=NIC<br>year=2020<br>avg valence=%{x}<br>depression=%{y}<br>gdp per cap=%{marker.size}<extra></extra>",
           "legendgroup": "NIC",
           "marker": {
            "color": "#B6E880",
            "size": [
             13957
            ],
            "sizemode": "area",
            "sizeref": 248.225,
            "symbol": "circle"
           },
           "mode": "markers",
           "name": "NIC",
           "orientation": "v",
           "showlegend": true,
           "type": "scatter",
           "x": [
            0.6190665
           ],
           "xaxis": "x",
           "y": [
            6.137
           ],
           "yaxis": "y"
          },
          {
           "hovertemplate": "country=NLD<br>year=2020<br>avg valence=%{x}<br>depression=%{y}<br>gdp per cap=%{marker.size}<extra></extra>",
           "legendgroup": "NLD",
           "marker": {
            "color": "#FF97FF",
            "size": [
             48990
            ],
            "sizemode": "area",
            "sizeref": 248.225,
            "symbol": "circle"
           },
           "mode": "markers",
           "name": "NLD",
           "orientation": "v",
           "showlegend": true,
           "type": "scatter",
           "x": [
            0.509348730964467
           ],
           "xaxis": "x",
           "y": [
            7.449
           ],
           "yaxis": "y"
          },
          {
           "hovertemplate": "country=NOR<br>year=2020<br>avg valence=%{x}<br>depression=%{y}<br>gdp per cap=%{marker.size}<extra></extra>",
           "legendgroup": "NOR",
           "marker": {
            "color": "#FECB52",
            "size": [
             75221
            ],
            "sizemode": "area",
            "sizeref": 248.225,
            "symbol": "circle"
           },
           "mode": "markers",
           "name": "NOR",
           "orientation": "v",
           "showlegend": true,
           "type": "scatter",
           "x": [
            0.4378282828282829
           ],
           "xaxis": "x",
           "y": [
            7.488
           ],
           "yaxis": "y"
          },
          {
           "hovertemplate": "country=NZL<br>year=2020<br>avg valence=%{x}<br>depression=%{y}<br>gdp per cap=%{marker.size}<extra></extra>",
           "legendgroup": "NZL",
           "marker": {
            "color": "#636efa",
            "size": [
             43687
            ],
            "sizemode": "area",
            "sizeref": 248.225,
            "symbol": "circle"
           },
           "mode": "markers",
           "name": "NZL",
           "orientation": "v",
           "showlegend": true,
           "type": "scatter",
           "x": [
            0.5038964646464642
           ],
           "xaxis": "x",
           "y": [
            7.3
           ],
           "yaxis": "y"
          },
          {
           "hovertemplate": "country=PAN<br>year=2020<br>avg valence=%{x}<br>depression=%{y}<br>gdp per cap=%{marker.size}<extra></extra>",
           "legendgroup": "PAN",
           "marker": {
            "color": "#EF553B",
            "size": [
             59945
            ],
            "sizemode": "area",
            "sizeref": 248.225,
            "symbol": "circle"
           },
           "mode": "markers",
           "name": "PAN",
           "orientation": "v",
           "showlegend": true,
           "type": "scatter",
           "x": [
            0.6338206030150756
           ],
           "xaxis": "x",
           "y": [
            6.305
           ],
           "yaxis": "y"
          },
          {
           "hovertemplate": "country=PER<br>year=2020<br>avg valence=%{x}<br>depression=%{y}<br>gdp per cap=%{marker.size}<extra></extra>",
           "legendgroup": "PER",
           "marker": {
            "color": "#00cc96",
            "size": [
             6711
            ],
            "sizemode": "area",
            "sizeref": 248.225,
            "symbol": "circle"
           },
           "mode": "markers",
           "name": "PER",
           "orientation": "v",
           "showlegend": true,
           "type": "scatter",
           "x": [
            0.6609289999999999
           ],
           "xaxis": "x",
           "y": [
            5.797
           ],
           "yaxis": "y"
          },
          {
           "hovertemplate": "country=PHL<br>year=2020<br>avg valence=%{x}<br>depression=%{y}<br>gdp per cap=%{marker.size}<extra></extra>",
           "legendgroup": "PHL",
           "marker": {
            "color": "#ab63fa",
            "size": [
             2982
            ],
            "sizemode": "area",
            "sizeref": 248.225,
            "symbol": "circle"
           },
           "mode": "markers",
           "name": "PHL",
           "orientation": "v",
           "showlegend": true,
           "type": "scatter",
           "x": [
            0.4315954545454546
           ],
           "xaxis": "x",
           "y": [
            6.006
           ],
           "yaxis": "y"
          },
          {
           "hovertemplate": "country=POL<br>year=2020<br>avg valence=%{x}<br>depression=%{y}<br>gdp per cap=%{marker.size}<extra></extra>",
           "legendgroup": "POL",
           "marker": {
            "color": "#FFA15A",
            "size": [
             13872
            ],
            "sizemode": "area",
            "sizeref": 248.225,
            "symbol": "circle"
           },
           "mode": "markers",
           "name": "POL",
           "orientation": "v",
           "showlegend": true,
           "type": "scatter",
           "x": [
            0.5076964824120604
           ],
           "xaxis": "x",
           "y": [
            6.186
           ],
           "yaxis": "y"
          },
          {
           "hovertemplate": "country=PRT<br>year=2020<br>avg valence=%{x}<br>depression=%{y}<br>gdp per cap=%{marker.size}<extra></extra>",
           "legendgroup": "PRT",
           "marker": {
            "color": "#19d3f3",
            "size": [
             21515
            ],
            "sizemode": "area",
            "sizeref": 248.225,
            "symbol": "circle"
           },
           "mode": "markers",
           "name": "PRT",
           "orientation": "v",
           "showlegend": true,
           "type": "scatter",
           "x": [
            0.46616767676767645
           ],
           "xaxis": "x",
           "y": [
            5.911
           ],
           "yaxis": "y"
          },
          {
           "hovertemplate": "country=PRY<br>year=2020<br>avg valence=%{x}<br>depression=%{y}<br>gdp per cap=%{marker.size}<extra></extra>",
           "legendgroup": "PRY",
           "marker": {
            "color": "#FF6692",
            "size": [
             39593
            ],
            "sizemode": "area",
            "sizeref": 248.225,
            "symbol": "circle"
           },
           "mode": "markers",
           "name": "PRY",
           "orientation": "v",
           "showlegend": true,
           "type": "scatter",
           "x": [
            0.6508889999999997
           ],
           "xaxis": "x",
           "y": [
            5.692
           ],
           "yaxis": "y"
          },
          {
           "hovertemplate": "country=ROU<br>year=2020<br>avg valence=%{x}<br>depression=%{y}<br>gdp per cap=%{marker.size}<extra></extra>",
           "legendgroup": "ROU",
           "marker": {
            "color": "#B6E880",
            "size": [
             10771
            ],
            "sizemode": "area",
            "sizeref": 248.225,
            "symbol": "circle"
           },
           "mode": "markers",
           "name": "ROU",
           "orientation": "v",
           "showlegend": true,
           "type": "scatter",
           "x": [
            0.47134213197969543
           ],
           "xaxis": "x",
           "y": [
            6.124
           ],
           "yaxis": "y"
          },
          {
           "hovertemplate": "country=SAU<br>year=2020<br>avg valence=%{x}<br>depression=%{y}<br>gdp per cap=%{marker.size}<extra></extra>",
           "legendgroup": "SAU",
           "marker": {
            "color": "#FF97FF",
            "size": [
             20802
            ],
            "sizemode": "area",
            "sizeref": 248.225,
            "symbol": "circle"
           },
           "mode": "markers",
           "name": "SAU",
           "orientation": "v",
           "showlegend": true,
           "type": "scatter",
           "x": [
            0.5036471794871795
           ],
           "xaxis": "x",
           "y": [
            6.406
           ],
           "yaxis": "y"
          },
          {
           "hovertemplate": "country=SWE<br>year=2020<br>avg valence=%{x}<br>depression=%{y}<br>gdp per cap=%{marker.size}<extra></extra>",
           "legendgroup": "SWE",
           "marker": {
            "color": "#FECB52",
            "size": [
             54621
            ],
            "sizemode": "area",
            "sizeref": 248.225,
            "symbol": "circle"
           },
           "mode": "markers",
           "name": "SWE",
           "orientation": "v",
           "showlegend": true,
           "type": "scatter",
           "x": [
            0.4609084656084656
           ],
           "xaxis": "x",
           "y": [
            7.353
           ],
           "yaxis": "y"
          },
          {
           "hovertemplate": "country=SGP<br>year=2020<br>avg valence=%{x}<br>depression=%{y}<br>gdp per cap=%{marker.size}<extra></extra>",
           "legendgroup": "SGP",
           "marker": {
            "color": "#636efa",
            "size": [
             59890
            ],
            "sizemode": "area",
            "sizeref": 248.225,
            "symbol": "circle"
           },
           "mode": "markers",
           "name": "SGP",
           "orientation": "v",
           "showlegend": true,
           "type": "scatter",
           "x": [
            0.4193257575757574
           ],
           "xaxis": "x",
           "y": [
            6.377
           ],
           "yaxis": "y"
          },
          {
           "hovertemplate": "country=SVK<br>year=2020<br>avg valence=%{x}<br>depression=%{y}<br>gdp per cap=%{marker.size}<extra></extra>",
           "legendgroup": "SVK",
           "marker": {
            "color": "#EF553B",
            "size": [
             93104
            ],
            "sizemode": "area",
            "sizeref": 248.225,
            "symbol": "circle"
           },
           "mode": "markers",
           "name": "SVK",
           "orientation": "v",
           "showlegend": true,
           "type": "scatter",
           "x": [
            0.44083061224489783
           ],
           "xaxis": "x",
           "y": [
            6.281
           ],
           "yaxis": "y"
          },
          {
           "hovertemplate": "country=SLV<br>year=2020<br>avg valence=%{x}<br>depression=%{y}<br>gdp per cap=%{marker.size}<extra></extra>",
           "legendgroup": "SLV",
           "marker": {
            "color": "#00cc96",
            "size": [
             24574
            ],
            "sizemode": "area",
            "sizeref": 248.225,
            "symbol": "circle"
           },
           "mode": "markers",
           "name": "SLV",
           "orientation": "v",
           "showlegend": true,
           "type": "scatter",
           "x": [
            0.6198565
           ],
           "xaxis": "x",
           "y": [
            6.348
           ],
           "yaxis": "y"
          },
          {
           "hovertemplate": "country=THA<br>year=2020<br>avg valence=%{x}<br>depression=%{y}<br>gdp per cap=%{marker.size}<extra></extra>",
           "legendgroup": "THA",
           "marker": {
            "color": "#ab63fa",
            "size": [
             6578
            ],
            "sizemode": "area",
            "sizeref": 248.225,
            "symbol": "circle"
           },
           "mode": "markers",
           "name": "THA",
           "orientation": "v",
           "showlegend": true,
           "type": "scatter",
           "x": [
            0.5040738461538459
           ],
           "xaxis": "x",
           "y": [
            5.999
           ],
           "yaxis": "y"
          },
          {
           "hovertemplate": "country=TUR<br>year=2020<br>avg valence=%{x}<br>depression=%{y}<br>gdp per cap=%{marker.size}<extra></extra>",
           "legendgroup": "TUR",
           "marker": {
            "color": "#FFA15A",
            "size": [
             10590
            ],
            "sizemode": "area",
            "sizeref": 248.225,
            "symbol": "circle"
           },
           "mode": "markers",
           "name": "TUR",
           "orientation": "v",
           "showlegend": true,
           "type": "scatter",
           "x": [
            0.45586149732620307
           ],
           "xaxis": "x",
           "y": [
            5.132
           ],
           "yaxis": "y"
          },
          {
           "hovertemplate": "country=TWN<br>year=2020<br>avg valence=%{x}<br>depression=%{y}<br>gdp per cap=%{marker.size}<extra></extra>",
           "legendgroup": "TWN",
           "marker": {
            "color": "#19d3f3",
            "size": [
             0
            ],
            "sizemode": "area",
            "sizeref": 248.225,
            "symbol": "circle"
           },
           "mode": "markers",
           "name": "TWN",
           "orientation": "v",
           "showlegend": true,
           "type": "scatter",
           "x": [
            0.4113367875647667
           ],
           "xaxis": "x",
           "y": [
            0
           ],
           "yaxis": "y"
          },
          {
           "hovertemplate": "country=UKR<br>year=2020<br>avg valence=%{x}<br>depression=%{y}<br>gdp per cap=%{marker.size}<extra></extra>",
           "legendgroup": "UKR",
           "marker": {
            "color": "#FF6692",
            "size": [
             95553
            ],
            "sizemode": "area",
            "sizeref": 248.225,
            "symbol": "circle"
           },
           "mode": "markers",
           "name": "UKR",
           "orientation": "v",
           "showlegend": true,
           "type": "scatter",
           "x": [
            0.45255427135678405
           ],
           "xaxis": "x",
           "y": [
            4.561
           ],
           "yaxis": "y"
          },
          {
           "hovertemplate": "country=USA<br>year=2020<br>avg valence=%{x}<br>depression=%{y}<br>gdp per cap=%{marker.size}<extra></extra>",
           "legendgroup": "USA",
           "marker": {
            "color": "#B6E880",
            "size": [
             0
            ],
            "sizemode": "area",
            "sizeref": 248.225,
            "symbol": "circle"
           },
           "mode": "markers",
           "name": "USA",
           "orientation": "v",
           "showlegend": true,
           "type": "scatter",
           "x": [
            0.4513592964824119
           ],
           "xaxis": "x",
           "y": [
            6.94
           ],
           "yaxis": "y"
          },
          {
           "hovertemplate": "country=URY<br>year=2020<br>avg valence=%{x}<br>depression=%{y}<br>gdp per cap=%{marker.size}<extra></extra>",
           "legendgroup": "URY",
           "marker": {
            "color": "#FF97FF",
            "size": [
             55578
            ],
            "sizemode": "area",
            "sizeref": 248.225,
            "symbol": "circle"
           },
           "mode": "markers",
           "name": "URY",
           "orientation": "v",
           "showlegend": true,
           "type": "scatter",
           "x": [
            0.6644964102564104
           ],
           "xaxis": "x",
           "y": [
            6.44
           ],
           "yaxis": "y"
          },
          {
           "hovertemplate": "country=VNM<br>year=2020<br>avg valence=%{x}<br>depression=%{y}<br>gdp per cap=%{marker.size}<extra></extra>",
           "legendgroup": "VNM",
           "marker": {
            "color": "#636efa",
            "size": [
             2366
            ],
            "sizemode": "area",
            "sizeref": 248.225,
            "symbol": "circle"
           },
           "mode": "markers",
           "name": "VNM",
           "orientation": "v",
           "showlegend": true,
           "type": "scatter",
           "x": [
            0.4384594871794869
           ],
           "xaxis": "x",
           "y": [
            0
           ],
           "yaxis": "y"
          },
          {
           "hovertemplate": "country=ZAF<br>year=2020<br>avg valence=%{x}<br>depression=%{y}<br>gdp per cap=%{marker.size}<extra></extra>",
           "legendgroup": "ZAF",
           "marker": {
            "color": "#EF553B",
            "size": [
             6122
            ],
            "sizemode": "area",
            "sizeref": 248.225,
            "symbol": "circle"
           },
           "mode": "markers",
           "name": "ZAF",
           "orientation": "v",
           "showlegend": true,
           "type": "scatter",
           "x": [
            0.4755398989898988
           ],
           "xaxis": "x",
           "y": [
            4.814
           ],
           "yaxis": "y"
          }
         ],
         "name": "2020"
        },
        {
         "data": [
          {
           "hovertemplate": "country=ARE<br>year=2021<br>avg valence=%{x}<br>depression=%{y}<br>gdp per cap=%{marker.size}<extra></extra>",
           "legendgroup": "ARE",
           "marker": {
            "color": "#636efa",
            "size": [
             43839
            ],
            "sizemode": "area",
            "sizeref": 248.225,
            "symbol": "circle"
           },
           "mode": "markers",
           "name": "ARE",
           "orientation": "v",
           "showlegend": true,
           "type": "scatter",
           "x": [
            0.4967844221105527
           ],
           "xaxis": "x",
           "y": [
            6.561
           ],
           "yaxis": "y"
          },
          {
           "hovertemplate": "country=ARG<br>year=2021<br>avg valence=%{x}<br>depression=%{y}<br>gdp per cap=%{marker.size}<extra></extra>",
           "legendgroup": "ARG",
           "marker": {
            "color": "#EF553B",
            "size": [
             11719
            ],
            "sizemode": "area",
            "sizeref": 248.225,
            "symbol": "circle"
           },
           "mode": "markers",
           "name": "ARG",
           "orientation": "v",
           "showlegend": true,
           "type": "scatter",
           "x": [
            0.6672142857142859
           ],
           "xaxis": "x",
           "y": [
            5.929
           ],
           "yaxis": "y"
          },
          {
           "hovertemplate": "country=AUT<br>year=2021<br>avg valence=%{x}<br>depression=%{y}<br>gdp per cap=%{marker.size}<extra></extra>",
           "legendgroup": "AUT",
           "marker": {
            "color": "#00cc96",
            "size": [
             51184
            ],
            "sizemode": "area",
            "sizeref": 248.225,
            "symbol": "circle"
           },
           "mode": "markers",
           "name": "AUT",
           "orientation": "v",
           "showlegend": true,
           "type": "scatter",
           "x": [
            0.501463131313131
           ],
           "xaxis": "x",
           "y": [
            7.268
           ],
           "yaxis": "y"
          },
          {
           "hovertemplate": "country=AUS<br>year=2021<br>avg valence=%{x}<br>depression=%{y}<br>gdp per cap=%{marker.size}<extra></extra>",
           "legendgroup": "AUS",
           "marker": {
            "color": "#ab63fa",
            "size": [
             58597
            ],
            "sizemode": "area",
            "sizeref": 248.225,
            "symbol": "circle"
           },
           "mode": "markers",
           "name": "AUS",
           "orientation": "v",
           "showlegend": true,
           "type": "scatter",
           "x": [
            0.5271713567839194
           ],
           "xaxis": "x",
           "y": [
            7.183
           ],
           "yaxis": "y"
          },
          {
           "hovertemplate": "country=BEL<br>year=2021<br>avg valence=%{x}<br>depression=%{y}<br>gdp per cap=%{marker.size}<extra></extra>",
           "legendgroup": "BEL",
           "marker": {
            "color": "#FFA15A",
            "size": [
             47355
            ],
            "sizemode": "area",
            "sizeref": 248.225,
            "symbol": "circle"
           },
           "mode": "markers",
           "name": "BEL",
           "orientation": "v",
           "showlegend": true,
           "type": "scatter",
           "x": [
            0.49730449999999976
           ],
           "xaxis": "x",
           "y": [
            6.834
           ],
           "yaxis": "y"
          },
          {
           "hovertemplate": "country=BGR<br>year=2021<br>avg valence=%{x}<br>depression=%{y}<br>gdp per cap=%{marker.size}<extra></extra>",
           "legendgroup": "BGR",
           "marker": {
            "color": "#19d3f3",
            "size": [
             56082
            ],
            "sizemode": "area",
            "sizeref": 248.225,
            "symbol": "circle"
           },
           "mode": "markers",
           "name": "BGR",
           "orientation": "v",
           "showlegend": true,
           "type": "scatter",
           "x": [
            0.5191194999999995
           ],
           "xaxis": "x",
           "y": [
            5.266
           ],
           "yaxis": "y"
          },
          {
           "hovertemplate": "country=BOL<br>year=2021<br>avg valence=%{x}<br>depression=%{y}<br>gdp per cap=%{marker.size}<extra></extra>",
           "legendgroup": "BOL",
           "marker": {
            "color": "#FF6692",
            "size": [
             0
            ],
            "sizemode": "area",
            "sizeref": 248.225,
            "symbol": "circle"
           },
           "mode": "markers",
           "name": "BOL",
           "orientation": "v",
           "showlegend": true,
           "type": "scatter",
           "x": [
            0.6322560606060607
           ],
           "xaxis": "x",
           "y": [
            0
           ],
           "yaxis": "y"
          },
          {
           "hovertemplate": "country=BRA<br>year=2021<br>avg valence=%{x}<br>depression=%{y}<br>gdp per cap=%{marker.size}<extra></extra>",
           "legendgroup": "BRA",
           "marker": {
            "color": "#B6E880",
            "size": [
             9001
            ],
            "sizemode": "area",
            "sizeref": 248.225,
            "symbol": "circle"
           },
           "mode": "markers",
           "name": "BRA",
           "orientation": "v",
           "showlegend": true,
           "type": "scatter",
           "x": [
            0.6881616161616162
           ],
           "xaxis": "x",
           "y": [
            6.33
           ],
           "yaxis": "y"
          },
          {
           "hovertemplate": "country=CAN<br>year=2021<br>avg valence=%{x}<br>depression=%{y}<br>gdp per cap=%{marker.size}<extra></extra>",
           "legendgroup": "CAN",
           "marker": {
            "color": "#FECB52",
            "size": [
             46444
            ],
            "sizemode": "area",
            "sizeref": 248.225,
            "symbol": "circle"
           },
           "mode": "markers",
           "name": "CAN",
           "orientation": "v",
           "showlegend": true,
           "type": "scatter",
           "x": [
            0.48437461928934006
           ],
           "xaxis": "x",
           "y": [
            7.103
           ],
           "yaxis": "y"
          },
          {
           "hovertemplate": "country=CHE<br>year=2021<br>avg valence=%{x}<br>depression=%{y}<br>gdp per cap=%{marker.size}<extra></extra>",
           "legendgroup": "CHE",
           "marker": {
            "color": "#636efa",
            "size": [
             86315
            ],
            "sizemode": "area",
            "sizeref": 248.225,
            "symbol": "circle"
           },
           "mode": "markers",
           "name": "CHE",
           "orientation": "v",
           "showlegend": true,
           "type": "scatter",
           "x": [
            0.49634449999999986
           ],
           "xaxis": "x",
           "y": [
            7.571
           ],
           "yaxis": "y"
          },
          {
           "hovertemplate": "country=CHL<br>year=2021<br>avg valence=%{x}<br>depression=%{y}<br>gdp per cap=%{marker.size}<extra></extra>",
           "legendgroup": "CHL",
           "marker": {
            "color": "#EF553B",
            "size": [
             15925
            ],
            "sizemode": "area",
            "sizeref": 248.225,
            "symbol": "circle"
           },
           "mode": "markers",
           "name": "CHL",
           "orientation": "v",
           "showlegend": true,
           "type": "scatter",
           "x": [
            0.6317717171717171
           ],
           "xaxis": "x",
           "y": [
            6.172
           ],
           "yaxis": "y"
          },
          {
           "hovertemplate": "country=COL<br>year=2021<br>avg valence=%{x}<br>depression=%{y}<br>gdp per cap=%{marker.size}<extra></extra>",
           "legendgroup": "COL",
           "marker": {
            "color": "#00cc96",
            "size": [
             6717
            ],
            "sizemode": "area",
            "sizeref": 248.225,
            "symbol": "circle"
           },
           "mode": "markers",
           "name": "COL",
           "orientation": "v",
           "showlegend": true,
           "type": "scatter",
           "x": [
            0.6719949494949495
           ],
           "xaxis": "x",
           "y": [
            6.012
           ],
           "yaxis": "y"
          },
          {
           "hovertemplate": "country=CRI<br>year=2021<br>avg valence=%{x}<br>depression=%{y}<br>gdp per cap=%{marker.size}<extra></extra>",
           "legendgroup": "CRI",
           "marker": {
            "color": "#ab63fa",
            "size": [
             60884
            ],
            "sizemode": "area",
            "sizeref": 248.225,
            "symbol": "circle"
           },
           "mode": "markers",
           "name": "CRI",
           "orientation": "v",
           "showlegend": true,
           "type": "scatter",
           "x": [
            0.633478787878788
           ],
           "xaxis": "x",
           "y": [
            7.069
           ],
           "yaxis": "y"
          },
          {
           "hovertemplate": "country=CYP<br>year=2021<br>avg valence=%{x}<br>depression=%{y}<br>gdp per cap=%{marker.size}<extra></extra>",
           "legendgroup": "CYP",
           "marker": {
            "color": "#FFA15A",
            "size": [
             22919
            ],
            "sizemode": "area",
            "sizeref": 248.225,
            "symbol": "circle"
           },
           "mode": "markers",
           "name": "CYP",
           "orientation": "v",
           "showlegend": true,
           "type": "scatter",
           "x": [
            0.4826654999999997
           ],
           "xaxis": "x",
           "y": [
            6.223
           ],
           "yaxis": "y"
          },
          {
           "hovertemplate": "country=CZE<br>year=2021<br>avg valence=%{x}<br>depression=%{y}<br>gdp per cap=%{marker.size}<extra></extra>",
           "legendgroup": "CZE",
           "marker": {
            "color": "#19d3f3",
            "size": [
             0
            ],
            "sizemode": "area",
            "sizeref": 248.225,
            "symbol": "circle"
           },
           "mode": "markers",
           "name": "CZE",
           "orientation": "v",
           "showlegend": true,
           "type": "scatter",
           "x": [
            0.4815261306532665
           ],
           "xaxis": "x",
           "y": [
            6.965
           ],
           "yaxis": "y"
          },
          {
           "hovertemplate": "country=DEU<br>year=2021<br>avg valence=%{x}<br>depression=%{y}<br>gdp per cap=%{marker.size}<extra></extra>",
           "legendgroup": "DEU",
           "marker": {
            "color": "#FF6692",
            "size": [
             47685
            ],
            "sizemode": "area",
            "sizeref": 248.225,
            "symbol": "circle"
           },
           "mode": "markers",
           "name": "DEU",
           "orientation": "v",
           "showlegend": true,
           "type": "scatter",
           "x": [
            0.4971872448979594
           ],
           "xaxis": "x",
           "y": [
            7.155
           ],
           "yaxis": "y"
          },
          {
           "hovertemplate": "country=DNK<br>year=2021<br>avg valence=%{x}<br>depression=%{y}<br>gdp per cap=%{marker.size}<extra></extra>",
           "legendgroup": "DNK",
           "marker": {
            "color": "#B6E880",
            "size": [
             62043
            ],
            "sizemode": "area",
            "sizeref": 248.225,
            "symbol": "circle"
           },
           "mode": "markers",
           "name": "DNK",
           "orientation": "v",
           "showlegend": true,
           "type": "scatter",
           "x": [
            0.5082919597989951
           ],
           "xaxis": "x",
           "y": [
            7.62
           ],
           "yaxis": "y"
          },
          {
           "hovertemplate": "country=DOM<br>year=2021<br>avg valence=%{x}<br>depression=%{y}<br>gdp per cap=%{marker.size}<extra></extra>",
           "legendgroup": "DOM",
           "marker": {
            "color": "#FF97FF",
            "size": [
             84982
            ],
            "sizemode": "area",
            "sizeref": 248.225,
            "symbol": "circle"
           },
           "mode": "markers",
           "name": "DOM",
           "orientation": "v",
           "showlegend": true,
           "type": "scatter",
           "x": [
            0.6121532663316583
           ],
           "xaxis": "x",
           "y": [
            5.545
           ],
           "yaxis": "y"
          },
          {
           "hovertemplate": "country=ECU<br>year=2021<br>avg valence=%{x}<br>depression=%{y}<br>gdp per cap=%{marker.size}<extra></extra>",
           "legendgroup": "ECU",
           "marker": {
            "color": "#FECB52",
            "size": [
             6296
            ],
            "sizemode": "area",
            "sizeref": 248.225,
            "symbol": "circle"
           },
           "mode": "markers",
           "name": "ECU",
           "orientation": "v",
           "showlegend": true,
           "type": "scatter",
           "x": [
            0.6258510101010105
           ],
           "xaxis": "x",
           "y": [
            5.764
           ],
           "yaxis": "y"
          },
          {
           "hovertemplate": "country=EST<br>year=2021<br>avg valence=%{x}<br>depression=%{y}<br>gdp per cap=%{marker.size}<extra></extra>",
           "legendgroup": "EST",
           "marker": {
            "color": "#636efa",
            "size": [
             26184
            ],
            "sizemode": "area",
            "sizeref": 248.225,
            "symbol": "circle"
           },
           "mode": "markers",
           "name": "EST",
           "orientation": "v",
           "showlegend": true,
           "type": "scatter",
           "x": [
            0.49825349999999985
           ],
           "xaxis": "x",
           "y": [
            6.189
           ],
           "yaxis": "y"
          },
          {
           "hovertemplate": "country=EGY<br>year=2021<br>avg valence=%{x}<br>depression=%{y}<br>gdp per cap=%{marker.size}<extra></extra>",
           "legendgroup": "EGY",
           "marker": {
            "color": "#EF553B",
            "size": [
             2538
            ],
            "sizemode": "area",
            "sizeref": 248.225,
            "symbol": "circle"
           },
           "mode": "markers",
           "name": "EGY",
           "orientation": "v",
           "showlegend": true,
           "type": "scatter",
           "x": [
            0.520162564102564
           ],
           "xaxis": "x",
           "y": [
            4.283
           ],
           "yaxis": "y"
          },
          {
           "hovertemplate": "country=ESP<br>year=2021<br>avg valence=%{x}<br>depression=%{y}<br>gdp per cap=%{marker.size}<extra></extra>",
           "legendgroup": "ESP",
           "marker": {
            "color": "#00cc96",
            "size": [
             30458
            ],
            "sizemode": "area",
            "sizeref": 248.225,
            "symbol": "circle"
           },
           "mode": "markers",
           "name": "ESP",
           "orientation": "v",
           "showlegend": true,
           "type": "scatter",
           "x": [
            0.6109883838383837
           ],
           "xaxis": "x",
           "y": [
            6.491
           ],
           "yaxis": "y"
          },
          {
           "hovertemplate": "country=FIN<br>year=2021<br>avg valence=%{x}<br>depression=%{y}<br>gdp per cap=%{marker.size}<extra></extra>",
           "legendgroup": "FIN",
           "marker": {
            "color": "#ab63fa",
            "size": [
             49967
            ],
            "sizemode": "area",
            "sizeref": 248.225,
            "symbol": "circle"
           },
           "mode": "markers",
           "name": "FIN",
           "orientation": "v",
           "showlegend": true,
           "type": "scatter",
           "x": [
            0.5016636363636364
           ],
           "xaxis": "x",
           "y": [
            7.842
           ],
           "yaxis": "y"
          },
          {
           "hovertemplate": "country=FRA<br>year=2021<br>avg valence=%{x}<br>depression=%{y}<br>gdp per cap=%{marker.size}<extra></extra>",
           "legendgroup": "FRA",
           "marker": {
            "color": "#FFA15A",
            "size": [
             41492
            ],
            "sizemode": "area",
            "sizeref": 248.225,
            "symbol": "circle"
           },
           "mode": "markers",
           "name": "FRA",
           "orientation": "v",
           "showlegend": true,
           "type": "scatter",
           "x": [
            0.5377295918367351
           ],
           "xaxis": "x",
           "y": [
            6.69
           ],
           "yaxis": "y"
          },
          {
           "hovertemplate": "country=GBR<br>year=2021<br>avg valence=%{x}<br>depression=%{y}<br>gdp per cap=%{marker.size}<extra></extra>",
           "legendgroup": "GBR",
           "marker": {
            "color": "#19d3f3",
            "size": [
             42557
            ],
            "sizemode": "area",
            "sizeref": 248.225,
            "symbol": "circle"
           },
           "mode": "markers",
           "name": "GBR",
           "orientation": "v",
           "showlegend": true,
           "type": "scatter",
           "x": [
            0.5132139999999995
           ],
           "xaxis": "x",
           "y": [
            7.064
           ],
           "yaxis": "y"
          },
          {
           "hovertemplate": "country=GRC<br>year=2021<br>avg valence=%{x}<br>depression=%{y}<br>gdp per cap=%{marker.size}<extra></extra>",
           "legendgroup": "GRC",
           "marker": {
            "color": "#FF6692",
            "size": [
             20172
            ],
            "sizemode": "area",
            "sizeref": 248.225,
            "symbol": "circle"
           },
           "mode": "markers",
           "name": "GRC",
           "orientation": "v",
           "showlegend": true,
           "type": "scatter",
           "x": [
            0.48847749999999956
           ],
           "xaxis": "x",
           "y": [
            5.723
           ],
           "yaxis": "y"
          },
          {
           "hovertemplate": "country=GTM<br>year=2021<br>avg valence=%{x}<br>depression=%{y}<br>gdp per cap=%{marker.size}<extra></extra>",
           "legendgroup": "GTM",
           "marker": {
            "color": "#B6E880",
            "size": [
             67897
            ],
            "sizemode": "area",
            "sizeref": 248.225,
            "symbol": "circle"
           },
           "mode": "markers",
           "name": "GTM",
           "orientation": "v",
           "showlegend": true,
           "type": "scatter",
           "x": [
            0.646180808080808
           ],
           "xaxis": "x",
           "y": [
            6.435
           ],
           "yaxis": "y"
          },
          {
           "hovertemplate": "country=HKG<br>year=2021<br>avg valence=%{x}<br>depression=%{y}<br>gdp per cap=%{marker.size}<extra></extra>",
           "legendgroup": "HKG",
           "marker": {
            "color": "#FF97FF",
            "size": [
             0
            ],
            "sizemode": "area",
            "sizeref": 248.225,
            "symbol": "circle"
           },
           "mode": "markers",
           "name": "HKG",
           "orientation": "v",
           "showlegend": true,
           "type": "scatter",
           "x": [
            0.4394206030150751
           ],
           "xaxis": "x",
           "y": [
            0
           ],
           "yaxis": "y"
          },
          {
           "hovertemplate": "country=HND<br>year=2021<br>avg valence=%{x}<br>depression=%{y}<br>gdp per cap=%{marker.size}<extra></extra>",
           "legendgroup": "HND",
           "marker": {
            "color": "#FECB52",
            "size": [
             23697
            ],
            "sizemode": "area",
            "sizeref": 248.225,
            "symbol": "circle"
           },
           "mode": "markers",
           "name": "HND",
           "orientation": "v",
           "showlegend": true,
           "type": "scatter",
           "x": [
            0.6195782828282828
           ],
           "xaxis": "x",
           "y": [
            5.919
           ],
           "yaxis": "y"
          },
          {
           "hovertemplate": "country=HUN<br>year=2021<br>avg valence=%{x}<br>depression=%{y}<br>gdp per cap=%{marker.size}<extra></extra>",
           "legendgroup": "HUN",
           "marker": {
            "color": "#636efa",
            "size": [
             16525
            ],
            "sizemode": "area",
            "sizeref": 248.225,
            "symbol": "circle"
           },
           "mode": "markers",
           "name": "HUN",
           "orientation": "v",
           "showlegend": true,
           "type": "scatter",
           "x": [
            0.5099245
           ],
           "xaxis": "x",
           "y": [
            5.992
           ],
           "yaxis": "y"
          },
          {
           "hovertemplate": "country=IDN<br>year=2021<br>avg valence=%{x}<br>depression=%{y}<br>gdp per cap=%{marker.size}<extra></extra>",
           "legendgroup": "IDN",
           "marker": {
            "color": "#EF553B",
            "size": [
             3894
            ],
            "sizemode": "area",
            "sizeref": 248.225,
            "symbol": "circle"
           },
           "mode": "markers",
           "name": "IDN",
           "orientation": "v",
           "showlegend": true,
           "type": "scatter",
           "x": [
            0.42318484848484816
           ],
           "xaxis": "x",
           "y": [
            5.345
           ],
           "yaxis": "y"
          },
          {
           "hovertemplate": "country=IRL<br>year=2021<br>avg valence=%{x}<br>depression=%{y}<br>gdp per cap=%{marker.size}<extra></extra>",
           "legendgroup": "IRL",
           "marker": {
            "color": "#00cc96",
            "size": [
             80137
            ],
            "sizemode": "area",
            "sizeref": 248.225,
            "symbol": "circle"
           },
           "mode": "markers",
           "name": "IRL",
           "orientation": "v",
           "showlegend": true,
           "type": "scatter",
           "x": [
            0.5082705
           ],
           "xaxis": "x",
           "y": [
            7.085
           ],
           "yaxis": "y"
          },
          {
           "hovertemplate": "country=ISR<br>year=2021<br>avg valence=%{x}<br>depression=%{y}<br>gdp per cap=%{marker.size}<extra></extra>",
           "legendgroup": "ISR",
           "marker": {
            "color": "#ab63fa",
            "size": [
             44215
            ],
            "sizemode": "area",
            "sizeref": 248.225,
            "symbol": "circle"
           },
           "mode": "markers",
           "name": "ISR",
           "orientation": "v",
           "showlegend": true,
           "type": "scatter",
           "x": [
            0.46432295918367356
           ],
           "xaxis": "x",
           "y": [
            7.157
           ],
           "yaxis": "y"
          },
          {
           "hovertemplate": "country=IND<br>year=2021<br>avg valence=%{x}<br>depression=%{y}<br>gdp per cap=%{marker.size}<extra></extra>",
           "legendgroup": "IND",
           "marker": {
            "color": "#FFA15A",
            "size": [
             2051
            ],
            "sizemode": "area",
            "sizeref": 248.225,
            "symbol": "circle"
           },
           "mode": "markers",
           "name": "IND",
           "orientation": "v",
           "showlegend": true,
           "type": "scatter",
           "x": [
            0.5298668604651161
           ],
           "xaxis": "x",
           "y": [
            3.819
           ],
           "yaxis": "y"
          },
          {
           "hovertemplate": "country=ISL<br>year=2021<br>avg valence=%{x}<br>depression=%{y}<br>gdp per cap=%{marker.size}<extra></extra>",
           "legendgroup": "ISL",
           "marker": {
            "color": "#19d3f3",
            "size": [
             20124
            ],
            "sizemode": "area",
            "sizeref": 248.225,
            "symbol": "circle"
           },
           "mode": "markers",
           "name": "ISL",
           "orientation": "v",
           "showlegend": true,
           "type": "scatter",
           "x": [
            0.4507707070707072
           ],
           "xaxis": "x",
           "y": [
            7.554
           ],
           "yaxis": "y"
          },
          {
           "hovertemplate": "country=ITA<br>year=2021<br>avg valence=%{x}<br>depression=%{y}<br>gdp per cap=%{marker.size}<extra></extra>",
           "legendgroup": "ITA",
           "marker": {
            "color": "#FF6692",
            "size": [
             34498
            ],
            "sizemode": "area",
            "sizeref": 248.225,
            "symbol": "circle"
           },
           "mode": "markers",
           "name": "ITA",
           "orientation": "v",
           "showlegend": true,
           "type": "scatter",
           "x": [
            0.47781300000000015
           ],
           "xaxis": "x",
           "y": [
            6.483
           ],
           "yaxis": "y"
          },
          {
           "hovertemplate": "country=JPN<br>year=2021<br>avg valence=%{x}<br>depression=%{y}<br>gdp per cap=%{marker.size}<extra></extra>",
           "legendgroup": "JPN",
           "marker": {
            "color": "#B6E880",
            "size": [
             38952
            ],
            "sizemode": "area",
            "sizeref": 248.225,
            "symbol": "circle"
           },
           "mode": "markers",
           "name": "JPN",
           "orientation": "v",
           "showlegend": true,
           "type": "scatter",
           "x": [
            0.5643969999999998
           ],
           "xaxis": "x",
           "y": [
            5.94
           ],
           "yaxis": "y"
          },
          {
           "hovertemplate": "country=KOR<br>year=2021<br>avg valence=%{x}<br>depression=%{y}<br>gdp per cap=%{marker.size}<extra></extra>",
           "legendgroup": "KOR",
           "marker": {
            "color": "#FF97FF",
            "size": [
             0
            ],
            "sizemode": "area",
            "sizeref": 248.225,
            "symbol": "circle"
           },
           "mode": "markers",
           "name": "KOR",
           "orientation": "v",
           "showlegend": true,
           "type": "scatter",
           "x": [
            0.4998928934010157
           ],
           "xaxis": "x",
           "y": [
            0
           ],
           "yaxis": "y"
          },
          {
           "hovertemplate": "country=LTU<br>year=2021<br>avg valence=%{x}<br>depression=%{y}<br>gdp per cap=%{marker.size}<extra></extra>",
           "legendgroup": "LTU",
           "marker": {
            "color": "#636efa",
            "size": [
             46024
            ],
            "sizemode": "area",
            "sizeref": 248.225,
            "symbol": "circle"
           },
           "mode": "markers",
           "name": "LTU",
           "orientation": "v",
           "showlegend": true,
           "type": "scatter",
           "x": [
            0.4984105527638191
           ],
           "xaxis": "x",
           "y": [
            6.255
           ],
           "yaxis": "y"
          },
          {
           "hovertemplate": "country=LUX<br>year=2021<br>avg valence=%{x}<br>depression=%{y}<br>gdp per cap=%{marker.size}<extra></extra>",
           "legendgroup": "LUX",
           "marker": {
            "color": "#EF553B",
            "size": [
             63386
            ],
            "sizemode": "area",
            "sizeref": 248.225,
            "symbol": "circle"
           },
           "mode": "markers",
           "name": "LUX",
           "orientation": "v",
           "showlegend": true,
           "type": "scatter",
           "x": [
            0.4916944999999995
           ],
           "xaxis": "x",
           "y": [
            7.324
           ],
           "yaxis": "y"
          },
          {
           "hovertemplate": "country=LVA<br>year=2021<br>avg valence=%{x}<br>depression=%{y}<br>gdp per cap=%{marker.size}<extra></extra>",
           "legendgroup": "LVA",
           "marker": {
            "color": "#00cc96",
            "size": [
             29951
            ],
            "sizemode": "area",
            "sizeref": 248.225,
            "symbol": "circle"
           },
           "mode": "markers",
           "name": "LVA",
           "orientation": "v",
           "showlegend": true,
           "type": "scatter",
           "x": [
            0.4693251256281409
           ],
           "xaxis": "x",
           "y": [
            6.032
           ],
           "yaxis": "y"
          },
          {
           "hovertemplate": "country=MAR<br>year=2021<br>avg valence=%{x}<br>depression=%{y}<br>gdp per cap=%{marker.size}<extra></extra>",
           "legendgroup": "MAR",
           "marker": {
            "color": "#ab63fa",
            "size": [
             3278
            ],
            "sizemode": "area",
            "sizeref": 248.225,
            "symbol": "circle"
           },
           "mode": "markers",
           "name": "MAR",
           "orientation": "v",
           "showlegend": true,
           "type": "scatter",
           "x": [
            0.5149225000000001
           ],
           "xaxis": "x",
           "y": [
            4.918
           ],
           "yaxis": "y"
          },
          {
           "hovertemplate": "country=MEX<br>year=2021<br>avg valence=%{x}<br>depression=%{y}<br>gdp per cap=%{marker.size}<extra></extra>",
           "legendgroup": "MEX",
           "marker": {
            "color": "#FFA15A",
            "size": [
             9673
            ],
            "sizemode": "area",
            "sizeref": 248.225,
            "symbol": "circle"
           },
           "mode": "markers",
           "name": "MEX",
           "orientation": "v",
           "showlegend": true,
           "type": "scatter",
           "x": [
            0.655661616161616
           ],
           "xaxis": "x",
           "y": [
            6.317
           ],
           "yaxis": "y"
          },
          {
           "hovertemplate": "country=MYS<br>year=2021<br>avg valence=%{x}<br>depression=%{y}<br>gdp per cap=%{marker.size}<extra></extra>",
           "legendgroup": "MYS",
           "marker": {
            "color": "#19d3f3",
            "size": [
             11378
            ],
            "sizemode": "area",
            "sizeref": 248.225,
            "symbol": "circle"
           },
           "mode": "markers",
           "name": "MYS",
           "orientation": "v",
           "showlegend": true,
           "type": "scatter",
           "x": [
            0.4420944723618088
           ],
           "xaxis": "x",
           "y": [
            5.384
           ],
           "yaxis": "y"
          },
          {
           "hovertemplate": "country=NIC<br>year=2021<br>avg valence=%{x}<br>depression=%{y}<br>gdp per cap=%{marker.size}<extra></extra>",
           "legendgroup": "NIC",
           "marker": {
            "color": "#B6E880",
            "size": [
             13405
            ],
            "sizemode": "area",
            "sizeref": 248.225,
            "symbol": "circle"
           },
           "mode": "markers",
           "name": "NIC",
           "orientation": "v",
           "showlegend": true,
           "type": "scatter",
           "x": [
            0.6341252525252526
           ],
           "xaxis": "x",
           "y": [
            5.972
           ],
           "yaxis": "y"
          },
          {
           "hovertemplate": "country=NLD<br>year=2021<br>avg valence=%{x}<br>depression=%{y}<br>gdp per cap=%{marker.size}<extra></extra>",
           "legendgroup": "NLD",
           "marker": {
            "color": "#FF97FF",
            "size": [
             53580
            ],
            "sizemode": "area",
            "sizeref": 248.225,
            "symbol": "circle"
           },
           "mode": "markers",
           "name": "NLD",
           "orientation": "v",
           "showlegend": true,
           "type": "scatter",
           "x": [
            0.5129644999999999
           ],
           "xaxis": "x",
           "y": [
            7.464
           ],
           "yaxis": "y"
          },
          {
           "hovertemplate": "country=NOR<br>year=2021<br>avg valence=%{x}<br>depression=%{y}<br>gdp per cap=%{marker.size}<extra></extra>",
           "legendgroup": "NOR",
           "marker": {
            "color": "#FECB52",
            "size": [
             81336
            ],
            "sizemode": "area",
            "sizeref": 248.225,
            "symbol": "circle"
           },
           "mode": "markers",
           "name": "NOR",
           "orientation": "v",
           "showlegend": true,
           "type": "scatter",
           "x": [
            0.45186717171717167
           ],
           "xaxis": "x",
           "y": [
            7.392
           ],
           "yaxis": "y"
          },
          {
           "hovertemplate": "country=NZL<br>year=2021<br>avg valence=%{x}<br>depression=%{y}<br>gdp per cap=%{marker.size}<extra></extra>",
           "legendgroup": "NZL",
           "marker": {
            "color": "#636efa",
            "size": [
             43836
            ],
            "sizemode": "area",
            "sizeref": 248.225,
            "symbol": "circle"
           },
           "mode": "markers",
           "name": "NZL",
           "orientation": "v",
           "showlegend": true,
           "type": "scatter",
           "x": [
            0.5607242424242426
           ],
           "xaxis": "x",
           "y": [
            7.277
           ],
           "yaxis": "y"
          },
          {
           "hovertemplate": "country=PAN<br>year=2021<br>avg valence=%{x}<br>depression=%{y}<br>gdp per cap=%{marker.size}<extra></extra>",
           "legendgroup": "PAN",
           "marker": {
            "color": "#EF553B",
            "size": [
             62102
            ],
            "sizemode": "area",
            "sizeref": 248.225,
            "symbol": "circle"
           },
           "mode": "markers",
           "name": "PAN",
           "orientation": "v",
           "showlegend": true,
           "type": "scatter",
           "x": [
            0.6059166666666669
           ],
           "xaxis": "x",
           "y": [
            6.18
           ],
           "yaxis": "y"
          },
          {
           "hovertemplate": "country=PER<br>year=2021<br>avg valence=%{x}<br>depression=%{y}<br>gdp per cap=%{marker.size}<extra></extra>",
           "legendgroup": "PER",
           "marker": {
            "color": "#00cc96",
            "size": [
             6941
            ],
            "sizemode": "area",
            "sizeref": 248.225,
            "symbol": "circle"
           },
           "mode": "markers",
           "name": "PER",
           "orientation": "v",
           "showlegend": true,
           "type": "scatter",
           "x": [
            0.646843434343435
           ],
           "xaxis": "x",
           "y": [
            5.84
           ],
           "yaxis": "y"
          },
          {
           "hovertemplate": "country=PHL<br>year=2021<br>avg valence=%{x}<br>depression=%{y}<br>gdp per cap=%{marker.size}<extra></extra>",
           "legendgroup": "PHL",
           "marker": {
            "color": "#ab63fa",
            "size": [
             3103
            ],
            "sizemode": "area",
            "sizeref": 248.225,
            "symbol": "circle"
           },
           "mode": "markers",
           "name": "PHL",
           "orientation": "v",
           "showlegend": true,
           "type": "scatter",
           "x": [
            0.47133768844221113
           ],
           "xaxis": "x",
           "y": [
            5.88
           ],
           "yaxis": "y"
          },
          {
           "hovertemplate": "country=POL<br>year=2021<br>avg valence=%{x}<br>depression=%{y}<br>gdp per cap=%{marker.size}<extra></extra>",
           "legendgroup": "POL",
           "marker": {
            "color": "#FFA15A",
            "size": [
             15490
            ],
            "sizemode": "area",
            "sizeref": 248.225,
            "symbol": "circle"
           },
           "mode": "markers",
           "name": "POL",
           "orientation": "v",
           "showlegend": true,
           "type": "scatter",
           "x": [
            0.5176247474747475
           ],
           "xaxis": "x",
           "y": [
            6.166
           ],
           "yaxis": "y"
          },
          {
           "hovertemplate": "country=PRT<br>year=2021<br>avg valence=%{x}<br>depression=%{y}<br>gdp per cap=%{marker.size}<extra></extra>",
           "legendgroup": "PRT",
           "marker": {
            "color": "#19d3f3",
            "size": [
             23626
            ],
            "sizemode": "area",
            "sizeref": 248.225,
            "symbol": "circle"
           },
           "mode": "markers",
           "name": "PRT",
           "orientation": "v",
           "showlegend": true,
           "type": "scatter",
           "x": [
            0.49581616161616116
           ],
           "xaxis": "x",
           "y": [
            5.929
           ],
           "yaxis": "y"
          },
          {
           "hovertemplate": "country=PRY<br>year=2021<br>avg valence=%{x}<br>depression=%{y}<br>gdp per cap=%{marker.size}<extra></extra>",
           "legendgroup": "PRY",
           "marker": {
            "color": "#FF6692",
            "size": [
             40921
            ],
            "sizemode": "area",
            "sizeref": 248.225,
            "symbol": "circle"
           },
           "mode": "markers",
           "name": "PRY",
           "orientation": "v",
           "showlegend": true,
           "type": "scatter",
           "x": [
            0.6589646464646465
           ],
           "xaxis": "x",
           "y": [
            5.653
           ],
           "yaxis": "y"
          },
          {
           "hovertemplate": "country=ROU<br>year=2021<br>avg valence=%{x}<br>depression=%{y}<br>gdp per cap=%{marker.size}<extra></extra>",
           "legendgroup": "ROU",
           "marker": {
            "color": "#B6E880",
            "size": [
             12387
            ],
            "sizemode": "area",
            "sizeref": 248.225,
            "symbol": "circle"
           },
           "mode": "markers",
           "name": "ROU",
           "orientation": "v",
           "showlegend": true,
           "type": "scatter",
           "x": [
            0.5127656565656564
           ],
           "xaxis": "x",
           "y": [
            6.14
           ],
           "yaxis": "y"
          },
          {
           "hovertemplate": "country=SAU<br>year=2021<br>avg valence=%{x}<br>depression=%{y}<br>gdp per cap=%{marker.size}<extra></extra>",
           "legendgroup": "SAU",
           "marker": {
            "color": "#FF97FF",
            "size": [
             23337
            ],
            "sizemode": "area",
            "sizeref": 248.225,
            "symbol": "circle"
           },
           "mode": "markers",
           "name": "SAU",
           "orientation": "v",
           "showlegend": true,
           "type": "scatter",
           "x": [
            0.5516353535353534
           ],
           "xaxis": "x",
           "y": [
            6.494
           ],
           "yaxis": "y"
          },
          {
           "hovertemplate": "country=SWE<br>year=2021<br>avg valence=%{x}<br>depression=%{y}<br>gdp per cap=%{marker.size}<extra></extra>",
           "legendgroup": "SWE",
           "marker": {
            "color": "#FECB52",
            "size": [
             55704
            ],
            "sizemode": "area",
            "sizeref": 248.225,
            "symbol": "circle"
           },
           "mode": "markers",
           "name": "SWE",
           "orientation": "v",
           "showlegend": true,
           "type": "scatter",
           "x": [
            0.4815215384615385
           ],
           "xaxis": "x",
           "y": [
            7.363
           ],
           "yaxis": "y"
          },
          {
           "hovertemplate": "country=SGP<br>year=2021<br>avg valence=%{x}<br>depression=%{y}<br>gdp per cap=%{marker.size}<extra></extra>",
           "legendgroup": "SGP",
           "marker": {
            "color": "#636efa",
            "size": [
             64821
            ],
            "sizemode": "area",
            "sizeref": 248.225,
            "symbol": "circle"
           },
           "mode": "markers",
           "name": "SGP",
           "orientation": "v",
           "showlegend": true,
           "type": "scatter",
           "x": [
            0.4474286432160803
           ],
           "xaxis": "x",
           "y": [
            6.377
           ],
           "yaxis": "y"
          },
          {
           "hovertemplate": "country=SVK<br>year=2021<br>avg valence=%{x}<br>depression=%{y}<br>gdp per cap=%{marker.size}<extra></extra>",
           "legendgroup": "SVK",
           "marker": {
            "color": "#EF553B",
            "size": [
             96613
            ],
            "sizemode": "area",
            "sizeref": 248.225,
            "symbol": "circle"
           },
           "mode": "markers",
           "name": "SVK",
           "orientation": "v",
           "showlegend": true,
           "type": "scatter",
           "x": [
            0.4861311557788944
           ],
           "xaxis": "x",
           "y": [
            6.331
           ],
           "yaxis": "y"
          },
          {
           "hovertemplate": "country=SLV<br>year=2021<br>avg valence=%{x}<br>depression=%{y}<br>gdp per cap=%{marker.size}<extra></extra>",
           "legendgroup": "SLV",
           "marker": {
            "color": "#00cc96",
            "size": [
             25171
            ],
            "sizemode": "area",
            "sizeref": 248.225,
            "symbol": "circle"
           },
           "mode": "markers",
           "name": "SLV",
           "orientation": "v",
           "showlegend": true,
           "type": "scatter",
           "x": [
            0.6214122340425532
           ],
           "xaxis": "x",
           "y": [
            6.061
           ],
           "yaxis": "y"
          },
          {
           "hovertemplate": "country=THA<br>year=2021<br>avg valence=%{x}<br>depression=%{y}<br>gdp per cap=%{marker.size}<extra></extra>",
           "legendgroup": "THA",
           "marker": {
            "color": "#ab63fa",
            "size": [
             7274
            ],
            "sizemode": "area",
            "sizeref": 248.225,
            "symbol": "circle"
           },
           "mode": "markers",
           "name": "THA",
           "orientation": "v",
           "showlegend": true,
           "type": "scatter",
           "x": [
            0.5056185567010308
           ],
           "xaxis": "x",
           "y": [
            5.985
           ],
           "yaxis": "y"
          },
          {
           "hovertemplate": "country=TUR<br>year=2021<br>avg valence=%{x}<br>depression=%{y}<br>gdp per cap=%{marker.size}<extra></extra>",
           "legendgroup": "TUR",
           "marker": {
            "color": "#FFA15A",
            "size": [
             9453
            ],
            "sizemode": "area",
            "sizeref": 248.225,
            "symbol": "circle"
           },
           "mode": "markers",
           "name": "TUR",
           "orientation": "v",
           "showlegend": true,
           "type": "scatter",
           "x": [
            0.4819351758793971
           ],
           "xaxis": "x",
           "y": [
            4.948
           ],
           "yaxis": "y"
          },
          {
           "hovertemplate": "country=TWN<br>year=2021<br>avg valence=%{x}<br>depression=%{y}<br>gdp per cap=%{marker.size}<extra></extra>",
           "legendgroup": "TWN",
           "marker": {
            "color": "#19d3f3",
            "size": [
             0
            ],
            "sizemode": "area",
            "sizeref": 248.225,
            "symbol": "circle"
           },
           "mode": "markers",
           "name": "TWN",
           "orientation": "v",
           "showlegend": true,
           "type": "scatter",
           "x": [
            0.4184974358974359
           ],
           "xaxis": "x",
           "y": [
            0
           ],
           "yaxis": "y"
          },
          {
           "hovertemplate": "country=UKR<br>year=2021<br>avg valence=%{x}<br>depression=%{y}<br>gdp per cap=%{marker.size}<extra></extra>",
           "legendgroup": "UKR",
           "marker": {
            "color": "#FF6692",
            "size": [
             98807
            ],
            "sizemode": "area",
            "sizeref": 248.225,
            "symbol": "circle"
           },
           "mode": "markers",
           "name": "UKR",
           "orientation": "v",
           "showlegend": true,
           "type": "scatter",
           "x": [
            0.4772944162436546
           ],
           "xaxis": "x",
           "y": [
            4.875
           ],
           "yaxis": "y"
          },
          {
           "hovertemplate": "country=USA<br>year=2021<br>avg valence=%{x}<br>depression=%{y}<br>gdp per cap=%{marker.size}<extra></extra>",
           "legendgroup": "USA",
           "marker": {
            "color": "#B6E880",
            "size": [
             0
            ],
            "sizemode": "area",
            "sizeref": 248.225,
            "symbol": "circle"
           },
           "mode": "markers",
           "name": "USA",
           "orientation": "v",
           "showlegend": true,
           "type": "scatter",
           "x": [
            0.47951414141414106
           ],
           "xaxis": "x",
           "y": [
            6.951
           ],
           "yaxis": "y"
          },
          {
           "hovertemplate": "country=URY<br>year=2021<br>avg valence=%{x}<br>depression=%{y}<br>gdp per cap=%{marker.size}<extra></extra>",
           "legendgroup": "URY",
           "marker": {
            "color": "#FF97FF",
            "size": [
             56479
            ],
            "sizemode": "area",
            "sizeref": 248.225,
            "symbol": "circle"
           },
           "mode": "markers",
           "name": "URY",
           "orientation": "v",
           "showlegend": true,
           "type": "scatter",
           "x": [
            0.6687005076142134
           ],
           "xaxis": "x",
           "y": [
            6.431
           ],
           "yaxis": "y"
          },
          {
           "hovertemplate": "country=VNM<br>year=2021<br>avg valence=%{x}<br>depression=%{y}<br>gdp per cap=%{marker.size}<extra></extra>",
           "legendgroup": "VNM",
           "marker": {
            "color": "#636efa",
            "size": [
             2566
            ],
            "sizemode": "area",
            "sizeref": 248.225,
            "symbol": "circle"
           },
           "mode": "markers",
           "name": "VNM",
           "orientation": "v",
           "showlegend": true,
           "type": "scatter",
           "x": [
            0.443285
           ],
           "xaxis": "x",
           "y": [
            0
           ],
           "yaxis": "y"
          },
          {
           "hovertemplate": "country=ZAF<br>year=2021<br>avg valence=%{x}<br>depression=%{y}<br>gdp per cap=%{marker.size}<extra></extra>",
           "legendgroup": "ZAF",
           "marker": {
            "color": "#EF553B",
            "size": [
             6369
            ],
            "sizemode": "area",
            "sizeref": 248.225,
            "symbol": "circle"
           },
           "mode": "markers",
           "name": "ZAF",
           "orientation": "v",
           "showlegend": true,
           "type": "scatter",
           "x": [
            0.4908522613065324
           ],
           "xaxis": "x",
           "y": [
            4.956
           ],
           "yaxis": "y"
          }
         ],
         "name": "2021"
        },
        {
         "data": [
          {
           "hovertemplate": "country=ARE<br>year=2022<br>avg valence=%{x}<br>depression=%{y}<br>gdp per cap=%{marker.size}<extra></extra>",
           "legendgroup": "ARE",
           "marker": {
            "color": "#636efa",
            "size": [
             43103
            ],
            "sizemode": "area",
            "sizeref": 248.225,
            "symbol": "circle"
           },
           "mode": "markers",
           "name": "ARE",
           "orientation": "v",
           "showlegend": true,
           "type": "scatter",
           "x": [
            0.4609527638190953
           ],
           "xaxis": "x",
           "y": [
            6.576
           ],
           "yaxis": "y"
          },
          {
           "hovertemplate": "country=ARG<br>year=2022<br>avg valence=%{x}<br>depression=%{y}<br>gdp per cap=%{marker.size}<extra></extra>",
           "legendgroup": "ARG",
           "marker": {
            "color": "#EF553B",
            "size": [
             10041
            ],
            "sizemode": "area",
            "sizeref": 248.225,
            "symbol": "circle"
           },
           "mode": "markers",
           "name": "ARG",
           "orientation": "v",
           "showlegend": true,
           "type": "scatter",
           "x": [
            0.6562613065326636
           ],
           "xaxis": "x",
           "y": [
            5.967
           ],
           "yaxis": "y"
          },
          {
           "hovertemplate": "country=AUT<br>year=2022<br>avg valence=%{x}<br>depression=%{y}<br>gdp per cap=%{marker.size}<extra></extra>",
           "legendgroup": "AUT",
           "marker": {
            "color": "#00cc96",
            "size": [
             49701
            ],
            "sizemode": "area",
            "sizeref": 248.225,
            "symbol": "circle"
           },
           "mode": "markers",
           "name": "AUT",
           "orientation": "v",
           "showlegend": true,
           "type": "scatter",
           "x": [
            0.5311722222222225
           ],
           "xaxis": "x",
           "y": [
            7.163
           ],
           "yaxis": "y"
          },
          {
           "hovertemplate": "country=AUS<br>year=2022<br>avg valence=%{x}<br>depression=%{y}<br>gdp per cap=%{marker.size}<extra></extra>",
           "legendgroup": "AUS",
           "marker": {
            "color": "#ab63fa",
            "size": [
             54763
            ],
            "sizemode": "area",
            "sizeref": 248.225,
            "symbol": "circle"
           },
           "mode": "markers",
           "name": "AUS",
           "orientation": "v",
           "showlegend": true,
           "type": "scatter",
           "x": [
            0.5264564999999999
           ],
           "xaxis": "x",
           "y": [
            7.162
           ],
           "yaxis": "y"
          },
          {
           "hovertemplate": "country=BEL<br>year=2022<br>avg valence=%{x}<br>depression=%{y}<br>gdp per cap=%{marker.size}<extra></extra>",
           "legendgroup": "BEL",
           "marker": {
            "color": "#FFA15A",
            "size": [
             46198
            ],
            "sizemode": "area",
            "sizeref": 248.225,
            "symbol": "circle"
           },
           "mode": "markers",
           "name": "BEL",
           "orientation": "v",
           "showlegend": true,
           "type": "scatter",
           "x": [
            0.5020326633165829
           ],
           "xaxis": "x",
           "y": [
            6.805
           ],
           "yaxis": "y"
          },
          {
           "hovertemplate": "country=BGR<br>year=2022<br>avg valence=%{x}<br>depression=%{y}<br>gdp per cap=%{marker.size}<extra></extra>",
           "legendgroup": "BGR",
           "marker": {
            "color": "#19d3f3",
            "size": [
             57972
            ],
            "sizemode": "area",
            "sizeref": 248.225,
            "symbol": "circle"
           },
           "mode": "markers",
           "name": "BGR",
           "orientation": "v",
           "showlegend": true,
           "type": "scatter",
           "x": [
            0.5273545000000002
           ],
           "xaxis": "x",
           "y": [
            5.371
           ],
           "yaxis": "y"
          },
          {
           "hovertemplate": "country=BOL<br>year=2022<br>avg valence=%{x}<br>depression=%{y}<br>gdp per cap=%{marker.size}<extra></extra>",
           "legendgroup": "BOL",
           "marker": {
            "color": "#FF6692",
            "size": [
             0
            ],
            "sizemode": "area",
            "sizeref": 248.225,
            "symbol": "circle"
           },
           "mode": "markers",
           "name": "BOL",
           "orientation": "v",
           "showlegend": true,
           "type": "scatter",
           "x": [
            0.6178495
           ],
           "xaxis": "x",
           "y": [
            0
           ],
           "yaxis": "y"
          },
          {
           "hovertemplate": "country=BRA<br>year=2022<br>avg valence=%{x}<br>depression=%{y}<br>gdp per cap=%{marker.size}<extra></extra>",
           "legendgroup": "BRA",
           "marker": {
            "color": "#B6E880",
            "size": [
             8755
            ],
            "sizemode": "area",
            "sizeref": 248.225,
            "symbol": "circle"
           },
           "mode": "markers",
           "name": "BRA",
           "orientation": "v",
           "showlegend": true,
           "type": "scatter",
           "x": [
            0.6463385000000001
           ],
           "xaxis": "x",
           "y": [
            6.293
           ],
           "yaxis": "y"
          },
          {
           "hovertemplate": "country=BLR<br>year=2022<br>avg valence=%{x}<br>depression=%{y}<br>gdp per cap=%{marker.size}<extra></extra>",
           "legendgroup": "BLR",
           "marker": {
            "color": "#FF97FF",
            "size": [
             58969
            ],
            "sizemode": "area",
            "sizeref": 248.225,
            "symbol": "circle"
           },
           "mode": "markers",
           "name": "BLR",
           "orientation": "v",
           "showlegend": true,
           "type": "scatter",
           "x": [
            0.45624371859296475
           ],
           "xaxis": "x",
           "y": [
            0
           ],
           "yaxis": "y"
          },
          {
           "hovertemplate": "country=CAN<br>year=2022<br>avg valence=%{x}<br>depression=%{y}<br>gdp per cap=%{marker.size}<extra></extra>",
           "legendgroup": "CAN",
           "marker": {
            "color": "#FECB52",
            "size": [
             46550
            ],
            "sizemode": "area",
            "sizeref": 248.225,
            "symbol": "circle"
           },
           "mode": "markers",
           "name": "CAN",
           "orientation": "v",
           "showlegend": true,
           "type": "scatter",
           "x": [
            0.47331399999999996
           ],
           "xaxis": "x",
           "y": [
            7.025
           ],
           "yaxis": "y"
          },
          {
           "hovertemplate": "country=CHE<br>year=2022<br>avg valence=%{x}<br>depression=%{y}<br>gdp per cap=%{marker.size}<extra></extra>",
           "legendgroup": "CHE",
           "marker": {
            "color": "#636efa",
            "size": [
             85135
            ],
            "sizemode": "area",
            "sizeref": 248.225,
            "symbol": "circle"
           },
           "mode": "markers",
           "name": "CHE",
           "orientation": "v",
           "showlegend": true,
           "type": "scatter",
           "x": [
            0.5082557788944724
           ],
           "xaxis": "x",
           "y": [
            7.512
           ],
           "yaxis": "y"
          },
          {
           "hovertemplate": "country=CHL<br>year=2022<br>avg valence=%{x}<br>depression=%{y}<br>gdp per cap=%{marker.size}<extra></extra>",
           "legendgroup": "CHL",
           "marker": {
            "color": "#EF553B",
            "size": [
             14896
            ],
            "sizemode": "area",
            "sizeref": 248.225,
            "symbol": "circle"
           },
           "mode": "markers",
           "name": "CHL",
           "orientation": "v",
           "showlegend": true,
           "type": "scatter",
           "x": [
            0.6337520202020203
           ],
           "xaxis": "x",
           "y": [
            6.172
           ],
           "yaxis": "y"
          },
          {
           "hovertemplate": "country=COL<br>year=2022<br>avg valence=%{x}<br>depression=%{y}<br>gdp per cap=%{marker.size}<extra></extra>",
           "legendgroup": "COL",
           "marker": {
            "color": "#00cc96",
            "size": [
             6432
            ],
            "sizemode": "area",
            "sizeref": 248.225,
            "symbol": "circle"
           },
           "mode": "markers",
           "name": "COL",
           "orientation": "v",
           "showlegend": true,
           "type": "scatter",
           "x": [
            0.6310748743718594
           ],
           "xaxis": "x",
           "y": [
            5.781
           ],
           "yaxis": "y"
          },
          {
           "hovertemplate": "country=CRI<br>year=2022<br>avg valence=%{x}<br>depression=%{y}<br>gdp per cap=%{marker.size}<extra></extra>",
           "legendgroup": "CRI",
           "marker": {
            "color": "#ab63fa",
            "size": [
             62153
            ],
            "sizemode": "area",
            "sizeref": 248.225,
            "symbol": "circle"
           },
           "mode": "markers",
           "name": "CRI",
           "orientation": "v",
           "showlegend": true,
           "type": "scatter",
           "x": [
            0.6144145000000002
           ],
           "xaxis": "x",
           "y": [
            6.582
           ],
           "yaxis": "y"
          },
          {
           "hovertemplate": "country=CYP<br>year=2022<br>avg valence=%{x}<br>depression=%{y}<br>gdp per cap=%{marker.size}<extra></extra>",
           "legendgroup": "CYP",
           "marker": {
            "color": "#FFA15A",
            "size": [
             23659
            ],
            "sizemode": "area",
            "sizeref": 248.225,
            "symbol": "circle"
           },
           "mode": "markers",
           "name": "CYP",
           "orientation": "v",
           "showlegend": true,
           "type": "scatter",
           "x": [
            0.4927990000000003
           ],
           "xaxis": "x",
           "y": [
            6.221
           ],
           "yaxis": "y"
          },
          {
           "hovertemplate": "country=CZE<br>year=2022<br>avg valence=%{x}<br>depression=%{y}<br>gdp per cap=%{marker.size}<extra></extra>",
           "legendgroup": "CZE",
           "marker": {
            "color": "#19d3f3",
            "size": [
             0
            ],
            "sizemode": "area",
            "sizeref": 248.225,
            "symbol": "circle"
           },
           "mode": "markers",
           "name": "CZE",
           "orientation": "v",
           "showlegend": true,
           "type": "scatter",
           "x": [
            0.48808020304568517
           ],
           "xaxis": "x",
           "y": [
            0
           ],
           "yaxis": "y"
          },
          {
           "hovertemplate": "country=DEU<br>year=2022<br>avg valence=%{x}<br>depression=%{y}<br>gdp per cap=%{marker.size}<extra></extra>",
           "legendgroup": "DEU",
           "marker": {
            "color": "#FF6692",
            "size": [
             46232
            ],
            "sizemode": "area",
            "sizeref": 248.225,
            "symbol": "circle"
           },
           "mode": "markers",
           "name": "DEU",
           "orientation": "v",
           "showlegend": true,
           "type": "scatter",
           "x": [
            0.5148864321608039
           ],
           "xaxis": "x",
           "y": [
            7.034
           ],
           "yaxis": "y"
          },
          {
           "hovertemplate": "country=DNK<br>year=2022<br>avg valence=%{x}<br>depression=%{y}<br>gdp per cap=%{marker.size}<extra></extra>",
           "legendgroup": "DNK",
           "marker": {
            "color": "#B6E880",
            "size": [
             60657
            ],
            "sizemode": "area",
            "sizeref": 248.225,
            "symbol": "circle"
           },
           "mode": "markers",
           "name": "DNK",
           "orientation": "v",
           "showlegend": true,
           "type": "scatter",
           "x": [
            0.515529648241206
           ],
           "xaxis": "x",
           "y": [
            7.636
           ],
           "yaxis": "y"
          },
          {
           "hovertemplate": "country=DOM<br>year=2022<br>avg valence=%{x}<br>depression=%{y}<br>gdp per cap=%{marker.size}<extra></extra>",
           "legendgroup": "DOM",
           "marker": {
            "color": "#FF97FF",
            "size": [
             89275
            ],
            "sizemode": "area",
            "sizeref": 248.225,
            "symbol": "circle"
           },
           "mode": "markers",
           "name": "DOM",
           "orientation": "v",
           "showlegend": true,
           "type": "scatter",
           "x": [
            0.5786848484848484
           ],
           "xaxis": "x",
           "y": [
            5.737
           ],
           "yaxis": "y"
          },
          {
           "hovertemplate": "country=ECU<br>year=2022<br>avg valence=%{x}<br>depression=%{y}<br>gdp per cap=%{marker.size}<extra></extra>",
           "legendgroup": "ECU",
           "marker": {
            "color": "#FECB52",
            "size": [
             6184
            ],
            "sizemode": "area",
            "sizeref": 248.225,
            "symbol": "circle"
           },
           "mode": "markers",
           "name": "ECU",
           "orientation": "v",
           "showlegend": true,
           "type": "scatter",
           "x": [
            0.5909140703517588
           ],
           "xaxis": "x",
           "y": [
            5.533
           ],
           "yaxis": "y"
          },
          {
           "hovertemplate": "country=EST<br>year=2022<br>avg valence=%{x}<br>depression=%{y}<br>gdp per cap=%{marker.size}<extra></extra>",
           "legendgroup": "EST",
           "marker": {
            "color": "#636efa",
            "size": [
             27493
            ],
            "sizemode": "area",
            "sizeref": 248.225,
            "symbol": "circle"
           },
           "mode": "markers",
           "name": "EST",
           "orientation": "v",
           "showlegend": true,
           "type": "scatter",
           "x": [
            0.474135
           ],
           "xaxis": "x",
           "y": [
            6.341
           ],
           "yaxis": "y"
          },
          {
           "hovertemplate": "country=EGY<br>year=2022<br>avg valence=%{x}<br>depression=%{y}<br>gdp per cap=%{marker.size}<extra></extra>",
           "legendgroup": "EGY",
           "marker": {
            "color": "#EF553B",
            "size": [
             3161
            ],
            "sizemode": "area",
            "sizeref": 248.225,
            "symbol": "circle"
           },
           "mode": "markers",
           "name": "EGY",
           "orientation": "v",
           "showlegend": true,
           "type": "scatter",
           "x": [
            0.49162487309644676
           ],
           "xaxis": "x",
           "y": [
            4.288
           ],
           "yaxis": "y"
          },
          {
           "hovertemplate": "country=ESP<br>year=2022<br>avg valence=%{x}<br>depression=%{y}<br>gdp per cap=%{marker.size}<extra></extra>",
           "legendgroup": "ESP",
           "marker": {
            "color": "#00cc96",
            "size": [
             29816
            ],
            "sizemode": "area",
            "sizeref": 248.225,
            "symbol": "circle"
           },
           "mode": "markers",
           "name": "ESP",
           "orientation": "v",
           "showlegend": true,
           "type": "scatter",
           "x": [
            0.6152005025125625
           ],
           "xaxis": "x",
           "y": [
            6.476
           ],
           "yaxis": "y"
          },
          {
           "hovertemplate": "country=FIN<br>year=2022<br>avg valence=%{x}<br>depression=%{y}<br>gdp per cap=%{marker.size}<extra></extra>",
           "legendgroup": "FIN",
           "marker": {
            "color": "#ab63fa",
            "size": [
             48678
            ],
            "sizemode": "area",
            "sizeref": 248.225,
            "symbol": "circle"
           },
           "mode": "markers",
           "name": "FIN",
           "orientation": "v",
           "showlegend": true,
           "type": "scatter",
           "x": [
            0.5236205128205128
           ],
           "xaxis": "x",
           "y": [
            7.821
           ],
           "yaxis": "y"
          },
          {
           "hovertemplate": "country=FRA<br>year=2022<br>avg valence=%{x}<br>depression=%{y}<br>gdp per cap=%{marker.size}<extra></extra>",
           "legendgroup": "FRA",
           "marker": {
            "color": "#FFA15A",
            "size": [
             40319
            ],
            "sizemode": "area",
            "sizeref": 248.225,
            "symbol": "circle"
           },
           "mode": "markers",
           "name": "FRA",
           "orientation": "v",
           "showlegend": true,
           "type": "scatter",
           "x": [
            0.5222391959798993
           ],
           "xaxis": "x",
           "y": [
            6.687
           ],
           "yaxis": "y"
          },
          {
           "hovertemplate": "country=GBR<br>year=2022<br>avg valence=%{x}<br>depression=%{y}<br>gdp per cap=%{marker.size}<extra></extra>",
           "legendgroup": "GBR",
           "marker": {
            "color": "#19d3f3",
            "size": [
             41855
            ],
            "sizemode": "area",
            "sizeref": 248.225,
            "symbol": "circle"
           },
           "mode": "markers",
           "name": "GBR",
           "orientation": "v",
           "showlegend": true,
           "type": "scatter",
           "x": [
            0.5141394999999997
           ],
           "xaxis": "x",
           "y": [
            6.943
           ],
           "yaxis": "y"
          },
          {
           "hovertemplate": "country=GRC<br>year=2022<br>avg valence=%{x}<br>depression=%{y}<br>gdp per cap=%{marker.size}<extra></extra>",
           "legendgroup": "GRC",
           "marker": {
            "color": "#FF6692",
            "size": [
             19604
            ],
            "sizemode": "area",
            "sizeref": 248.225,
            "symbol": "circle"
           },
           "mode": "markers",
           "name": "GRC",
           "orientation": "v",
           "showlegend": true,
           "type": "scatter",
           "x": [
            0.500992
           ],
           "xaxis": "x",
           "y": [
            5.948
           ],
           "yaxis": "y"
          },
          {
           "hovertemplate": "country=GTM<br>year=2022<br>avg valence=%{x}<br>depression=%{y}<br>gdp per cap=%{marker.size}<extra></extra>",
           "legendgroup": "GTM",
           "marker": {
            "color": "#B6E880",
            "size": [
             70508
            ],
            "sizemode": "area",
            "sizeref": 248.225,
            "symbol": "circle"
           },
           "mode": "markers",
           "name": "GTM",
           "orientation": "v",
           "showlegend": true,
           "type": "scatter",
           "x": [
            0.6141695000000004
           ],
           "xaxis": "x",
           "y": [
            0
           ],
           "yaxis": "y"
          },
          {
           "hovertemplate": "country=HKG<br>year=2022<br>avg valence=%{x}<br>depression=%{y}<br>gdp per cap=%{marker.size}<extra></extra>",
           "legendgroup": "HKG",
           "marker": {
            "color": "#FF97FF",
            "size": [
             0
            ],
            "sizemode": "area",
            "sizeref": 248.225,
            "symbol": "circle"
           },
           "mode": "markers",
           "name": "HKG",
           "orientation": "v",
           "showlegend": true,
           "type": "scatter",
           "x": [
            0.46213484848484837
           ],
           "xaxis": "x",
           "y": [
            0
           ],
           "yaxis": "y"
          },
          {
           "hovertemplate": "country=HND<br>year=2022<br>avg valence=%{x}<br>depression=%{y}<br>gdp per cap=%{marker.size}<extra></extra>",
           "legendgroup": "HND",
           "marker": {
            "color": "#FECB52",
            "size": [
             24326
            ],
            "sizemode": "area",
            "sizeref": 248.225,
            "symbol": "circle"
           },
           "mode": "markers",
           "name": "HND",
           "orientation": "v",
           "showlegend": true,
           "type": "scatter",
           "x": [
            0.581648
           ],
           "xaxis": "x",
           "y": [
            6.022
           ],
           "yaxis": "y"
          },
          {
           "hovertemplate": "country=HUN<br>year=2022<br>avg valence=%{x}<br>depression=%{y}<br>gdp per cap=%{marker.size}<extra></extra>",
           "legendgroup": "HUN",
           "marker": {
            "color": "#636efa",
            "size": [
             16879
            ],
            "sizemode": "area",
            "sizeref": 248.225,
            "symbol": "circle"
           },
           "mode": "markers",
           "name": "HUN",
           "orientation": "v",
           "showlegend": true,
           "type": "scatter",
           "x": [
            0.5296524999999999
           ],
           "xaxis": "x",
           "y": [
            6.086
           ],
           "yaxis": "y"
          },
          {
           "hovertemplate": "country=IDN<br>year=2022<br>avg valence=%{x}<br>depression=%{y}<br>gdp per cap=%{marker.size}<extra></extra>",
           "legendgroup": "IDN",
           "marker": {
            "color": "#EF553B",
            "size": [
             4136
            ],
            "sizemode": "area",
            "sizeref": 248.225,
            "symbol": "circle"
           },
           "mode": "markers",
           "name": "IDN",
           "orientation": "v",
           "showlegend": true,
           "type": "scatter",
           "x": [
            0.43756532663316555
           ],
           "xaxis": "x",
           "y": [
            5.24
           ],
           "yaxis": "y"
          },
          {
           "hovertemplate": "country=IRL<br>year=2022<br>avg valence=%{x}<br>depression=%{y}<br>gdp per cap=%{marker.size}<extra></extra>",
           "legendgroup": "IRL",
           "marker": {
            "color": "#00cc96",
            "size": [
             81637
            ],
            "sizemode": "area",
            "sizeref": 248.225,
            "symbol": "circle"
           },
           "mode": "markers",
           "name": "IRL",
           "orientation": "v",
           "showlegend": true,
           "type": "scatter",
           "x": [
            0.48541149999999994
           ],
           "xaxis": "x",
           "y": [
            7.041
           ],
           "yaxis": "y"
          },
          {
           "hovertemplate": "country=ISR<br>year=2022<br>avg valence=%{x}<br>depression=%{y}<br>gdp per cap=%{marker.size}<extra></extra>",
           "legendgroup": "ISR",
           "marker": {
            "color": "#ab63fa",
            "size": [
             46376
            ],
            "sizemode": "area",
            "sizeref": 248.225,
            "symbol": "circle"
           },
           "mode": "markers",
           "name": "ISR",
           "orientation": "v",
           "showlegend": true,
           "type": "scatter",
           "x": [
            0.5024964824120602
           ],
           "xaxis": "x",
           "y": [
            7.364
           ],
           "yaxis": "y"
          },
          {
           "hovertemplate": "country=IND<br>year=2022<br>avg valence=%{x}<br>depression=%{y}<br>gdp per cap=%{marker.size}<extra></extra>",
           "legendgroup": "IND",
           "marker": {
            "color": "#FFA15A",
            "size": [
             2116
            ],
            "sizemode": "area",
            "sizeref": 248.225,
            "symbol": "circle"
           },
           "mode": "markers",
           "name": "IND",
           "orientation": "v",
           "showlegend": true,
           "type": "scatter",
           "x": [
            0.49812359550561797
           ],
           "xaxis": "x",
           "y": [
            3.777
           ],
           "yaxis": "y"
          },
          {
           "hovertemplate": "country=ISL<br>year=2022<br>avg valence=%{x}<br>depression=%{y}<br>gdp per cap=%{marker.size}<extra></extra>",
           "legendgroup": "ISL",
           "marker": {
            "color": "#19d3f3",
            "size": [
             20510
            ],
            "sizemode": "area",
            "sizeref": 248.225,
            "symbol": "circle"
           },
           "mode": "markers",
           "name": "ISL",
           "orientation": "v",
           "showlegend": true,
           "type": "scatter",
           "x": [
            0.4428335000000001
           ],
           "xaxis": "x",
           "y": [
            7.557
           ],
           "yaxis": "y"
          },
          {
           "hovertemplate": "country=ITA<br>year=2022<br>avg valence=%{x}<br>depression=%{y}<br>gdp per cap=%{marker.size}<extra></extra>",
           "legendgroup": "ITA",
           "marker": {
            "color": "#FF6692",
            "size": [
             33090
            ],
            "sizemode": "area",
            "sizeref": 248.225,
            "symbol": "circle"
           },
           "mode": "markers",
           "name": "ITA",
           "orientation": "v",
           "showlegend": true,
           "type": "scatter",
           "x": [
            0.5176354999999998
           ],
           "xaxis": "x",
           "y": [
            6.467
           ],
           "yaxis": "y"
          },
          {
           "hovertemplate": "country=JPN<br>year=2022<br>avg valence=%{x}<br>depression=%{y}<br>gdp per cap=%{marker.size}<extra></extra>",
           "legendgroup": "JPN",
           "marker": {
            "color": "#B6E880",
            "size": [
             40063
            ],
            "sizemode": "area",
            "sizeref": 248.225,
            "symbol": "circle"
           },
           "mode": "markers",
           "name": "JPN",
           "orientation": "v",
           "showlegend": true,
           "type": "scatter",
           "x": [
            0.5753827411167513
           ],
           "xaxis": "x",
           "y": [
            6.039
           ],
           "yaxis": "y"
          },
          {
           "hovertemplate": "country=KOR<br>year=2022<br>avg valence=%{x}<br>depression=%{y}<br>gdp per cap=%{marker.size}<extra></extra>",
           "legendgroup": "KOR",
           "marker": {
            "color": "#FF97FF",
            "size": [
             0
            ],
            "sizemode": "area",
            "sizeref": 248.225,
            "symbol": "circle"
           },
           "mode": "markers",
           "name": "KOR",
           "orientation": "v",
           "showlegend": true,
           "type": "scatter",
           "x": [
            0.5191054999999999
           ],
           "xaxis": "x",
           "y": [
            0
           ],
           "yaxis": "y"
          },
          {
           "hovertemplate": "country=KAZ<br>year=2022<br>avg valence=%{x}<br>depression=%{y}<br>gdp per cap=%{marker.size}<extra></extra>",
           "legendgroup": "KAZ",
           "marker": {
            "color": "#FECB52",
            "size": [
             9793
            ],
            "sizemode": "area",
            "sizeref": 248.225,
            "symbol": "circle"
           },
           "mode": "markers",
           "name": "KAZ",
           "orientation": "v",
           "showlegend": true,
           "type": "scatter",
           "x": [
            0.4773839999999999
           ],
           "xaxis": "x",
           "y": [
            6.234
           ],
           "yaxis": "y"
          },
          {
           "hovertemplate": "country=LTU<br>year=2022<br>avg valence=%{x}<br>depression=%{y}<br>gdp per cap=%{marker.size}<extra></extra>",
           "legendgroup": "LTU",
           "marker": {
            "color": "#636efa",
            "size": [
             48021
            ],
            "sizemode": "area",
            "sizeref": 248.225,
            "symbol": "circle"
           },
           "mode": "markers",
           "name": "LTU",
           "orientation": "v",
           "showlegend": true,
           "type": "scatter",
           "x": [
            0.4613185000000001
           ],
           "xaxis": "x",
           "y": [
            6.446
           ],
           "yaxis": "y"
          },
          {
           "hovertemplate": "country=LUX<br>year=2022<br>avg valence=%{x}<br>depression=%{y}<br>gdp per cap=%{marker.size}<extra></extra>",
           "legendgroup": "LUX",
           "marker": {
            "color": "#EF553B",
            "size": [
             64842
            ],
            "sizemode": "area",
            "sizeref": 248.225,
            "symbol": "circle"
           },
           "mode": "markers",
           "name": "LUX",
           "orientation": "v",
           "showlegend": true,
           "type": "scatter",
           "x": [
            0.5023494949494951
           ],
           "xaxis": "x",
           "y": [
            0
           ],
           "yaxis": "y"
          },
          {
           "hovertemplate": "country=LVA<br>year=2022<br>avg valence=%{x}<br>depression=%{y}<br>gdp per cap=%{marker.size}<extra></extra>",
           "legendgroup": "LVA",
           "marker": {
            "color": "#00cc96",
            "size": [
             30566
            ],
            "sizemode": "area",
            "sizeref": 248.225,
            "symbol": "circle"
           },
           "mode": "markers",
           "name": "LVA",
           "orientation": "v",
           "showlegend": true,
           "type": "scatter",
           "x": [
            0.45456599999999986
           ],
           "xaxis": "x",
           "y": [
            6.18
           ],
           "yaxis": "y"
          },
          {
           "hovertemplate": "country=MAR<br>year=2022<br>avg valence=%{x}<br>depression=%{y}<br>gdp per cap=%{marker.size}<extra></extra>",
           "legendgroup": "MAR",
           "marker": {
            "color": "#ab63fa",
            "size": [
             3282
            ],
            "sizemode": "area",
            "sizeref": 248.225,
            "symbol": "circle"
           },
           "mode": "markers",
           "name": "MAR",
           "orientation": "v",
           "showlegend": true,
           "type": "scatter",
           "x": [
            0.5036890000000002
           ],
           "xaxis": "x",
           "y": [
            5.06
           ],
           "yaxis": "y"
          },
          {
           "hovertemplate": "country=MEX<br>year=2022<br>avg valence=%{x}<br>depression=%{y}<br>gdp per cap=%{marker.size}<extra></extra>",
           "legendgroup": "MEX",
           "marker": {
            "color": "#FFA15A",
            "size": [
             9849
            ],
            "sizemode": "area",
            "sizeref": 248.225,
            "symbol": "circle"
           },
           "mode": "markers",
           "name": "MEX",
           "orientation": "v",
           "showlegend": true,
           "type": "scatter",
           "x": [
            0.6169595000000001
           ],
           "xaxis": "x",
           "y": [
            6.128
           ],
           "yaxis": "y"
          },
          {
           "hovertemplate": "country=MYS<br>year=2022<br>avg valence=%{x}<br>depression=%{y}<br>gdp per cap=%{marker.size}<extra></extra>",
           "legendgroup": "MYS",
           "marker": {
            "color": "#19d3f3",
            "size": [
             11414
            ],
            "sizemode": "area",
            "sizeref": 248.225,
            "symbol": "circle"
           },
           "mode": "markers",
           "name": "MYS",
           "orientation": "v",
           "showlegend": true,
           "type": "scatter",
           "x": [
            0.4663663316582914
           ],
           "xaxis": "x",
           "y": [
            5.711
           ],
           "yaxis": "y"
          },
          {
           "hovertemplate": "country=NGA<br>year=2022<br>avg valence=%{x}<br>depression=%{y}<br>gdp per cap=%{marker.size}<extra></extra>",
           "legendgroup": "NGA",
           "marker": {
            "color": "#FF6692",
            "size": [
             2361
            ],
            "sizemode": "area",
            "sizeref": 248.225,
            "symbol": "circle"
           },
           "mode": "markers",
           "name": "NGA",
           "orientation": "v",
           "showlegend": true,
           "type": "scatter",
           "x": [
            0.6193266331658294
           ],
           "xaxis": "x",
           "y": [
            4.552
           ],
           "yaxis": "y"
          },
          {
           "hovertemplate": "country=NIC<br>year=2022<br>avg valence=%{x}<br>depression=%{y}<br>gdp per cap=%{marker.size}<extra></extra>",
           "legendgroup": "NIC",
           "marker": {
            "color": "#B6E880",
            "size": [
             12885
            ],
            "sizemode": "area",
            "sizeref": 248.225,
            "symbol": "circle"
           },
           "mode": "markers",
           "name": "NIC",
           "orientation": "v",
           "showlegend": true,
           "type": "scatter",
           "x": [
            0.6049140703517588
           ],
           "xaxis": "x",
           "y": [
            6.165
           ],
           "yaxis": "y"
          },
          {
           "hovertemplate": "country=NLD<br>year=2022<br>avg valence=%{x}<br>depression=%{y}<br>gdp per cap=%{marker.size}<extra></extra>",
           "legendgroup": "NLD",
           "marker": {
            "color": "#FF97FF",
            "size": [
             53053
            ],
            "sizemode": "area",
            "sizeref": 248.225,
            "symbol": "circle"
           },
           "mode": "markers",
           "name": "NLD",
           "orientation": "v",
           "showlegend": true,
           "type": "scatter",
           "x": [
            0.5554735000000001
           ],
           "xaxis": "x",
           "y": [
            7.415
           ],
           "yaxis": "y"
          },
          {
           "hovertemplate": "country=NOR<br>year=2022<br>avg valence=%{x}<br>depression=%{y}<br>gdp per cap=%{marker.size}<extra></extra>",
           "legendgroup": "NOR",
           "marker": {
            "color": "#FECB52",
            "size": [
             74986
            ],
            "sizemode": "area",
            "sizeref": 248.225,
            "symbol": "circle"
           },
           "mode": "markers",
           "name": "NOR",
           "orientation": "v",
           "showlegend": true,
           "type": "scatter",
           "x": [
            0.4712472081218274
           ],
           "xaxis": "x",
           "y": [
            7.365
           ],
           "yaxis": "y"
          },
          {
           "hovertemplate": "country=NZL<br>year=2022<br>avg valence=%{x}<br>depression=%{y}<br>gdp per cap=%{marker.size}<extra></extra>",
           "legendgroup": "NZL",
           "marker": {
            "color": "#636efa",
            "size": [
             43229
            ],
            "sizemode": "area",
            "sizeref": 248.225,
            "symbol": "circle"
           },
           "mode": "markers",
           "name": "NZL",
           "orientation": "v",
           "showlegend": true,
           "type": "scatter",
           "x": [
            0.5455708542713567
           ],
           "xaxis": "x",
           "y": [
            7.2
           ],
           "yaxis": "y"
          },
          {
           "hovertemplate": "country=PAN<br>year=2022<br>avg valence=%{x}<br>depression=%{y}<br>gdp per cap=%{marker.size}<extra></extra>",
           "legendgroup": "PAN",
           "marker": {
            "color": "#EF553B",
            "size": [
             63990
            ],
            "sizemode": "area",
            "sizeref": 248.225,
            "symbol": "circle"
           },
           "mode": "markers",
           "name": "PAN",
           "orientation": "v",
           "showlegend": true,
           "type": "scatter",
           "x": [
            0.5852165829145729
           ],
           "xaxis": "x",
           "y": [
            6.309
           ],
           "yaxis": "y"
          },
          {
           "hovertemplate": "country=PER<br>year=2022<br>avg valence=%{x}<br>depression=%{y}<br>gdp per cap=%{marker.size}<extra></extra>",
           "legendgroup": "PER",
           "marker": {
            "color": "#00cc96",
            "size": [
             6978
            ],
            "sizemode": "area",
            "sizeref": 248.225,
            "symbol": "circle"
           },
           "mode": "markers",
           "name": "PER",
           "orientation": "v",
           "showlegend": true,
           "type": "scatter",
           "x": [
            0.6323713567839198
           ],
           "xaxis": "x",
           "y": [
            5.559
           ],
           "yaxis": "y"
          },
          {
           "hovertemplate": "country=PHL<br>year=2022<br>avg valence=%{x}<br>depression=%{y}<br>gdp per cap=%{marker.size}<extra></extra>",
           "legendgroup": "PHL",
           "marker": {
            "color": "#ab63fa",
            "size": [
             3324
            ],
            "sizemode": "area",
            "sizeref": 248.225,
            "symbol": "circle"
           },
           "mode": "markers",
           "name": "PHL",
           "orientation": "v",
           "showlegend": true,
           "type": "scatter",
           "x": [
            0.45522727272727276
           ],
           "xaxis": "x",
           "y": [
            5.904
           ],
           "yaxis": "y"
          },
          {
           "hovertemplate": "country=POL<br>year=2022<br>avg valence=%{x}<br>depression=%{y}<br>gdp per cap=%{marker.size}<extra></extra>",
           "legendgroup": "POL",
           "marker": {
            "color": "#FFA15A",
            "size": [
             15727
            ],
            "sizemode": "area",
            "sizeref": 248.225,
            "symbol": "circle"
           },
           "mode": "markers",
           "name": "POL",
           "orientation": "v",
           "showlegend": true,
           "type": "scatter",
           "x": [
            0.5179694999999999
           ],
           "xaxis": "x",
           "y": [
            6.123
           ],
           "yaxis": "y"
          },
          {
           "hovertemplate": "country=PRT<br>year=2022<br>avg valence=%{x}<br>depression=%{y}<br>gdp per cap=%{marker.size}<extra></extra>",
           "legendgroup": "PRT",
           "marker": {
            "color": "#19d3f3",
            "size": [
             23350
            ],
            "sizemode": "area",
            "sizeref": 248.225,
            "symbol": "circle"
           },
           "mode": "markers",
           "name": "PRT",
           "orientation": "v",
           "showlegend": true,
           "type": "scatter",
           "x": [
            0.523046231155779
           ],
           "xaxis": "x",
           "y": [
            6.016
           ],
           "yaxis": "y"
          },
          {
           "hovertemplate": "country=PRY<br>year=2022<br>avg valence=%{x}<br>depression=%{y}<br>gdp per cap=%{marker.size}<extra></extra>",
           "legendgroup": "PRY",
           "marker": {
            "color": "#FF6692",
            "size": [
             41013
            ],
            "sizemode": "area",
            "sizeref": 248.225,
            "symbol": "circle"
           },
           "mode": "markers",
           "name": "PRY",
           "orientation": "v",
           "showlegend": true,
           "type": "scatter",
           "x": [
            0.6618650000000001
           ],
           "xaxis": "x",
           "y": [
            5.578
           ],
           "yaxis": "y"
          },
          {
           "hovertemplate": "country=ROU<br>year=2022<br>avg valence=%{x}<br>depression=%{y}<br>gdp per cap=%{marker.size}<extra></extra>",
           "legendgroup": "ROU",
           "marker": {
            "color": "#B6E880",
            "size": [
             12914
            ],
            "sizemode": "area",
            "sizeref": 248.225,
            "symbol": "circle"
           },
           "mode": "markers",
           "name": "ROU",
           "orientation": "v",
           "showlegend": true,
           "type": "scatter",
           "x": [
            0.5247226130653271
           ],
           "xaxis": "x",
           "y": [
            6.477
           ],
           "yaxis": "y"
          },
          {
           "hovertemplate": "country=SAU<br>year=2022<br>avg valence=%{x}<br>depression=%{y}<br>gdp per cap=%{marker.size}<extra></extra>",
           "legendgroup": "SAU",
           "marker": {
            "color": "#FF97FF",
            "size": [
             23140
            ],
            "sizemode": "area",
            "sizeref": 248.225,
            "symbol": "circle"
           },
           "mode": "markers",
           "name": "SAU",
           "orientation": "v",
           "showlegend": true,
           "type": "scatter",
           "x": [
            0.5418944162436551
           ],
           "xaxis": "x",
           "y": [
            6.523
           ],
           "yaxis": "y"
          },
          {
           "hovertemplate": "country=SWE<br>year=2022<br>avg valence=%{x}<br>depression=%{y}<br>gdp per cap=%{marker.size}<extra></extra>",
           "legendgroup": "SWE",
           "marker": {
            "color": "#FECB52",
            "size": [
             52896
            ],
            "sizemode": "area",
            "sizeref": 248.225,
            "symbol": "circle"
           },
           "mode": "markers",
           "name": "SWE",
           "orientation": "v",
           "showlegend": true,
           "type": "scatter",
           "x": [
            0.5226884422110554
           ],
           "xaxis": "x",
           "y": [
            7.384
           ],
           "yaxis": "y"
          },
          {
           "hovertemplate": "country=SGP<br>year=2022<br>avg valence=%{x}<br>depression=%{y}<br>gdp per cap=%{marker.size}<extra></extra>",
           "legendgroup": "SGP",
           "marker": {
            "color": "#636efa",
            "size": [
             64103
            ],
            "sizemode": "area",
            "sizeref": 248.225,
            "symbol": "circle"
           },
           "mode": "markers",
           "name": "SGP",
           "orientation": "v",
           "showlegend": true,
           "type": "scatter",
           "x": [
            0.47071758793969826
           ],
           "xaxis": "x",
           "y": [
            6.48
           ],
           "yaxis": "y"
          },
          {
           "hovertemplate": "country=SVK<br>year=2022<br>avg valence=%{x}<br>depression=%{y}<br>gdp per cap=%{marker.size}<extra></extra>",
           "legendgroup": "SVK",
           "marker": {
            "color": "#EF553B",
            "size": [
             98851
            ],
            "sizemode": "area",
            "sizeref": 248.225,
            "symbol": "circle"
           },
           "mode": "markers",
           "name": "SVK",
           "orientation": "v",
           "showlegend": true,
           "type": "scatter",
           "x": [
            0.47736450000000036
           ],
           "xaxis": "x",
           "y": [
            6.391
           ],
           "yaxis": "y"
          },
          {
           "hovertemplate": "country=SLV<br>year=2022<br>avg valence=%{x}<br>depression=%{y}<br>gdp per cap=%{marker.size}<extra></extra>",
           "legendgroup": "SLV",
           "marker": {
            "color": "#00cc96",
            "size": [
             25771
            ],
            "sizemode": "area",
            "sizeref": 248.225,
            "symbol": "circle"
           },
           "mode": "markers",
           "name": "SLV",
           "orientation": "v",
           "showlegend": true,
           "type": "scatter",
           "x": [
            0.6002005025125634
           ],
           "xaxis": "x",
           "y": [
            6.12
           ],
           "yaxis": "y"
          },
          {
           "hovertemplate": "country=THA<br>year=2022<br>avg valence=%{x}<br>depression=%{y}<br>gdp per cap=%{marker.size}<extra></extra>",
           "legendgroup": "THA",
           "marker": {
            "color": "#ab63fa",
            "size": [
             7785
            ],
            "sizemode": "area",
            "sizeref": 248.225,
            "symbol": "circle"
           },
           "mode": "markers",
           "name": "THA",
           "orientation": "v",
           "showlegend": true,
           "type": "scatter",
           "x": [
            0.5512834999999999
           ],
           "xaxis": "x",
           "y": [
            5.891
           ],
           "yaxis": "y"
          },
          {
           "hovertemplate": "country=TUR<br>year=2022<br>avg valence=%{x}<br>depression=%{y}<br>gdp per cap=%{marker.size}<extra></extra>",
           "legendgroup": "TUR",
           "marker": {
            "color": "#FFA15A",
            "size": [
             9127
            ],
            "sizemode": "area",
            "sizeref": 248.225,
            "symbol": "circle"
           },
           "mode": "markers",
           "name": "TUR",
           "orientation": "v",
           "showlegend": true,
           "type": "scatter",
           "x": [
            0.4949439999999996
           ],
           "xaxis": "x",
           "y": [
            4.744
           ],
           "yaxis": "y"
          },
          {
           "hovertemplate": "country=TWN<br>year=2022<br>avg valence=%{x}<br>depression=%{y}<br>gdp per cap=%{marker.size}<extra></extra>",
           "legendgroup": "TWN",
           "marker": {
            "color": "#19d3f3",
            "size": [
             0
            ],
            "sizemode": "area",
            "sizeref": 248.225,
            "symbol": "circle"
           },
           "mode": "markers",
           "name": "TWN",
           "orientation": "v",
           "showlegend": true,
           "type": "scatter",
           "x": [
            0.4115615384615385
           ],
           "xaxis": "x",
           "y": [
            0
           ],
           "yaxis": "y"
          },
          {
           "hovertemplate": "country=UKR<br>year=2022<br>avg valence=%{x}<br>depression=%{y}<br>gdp per cap=%{marker.size}<extra></extra>",
           "legendgroup": "UKR",
           "marker": {
            "color": "#FF6692",
            "size": [
             3496
            ],
            "sizemode": "area",
            "sizeref": 248.225,
            "symbol": "circle"
           },
           "mode": "markers",
           "name": "UKR",
           "orientation": "v",
           "showlegend": true,
           "type": "scatter",
           "x": [
            0.4701489898989902
           ],
           "xaxis": "x",
           "y": [
            5.084
           ],
           "yaxis": "y"
          },
          {
           "hovertemplate": "country=USA<br>year=2022<br>avg valence=%{x}<br>depression=%{y}<br>gdp per cap=%{marker.size}<extra></extra>",
           "legendgroup": "USA",
           "marker": {
            "color": "#B6E880",
            "size": [
             0
            ],
            "sizemode": "area",
            "sizeref": 248.225,
            "symbol": "circle"
           },
           "mode": "markers",
           "name": "USA",
           "orientation": "v",
           "showlegend": true,
           "type": "scatter",
           "x": [
            0.4526709999999997
           ],
           "xaxis": "x",
           "y": [
            6.977
           ],
           "yaxis": "y"
          },
          {
           "hovertemplate": "country=URY<br>year=2022<br>avg valence=%{x}<br>depression=%{y}<br>gdp per cap=%{marker.size}<extra></extra>",
           "legendgroup": "URY",
           "marker": {
            "color": "#FF97FF",
            "size": [
             56604
            ],
            "sizemode": "area",
            "sizeref": 248.225,
            "symbol": "circle"
           },
           "mode": "markers",
           "name": "URY",
           "orientation": "v",
           "showlegend": true,
           "type": "scatter",
           "x": [
            0.6710251256281414
           ],
           "xaxis": "x",
           "y": [
            6.474
           ],
           "yaxis": "y"
          },
          {
           "hovertemplate": "country=VEN<br>year=2022<br>avg valence=%{x}<br>depression=%{y}<br>gdp per cap=%{marker.size}<extra></extra>",
           "legendgroup": "VEN",
           "marker": {
            "color": "#FECB52",
            "size": [
             0
            ],
            "sizemode": "area",
            "sizeref": 248.225,
            "symbol": "circle"
           },
           "mode": "markers",
           "name": "VEN",
           "orientation": "v",
           "showlegend": true,
           "type": "scatter",
           "x": [
            0.5895630000000003
           ],
           "xaxis": "x",
           "y": [
            0
           ],
           "yaxis": "y"
          },
          {
           "hovertemplate": "country=VNM<br>year=2022<br>avg valence=%{x}<br>depression=%{y}<br>gdp per cap=%{marker.size}<extra></extra>",
           "legendgroup": "VNM",
           "marker": {
            "color": "#636efa",
            "size": [
             2715
            ],
            "sizemode": "area",
            "sizeref": 248.225,
            "symbol": "circle"
           },
           "mode": "markers",
           "name": "VNM",
           "orientation": "v",
           "showlegend": true,
           "type": "scatter",
           "x": [
            0.4909469999999999
           ],
           "xaxis": "x",
           "y": [
            0
           ],
           "yaxis": "y"
          },
          {
           "hovertemplate": "country=ZAF<br>year=2022<br>avg valence=%{x}<br>depression=%{y}<br>gdp per cap=%{marker.size}<extra></extra>",
           "legendgroup": "ZAF",
           "marker": {
            "color": "#EF553B",
            "size": [
             6001
            ],
            "sizemode": "area",
            "sizeref": 248.225,
            "symbol": "circle"
           },
           "mode": "markers",
           "name": "ZAF",
           "orientation": "v",
           "showlegend": true,
           "type": "scatter",
           "x": [
            0.4698339999999998
           ],
           "xaxis": "x",
           "y": [
            5.194
           ],
           "yaxis": "y"
          }
         ],
         "name": "2022"
        },
        {
         "data": [
          {
           "hovertemplate": "country=ARG<br>year=2016<br>avg valence=%{x}<br>depression=%{y}<br>gdp per cap=%{marker.size}<extra></extra>",
           "legendgroup": "ARG",
           "marker": {
            "color": "#EF553B",
            "size": [
             8031
            ],
            "sizemode": "area",
            "sizeref": 248.225,
            "symbol": "circle"
           },
           "mode": "markers",
           "name": "ARG",
           "orientation": "v",
           "showlegend": true,
           "type": "scatter",
           "x": [
            0.6706080213903742
           ],
           "xaxis": "x",
           "y": [
            6.65
           ],
           "yaxis": "y"
          },
          {
           "hovertemplate": "country=AUT<br>year=2016<br>avg valence=%{x}<br>depression=%{y}<br>gdp per cap=%{marker.size}<extra></extra>",
           "legendgroup": "AUT",
           "marker": {
            "color": "#00cc96",
            "size": [
             30169
            ],
            "sizemode": "area",
            "sizeref": 248.225,
            "symbol": "circle"
           },
           "mode": "markers",
           "name": "AUT",
           "orientation": "v",
           "showlegend": true,
           "type": "scatter",
           "x": [
            0.5296248648648649
           ],
           "xaxis": "x",
           "y": [
            7.119
           ],
           "yaxis": "y"
          }
         ],
         "name": "2016"
        },
        {
         "data": [
          {
           "hovertemplate": "country=ARG<br>year=2017<br>avg valence=%{x}<br>depression=%{y}<br>gdp per cap=%{marker.size}<extra></extra>",
           "legendgroup": "ARG",
           "marker": {
            "color": "#EF553B",
            "size": [
             5158
            ],
            "sizemode": "area",
            "sizeref": 248.225,
            "symbol": "circle"
           },
           "mode": "markers",
           "name": "ARG",
           "orientation": "v",
           "showlegend": true,
           "type": "scatter",
           "x": [
            0.6647791443850266
           ],
           "xaxis": "x",
           "y": [
            6.599
           ],
           "yaxis": "y"
          },
          {
           "hovertemplate": "country=AUT<br>year=2017<br>avg valence=%{x}<br>depression=%{y}<br>gdp per cap=%{marker.size}<extra></extra>",
           "legendgroup": "AUT",
           "marker": {
            "color": "#00cc96",
            "size": [
             38282
            ],
            "sizemode": "area",
            "sizeref": 248.225,
            "symbol": "circle"
           },
           "mode": "markers",
           "name": "AUT",
           "orientation": "v",
           "showlegend": true,
           "type": "scatter",
           "x": [
            0.5005388297872337
           ],
           "xaxis": "x",
           "y": [
            7.006
           ],
           "yaxis": "y"
          },
          {
           "hovertemplate": "country=AUS<br>year=2017<br>avg valence=%{x}<br>depression=%{y}<br>gdp per cap=%{marker.size}<extra></extra>",
           "legendgroup": "AUS",
           "marker": {
            "color": "#ab63fa",
            "size": [
             37710
            ],
            "sizemode": "area",
            "sizeref": 248.225,
            "symbol": "circle"
           },
           "mode": "markers",
           "name": "AUS",
           "orientation": "v",
           "showlegend": true,
           "type": "scatter",
           "x": [
            0.47480463917525756
           ],
           "xaxis": "x",
           "y": [
            7.284
           ],
           "yaxis": "y"
          },
          {
           "hovertemplate": "country=BEL<br>year=2017<br>avg valence=%{x}<br>depression=%{y}<br>gdp per cap=%{marker.size}<extra></extra>",
           "legendgroup": "BEL",
           "marker": {
            "color": "#FFA15A",
            "size": [
             36557
            ],
            "sizemode": "area",
            "sizeref": 248.225,
            "symbol": "circle"
           },
           "mode": "markers",
           "name": "BEL",
           "orientation": "v",
           "showlegend": true,
           "type": "scatter",
           "x": [
            0.4705150259067353
           ],
           "xaxis": "x",
           "y": [
            6.891
           ],
           "yaxis": "y"
          },
          {
           "hovertemplate": "country=BGR<br>year=2017<br>avg valence=%{x}<br>depression=%{y}<br>gdp per cap=%{marker.size}<extra></extra>",
           "legendgroup": "BGR",
           "marker": {
            "color": "#19d3f3",
            "size": [
             39544
            ],
            "sizemode": "area",
            "sizeref": 248.225,
            "symbol": "circle"
           },
           "mode": "markers",
           "name": "BGR",
           "orientation": "v",
           "showlegend": true,
           "type": "scatter",
           "x": [
            0.4591735751295339
           ],
           "xaxis": "x",
           "y": [
            4.714
           ],
           "yaxis": "y"
          },
          {
           "hovertemplate": "country=BOL<br>year=2017<br>avg valence=%{x}<br>depression=%{y}<br>gdp per cap=%{marker.size}<extra></extra>",
           "legendgroup": "BOL",
           "marker": {
            "color": "#FF6692",
            "size": [
             0
            ],
            "sizemode": "area",
            "sizeref": 248.225,
            "symbol": "circle"
           },
           "mode": "markers",
           "name": "BOL",
           "orientation": "v",
           "showlegend": true,
           "type": "scatter",
           "x": [
            0.6049031746031744
           ],
           "xaxis": "x",
           "y": [
            0
           ],
           "yaxis": "y"
          },
          {
           "hovertemplate": "country=BRA<br>year=2017<br>avg valence=%{x}<br>depression=%{y}<br>gdp per cap=%{marker.size}<extra></extra>",
           "legendgroup": "BRA",
           "marker": {
            "color": "#B6E880",
            "size": [
             4790
            ],
            "sizemode": "area",
            "sizeref": 248.225,
            "symbol": "circle"
           },
           "mode": "markers",
           "name": "BRA",
           "orientation": "v",
           "showlegend": true,
           "type": "scatter",
           "x": [
            0.5827656250000006
           ],
           "xaxis": "x",
           "y": [
            6.635
           ],
           "yaxis": "y"
          },
          {
           "hovertemplate": "country=CAN<br>year=2017<br>avg valence=%{x}<br>depression=%{y}<br>gdp per cap=%{marker.size}<extra></extra>",
           "legendgroup": "CAN",
           "marker": {
            "color": "#FECB52",
            "size": [
             36474
            ],
            "sizemode": "area",
            "sizeref": 248.225,
            "symbol": "circle"
           },
           "mode": "markers",
           "name": "CAN",
           "orientation": "v",
           "showlegend": true,
           "type": "scatter",
           "x": [
            0.44779015544041445
           ],
           "xaxis": "x",
           "y": [
            7.316
           ],
           "yaxis": "y"
          },
          {
           "hovertemplate": "country=CHE<br>year=2017<br>avg valence=%{x}<br>depression=%{y}<br>gdp per cap=%{marker.size}<extra></extra>",
           "legendgroup": "CHE",
           "marker": {
            "color": "#636efa",
            "size": [
             56933
            ],
            "sizemode": "area",
            "sizeref": 248.225,
            "symbol": "circle"
           },
           "mode": "markers",
           "name": "CHE",
           "orientation": "v",
           "showlegend": true,
           "type": "scatter",
           "x": [
            0.4756453125
           ],
           "xaxis": "x",
           "y": [
            7.494
           ],
           "yaxis": "y"
          },
          {
           "hovertemplate": "country=CHL<br>year=2017<br>avg valence=%{x}<br>depression=%{y}<br>gdp per cap=%{marker.size}<extra></extra>",
           "legendgroup": "CHL",
           "marker": {
            "color": "#EF553B",
            "size": [
             7599
            ],
            "sizemode": "area",
            "sizeref": 248.225,
            "symbol": "circle"
           },
           "mode": "markers",
           "name": "CHL",
           "orientation": "v",
           "showlegend": true,
           "type": "scatter",
           "x": [
            0.6325309782608697
           ],
           "xaxis": "x",
           "y": [
            6.652
           ],
           "yaxis": "y"
          },
          {
           "hovertemplate": "country=COL<br>year=2017<br>avg valence=%{x}<br>depression=%{y}<br>gdp per cap=%{marker.size}<extra></extra>",
           "legendgroup": "COL",
           "marker": {
            "color": "#00cc96",
            "size": [
             3414
            ],
            "sizemode": "area",
            "sizeref": 248.225,
            "symbol": "circle"
           },
           "mode": "markers",
           "name": "COL",
           "orientation": "v",
           "showlegend": true,
           "type": "scatter",
           "x": [
            0.6014529411764704
           ],
           "xaxis": "x",
           "y": [
            6.357
           ],
           "yaxis": "y"
          },
          {
           "hovertemplate": "country=CRI<br>year=2017<br>avg valence=%{x}<br>depression=%{y}<br>gdp per cap=%{marker.size}<extra></extra>",
           "legendgroup": "CRI",
           "marker": {
            "color": "#ab63fa",
            "size": [
             36203
            ],
            "sizemode": "area",
            "sizeref": 248.225,
            "symbol": "circle"
           },
           "mode": "markers",
           "name": "CRI",
           "orientation": "v",
           "showlegend": true,
           "type": "scatter",
           "x": [
            0.5700453125000003
           ],
           "xaxis": "x",
           "y": [
            7.079
           ],
           "yaxis": "y"
          },
          {
           "hovertemplate": "country=CYP<br>year=2017<br>avg valence=%{x}<br>depression=%{y}<br>gdp per cap=%{marker.size}<extra></extra>",
           "legendgroup": "CYP",
           "marker": {
            "color": "#FFA15A",
            "size": [
             18869
            ],
            "sizemode": "area",
            "sizeref": 248.225,
            "symbol": "circle"
           },
           "mode": "markers",
           "name": "CYP",
           "orientation": "v",
           "showlegend": true,
           "type": "scatter",
           "x": [
            0.5065396825396824
           ],
           "xaxis": "x",
           "y": [
            5.621
           ],
           "yaxis": "y"
          },
          {
           "hovertemplate": "country=CZE<br>year=2017<br>avg valence=%{x}<br>depression=%{y}<br>gdp per cap=%{marker.size}<extra></extra>",
           "legendgroup": "CZE",
           "marker": {
            "color": "#19d3f3",
            "size": [
             0
            ],
            "sizemode": "area",
            "sizeref": 248.225,
            "symbol": "circle"
           },
           "mode": "markers",
           "name": "CZE",
           "orientation": "v",
           "showlegend": true,
           "type": "scatter",
           "x": [
            0.47879896373057
           ],
           "xaxis": "x",
           "y": [
            6.609
           ],
           "yaxis": "y"
          },
          {
           "hovertemplate": "country=DEU<br>year=2017<br>avg valence=%{x}<br>depression=%{y}<br>gdp per cap=%{marker.size}<extra></extra>",
           "legendgroup": "DEU",
           "marker": {
            "color": "#FF6692",
            "size": [
             34873
            ],
            "sizemode": "area",
            "sizeref": 248.225,
            "symbol": "circle"
           },
           "mode": "markers",
           "name": "DEU",
           "orientation": "v",
           "showlegend": true,
           "type": "scatter",
           "x": [
            0.49592905027932965
           ],
           "xaxis": "x",
           "y": [
            6.951
           ],
           "yaxis": "y"
          },
          {
           "hovertemplate": "country=DNK<br>year=2017<br>avg valence=%{x}<br>depression=%{y}<br>gdp per cap=%{marker.size}<extra></extra>",
           "legendgroup": "DNK",
           "marker": {
            "color": "#B6E880",
            "size": [
             48779
            ],
            "sizemode": "area",
            "sizeref": 248.225,
            "symbol": "circle"
           },
           "mode": "markers",
           "name": "DNK",
           "orientation": "v",
           "showlegend": true,
           "type": "scatter",
           "x": [
            0.4656421875000001
           ],
           "xaxis": "x",
           "y": [
            7.522
           ],
           "yaxis": "y"
          },
          {
           "hovertemplate": "country=DOM<br>year=2017<br>avg valence=%{x}<br>depression=%{y}<br>gdp per cap=%{marker.size}<extra></extra>",
           "legendgroup": "DOM",
           "marker": {
            "color": "#FF97FF",
            "size": [
             41291
            ],
            "sizemode": "area",
            "sizeref": 248.225,
            "symbol": "circle"
           },
           "mode": "markers",
           "name": "DOM",
           "orientation": "v",
           "showlegend": true,
           "type": "scatter",
           "x": [
            0.5710709497206704
           ],
           "xaxis": "x",
           "y": [
            5.23
           ],
           "yaxis": "y"
          },
          {
           "hovertemplate": "country=ECU<br>year=2017<br>avg valence=%{x}<br>depression=%{y}<br>gdp per cap=%{marker.size}<extra></extra>",
           "legendgroup": "ECU",
           "marker": {
            "color": "#FECB52",
            "size": [
             67646
            ],
            "sizemode": "area",
            "sizeref": 248.225,
            "symbol": "circle"
           },
           "mode": "markers",
           "name": "ECU",
           "orientation": "v",
           "showlegend": true,
           "type": "scatter",
           "x": [
            0.600003664921466
           ],
           "xaxis": "x",
           "y": [
            6.008
           ],
           "yaxis": "y"
          },
          {
           "hovertemplate": "country=EST<br>year=2017<br>avg valence=%{x}<br>depression=%{y}<br>gdp per cap=%{marker.size}<extra></extra>",
           "legendgroup": "EST",
           "marker": {
            "color": "#636efa",
            "size": [
             19881
            ],
            "sizemode": "area",
            "sizeref": 248.225,
            "symbol": "circle"
           },
           "mode": "markers",
           "name": "EST",
           "orientation": "v",
           "showlegend": true,
           "type": "scatter",
           "x": [
            0.4713649484536083
           ],
           "xaxis": "x",
           "y": [
            5.611
           ],
           "yaxis": "y"
          },
          {
           "hovertemplate": "country=ESP<br>year=2017<br>avg valence=%{x}<br>depression=%{y}<br>gdp per cap=%{marker.size}<extra></extra>",
           "legendgroup": "ESP",
           "marker": {
            "color": "#00cc96",
            "size": [
             26199
            ],
            "sizemode": "area",
            "sizeref": 248.225,
            "symbol": "circle"
           },
           "mode": "markers",
           "name": "ESP",
           "orientation": "v",
           "showlegend": true,
           "type": "scatter",
           "x": [
            0.604066492146597
           ],
           "xaxis": "x",
           "y": [
            6.403
           ],
           "yaxis": "y"
          },
          {
           "hovertemplate": "country=FIN<br>year=2017<br>avg valence=%{x}<br>depression=%{y}<br>gdp per cap=%{marker.size}<extra></extra>",
           "legendgroup": "FIN",
           "marker": {
            "color": "#ab63fa",
            "size": [
             38944
            ],
            "sizemode": "area",
            "sizeref": 248.225,
            "symbol": "circle"
           },
           "mode": "markers",
           "name": "FIN",
           "orientation": "v",
           "showlegend": true,
           "type": "scatter",
           "x": [
            0.5260292134831461
           ],
           "xaxis": "x",
           "y": [
            7.469
           ],
           "yaxis": "y"
          },
          {
           "hovertemplate": "country=FRA<br>year=2017<br>avg valence=%{x}<br>depression=%{y}<br>gdp per cap=%{marker.size}<extra></extra>",
           "legendgroup": "FRA",
           "marker": {
            "color": "#FFA15A",
            "size": [
             34807
            ],
            "sizemode": "area",
            "sizeref": 248.225,
            "symbol": "circle"
           },
           "mode": "markers",
           "name": "FRA",
           "orientation": "v",
           "showlegend": true,
           "type": "scatter",
           "x": [
            0.5066768421052629
           ],
           "xaxis": "x",
           "y": [
            6.442
           ],
           "yaxis": "y"
          },
          {
           "hovertemplate": "country=GBR<br>year=2017<br>avg valence=%{x}<br>depression=%{y}<br>gdp per cap=%{marker.size}<extra></extra>",
           "legendgroup": "GBR",
           "marker": {
            "color": "#19d3f3",
            "size": [
             42012
            ],
            "sizemode": "area",
            "sizeref": 248.225,
            "symbol": "circle"
           },
           "mode": "markers",
           "name": "GBR",
           "orientation": "v",
           "showlegend": true,
           "type": "scatter",
           "x": [
            0.5020839378238342
           ],
           "xaxis": "x",
           "y": [
            6.714
           ],
           "yaxis": "y"
          },
          {
           "hovertemplate": "country=GRC<br>year=2017<br>avg valence=%{x}<br>depression=%{y}<br>gdp per cap=%{marker.size}<extra></extra>",
           "legendgroup": "GRC",
           "marker": {
            "color": "#FF6692",
            "size": [
             22074
            ],
            "sizemode": "area",
            "sizeref": 248.225,
            "symbol": "circle"
           },
           "mode": "markers",
           "name": "GRC",
           "orientation": "v",
           "showlegend": true,
           "type": "scatter",
           "x": [
            0.4521187165775399
           ],
           "xaxis": "x",
           "y": [
            5.227
           ],
           "yaxis": "y"
          },
          {
           "hovertemplate": "country=GTM<br>year=2017<br>avg valence=%{x}<br>depression=%{y}<br>gdp per cap=%{marker.size}<extra></extra>",
           "legendgroup": "GTM",
           "marker": {
            "color": "#B6E880",
            "size": [
             42984
            ],
            "sizemode": "area",
            "sizeref": 248.225,
            "symbol": "circle"
           },
           "mode": "markers",
           "name": "GTM",
           "orientation": "v",
           "showlegend": true,
           "type": "scatter",
           "x": [
            0.587751052631579
           ],
           "xaxis": "x",
           "y": [
            6.454
           ],
           "yaxis": "y"
          },
          {
           "hovertemplate": "country=HKG<br>year=2017<br>avg valence=%{x}<br>depression=%{y}<br>gdp per cap=%{marker.size}<extra></extra>",
           "legendgroup": "HKG",
           "marker": {
            "color": "#FF97FF",
            "size": [
             0
            ],
            "sizemode": "area",
            "sizeref": 248.225,
            "symbol": "circle"
           },
           "mode": "markers",
           "name": "HKG",
           "orientation": "v",
           "showlegend": true,
           "type": "scatter",
           "x": [
            0.4390885416666667
           ],
           "xaxis": "x",
           "y": [
            0
           ],
           "yaxis": "y"
          },
          {
           "hovertemplate": "country=HND<br>year=2017<br>avg valence=%{x}<br>depression=%{y}<br>gdp per cap=%{marker.size}<extra></extra>",
           "legendgroup": "HND",
           "marker": {
            "color": "#FECB52",
            "size": [
             14776
            ],
            "sizemode": "area",
            "sizeref": 248.225,
            "symbol": "circle"
           },
           "mode": "markers",
           "name": "HND",
           "orientation": "v",
           "showlegend": true,
           "type": "scatter",
           "x": [
            0.5715380952380953
           ],
           "xaxis": "x",
           "y": [
            5.181
           ],
           "yaxis": "y"
          },
          {
           "hovertemplate": "country=HUN<br>year=2017<br>avg valence=%{x}<br>depression=%{y}<br>gdp per cap=%{marker.size}<extra></extra>",
           "legendgroup": "HUN",
           "marker": {
            "color": "#636efa",
            "size": [
             11202
            ],
            "sizemode": "area",
            "sizeref": 248.225,
            "symbol": "circle"
           },
           "mode": "markers",
           "name": "HUN",
           "orientation": "v",
           "showlegend": true,
           "type": "scatter",
           "x": [
            0.49593621621621636
           ],
           "xaxis": "x",
           "y": [
            5.324
           ],
           "yaxis": "y"
          },
          {
           "hovertemplate": "country=IDN<br>year=2017<br>avg valence=%{x}<br>depression=%{y}<br>gdp per cap=%{marker.size}<extra></extra>",
           "legendgroup": "IDN",
           "marker": {
            "color": "#EF553B",
            "size": [
             1345
            ],
            "sizemode": "area",
            "sizeref": 248.225,
            "symbol": "circle"
           },
           "mode": "markers",
           "name": "IDN",
           "orientation": "v",
           "showlegend": true,
           "type": "scatter",
           "x": [
            0.479866839378238
           ],
           "xaxis": "x",
           "y": [
            5.262
           ],
           "yaxis": "y"
          },
          {
           "hovertemplate": "country=IRL<br>year=2017<br>avg valence=%{x}<br>depression=%{y}<br>gdp per cap=%{marker.size}<extra></extra>",
           "legendgroup": "IRL",
           "marker": {
            "color": "#00cc96",
            "size": [
             51120
            ],
            "sizemode": "area",
            "sizeref": 248.225,
            "symbol": "circle"
           },
           "mode": "markers",
           "name": "IRL",
           "orientation": "v",
           "showlegend": true,
           "type": "scatter",
           "x": [
            0.49736753926701566
           ],
           "xaxis": "x",
           "y": [
            6.977
           ],
           "yaxis": "y"
          },
          {
           "hovertemplate": "country=ISL<br>year=2017<br>avg valence=%{x}<br>depression=%{y}<br>gdp per cap=%{marker.size}<extra></extra>",
           "legendgroup": "ISL",
           "marker": {
            "color": "#19d3f3",
            "size": [
             14318
            ],
            "sizemode": "area",
            "sizeref": 248.225,
            "symbol": "circle"
           },
           "mode": "markers",
           "name": "ISL",
           "orientation": "v",
           "showlegend": true,
           "type": "scatter",
           "x": [
            0.43484093264248685
           ],
           "xaxis": "x",
           "y": [
            7.504
           ],
           "yaxis": "y"
          },
          {
           "hovertemplate": "country=ITA<br>year=2017<br>avg valence=%{x}<br>depression=%{y}<br>gdp per cap=%{marker.size}<extra></extra>",
           "legendgroup": "ITA",
           "marker": {
            "color": "#FF6692",
            "size": [
             31871
            ],
            "sizemode": "area",
            "sizeref": 248.225,
            "symbol": "circle"
           },
           "mode": "markers",
           "name": "ITA",
           "orientation": "v",
           "showlegend": true,
           "type": "scatter",
           "x": [
            0.49906717948717927
           ],
           "xaxis": "x",
           "y": [
            5.964
           ],
           "yaxis": "y"
          },
          {
           "hovertemplate": "country=JPN<br>year=2017<br>avg valence=%{x}<br>depression=%{y}<br>gdp per cap=%{marker.size}<extra></extra>",
           "legendgroup": "JPN",
           "marker": {
            "color": "#B6E880",
            "size": [
             37057
            ],
            "sizemode": "area",
            "sizeref": 248.225,
            "symbol": "circle"
           },
           "mode": "markers",
           "name": "JPN",
           "orientation": "v",
           "showlegend": true,
           "type": "scatter",
           "x": [
            0.5261404145077719
           ],
           "xaxis": "x",
           "y": [
            5.92
           ],
           "yaxis": "y"
          },
          {
           "hovertemplate": "country=LTU<br>year=2017<br>avg valence=%{x}<br>depression=%{y}<br>gdp per cap=%{marker.size}<extra></extra>",
           "legendgroup": "LTU",
           "marker": {
            "color": "#636efa",
            "size": [
             32436
            ],
            "sizemode": "area",
            "sizeref": 248.225,
            "symbol": "circle"
           },
           "mode": "markers",
           "name": "LTU",
           "orientation": "v",
           "showlegend": true,
           "type": "scatter",
           "x": [
            0.46697486910994773
           ],
           "xaxis": "x",
           "y": [
            5.902
           ],
           "yaxis": "y"
          },
          {
           "hovertemplate": "country=LUX<br>year=2017<br>avg valence=%{x}<br>depression=%{y}<br>gdp per cap=%{marker.size}<extra></extra>",
           "legendgroup": "LUX",
           "marker": {
            "color": "#EF553B",
            "size": [
             44415
            ],
            "sizemode": "area",
            "sizeref": 248.225,
            "symbol": "circle"
           },
           "mode": "markers",
           "name": "LUX",
           "orientation": "v",
           "showlegend": true,
           "type": "scatter",
           "x": [
            0.48137656249999994
           ],
           "xaxis": "x",
           "y": [
            6.863
           ],
           "yaxis": "y"
          },
          {
           "hovertemplate": "country=LVA<br>year=2017<br>avg valence=%{x}<br>depression=%{y}<br>gdp per cap=%{marker.size}<extra></extra>",
           "legendgroup": "LVA",
           "marker": {
            "color": "#00cc96",
            "size": [
             23372
            ],
            "sizemode": "area",
            "sizeref": 248.225,
            "symbol": "circle"
           },
           "mode": "markers",
           "name": "LVA",
           "orientation": "v",
           "showlegend": true,
           "type": "scatter",
           "x": [
            0.4574362694300521
           ],
           "xaxis": "x",
           "y": [
            5.85
           ],
           "yaxis": "y"
          },
          {
           "hovertemplate": "country=MEX<br>year=2017<br>avg valence=%{x}<br>depression=%{y}<br>gdp per cap=%{marker.size}<extra></extra>",
           "legendgroup": "MEX",
           "marker": {
            "color": "#FFA15A",
            "size": [
             8278
            ],
            "sizemode": "area",
            "sizeref": 248.225,
            "symbol": "circle"
           },
           "mode": "markers",
           "name": "MEX",
           "orientation": "v",
           "showlegend": true,
           "type": "scatter",
           "x": [
            0.6026973118279569
           ],
           "xaxis": "x",
           "y": [
            6.578
           ],
           "yaxis": "y"
          },
          {
           "hovertemplate": "country=MYS<br>year=2017<br>avg valence=%{x}<br>depression=%{y}<br>gdp per cap=%{marker.size}<extra></extra>",
           "legendgroup": "MYS",
           "marker": {
            "color": "#19d3f3",
            "size": [
             5587
            ],
            "sizemode": "area",
            "sizeref": 248.225,
            "symbol": "circle"
           },
           "mode": "markers",
           "name": "MYS",
           "orientation": "v",
           "showlegend": true,
           "type": "scatter",
           "x": [
            0.4519864583333331
           ],
           "xaxis": "x",
           "y": [
            6.084
           ],
           "yaxis": "y"
          },
          {
           "hovertemplate": "country=NIC<br>year=2017<br>avg valence=%{x}<br>depression=%{y}<br>gdp per cap=%{marker.size}<extra></extra>",
           "legendgroup": "NIC",
           "marker": {
            "color": "#B6E880",
            "size": [
             8555
            ],
            "sizemode": "area",
            "sizeref": 248.225,
            "symbol": "circle"
           },
           "mode": "markers",
           "name": "NIC",
           "orientation": "v",
           "showlegend": true,
           "type": "scatter",
           "x": [
            0.5612209424083769
           ],
           "xaxis": "x",
           "y": [
            6.071
           ],
           "yaxis": "y"
          },
          {
           "hovertemplate": "country=NLD<br>year=2017<br>avg valence=%{x}<br>depression=%{y}<br>gdp per cap=%{marker.size}<extra></extra>",
           "legendgroup": "NLD",
           "marker": {
            "color": "#FF97FF",
            "size": [
             41857
            ],
            "sizemode": "area",
            "sizeref": 248.225,
            "symbol": "circle"
           },
           "mode": "markers",
           "name": "NLD",
           "orientation": "v",
           "showlegend": true,
           "type": "scatter",
           "x": [
            0.5169869109947645
           ],
           "xaxis": "x",
           "y": [
            7.377
           ],
           "yaxis": "y"
          },
          {
           "hovertemplate": "country=NOR<br>year=2017<br>avg valence=%{x}<br>depression=%{y}<br>gdp per cap=%{marker.size}<extra></extra>",
           "legendgroup": "NOR",
           "marker": {
            "color": "#FECB52",
            "size": [
             66680
            ],
            "sizemode": "area",
            "sizeref": 248.225,
            "symbol": "circle"
           },
           "mode": "markers",
           "name": "NOR",
           "orientation": "v",
           "showlegend": true,
           "type": "scatter",
           "x": [
            0.459723316062176
           ],
           "xaxis": "x",
           "y": [
            7.537
           ],
           "yaxis": "y"
          },
          {
           "hovertemplate": "country=NZL<br>year=2017<br>avg valence=%{x}<br>depression=%{y}<br>gdp per cap=%{marker.size}<extra></extra>",
           "legendgroup": "NZL",
           "marker": {
            "color": "#636efa",
            "size": [
             27741
            ],
            "sizemode": "area",
            "sizeref": 248.225,
            "symbol": "circle"
           },
           "mode": "markers",
           "name": "NZL",
           "orientation": "v",
           "showlegend": true,
           "type": "scatter",
           "x": [
            0.48856804123711317
           ],
           "xaxis": "x",
           "y": [
            7.314
           ],
           "yaxis": "y"
          },
          {
           "hovertemplate": "country=PAN<br>year=2017<br>avg valence=%{x}<br>depression=%{y}<br>gdp per cap=%{marker.size}<extra></extra>",
           "legendgroup": "PAN",
           "marker": {
            "color": "#EF553B",
            "size": [
             26026
            ],
            "sizemode": "area",
            "sizeref": 248.225,
            "symbol": "circle"
           },
           "mode": "markers",
           "name": "PAN",
           "orientation": "v",
           "showlegend": true,
           "type": "scatter",
           "x": [
            0.5833155913978496
           ],
           "xaxis": "x",
           "y": [
            6.452
           ],
           "yaxis": "y"
          },
          {
           "hovertemplate": "country=PER<br>year=2017<br>avg valence=%{x}<br>depression=%{y}<br>gdp per cap=%{marker.size}<extra></extra>",
           "legendgroup": "PER",
           "marker": {
            "color": "#00cc96",
            "size": [
             2730
            ],
            "sizemode": "area",
            "sizeref": 248.225,
            "symbol": "circle"
           },
           "mode": "markers",
           "name": "PER",
           "orientation": "v",
           "showlegend": true,
           "type": "scatter",
           "x": [
            0.6125037634408604
           ],
           "xaxis": "x",
           "y": [
            5.715
           ],
           "yaxis": "y"
          },
          {
           "hovertemplate": "country=PHL<br>year=2017<br>avg valence=%{x}<br>depression=%{y}<br>gdp per cap=%{marker.size}<extra></extra>",
           "legendgroup": "PHL",
           "marker": {
            "color": "#ab63fa",
            "size": [
             1194
            ],
            "sizemode": "area",
            "sizeref": 248.225,
            "symbol": "circle"
           },
           "mode": "markers",
           "name": "PHL",
           "orientation": "v",
           "showlegend": true,
           "type": "scatter",
           "x": [
            0.4678005181347148
           ],
           "xaxis": "x",
           "y": [
            5.43
           ],
           "yaxis": "y"
          },
          {
           "hovertemplate": "country=POL<br>year=2017<br>avg valence=%{x}<br>depression=%{y}<br>gdp per cap=%{marker.size}<extra></extra>",
           "legendgroup": "POL",
           "marker": {
            "color": "#FFA15A",
            "size": [
             7979
            ],
            "sizemode": "area",
            "sizeref": 248.225,
            "symbol": "circle"
           },
           "mode": "markers",
           "name": "POL",
           "orientation": "v",
           "showlegend": true,
           "type": "scatter",
           "x": [
            0.49103730569948145
           ],
           "xaxis": "x",
           "y": [
            5.973
           ],
           "yaxis": "y"
          },
          {
           "hovertemplate": "country=PRT<br>year=2017<br>avg valence=%{x}<br>depression=%{y}<br>gdp per cap=%{marker.size}<extra></extra>",
           "legendgroup": "PRT",
           "marker": {
            "color": "#19d3f3",
            "size": [
             18763
            ],
            "sizemode": "area",
            "sizeref": 248.225,
            "symbol": "circle"
           },
           "mode": "markers",
           "name": "PRT",
           "orientation": "v",
           "showlegend": true,
           "type": "scatter",
           "x": [
            0.49254
           ],
           "xaxis": "x",
           "y": [
            5.195
           ],
           "yaxis": "y"
          },
          {
           "hovertemplate": "country=PRY<br>year=2017<br>avg valence=%{x}<br>depression=%{y}<br>gdp per cap=%{marker.size}<extra></extra>",
           "legendgroup": "PRY",
           "marker": {
            "color": "#FF6692",
            "size": [
             22846
            ],
            "sizemode": "area",
            "sizeref": 248.225,
            "symbol": "circle"
           },
           "mode": "markers",
           "name": "PRY",
           "orientation": "v",
           "showlegend": true,
           "type": "scatter",
           "x": [
            0.6255951612903226
           ],
           "xaxis": "x",
           "y": [
            5.493
           ],
           "yaxis": "y"
          },
          {
           "hovertemplate": "country=SWE<br>year=2017<br>avg valence=%{x}<br>depression=%{y}<br>gdp per cap=%{marker.size}<extra></extra>",
           "legendgroup": "SWE",
           "marker": {
            "color": "#FECB52",
            "size": [
             43394
            ],
            "sizemode": "area",
            "sizeref": 248.225,
            "symbol": "circle"
           },
           "mode": "markers",
           "name": "SWE",
           "orientation": "v",
           "showlegend": true,
           "type": "scatter",
           "x": [
            0.46181875
           ],
           "xaxis": "x",
           "y": [
            7.284
           ],
           "yaxis": "y"
          },
          {
           "hovertemplate": "country=SGP<br>year=2017<br>avg valence=%{x}<br>depression=%{y}<br>gdp per cap=%{marker.size}<extra></extra>",
           "legendgroup": "SGP",
           "marker": {
            "color": "#636efa",
            "size": [
             29962
            ],
            "sizemode": "area",
            "sizeref": 248.225,
            "symbol": "circle"
           },
           "mode": "markers",
           "name": "SGP",
           "orientation": "v",
           "showlegend": true,
           "type": "scatter",
           "x": [
            0.4553105263157894
           ],
           "xaxis": "x",
           "y": [
            6.572
           ],
           "yaxis": "y"
          },
          {
           "hovertemplate": "country=SVK<br>year=2017<br>avg valence=%{x}<br>depression=%{y}<br>gdp per cap=%{marker.size}<extra></extra>",
           "legendgroup": "SVK",
           "marker": {
            "color": "#EF553B",
            "size": [
             61342
            ],
            "sizemode": "area",
            "sizeref": 248.225,
            "symbol": "circle"
           },
           "mode": "markers",
           "name": "SVK",
           "orientation": "v",
           "showlegend": true,
           "type": "scatter",
           "x": [
            0.48141554404145087
           ],
           "xaxis": "x",
           "y": [
            6.098
           ],
           "yaxis": "y"
          },
          {
           "hovertemplate": "country=SLV<br>year=2017<br>avg valence=%{x}<br>depression=%{y}<br>gdp per cap=%{marker.size}<extra></extra>",
           "legendgroup": "SLV",
           "marker": {
            "color": "#00cc96",
            "size": [
             19830
            ],
            "sizemode": "area",
            "sizeref": 248.225,
            "symbol": "circle"
           },
           "mode": "markers",
           "name": "SLV",
           "orientation": "v",
           "showlegend": true,
           "type": "scatter",
           "x": [
            0.5638570680628272
           ],
           "xaxis": "x",
           "y": [
            6.003
           ],
           "yaxis": "y"
          },
          {
           "hovertemplate": "country=THA<br>year=2017<br>avg valence=%{x}<br>depression=%{y}<br>gdp per cap=%{marker.size}<extra></extra>",
           "legendgroup": "THA",
           "marker": {
            "color": "#ab63fa",
            "size": [
             2894
            ],
            "sizemode": "area",
            "sizeref": 248.225,
            "symbol": "circle"
           },
           "mode": "markers",
           "name": "THA",
           "orientation": "v",
           "showlegend": true,
           "type": "scatter",
           "x": [
            0.5351619791666665
           ],
           "xaxis": "x",
           "y": [
            6.424
           ],
           "yaxis": "y"
          },
          {
           "hovertemplate": "country=TUR<br>year=2017<br>avg valence=%{x}<br>depression=%{y}<br>gdp per cap=%{marker.size}<extra></extra>",
           "legendgroup": "TUR",
           "marker": {
            "color": "#FFA15A",
            "size": [
             7456
            ],
            "sizemode": "area",
            "sizeref": 248.225,
            "symbol": "circle"
           },
           "mode": "markers",
           "name": "TUR",
           "orientation": "v",
           "showlegend": true,
           "type": "scatter",
           "x": [
            0.4902404145077721
           ],
           "xaxis": "x",
           "y": [
            5.5
           ],
           "yaxis": "y"
          },
          {
           "hovertemplate": "country=TWN<br>year=2017<br>avg valence=%{x}<br>depression=%{y}<br>gdp per cap=%{marker.size}<extra></extra>",
           "legendgroup": "TWN",
           "marker": {
            "color": "#19d3f3",
            "size": [
             0
            ],
            "sizemode": "area",
            "sizeref": 248.225,
            "symbol": "circle"
           },
           "mode": "markers",
           "name": "TWN",
           "orientation": "v",
           "showlegend": true,
           "type": "scatter",
           "x": [
            0.45030446927374296
           ],
           "xaxis": "x",
           "y": [
            0
           ],
           "yaxis": "y"
          },
          {
           "hovertemplate": "country=USA<br>year=2017<br>avg valence=%{x}<br>depression=%{y}<br>gdp per cap=%{marker.size}<extra></extra>",
           "legendgroup": "USA",
           "marker": {
            "color": "#B6E880",
            "size": [
             0
            ],
            "sizemode": "area",
            "sizeref": 248.225,
            "symbol": "circle"
           },
           "mode": "markers",
           "name": "USA",
           "orientation": "v",
           "showlegend": true,
           "type": "scatter",
           "x": [
            0.4460577319587628
           ],
           "xaxis": "x",
           "y": [
            6.993
           ],
           "yaxis": "y"
          },
          {
           "hovertemplate": "country=URY<br>year=2017<br>avg valence=%{x}<br>depression=%{y}<br>gdp per cap=%{marker.size}<extra></extra>",
           "legendgroup": "URY",
           "marker": {
            "color": "#FF97FF",
            "size": [
             33781
            ],
            "sizemode": "area",
            "sizeref": 248.225,
            "symbol": "circle"
           },
           "mode": "markers",
           "name": "URY",
           "orientation": "v",
           "showlegend": true,
           "type": "scatter",
           "x": [
            0.7060679144385025
           ],
           "xaxis": "x",
           "y": [
            6.454
           ],
           "yaxis": "y"
          }
         ],
         "name": "2017"
        }
       ],
       "layout": {
        "legend": {
         "itemsizing": "constant",
         "title": {
          "text": "country"
         },
         "tracegroupgap": 0
        },
        "margin": {
         "t": 60
        },
        "sliders": [
         {
          "active": 0,
          "currentvalue": {
           "prefix": "year="
          },
          "len": 0.9,
          "pad": {
           "b": 10,
           "t": 60
          },
          "steps": [
           {
            "args": [
             [
              "2018"
             ],
             {
              "frame": {
               "duration": 0,
               "redraw": false
              },
              "fromcurrent": true,
              "mode": "immediate",
              "transition": {
               "duration": 0,
               "easing": "linear"
              }
             }
            ],
            "label": "2018",
            "method": "animate"
           },
           {
            "args": [
             [
              "2019"
             ],
             {
              "frame": {
               "duration": 0,
               "redraw": false
              },
              "fromcurrent": true,
              "mode": "immediate",
              "transition": {
               "duration": 0,
               "easing": "linear"
              }
             }
            ],
            "label": "2019",
            "method": "animate"
           },
           {
            "args": [
             [
              "2020"
             ],
             {
              "frame": {
               "duration": 0,
               "redraw": false
              },
              "fromcurrent": true,
              "mode": "immediate",
              "transition": {
               "duration": 0,
               "easing": "linear"
              }
             }
            ],
            "label": "2020",
            "method": "animate"
           },
           {
            "args": [
             [
              "2021"
             ],
             {
              "frame": {
               "duration": 0,
               "redraw": false
              },
              "fromcurrent": true,
              "mode": "immediate",
              "transition": {
               "duration": 0,
               "easing": "linear"
              }
             }
            ],
            "label": "2021",
            "method": "animate"
           },
           {
            "args": [
             [
              "2022"
             ],
             {
              "frame": {
               "duration": 0,
               "redraw": false
              },
              "fromcurrent": true,
              "mode": "immediate",
              "transition": {
               "duration": 0,
               "easing": "linear"
              }
             }
            ],
            "label": "2022",
            "method": "animate"
           },
           {
            "args": [
             [
              "2016"
             ],
             {
              "frame": {
               "duration": 0,
               "redraw": false
              },
              "fromcurrent": true,
              "mode": "immediate",
              "transition": {
               "duration": 0,
               "easing": "linear"
              }
             }
            ],
            "label": "2016",
            "method": "animate"
           },
           {
            "args": [
             [
              "2017"
             ],
             {
              "frame": {
               "duration": 0,
               "redraw": false
              },
              "fromcurrent": true,
              "mode": "immediate",
              "transition": {
               "duration": 0,
               "easing": "linear"
              }
             }
            ],
            "label": "2017",
            "method": "animate"
           }
          ],
          "x": 0.1,
          "xanchor": "left",
          "y": 0,
          "yanchor": "top"
         }
        ],
        "template": {
         "data": {
          "bar": [
           {
            "error_x": {
             "color": "#2a3f5f"
            },
            "error_y": {
             "color": "#2a3f5f"
            },
            "marker": {
             "line": {
              "color": "#E5ECF6",
              "width": 0.5
             },
             "pattern": {
              "fillmode": "overlay",
              "size": 10,
              "solidity": 0.2
             }
            },
            "type": "bar"
           }
          ],
          "barpolar": [
           {
            "marker": {
             "line": {
              "color": "#E5ECF6",
              "width": 0.5
             },
             "pattern": {
              "fillmode": "overlay",
              "size": 10,
              "solidity": 0.2
             }
            },
            "type": "barpolar"
           }
          ],
          "carpet": [
           {
            "aaxis": {
             "endlinecolor": "#2a3f5f",
             "gridcolor": "white",
             "linecolor": "white",
             "minorgridcolor": "white",
             "startlinecolor": "#2a3f5f"
            },
            "baxis": {
             "endlinecolor": "#2a3f5f",
             "gridcolor": "white",
             "linecolor": "white",
             "minorgridcolor": "white",
             "startlinecolor": "#2a3f5f"
            },
            "type": "carpet"
           }
          ],
          "choropleth": [
           {
            "colorbar": {
             "outlinewidth": 0,
             "ticks": ""
            },
            "type": "choropleth"
           }
          ],
          "contour": [
           {
            "colorbar": {
             "outlinewidth": 0,
             "ticks": ""
            },
            "colorscale": [
             [
              0,
              "#0d0887"
             ],
             [
              0.1111111111111111,
              "#46039f"
             ],
             [
              0.2222222222222222,
              "#7201a8"
             ],
             [
              0.3333333333333333,
              "#9c179e"
             ],
             [
              0.4444444444444444,
              "#bd3786"
             ],
             [
              0.5555555555555556,
              "#d8576b"
             ],
             [
              0.6666666666666666,
              "#ed7953"
             ],
             [
              0.7777777777777778,
              "#fb9f3a"
             ],
             [
              0.8888888888888888,
              "#fdca26"
             ],
             [
              1,
              "#f0f921"
             ]
            ],
            "type": "contour"
           }
          ],
          "contourcarpet": [
           {
            "colorbar": {
             "outlinewidth": 0,
             "ticks": ""
            },
            "type": "contourcarpet"
           }
          ],
          "heatmap": [
           {
            "colorbar": {
             "outlinewidth": 0,
             "ticks": ""
            },
            "colorscale": [
             [
              0,
              "#0d0887"
             ],
             [
              0.1111111111111111,
              "#46039f"
             ],
             [
              0.2222222222222222,
              "#7201a8"
             ],
             [
              0.3333333333333333,
              "#9c179e"
             ],
             [
              0.4444444444444444,
              "#bd3786"
             ],
             [
              0.5555555555555556,
              "#d8576b"
             ],
             [
              0.6666666666666666,
              "#ed7953"
             ],
             [
              0.7777777777777778,
              "#fb9f3a"
             ],
             [
              0.8888888888888888,
              "#fdca26"
             ],
             [
              1,
              "#f0f921"
             ]
            ],
            "type": "heatmap"
           }
          ],
          "heatmapgl": [
           {
            "colorbar": {
             "outlinewidth": 0,
             "ticks": ""
            },
            "colorscale": [
             [
              0,
              "#0d0887"
             ],
             [
              0.1111111111111111,
              "#46039f"
             ],
             [
              0.2222222222222222,
              "#7201a8"
             ],
             [
              0.3333333333333333,
              "#9c179e"
             ],
             [
              0.4444444444444444,
              "#bd3786"
             ],
             [
              0.5555555555555556,
              "#d8576b"
             ],
             [
              0.6666666666666666,
              "#ed7953"
             ],
             [
              0.7777777777777778,
              "#fb9f3a"
             ],
             [
              0.8888888888888888,
              "#fdca26"
             ],
             [
              1,
              "#f0f921"
             ]
            ],
            "type": "heatmapgl"
           }
          ],
          "histogram": [
           {
            "marker": {
             "pattern": {
              "fillmode": "overlay",
              "size": 10,
              "solidity": 0.2
             }
            },
            "type": "histogram"
           }
          ],
          "histogram2d": [
           {
            "colorbar": {
             "outlinewidth": 0,
             "ticks": ""
            },
            "colorscale": [
             [
              0,
              "#0d0887"
             ],
             [
              0.1111111111111111,
              "#46039f"
             ],
             [
              0.2222222222222222,
              "#7201a8"
             ],
             [
              0.3333333333333333,
              "#9c179e"
             ],
             [
              0.4444444444444444,
              "#bd3786"
             ],
             [
              0.5555555555555556,
              "#d8576b"
             ],
             [
              0.6666666666666666,
              "#ed7953"
             ],
             [
              0.7777777777777778,
              "#fb9f3a"
             ],
             [
              0.8888888888888888,
              "#fdca26"
             ],
             [
              1,
              "#f0f921"
             ]
            ],
            "type": "histogram2d"
           }
          ],
          "histogram2dcontour": [
           {
            "colorbar": {
             "outlinewidth": 0,
             "ticks": ""
            },
            "colorscale": [
             [
              0,
              "#0d0887"
             ],
             [
              0.1111111111111111,
              "#46039f"
             ],
             [
              0.2222222222222222,
              "#7201a8"
             ],
             [
              0.3333333333333333,
              "#9c179e"
             ],
             [
              0.4444444444444444,
              "#bd3786"
             ],
             [
              0.5555555555555556,
              "#d8576b"
             ],
             [
              0.6666666666666666,
              "#ed7953"
             ],
             [
              0.7777777777777778,
              "#fb9f3a"
             ],
             [
              0.8888888888888888,
              "#fdca26"
             ],
             [
              1,
              "#f0f921"
             ]
            ],
            "type": "histogram2dcontour"
           }
          ],
          "mesh3d": [
           {
            "colorbar": {
             "outlinewidth": 0,
             "ticks": ""
            },
            "type": "mesh3d"
           }
          ],
          "parcoords": [
           {
            "line": {
             "colorbar": {
              "outlinewidth": 0,
              "ticks": ""
             }
            },
            "type": "parcoords"
           }
          ],
          "pie": [
           {
            "automargin": true,
            "type": "pie"
           }
          ],
          "scatter": [
           {
            "fillpattern": {
             "fillmode": "overlay",
             "size": 10,
             "solidity": 0.2
            },
            "type": "scatter"
           }
          ],
          "scatter3d": [
           {
            "line": {
             "colorbar": {
              "outlinewidth": 0,
              "ticks": ""
             }
            },
            "marker": {
             "colorbar": {
              "outlinewidth": 0,
              "ticks": ""
             }
            },
            "type": "scatter3d"
           }
          ],
          "scattercarpet": [
           {
            "marker": {
             "colorbar": {
              "outlinewidth": 0,
              "ticks": ""
             }
            },
            "type": "scattercarpet"
           }
          ],
          "scattergeo": [
           {
            "marker": {
             "colorbar": {
              "outlinewidth": 0,
              "ticks": ""
             }
            },
            "type": "scattergeo"
           }
          ],
          "scattergl": [
           {
            "marker": {
             "colorbar": {
              "outlinewidth": 0,
              "ticks": ""
             }
            },
            "type": "scattergl"
           }
          ],
          "scattermapbox": [
           {
            "marker": {
             "colorbar": {
              "outlinewidth": 0,
              "ticks": ""
             }
            },
            "type": "scattermapbox"
           }
          ],
          "scatterpolar": [
           {
            "marker": {
             "colorbar": {
              "outlinewidth": 0,
              "ticks": ""
             }
            },
            "type": "scatterpolar"
           }
          ],
          "scatterpolargl": [
           {
            "marker": {
             "colorbar": {
              "outlinewidth": 0,
              "ticks": ""
             }
            },
            "type": "scatterpolargl"
           }
          ],
          "scatterternary": [
           {
            "marker": {
             "colorbar": {
              "outlinewidth": 0,
              "ticks": ""
             }
            },
            "type": "scatterternary"
           }
          ],
          "surface": [
           {
            "colorbar": {
             "outlinewidth": 0,
             "ticks": ""
            },
            "colorscale": [
             [
              0,
              "#0d0887"
             ],
             [
              0.1111111111111111,
              "#46039f"
             ],
             [
              0.2222222222222222,
              "#7201a8"
             ],
             [
              0.3333333333333333,
              "#9c179e"
             ],
             [
              0.4444444444444444,
              "#bd3786"
             ],
             [
              0.5555555555555556,
              "#d8576b"
             ],
             [
              0.6666666666666666,
              "#ed7953"
             ],
             [
              0.7777777777777778,
              "#fb9f3a"
             ],
             [
              0.8888888888888888,
              "#fdca26"
             ],
             [
              1,
              "#f0f921"
             ]
            ],
            "type": "surface"
           }
          ],
          "table": [
           {
            "cells": {
             "fill": {
              "color": "#EBF0F8"
             },
             "line": {
              "color": "white"
             }
            },
            "header": {
             "fill": {
              "color": "#C8D4E3"
             },
             "line": {
              "color": "white"
             }
            },
            "type": "table"
           }
          ]
         },
         "layout": {
          "annotationdefaults": {
           "arrowcolor": "#2a3f5f",
           "arrowhead": 0,
           "arrowwidth": 1
          },
          "autotypenumbers": "strict",
          "coloraxis": {
           "colorbar": {
            "outlinewidth": 0,
            "ticks": ""
           }
          },
          "colorscale": {
           "diverging": [
            [
             0,
             "#8e0152"
            ],
            [
             0.1,
             "#c51b7d"
            ],
            [
             0.2,
             "#de77ae"
            ],
            [
             0.3,
             "#f1b6da"
            ],
            [
             0.4,
             "#fde0ef"
            ],
            [
             0.5,
             "#f7f7f7"
            ],
            [
             0.6,
             "#e6f5d0"
            ],
            [
             0.7,
             "#b8e186"
            ],
            [
             0.8,
             "#7fbc41"
            ],
            [
             0.9,
             "#4d9221"
            ],
            [
             1,
             "#276419"
            ]
           ],
           "sequential": [
            [
             0,
             "#0d0887"
            ],
            [
             0.1111111111111111,
             "#46039f"
            ],
            [
             0.2222222222222222,
             "#7201a8"
            ],
            [
             0.3333333333333333,
             "#9c179e"
            ],
            [
             0.4444444444444444,
             "#bd3786"
            ],
            [
             0.5555555555555556,
             "#d8576b"
            ],
            [
             0.6666666666666666,
             "#ed7953"
            ],
            [
             0.7777777777777778,
             "#fb9f3a"
            ],
            [
             0.8888888888888888,
             "#fdca26"
            ],
            [
             1,
             "#f0f921"
            ]
           ],
           "sequentialminus": [
            [
             0,
             "#0d0887"
            ],
            [
             0.1111111111111111,
             "#46039f"
            ],
            [
             0.2222222222222222,
             "#7201a8"
            ],
            [
             0.3333333333333333,
             "#9c179e"
            ],
            [
             0.4444444444444444,
             "#bd3786"
            ],
            [
             0.5555555555555556,
             "#d8576b"
            ],
            [
             0.6666666666666666,
             "#ed7953"
            ],
            [
             0.7777777777777778,
             "#fb9f3a"
            ],
            [
             0.8888888888888888,
             "#fdca26"
            ],
            [
             1,
             "#f0f921"
            ]
           ]
          },
          "colorway": [
           "#636efa",
           "#EF553B",
           "#00cc96",
           "#ab63fa",
           "#FFA15A",
           "#19d3f3",
           "#FF6692",
           "#B6E880",
           "#FF97FF",
           "#FECB52"
          ],
          "font": {
           "color": "#2a3f5f"
          },
          "geo": {
           "bgcolor": "white",
           "lakecolor": "white",
           "landcolor": "#E5ECF6",
           "showlakes": true,
           "showland": true,
           "subunitcolor": "white"
          },
          "hoverlabel": {
           "align": "left"
          },
          "hovermode": "closest",
          "mapbox": {
           "style": "light"
          },
          "paper_bgcolor": "white",
          "plot_bgcolor": "#E5ECF6",
          "polar": {
           "angularaxis": {
            "gridcolor": "white",
            "linecolor": "white",
            "ticks": ""
           },
           "bgcolor": "#E5ECF6",
           "radialaxis": {
            "gridcolor": "white",
            "linecolor": "white",
            "ticks": ""
           }
          },
          "scene": {
           "xaxis": {
            "backgroundcolor": "#E5ECF6",
            "gridcolor": "white",
            "gridwidth": 2,
            "linecolor": "white",
            "showbackground": true,
            "ticks": "",
            "zerolinecolor": "white"
           },
           "yaxis": {
            "backgroundcolor": "#E5ECF6",
            "gridcolor": "white",
            "gridwidth": 2,
            "linecolor": "white",
            "showbackground": true,
            "ticks": "",
            "zerolinecolor": "white"
           },
           "zaxis": {
            "backgroundcolor": "#E5ECF6",
            "gridcolor": "white",
            "gridwidth": 2,
            "linecolor": "white",
            "showbackground": true,
            "ticks": "",
            "zerolinecolor": "white"
           }
          },
          "shapedefaults": {
           "line": {
            "color": "#2a3f5f"
           }
          },
          "ternary": {
           "aaxis": {
            "gridcolor": "white",
            "linecolor": "white",
            "ticks": ""
           },
           "baxis": {
            "gridcolor": "white",
            "linecolor": "white",
            "ticks": ""
           },
           "bgcolor": "#E5ECF6",
           "caxis": {
            "gridcolor": "white",
            "linecolor": "white",
            "ticks": ""
           }
          },
          "title": {
           "x": 0.05
          },
          "xaxis": {
           "automargin": true,
           "gridcolor": "white",
           "linecolor": "white",
           "ticks": "",
           "title": {
            "standoff": 15
           },
           "zerolinecolor": "white",
           "zerolinewidth": 2
          },
          "yaxis": {
           "automargin": true,
           "gridcolor": "white",
           "linecolor": "white",
           "ticks": "",
           "title": {
            "standoff": 15
           },
           "zerolinecolor": "white",
           "zerolinewidth": 2
          }
         }
        },
        "updatemenus": [
         {
          "buttons": [
           {
            "args": [
             null,
             {
              "frame": {
               "duration": 500,
               "redraw": false
              },
              "fromcurrent": true,
              "mode": "immediate",
              "transition": {
               "duration": 500,
               "easing": "linear"
              }
             }
            ],
            "label": "&#9654;",
            "method": "animate"
           },
           {
            "args": [
             [
              null
             ],
             {
              "frame": {
               "duration": 0,
               "redraw": false
              },
              "fromcurrent": true,
              "mode": "immediate",
              "transition": {
               "duration": 0,
               "easing": "linear"
              }
             }
            ],
            "label": "&#9724;",
            "method": "animate"
           }
          ],
          "direction": "left",
          "pad": {
           "r": 10,
           "t": 70
          },
          "showactive": false,
          "type": "buttons",
          "x": 0.1,
          "xanchor": "right",
          "y": 0,
          "yanchor": "top"
         }
        ],
        "xaxis": {
         "anchor": "y",
         "domain": [
          0,
          1
         ],
         "title": {
          "text": "avg valence"
         }
        },
        "yaxis": {
         "anchor": "x",
         "domain": [
          0,
          1
         ],
         "title": {
          "text": "depression"
         }
        }
       }
      }
     },
     "metadata": {},
     "output_type": "display_data"
    }
   ],
   "source": [
    "import pandas as pd\n",
    "import plotly.express as px\n",
    "\n",
    "data = pd.read_pickle('store.pkl')\n",
    "figure_animated_all = px.scatter(data, x='avg valence', y='depression', size = 'gdp per cap' ,animation_frame = 'year', color = 'country')\n",
    "figure_animated_all.show()\n",
    "\n"
   ]
  }
 ],
 "metadata": {
  "interpreter": {
   "hash": "31f2aee4e71d21fbe5cf8b01ff0e069b9275f58929596ceb00d14d90e3e16cd6"
  },
  "kernelspec": {
   "display_name": "Python 3.8.9 64-bit",
   "language": "python",
   "name": "python3"
  },
  "language_info": {
   "codemirror_mode": {
    "name": "ipython",
    "version": 3
   },
   "file_extension": ".py",
   "mimetype": "text/x-python",
   "name": "python",
   "nbconvert_exporter": "python",
   "pygments_lexer": "ipython3",
   "version": "3.7.3"
  },
  "orig_nbformat": 4
 },
 "nbformat": 4,
 "nbformat_minor": 2
}
