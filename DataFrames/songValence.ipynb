{
 "cells": [
  {
   "cell_type": "code",
   "execution_count": 9,
   "metadata": {},
   "outputs": [
    {
     "name": "stdout",
     "output_type": "stream",
     "text": [
      "[('Lo Vas A Olvidar (with ROSALÍA) by Billie Eilish', 0.032), ('3:00 AM by Finding Hope', 0.0346), ('Love Tonight - David Guetta Remix Edit by Shouse', 0.0348), ('Turvallista sotaa by Vesta', 0.0364), ('Ástarsaga by Floni', 0.0364), ('Tropical by SL', 0.0374), ('L.A Freestyle by Greg Ferreira', 0.0375), ('Legend by Clara', 0.0378), ('Freeze Raël by Freeze corleone', 0.0379), ('Mood (feat. Ego) by Samey', 0.0382), ('Barso by Ritviz', 0.0383), ('Sendo Assim by Sam The Kid', 0.0383), ('Internal by Rogue Dave', 0.0383), ('Berlin by RY X', 0.0384), ('O Holy Night by Adolphe Adam', 0.0386), ('Down Under (feat. Colin Hay) by Luude', 0.0386), ('Nýtt líf by Friðrik Karlsson', 0.0387), ('Topanga by Trippie Redd', 0.039), ('After Dark by Mr.Kitty', 0.039), ('Christmas Tree - Inst. by V', 0.0392), ('Burn by Juice WRLD', 0.0393)]\n",
      "[('September by Earth', 0.979), ('Hermosa Experiencia by Banda MS de Sergio Lizárraga', 0.977), ('A te meséd by Paulina', 0.977), ('Cómo estás by Ke Personajes', 0.976), ('Here Comes Santa Claus (Right Down Santa Claus Lane) - 1947 Version by Gene Autry', 0.976), ('Todos Hablan Nada Saben by Aldo Trujillo', 0.976), ('Adonay by Rodolfo Aicardi', 0.975), ('La niñera by AX 13', 0.974), ('Mi Último Deseo by Banda Los Recoditos', 0.974), ('Chica Brasileña by El Super Hob', 0.973), ('Procura by ChiChi Peralta', 0.973), ('Planeta Zombie by FIZIstyle', 0.973), ('Mi Religión by Nil Moliner', 0.973), ('El Paciente by Alfredo Olivas', 0.973), ('Tu Ritmo by Los Bonnitos', 0.972), ('Sem Sentimento by DG e Batidão Stronda', 0.972), ('Esson baariin by Poju', 0.972), ('Híbrido by Virlan Garcia', 0.972), ('Un Vino Una Cerveza by Pedro Suárez-Vértiz', 0.972), ('Little Saint Nick - 1991 Remix by The Beach Boys', 0.971), ('خطوة by Moustafa Hagag', 0.971)]\n"
     ]
    }
   ],
   "source": [
    "import csv\n",
    "\n",
    "f_music = open(\"../DataSet/musicData.csv\",\"r\")\n",
    "fh = csv.reader(f_music)\n",
    "\n",
    "data = list(fh)\n",
    "\n",
    "songs = {}\n",
    "\n",
    "for line in data[1:]:\n",
    "    songs[line[5] + ' by ' + line[6]] = float(line[7])\n",
    "\n",
    "\n",
    "l_to_b = sorted(songs.items(), key=lambda x: x[1])[5:26]\n",
    "b_to_l = sorted(songs.items(), key=lambda x: x[1], reverse=True)[:21]\n",
    "\n",
    "px.bar()\n",
    "\n"
   ]
  }
 ],
 "metadata": {
  "interpreter": {
   "hash": "e774977668b7c0ae8309835a5187aa7fbf7669e7d0bb59755bc63e573643edcd"
  },
  "kernelspec": {
   "display_name": "Python 3.7.3 64-bit",
   "language": "python",
   "name": "python3"
  },
  "language_info": {
   "codemirror_mode": {
    "name": "ipython",
    "version": 3
   },
   "file_extension": ".py",
   "mimetype": "text/x-python",
   "name": "python",
   "nbconvert_exporter": "python",
   "pygments_lexer": "ipython3",
   "version": "3.7.3"
  },
  "orig_nbformat": 4
 },
 "nbformat": 4,
 "nbformat_minor": 2
}
